{
 "cells": [
  {
   "cell_type": "markdown",
   "metadata": {},
   "source": [
    "### *Данное исследование разделим на шаги:*\n",
    "\n",
    "- ***1. Загрузка данных, изучение общей информации*** \n",
    "\n",
    " - [Загрузка библиотек, файлов с данными, ознакомление, получение общей информации](#Link1)\n",
    "\n",
    "\n",
    "- ***2. Анализ данных***\n",
    "\n",
    " - [Рейтинг топ-10 городов по количеству рейсов](#Link2)\n",
    " - [Построение графиков: модели самолётов и количество рейсов, города и количество рейсов, топ-10 городов и количество рейсов](#Link3)\n",
    " \n",
    " \n",
    "- ***3. Проверка гипотез***\n",
    " - [Проверка гипотезы: «Средний спрос на билеты во время фестивалей не отличается от среднего спроса на билеты в обычное время».](#Link4)\n",
    "\n",
    "\n",
    "- ***4. Общий вывод***\n",
    " - [Вывод](#Link5)"
   ]
  },
  {
   "cell_type": "markdown",
   "metadata": {},
   "source": [
    "## 1. Загрузка данных, изучение общей информации"
   ]
  },
  {
   "cell_type": "markdown",
   "metadata": {},
   "source": [
    "<a id='Link1'></a>"
   ]
  },
  {
   "cell_type": "markdown",
   "metadata": {},
   "source": [
    "### Загрузка библиотек, файлов с данными, ознакомление, получение общей информации"
   ]
  },
  {
   "cell_type": "code",
   "execution_count": 1,
   "metadata": {},
   "outputs": [],
   "source": [
    "from IPython.display import display\n",
    "import pandas as pd\n",
    "from matplotlib import pyplot as plt\n",
    "import numpy as np\n",
    "from scipy import stats as st"
   ]
  },
  {
   "cell_type": "code",
   "execution_count": 2,
   "metadata": {},
   "outputs": [],
   "source": [
    "def print_df(df, df_name, title):\n",
    "    \"\"\"\n",
    "    функция для вывода на экран датасетов\n",
    "    \n",
    "    параметры: DF, название DF, заголовок\n",
    "    \"\"\"\n",
    "    \n",
    "    print('\\nДатасет ' + df_name + ': ' + title)\n",
    "    display(df.head(5))    \n",
    "    print('\\nИнфо по датасету ' + df_name + ':\\n')\n",
    "    display(df.info())"
   ]
  },
  {
   "cell_type": "code",
   "execution_count": 3,
   "metadata": {
    "scrolled": false
   },
   "outputs": [
    {
     "name": "stdout",
     "output_type": "stream",
     "text": [
      "\n",
      "Датасет model_flights: Количество рейсов для каждой модели самолетов в сентябре 2018 года\n"
     ]
    },
    {
     "data": {
      "text/html": [
       "<div>\n",
       "<style scoped>\n",
       "    .dataframe tbody tr th:only-of-type {\n",
       "        vertical-align: middle;\n",
       "    }\n",
       "\n",
       "    .dataframe tbody tr th {\n",
       "        vertical-align: top;\n",
       "    }\n",
       "\n",
       "    .dataframe thead th {\n",
       "        text-align: right;\n",
       "    }\n",
       "</style>\n",
       "<table border=\"1\" class=\"dataframe\">\n",
       "  <thead>\n",
       "    <tr style=\"text-align: right;\">\n",
       "      <th></th>\n",
       "      <th>model</th>\n",
       "      <th>flights_amount</th>\n",
       "    </tr>\n",
       "  </thead>\n",
       "  <tbody>\n",
       "    <tr>\n",
       "      <th>0</th>\n",
       "      <td>Airbus A319-100</td>\n",
       "      <td>607</td>\n",
       "    </tr>\n",
       "    <tr>\n",
       "      <th>1</th>\n",
       "      <td>Airbus A321-200</td>\n",
       "      <td>960</td>\n",
       "    </tr>\n",
       "    <tr>\n",
       "      <th>2</th>\n",
       "      <td>Boeing 737-300</td>\n",
       "      <td>630</td>\n",
       "    </tr>\n",
       "    <tr>\n",
       "      <th>3</th>\n",
       "      <td>Boeing 767-300</td>\n",
       "      <td>600</td>\n",
       "    </tr>\n",
       "    <tr>\n",
       "      <th>4</th>\n",
       "      <td>Boeing 777-300</td>\n",
       "      <td>300</td>\n",
       "    </tr>\n",
       "  </tbody>\n",
       "</table>\n",
       "</div>"
      ],
      "text/plain": [
       "             model  flights_amount\n",
       "0  Airbus A319-100             607\n",
       "1  Airbus A321-200             960\n",
       "2   Boeing 737-300             630\n",
       "3   Boeing 767-300             600\n",
       "4   Boeing 777-300             300"
      ]
     },
     "metadata": {},
     "output_type": "display_data"
    },
    {
     "name": "stdout",
     "output_type": "stream",
     "text": [
      "\n",
      "Инфо по датасету model_flights:\n",
      "\n",
      "<class 'pandas.core.frame.DataFrame'>\n",
      "RangeIndex: 8 entries, 0 to 7\n",
      "Data columns (total 2 columns):\n",
      " #   Column          Non-Null Count  Dtype \n",
      "---  ------          --------------  ----- \n",
      " 0   model           8 non-null      object\n",
      " 1   flights_amount  8 non-null      int64 \n",
      "dtypes: int64(1), object(1)\n",
      "memory usage: 256.0+ bytes\n"
     ]
    },
    {
     "data": {
      "text/plain": [
       "None"
      ]
     },
     "metadata": {},
     "output_type": "display_data"
    },
    {
     "name": "stdout",
     "output_type": "stream",
     "text": [
      "\n",
      "Датасет city_flights: Cреднее количество рейсов, прибывающих в город, за день в сентябре 2018 года\n"
     ]
    },
    {
     "data": {
      "text/html": [
       "<div>\n",
       "<style scoped>\n",
       "    .dataframe tbody tr th:only-of-type {\n",
       "        vertical-align: middle;\n",
       "    }\n",
       "\n",
       "    .dataframe tbody tr th {\n",
       "        vertical-align: top;\n",
       "    }\n",
       "\n",
       "    .dataframe thead th {\n",
       "        text-align: right;\n",
       "    }\n",
       "</style>\n",
       "<table border=\"1\" class=\"dataframe\">\n",
       "  <thead>\n",
       "    <tr style=\"text-align: right;\">\n",
       "      <th></th>\n",
       "      <th>city</th>\n",
       "      <th>average_flights</th>\n",
       "    </tr>\n",
       "  </thead>\n",
       "  <tbody>\n",
       "    <tr>\n",
       "      <th>0</th>\n",
       "      <td>Абакан</td>\n",
       "      <td>3.870968</td>\n",
       "    </tr>\n",
       "    <tr>\n",
       "      <th>1</th>\n",
       "      <td>Анадырь</td>\n",
       "      <td>1.000000</td>\n",
       "    </tr>\n",
       "    <tr>\n",
       "      <th>2</th>\n",
       "      <td>Анапа</td>\n",
       "      <td>2.161290</td>\n",
       "    </tr>\n",
       "    <tr>\n",
       "      <th>3</th>\n",
       "      <td>Архангельск</td>\n",
       "      <td>5.354839</td>\n",
       "    </tr>\n",
       "    <tr>\n",
       "      <th>4</th>\n",
       "      <td>Астрахань</td>\n",
       "      <td>2.451613</td>\n",
       "    </tr>\n",
       "  </tbody>\n",
       "</table>\n",
       "</div>"
      ],
      "text/plain": [
       "          city  average_flights\n",
       "0       Абакан         3.870968\n",
       "1      Анадырь         1.000000\n",
       "2        Анапа         2.161290\n",
       "3  Архангельск         5.354839\n",
       "4    Астрахань         2.451613"
      ]
     },
     "metadata": {},
     "output_type": "display_data"
    },
    {
     "name": "stdout",
     "output_type": "stream",
     "text": [
      "\n",
      "Инфо по датасету city_flights:\n",
      "\n",
      "<class 'pandas.core.frame.DataFrame'>\n",
      "RangeIndex: 101 entries, 0 to 100\n",
      "Data columns (total 2 columns):\n",
      " #   Column           Non-Null Count  Dtype  \n",
      "---  ------           --------------  -----  \n",
      " 0   city             101 non-null    object \n",
      " 1   average_flights  101 non-null    float64\n",
      "dtypes: float64(1), object(1)\n",
      "memory usage: 1.7+ KB\n"
     ]
    },
    {
     "data": {
      "text/plain": [
       "None"
      ]
     },
     "metadata": {},
     "output_type": "display_data"
    },
    {
     "name": "stdout",
     "output_type": "stream",
     "text": [
      "\n",
      "Датасет fest_tick_weeks: Количество билетов в неделю на рейсы в Москву с 23 июля по 30 сентября 2018 с информацией о проведении фестиваля в каждую указанную неделю\n"
     ]
    },
    {
     "data": {
      "text/html": [
       "<div>\n",
       "<style scoped>\n",
       "    .dataframe tbody tr th:only-of-type {\n",
       "        vertical-align: middle;\n",
       "    }\n",
       "\n",
       "    .dataframe tbody tr th {\n",
       "        vertical-align: top;\n",
       "    }\n",
       "\n",
       "    .dataframe thead th {\n",
       "        text-align: right;\n",
       "    }\n",
       "</style>\n",
       "<table border=\"1\" class=\"dataframe\">\n",
       "  <thead>\n",
       "    <tr style=\"text-align: right;\">\n",
       "      <th></th>\n",
       "      <th>week_number</th>\n",
       "      <th>ticket_amount</th>\n",
       "      <th>festival_week</th>\n",
       "      <th>festival_name</th>\n",
       "    </tr>\n",
       "  </thead>\n",
       "  <tbody>\n",
       "    <tr>\n",
       "      <th>0</th>\n",
       "      <td>30</td>\n",
       "      <td>43568</td>\n",
       "      <td>30.0</td>\n",
       "      <td>Park Live</td>\n",
       "    </tr>\n",
       "    <tr>\n",
       "      <th>1</th>\n",
       "      <td>31</td>\n",
       "      <td>51034</td>\n",
       "      <td>31.0</td>\n",
       "      <td>Пикник Афиши</td>\n",
       "    </tr>\n",
       "    <tr>\n",
       "      <th>2</th>\n",
       "      <td>32</td>\n",
       "      <td>51675</td>\n",
       "      <td>NaN</td>\n",
       "      <td>NaN</td>\n",
       "    </tr>\n",
       "    <tr>\n",
       "      <th>3</th>\n",
       "      <td>33</td>\n",
       "      <td>51378</td>\n",
       "      <td>NaN</td>\n",
       "      <td>NaN</td>\n",
       "    </tr>\n",
       "    <tr>\n",
       "      <th>4</th>\n",
       "      <td>34</td>\n",
       "      <td>51492</td>\n",
       "      <td>NaN</td>\n",
       "      <td>NaN</td>\n",
       "    </tr>\n",
       "  </tbody>\n",
       "</table>\n",
       "</div>"
      ],
      "text/plain": [
       "   week_number  ticket_amount  festival_week festival_name\n",
       "0           30          43568           30.0     Park Live\n",
       "1           31          51034           31.0  Пикник Афиши\n",
       "2           32          51675            NaN           NaN\n",
       "3           33          51378            NaN           NaN\n",
       "4           34          51492            NaN           NaN"
      ]
     },
     "metadata": {},
     "output_type": "display_data"
    },
    {
     "name": "stdout",
     "output_type": "stream",
     "text": [
      "\n",
      "Инфо по датасету fest_tick_weeks:\n",
      "\n",
      "<class 'pandas.core.frame.DataFrame'>\n",
      "RangeIndex: 10 entries, 0 to 9\n",
      "Data columns (total 4 columns):\n",
      " #   Column         Non-Null Count  Dtype  \n",
      "---  ------         --------------  -----  \n",
      " 0   week_number    10 non-null     int64  \n",
      " 1   ticket_amount  10 non-null     int64  \n",
      " 2   festival_week  3 non-null      float64\n",
      " 3   festival_name  3 non-null      object \n",
      "dtypes: float64(1), int64(2), object(1)\n",
      "memory usage: 448.0+ bytes\n"
     ]
    },
    {
     "data": {
      "text/plain": [
       "None"
      ]
     },
     "metadata": {},
     "output_type": "display_data"
    }
   ],
   "source": [
    "# читаем файлы с данными\n",
    "model_flights = pd.read_csv(r'Data\\query_1.csv')\n",
    "city_flights = pd.read_csv(r'Data\\query_3.csv')\n",
    "fest_tick_weeks = pd.read_csv(r'Data\\query_last.csv')\n",
    "\n",
    "# выводим model_flights\n",
    "print_df(model_flights, 'model_flights',\n",
    "        'Количество рейсов для каждой модели самолетов в сентябре 2018 года')\n",
    "# выводим city_flights\n",
    "print_df(city_flights, 'city_flights',\n",
    "        'Cреднее количество рейсов, прибывающих в город, за день в сентябре 2018 года')\n",
    "# выводим fest_tick_weeks\n",
    "print_df(fest_tick_weeks, 'fest_tick_weeks',\n",
    "        'Количество билетов в неделю на рейсы в Москву с 23 июля по 30 сентября 2018 '\n",
    "         'с информацией о проведении фестиваля в каждую указанную неделю')"
   ]
  },
  {
   "cell_type": "markdown",
   "metadata": {},
   "source": [
    "### Вывод:\n",
    " - *Пропуски наблюдаем* только в датасете `fest_tick_weeks`, которые говорят о том, что в указанную неделю фестивали не проводились\n",
    " - *Названия столбцов удобные*\n",
    " - В `fest_tick_weeks` *исправим тип данных у столбца `festival_week` на int*. Остальные типы данных соотвествуют данным в столбцах"
   ]
  },
  {
   "cell_type": "markdown",
   "metadata": {},
   "source": [
    "## 2. Анализ данных"
   ]
  },
  {
   "cell_type": "markdown",
   "metadata": {},
   "source": [
    "#### В `fest_tick_weeks` приведем столбец `festival_week` к типу данных `int`. Перед этим пропуски NAN заменим на -1."
   ]
  },
  {
   "cell_type": "code",
   "execution_count": 4,
   "metadata": {},
   "outputs": [
    {
     "name": "stdout",
     "output_type": "stream",
     "text": [
      "\n",
      "Датасет fest_tick_weeks: Количество билетов в неделю на рейсы в Москву с 23 июля по 30 сентября 2018 с информацией о проведении фестиваля в каждую указанную неделю\n"
     ]
    },
    {
     "data": {
      "text/html": [
       "<div>\n",
       "<style scoped>\n",
       "    .dataframe tbody tr th:only-of-type {\n",
       "        vertical-align: middle;\n",
       "    }\n",
       "\n",
       "    .dataframe tbody tr th {\n",
       "        vertical-align: top;\n",
       "    }\n",
       "\n",
       "    .dataframe thead th {\n",
       "        text-align: right;\n",
       "    }\n",
       "</style>\n",
       "<table border=\"1\" class=\"dataframe\">\n",
       "  <thead>\n",
       "    <tr style=\"text-align: right;\">\n",
       "      <th></th>\n",
       "      <th>week_number</th>\n",
       "      <th>ticket_amount</th>\n",
       "      <th>festival_week</th>\n",
       "      <th>festival_name</th>\n",
       "    </tr>\n",
       "  </thead>\n",
       "  <tbody>\n",
       "    <tr>\n",
       "      <th>0</th>\n",
       "      <td>30</td>\n",
       "      <td>43568</td>\n",
       "      <td>30</td>\n",
       "      <td>Park Live</td>\n",
       "    </tr>\n",
       "    <tr>\n",
       "      <th>1</th>\n",
       "      <td>31</td>\n",
       "      <td>51034</td>\n",
       "      <td>31</td>\n",
       "      <td>Пикник Афиши</td>\n",
       "    </tr>\n",
       "    <tr>\n",
       "      <th>2</th>\n",
       "      <td>32</td>\n",
       "      <td>51675</td>\n",
       "      <td>-1</td>\n",
       "      <td>NaN</td>\n",
       "    </tr>\n",
       "    <tr>\n",
       "      <th>3</th>\n",
       "      <td>33</td>\n",
       "      <td>51378</td>\n",
       "      <td>-1</td>\n",
       "      <td>NaN</td>\n",
       "    </tr>\n",
       "    <tr>\n",
       "      <th>4</th>\n",
       "      <td>34</td>\n",
       "      <td>51492</td>\n",
       "      <td>-1</td>\n",
       "      <td>NaN</td>\n",
       "    </tr>\n",
       "  </tbody>\n",
       "</table>\n",
       "</div>"
      ],
      "text/plain": [
       "   week_number  ticket_amount  festival_week festival_name\n",
       "0           30          43568             30     Park Live\n",
       "1           31          51034             31  Пикник Афиши\n",
       "2           32          51675             -1           NaN\n",
       "3           33          51378             -1           NaN\n",
       "4           34          51492             -1           NaN"
      ]
     },
     "metadata": {},
     "output_type": "display_data"
    },
    {
     "name": "stdout",
     "output_type": "stream",
     "text": [
      "\n",
      "Инфо по датасету fest_tick_weeks:\n",
      "\n",
      "<class 'pandas.core.frame.DataFrame'>\n",
      "RangeIndex: 10 entries, 0 to 9\n",
      "Data columns (total 4 columns):\n",
      " #   Column         Non-Null Count  Dtype \n",
      "---  ------         --------------  ----- \n",
      " 0   week_number    10 non-null     int64 \n",
      " 1   ticket_amount  10 non-null     int64 \n",
      " 2   festival_week  10 non-null     int64 \n",
      " 3   festival_name  3 non-null      object\n",
      "dtypes: int64(3), object(1)\n",
      "memory usage: 448.0+ bytes\n"
     ]
    },
    {
     "data": {
      "text/plain": [
       "None"
      ]
     },
     "metadata": {},
     "output_type": "display_data"
    }
   ],
   "source": [
    "# пропуски в festival_week меняем на -1\n",
    "fest_tick_weeks['festival_week'] = fest_tick_weeks.festival_week.fillna(-1)\n",
    "# меняем тип данных на int64\n",
    "fest_tick_weeks['festival_week'] = fest_tick_weeks.festival_week.astype('int64')\n",
    "# проверяем\n",
    "print_df(fest_tick_weeks, 'fest_tick_weeks',\n",
    "        'Количество билетов в неделю на рейсы в Москву с 23 июля по 30 сентября 2018 '\n",
    "         'с информацией о проведении фестиваля в каждую указанную неделю')"
   ]
  },
  {
   "cell_type": "markdown",
   "metadata": {},
   "source": [
    "<a id='Link2'></a>"
   ]
  },
  {
   "cell_type": "markdown",
   "metadata": {},
   "source": [
    "### Выберем топ-10 городов по количеству рейсов"
   ]
  },
  {
   "cell_type": "code",
   "execution_count": 14,
   "metadata": {},
   "outputs": [
    {
     "data": {
      "text/plain": [
       "'ТОП-10 городов по среднему количеству прибывающих рейсов в день в сентябре 2018 года:'"
      ]
     },
     "metadata": {},
     "output_type": "display_data"
    },
    {
     "data": {
      "text/html": [
       "<div>\n",
       "<style scoped>\n",
       "    .dataframe tbody tr th:only-of-type {\n",
       "        vertical-align: middle;\n",
       "    }\n",
       "\n",
       "    .dataframe tbody tr th {\n",
       "        vertical-align: top;\n",
       "    }\n",
       "\n",
       "    .dataframe thead th {\n",
       "        text-align: right;\n",
       "    }\n",
       "</style>\n",
       "<table border=\"1\" class=\"dataframe\">\n",
       "  <thead>\n",
       "    <tr style=\"text-align: right;\">\n",
       "      <th></th>\n",
       "      <th>city</th>\n",
       "      <th>average_flights</th>\n",
       "      <th>grouped_city</th>\n",
       "    </tr>\n",
       "  </thead>\n",
       "  <tbody>\n",
       "    <tr>\n",
       "      <th>43</th>\n",
       "      <td>Москва</td>\n",
       "      <td>129.774194</td>\n",
       "      <td>Москва</td>\n",
       "    </tr>\n",
       "    <tr>\n",
       "      <th>70</th>\n",
       "      <td>Санкт-Петербург</td>\n",
       "      <td>31.161290</td>\n",
       "      <td>Санкт-Петербург</td>\n",
       "    </tr>\n",
       "    <tr>\n",
       "      <th>54</th>\n",
       "      <td>Новосибирск</td>\n",
       "      <td>17.322581</td>\n",
       "      <td>Новосибирск</td>\n",
       "    </tr>\n",
       "    <tr>\n",
       "      <th>33</th>\n",
       "      <td>Красноярск</td>\n",
       "      <td>11.580645</td>\n",
       "      <td>Красноярск</td>\n",
       "    </tr>\n",
       "    <tr>\n",
       "      <th>20</th>\n",
       "      <td>Екатеринбург</td>\n",
       "      <td>11.322581</td>\n",
       "      <td>Екатеринбург</td>\n",
       "    </tr>\n",
       "    <tr>\n",
       "      <th>67</th>\n",
       "      <td>Ростов-на-Дону</td>\n",
       "      <td>10.193548</td>\n",
       "      <td>Ростов-на-Дону</td>\n",
       "    </tr>\n",
       "    <tr>\n",
       "      <th>63</th>\n",
       "      <td>Пермь</td>\n",
       "      <td>10.129032</td>\n",
       "      <td>Пермь</td>\n",
       "    </tr>\n",
       "    <tr>\n",
       "      <th>10</th>\n",
       "      <td>Брянск</td>\n",
       "      <td>10.000000</td>\n",
       "      <td>Брянск</td>\n",
       "    </tr>\n",
       "    <tr>\n",
       "      <th>74</th>\n",
       "      <td>Сочи</td>\n",
       "      <td>9.612903</td>\n",
       "      <td>Сочи</td>\n",
       "    </tr>\n",
       "    <tr>\n",
       "      <th>84</th>\n",
       "      <td>Ульяновск</td>\n",
       "      <td>9.580645</td>\n",
       "      <td>Ульяновск</td>\n",
       "    </tr>\n",
       "  </tbody>\n",
       "</table>\n",
       "</div>"
      ],
      "text/plain": [
       "               city  average_flights     grouped_city\n",
       "43           Москва       129.774194           Москва\n",
       "70  Санкт-Петербург        31.161290  Санкт-Петербург\n",
       "54      Новосибирск        17.322581      Новосибирск\n",
       "33       Красноярск        11.580645       Красноярск\n",
       "20     Екатеринбург        11.322581     Екатеринбург\n",
       "67   Ростов-на-Дону        10.193548   Ростов-на-Дону\n",
       "63            Пермь        10.129032            Пермь\n",
       "10           Брянск        10.000000           Брянск\n",
       "74             Сочи         9.612903             Сочи\n",
       "84        Ульяновск         9.580645        Ульяновск"
      ]
     },
     "metadata": {},
     "output_type": "display_data"
    }
   ],
   "source": [
    "# топ-10 городов по кол-ву рейсов\n",
    "display('ТОП-10 городов по среднему количеству прибывающих рейсов в день в сентябре 2018 года:')\n",
    "city_flights_top10 = city_flights.nlargest(10, 'average_flights', keep='first') \n",
    "display(city_flights_top10)"
   ]
  },
  {
   "cell_type": "markdown",
   "metadata": {},
   "source": [
    "<a id='Link3'></a>"
   ]
  },
  {
   "cell_type": "markdown",
   "metadata": {},
   "source": [
    "### Построим графики: модели самолётов и количество рейсов, города и количество рейсов, топ-10 городов и количество рейсов"
   ]
  },
  {
   "cell_type": "code",
   "execution_count": 6,
   "metadata": {},
   "outputs": [],
   "source": [
    "def fun_ax(ax, plot, x, title, y=None,\n",
    "           x_label=None, y_label=None,\n",
    "           color=None):\n",
    "    \"\"\" функция для рисования plt.subplots\n",
    "    \n",
    "    параметры:\n",
    "     - subplot\n",
    "     - тип графика\n",
    "     - выборка для оси X\n",
    "     - заголовок\n",
    "     - выборка для оси Y\n",
    "     - название для оси Х\n",
    "     - название для оси Y\n",
    "     - цвет\n",
    "    \"\"\"\n",
    "    \n",
    "    # если bar\n",
    "    if plot == 'bar':\n",
    "        ax.bar(x, y, color=color)\n",
    "    \n",
    "    # если boxplot\n",
    "    elif plot == 'box':\n",
    "        ax.boxplot(x, vert=False)\n",
    "        \n",
    "    # если pie\n",
    "    elif plot == 'pie':\n",
    "        # создаем массив для отделения кусков пирога\n",
    "        explode = np.zeros(len(y))\n",
    "        # отделяем первые 2 самых больших куска\n",
    "        explode[0] = 0.1\n",
    "        explode[1] = 0.1\n",
    "        ax.pie(x, autopct='%.0f%%',\n",
    "               textprops={'size': 'smaller'},\n",
    "               explode=explode,\n",
    "               # делаем по часовой стрелке\n",
    "               counterclock=False)\n",
    "        # выводим легенду\n",
    "        ax.legend(ax.patches, y,\n",
    "                  title=\"Города\",\n",
    "                  # расположение легенды\n",
    "                  bbox_to_anchor=(0, 0, 0, 1))\n",
    "    \n",
    "    # заголовок, названия осей\n",
    "    ax.set_xlabel(x_label)\n",
    "    ax.set_ylabel(y_label)\n",
    "    ax.set_title(title)\n",
    "       \n",
    "    return None"
   ]
  },
  {
   "cell_type": "code",
   "execution_count": 7,
   "metadata": {},
   "outputs": [
    {
     "data": {
      "image/png": "[encoded data removed]",
      "text/plain": [
       "<Figure size 1152x648 with 3 Axes>"
      ]
     },
     "metadata": {
      "needs_background": "light"
     },
     "output_type": "display_data"
    }
   ],
   "source": [
    "fig = plt.figure(figsize=(16,9))\n",
    "\n",
    "# bar количество рейсов для каждой модели самолетов\n",
    "ax = plt.subplot2grid((3,2), (0,0), colspan=2)\n",
    "fun_ax(ax, 'bar',\n",
    "       model_flights.sort_values('flights_amount', ascending=False).model,\n",
    "       'Количество рейсов для каждой модели самолетов в сентябре 2018 года\\n',\n",
    "       y=model_flights.sort_values('flights_amount', ascending=False).flights_amount,\n",
    "       x_label='Модель самолета',\n",
    "       y_label='Количество рейсов',\n",
    "       color='orange')\n",
    "\n",
    "# города вне топ-10 относим к категории Другие\n",
    "city_flights['grouped_city'] = city_flights.city.where \\\n",
    "                               (city_flights.index.isin(city_flights_top10.index),\n",
    "                                'Другие')\n",
    "# пересчитываем average_flights после введения новой категории Другие\n",
    "city_flights_grouped = city_flights.groupby('grouped_city', as_index=False).sum() \\\n",
    "                      .sort_values('average_flights', ascending=False)\n",
    "\n",
    "# pie все города по рейсам в день с категорией Другие\n",
    "ax = plt.subplot2grid((3,2), (1,1), rowspan=2)\n",
    "fun_ax(ax, 'pie',\n",
    "       city_flights_grouped.average_flights,\n",
    "       'Cреднее количество рейсов, прибывающих в город,\\n' + 'в день в сентябре 2018 года\\n',\n",
    "       y=city_flights_grouped.grouped_city.values)\n",
    "\n",
    "# pie TOP-10 городов по рейсам в день\n",
    "ax = plt.subplot2grid((3,2), (1,0), rowspan=2)\n",
    "fun_ax(ax, 'pie',\n",
    "       city_flights_top10.average_flights,\n",
    "       'ТОП-10 городов по среднему количеству\\n' + 'прибывающих рейсов в день в сентябре 2018 года\\n',\n",
    "       y=city_flights_top10.city.values)\n",
    "\n",
    "fig.tight_layout()"
   ]
  },
  {
   "cell_type": "markdown",
   "metadata": {},
   "source": [
    "### Вывод:\n",
    " - В сентябре 2018 года пассажиры предпочитали в основном летать в Москву (23% рейсов), Санкт-Петербург (6%), Новосибирск (3%), рейсы в остальные города составляли 2% и ниже в каждый город. **Почти четверть всех рейсов авиакомпании в стране совершалась в Москву**.\n",
    " - Из ТОП-10 городов самыми популярными были Москва (52%), Санкт-Петербург (12%) и Новосибирск (7%), рейсы в остальные города составляли 5% и ниже в каждый город. **Москва в рейтинге ТОП-10 занимает первое место с более чем половиной всех рейсов из рейтинга**.\n",
    " - Полеты в основном совершались на таких моделях самолетов, как: Cessna 208 Caravan, Bombardier CRJ-200, Sukhoi SuperJet-100."
   ]
  },
  {
   "cell_type": "markdown",
   "metadata": {},
   "source": [
    "<a id='Link4'></a>"
   ]
  },
  {
   "cell_type": "markdown",
   "metadata": {},
   "source": [
    "## 3. Проверим гипотезу: «Средний спрос на билеты во время фестивалей не отличается от среднего спроса на билеты в обычное время»."
   ]
  },
  {
   "cell_type": "markdown",
   "metadata": {},
   "source": [
    "### У нас две *независимые* выборки с небольшим объёмом каждой выборки *n < 30*"
   ]
  },
  {
   "cell_type": "code",
   "execution_count": 8,
   "metadata": {},
   "outputs": [
    {
     "name": "stdout",
     "output_type": "stream",
     "text": [
      "Объем выборки Билеты в обычное время: 7\n",
      "Объем выборки Билеты во время фестивалей: 3\n"
     ]
    }
   ],
   "source": [
    "# выборка билеты в обычное время\n",
    "tickets_usual_time = fest_tick_weeks.query('festival_week == -1')\n",
    "print('Объем выборки Билеты в обычное время:', len(tickets_usual_time))\n",
    "# выборка билеты во время фестивалей\n",
    "tickets_fest_time = fest_tick_weeks.query('festival_week != -1')\n",
    "print('Объем выборки Билеты во время фестивалей:', len(tickets_fest_time))"
   ]
  },
  {
   "cell_type": "markdown",
   "metadata": {},
   "source": [
    "### Проверим наши выборки на нормальность распределения методом Шапиро-Уилка"
   ]
  },
  {
   "cell_type": "code",
   "execution_count": 9,
   "metadata": {},
   "outputs": [
    {
     "name": "stdout",
     "output_type": "stream",
     "text": [
      "Тест Шапиро-Уилка для выборки Билеты в обычное время:\n",
      "statistic=0.894, p=0.296\n",
      "\n",
      "Тест Шапиро-Уилка для выборки Билеты во время фестивалей:\n",
      "statistic=0.784, p=0.076\n"
     ]
    }
   ],
   "source": [
    "# тест Шапиро-Уилка для обеих выборок\n",
    "\n",
    "stat, p = st.shapiro(tickets_usual_time.ticket_amount.values)\n",
    "print('Тест Шапиро-Уилка для выборки Билеты в обычное время:')\n",
    "print('statistic=%.3f, p=%.3f' % (stat, p))\n",
    "\n",
    "stat, p = st.shapiro(tickets_fest_time.ticket_amount.values)\n",
    "print('\\nТест Шапиро-Уилка для выборки Билеты во время фестивалей:')\n",
    "print('statistic=%.3f, p=%.3f' % (stat, p))"
   ]
  },
  {
   "cell_type": "markdown",
   "metadata": {},
   "source": [
    "#### Оба значения p-уровня значимости > 0.05, следовательно, мы *не можем отклонить H0* о том, что *обе наши выборки* взяты из ГС *с нормальным распределением* признака. Но так как объемы выборок очень маленькие, нужно с сомнением относиться к результату "
   ]
  },
  {
   "cell_type": "markdown",
   "metadata": {},
   "source": [
    "### Проверим выборки на наличие выбросов"
   ]
  },
  {
   "cell_type": "code",
   "execution_count": 10,
   "metadata": {},
   "outputs": [
    {
     "data": {
      "image/png": "[encoded data removed]",
      "text/plain": [
       "<Figure size 1152x216 with 2 Axes>"
      ]
     },
     "metadata": {
      "needs_background": "light"
     },
     "output_type": "display_data"
    }
   ],
   "source": [
    "fig = plt.figure(figsize=(16,3))\n",
    "\n",
    "# boxplot для выборки Билеты в обычное время\n",
    "ax = plt.subplot(121)\n",
    "fun_ax(ax, 'box', tickets_usual_time.ticket_amount,\n",
    "       'Boxplot: Количество купленных билетов в неделю в обычное время\\n')\n",
    "\n",
    "# boxplot для выборки Билеты во время фестивалей\n",
    "ax = plt.subplot(122)\n",
    "fun_ax(ax, 'box', tickets_fest_time.ticket_amount,\n",
    "       'Boxplot: Количество купленных билетов в неделю во время фестивалей\\n')\n",
    "\n",
    "fig.tight_layout()"
   ]
  },
  {
   "cell_type": "markdown",
   "metadata": {},
   "source": [
    "#### Выбросов не наблюдаем"
   ]
  },
  {
   "cell_type": "markdown",
   "metadata": {},
   "source": [
    "### Сравним дисперсии обеих выборок"
   ]
  },
  {
   "cell_type": "code",
   "execution_count": 11,
   "metadata": {},
   "outputs": [
    {
     "name": "stdout",
     "output_type": "stream",
     "text": [
      "Дисперсия выборки Билеты в обычное время: 17143.48\n",
      "Дисперсия выборки Билеты во время фестивалей: 19497697.33\n"
     ]
    }
   ],
   "source": [
    "# выводим дисперсии обеих выборок\n",
    "\n",
    "print('Дисперсия выборки Билеты в обычное время: %.2f' % np.var(tickets_usual_time.ticket_amount, ddof=1))\n",
    "print('Дисперсия выборки Билеты во время фестивалей: %.2f' % np.var(tickets_fest_time.ticket_amount, ddof=1))"
   ]
  },
  {
   "cell_type": "markdown",
   "metadata": {},
   "source": [
    "### Учитывая, что: \n",
    " - **выборки независимые**,\n",
    " - **объем каждой выборки < 30**,\n",
    " - **мы не смогли отклонить H0 о том, что выборки пришли из ГС с нормальным распределением**,\n",
    " - **выбросов нет**,\n",
    " - **дисперсии выборок отличаются**, - \n",
    "### для проверки гипотезы о равенстве средних будем использовать параметрический t-критерий Стьюдента для независимых выборок с параметром `equal_var=False` "
   ]
  },
  {
   "cell_type": "markdown",
   "metadata": {},
   "source": [
    "**- H0: Средний спрос на билеты во время фестивалей не отличается от среднего спроса на билеты в обычное время (средние их ГС равны)**\n",
    "\n",
    "**- H1: Средний спрос на билеты во время фестивалей и средний спрос на билеты в обычное время различается (средние их ГС НЕ равны)**"
   ]
  },
  {
   "cell_type": "code",
   "execution_count": 12,
   "metadata": {},
   "outputs": [
    {
     "name": "stdout",
     "output_type": "stream",
     "text": [
      "T-критерий Стьюдента для независимых выборок:\n",
      "statistic=1.880, p=0.097\n"
     ]
    }
   ],
   "source": [
    "# считаем t-критерий Стьюдента для независимых выборок\n",
    "\n",
    "stat, p = st.ttest_ind(tickets_usual_time.ticket_amount.values, tickets_fest_time.ticket_amount.values)\n",
    "print('T-критерий Стьюдента для независимых выборок:')\n",
    "print('statistic=%.3f, p=%.3f' % (stat, p))"
   ]
  },
  {
   "cell_type": "markdown",
   "metadata": {},
   "source": [
    "#### p=0.097 > 0.05, следовательно, у нас недостаточно оснований отклонить нулевую гипотезу H0: средний спрос на билеты во время фестивалей не отличается от среднего спроса на билеты в обычное время"
   ]
  },
  {
   "cell_type": "markdown",
   "metadata": {},
   "source": [
    "### Вывод:\n",
    "- Проверили наши выборки:\n",
    " - на нормальность распределения (*не смогли отклонить H0 о том, что выборки пришли из ГС с нормальным распределением*)\n",
    " - на наличие выбросов (*выбросы не обнаружили*)\n",
    " - сравнили дисперсии (*дисперсии выборок отличаются*)\n",
    "- Выбрали для проверки гипотезы *t-критерий Стьюдента для независимых выборок* с параметром equal_var=False\n",
    "- Сформулировали нулевую и альтернативную гипотезы\n",
    "- Получили значение p-уровня значимости p=0.097 > 0.05, следовательно, **не смогли отклонить нулевую гипотезу H0: средний спрос на билеты во время фестивалей не отличается от среднего спроса на билеты в обычное время**\n",
    "- **Так как объемы наших выборок очень маленькие, к полученным результатам следует относиться осторожно**"
   ]
  },
  {
   "cell_type": "markdown",
   "metadata": {},
   "source": [
    "<a id='Link5'></a>"
   ]
  },
  {
   "cell_type": "markdown",
   "metadata": {},
   "source": [
    "## 4. Общий вывод\n",
    "\n",
    "1. *Изучили общую информацию*\n",
    "\n",
    "\n",
    "2. *Провели анализ данных*\n",
    "  \n",
    "  - Выбрали топ-10 городов по количеству рейсов\n",
    "  \n",
    "  - Построили графики: модели самолётов и количество рейсов, города и количество рейсов, топ-10 городов и количество рейсов:\n",
    "    - Почти четверть всех рейсов авиакомпании в стране совершалась в Москву\n",
    "    - Москва в рейтинге ТОП-10 занимает первое место с более чем половиной всех рейсов из рейтинга\n",
    "    - Полеты в основном совершались на таких моделях самолетов, как: Bombardier CRJ-200, Cessna 208 Caravan, Sukhoi SuperJet-100\n",
    "\n",
    "\n",
    "3. *Проверили гипотезу «Средний спрос на билеты во время фестивалей не отличается от среднего спроса на билеты в обычное время»*\n",
    " - Проверили наши выборки:\n",
    "    - на нормальность распределения (*не смогли отклонить H0 о том, что выборки пришли из ГС с нормальным распределением*)\n",
    "    - на наличие выбросов (*выбросы не обнаружили*)\n",
    "    - сравнили дисперсии (*дисперсии выборок отличаются*)\n",
    "    \n",
    " - Выбрали для проверки гипотезы *t-критерий Стьюдента для независимых выборок* с параметром *equal_var=False*\n",
    " - Получили p=0.097 > 0.05, следовательно, **не смогли отклонить нулевую гипотезу H0: средний спрос на билеты во время фестивалей не отличается от среднего спроса на билеты в обычное время**\n",
    " - **Так как объемы наших выборок очень маленькие, к полученным результатам следует относиться осторожно**"
   ]
  }
 ],
 "metadata": {
  "kernelspec": {
   "display_name": "Python 3",
   "language": "python",
   "name": "python3"
  },
  "language_info": {
   "codemirror_mode": {
    "name": "ipython",
    "version": 3
   },
   "file_extension": ".py",
   "mimetype": "text/x-python",
   "name": "python",
   "nbconvert_exporter": "python",
   "pygments_lexer": "ipython3",
   "version": "3.7.6"
  }
 },
 "nbformat": 4,
 "nbformat_minor": 2
}
