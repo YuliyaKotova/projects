{
 "cells": [
  {
   "cell_type": "markdown",
   "metadata": {},
   "source": [
    "### *План исследования:*\n",
    "\n",
    "- ***1. Загрузка данных, изучение общей информации*** \n",
    "\n",
    " - [Загрузка библиотек, файлов с данными, ознакомление, получение общей информации](#Link1)\n",
    "\n",
    "\n",
    "- ***2. Предобработка данных***\n",
    "\n",
    " - [Замена названий столбцов и типов данных](#Link2)\n",
    " - [Обработка пропусков](#Link3)\n",
    " - [Обработка дубликатов](#Link4)\n",
    " \n",
    " \n",
    "- ***3. Исследовательский анализ данных***\n",
    " - [Поиск выбросов и аномалий](#Link5)\n",
    " - [Изучение взаимосвязей между количественными переменными](#Link6)\n",
    "\n",
    "\n",
    "- ***4. Подготовка признаков для построения моделей***\n",
    " - [Кодирование категориальных признаков](#Link7)\n",
    " - [Разделение датасета на обучающую и тестовую выборки](#Link8)\n",
    " - [Масштабирование количественных признаков](#Link9)\n",
    " \n",
    "\n",
    "- ***5. Построение моделей***\n",
    " - [Линейная регрессия](#Link10)\n",
    " - [Дерево решений](#Link11)\n",
    " - [Случайный лес](#Link12)\n",
    " - [Градиентный бустинг LightGBM](#Link13)\n",
    " - [Градиентный бустинг CatBoost](#Link14)\n",
    " - [Градиентный бустинг XGBoost](#Link15)\n",
    "\n",
    " \n",
    "- ***6. Анализ моделей*** \n",
    " - [Проверка моделей на тестовой выборке](#Link16)\n",
    " - [Проверка моделей на вменяемость](#Link17) \n",
    " - [Анализ моделей](#Link18)\n",
    " \n",
    " \n",
    "- ***7. Общий вывод***\n",
    " - [Вывод](#Link19)"
   ]
  },
  {
   "cell_type": "markdown",
   "metadata": {},
   "source": [
    "## 1. Загрузка данных, изучение общей информации"
   ]
  },
  {
   "cell_type": "markdown",
   "metadata": {},
   "source": [
    "<a id='Link1'></a>"
   ]
  },
  {
   "cell_type": "markdown",
   "metadata": {},
   "source": [
    "### Загрузка библиотек, файлов с данными, ознакомление, получение общей информации"
   ]
  },
  {
   "cell_type": "code",
   "execution_count": 1,
   "metadata": {},
   "outputs": [],
   "source": [
    "from IPython.display import display\n",
    "import pandas as pd\n",
    "from matplotlib import pyplot as plt\n",
    "import numpy as np\n",
    "from time import perf_counter\n",
    "\n",
    "import warnings\n",
    "warnings.filterwarnings(\"ignore\")\n",
    "\n",
    "from sklearn.preprocessing import OrdinalEncoder\n",
    "from sklearn.preprocessing import StandardScaler\n",
    "\n",
    "from sklearn.model_selection import train_test_split\n",
    "from sklearn.model_selection import GridSearchCV\n",
    "\n",
    "from sklearn.metrics import mean_squared_error\n",
    "from sklearn.metrics import make_scorer\n",
    "\n",
    "from sklearn.linear_model import LinearRegression\n",
    "from sklearn.tree import DecisionTreeRegressor\n",
    "from sklearn.ensemble import RandomForestRegressor\n",
    "from catboost import CatBoostRegressor\n",
    "from xgboost import XGBRegressor\n",
    "import lightgbm as lgb"
   ]
  },
  {
   "cell_type": "code",
   "execution_count": 2,
   "metadata": {},
   "outputs": [
    {
     "name": "stdout",
     "output_type": "stream",
     "text": [
      "\n",
      "Инфо по датасету autos: \n",
      "\n",
      "<class 'pandas.core.frame.DataFrame'>\n",
      "RangeIndex: 354369 entries, 0 to 354368\n",
      "Data columns (total 16 columns):\n",
      " #   Column             Non-Null Count   Dtype \n",
      "---  ------             --------------   ----- \n",
      " 0   DateCrawled        354369 non-null  object\n",
      " 1   Price              354369 non-null  int64 \n",
      " 2   VehicleType        316879 non-null  object\n",
      " 3   RegistrationYear   354369 non-null  int64 \n",
      " 4   Gearbox            334536 non-null  object\n",
      " 5   Power              354369 non-null  int64 \n",
      " 6   Model              334664 non-null  object\n",
      " 7   Kilometer          354369 non-null  int64 \n",
      " 8   RegistrationMonth  354369 non-null  int64 \n",
      " 9   FuelType           321474 non-null  object\n",
      " 10  Brand              354369 non-null  object\n",
      " 11  NotRepaired        283215 non-null  object\n",
      " 12  DateCreated        354369 non-null  object\n",
      " 13  NumberOfPictures   354369 non-null  int64 \n",
      " 14  PostalCode         354369 non-null  int64 \n",
      " 15  LastSeen           354369 non-null  object\n",
      "dtypes: int64(7), object(9)\n",
      "memory usage: 43.3+ MB\n"
     ]
    },
    {
     "data": {
      "text/plain": [
       "None"
      ]
     },
     "metadata": {},
     "output_type": "display_data"
    },
    {
     "name": "stdout",
     "output_type": "stream",
     "text": [
      "\n",
      "Датасет autos: \n",
      "\n"
     ]
    },
    {
     "data": {
      "text/html": [
       "<div>\n",
       "<style scoped>\n",
       "    .dataframe tbody tr th:only-of-type {\n",
       "        vertical-align: middle;\n",
       "    }\n",
       "\n",
       "    .dataframe tbody tr th {\n",
       "        vertical-align: top;\n",
       "    }\n",
       "\n",
       "    .dataframe thead th {\n",
       "        text-align: right;\n",
       "    }\n",
       "</style>\n",
       "<table border=\"1\" class=\"dataframe\">\n",
       "  <thead>\n",
       "    <tr style=\"text-align: right;\">\n",
       "      <th></th>\n",
       "      <th>DateCrawled</th>\n",
       "      <th>Price</th>\n",
       "      <th>VehicleType</th>\n",
       "      <th>RegistrationYear</th>\n",
       "      <th>Gearbox</th>\n",
       "      <th>Power</th>\n",
       "      <th>Model</th>\n",
       "      <th>Kilometer</th>\n",
       "      <th>RegistrationMonth</th>\n",
       "      <th>FuelType</th>\n",
       "      <th>Brand</th>\n",
       "      <th>NotRepaired</th>\n",
       "      <th>DateCreated</th>\n",
       "      <th>NumberOfPictures</th>\n",
       "      <th>PostalCode</th>\n",
       "      <th>LastSeen</th>\n",
       "    </tr>\n",
       "  </thead>\n",
       "  <tbody>\n",
       "    <tr>\n",
       "      <th>0</th>\n",
       "      <td>2016-03-24 11:52:17</td>\n",
       "      <td>480</td>\n",
       "      <td>NaN</td>\n",
       "      <td>1993</td>\n",
       "      <td>manual</td>\n",
       "      <td>0</td>\n",
       "      <td>golf</td>\n",
       "      <td>150000</td>\n",
       "      <td>0</td>\n",
       "      <td>petrol</td>\n",
       "      <td>volkswagen</td>\n",
       "      <td>NaN</td>\n",
       "      <td>2016-03-24 00:00:00</td>\n",
       "      <td>0</td>\n",
       "      <td>70435</td>\n",
       "      <td>2016-04-07 03:16:57</td>\n",
       "    </tr>\n",
       "    <tr>\n",
       "      <th>1</th>\n",
       "      <td>2016-03-24 10:58:45</td>\n",
       "      <td>18300</td>\n",
       "      <td>coupe</td>\n",
       "      <td>2011</td>\n",
       "      <td>manual</td>\n",
       "      <td>190</td>\n",
       "      <td>NaN</td>\n",
       "      <td>125000</td>\n",
       "      <td>5</td>\n",
       "      <td>gasoline</td>\n",
       "      <td>audi</td>\n",
       "      <td>yes</td>\n",
       "      <td>2016-03-24 00:00:00</td>\n",
       "      <td>0</td>\n",
       "      <td>66954</td>\n",
       "      <td>2016-04-07 01:46:50</td>\n",
       "    </tr>\n",
       "    <tr>\n",
       "      <th>2</th>\n",
       "      <td>2016-03-14 12:52:21</td>\n",
       "      <td>9800</td>\n",
       "      <td>suv</td>\n",
       "      <td>2004</td>\n",
       "      <td>auto</td>\n",
       "      <td>163</td>\n",
       "      <td>grand</td>\n",
       "      <td>125000</td>\n",
       "      <td>8</td>\n",
       "      <td>gasoline</td>\n",
       "      <td>jeep</td>\n",
       "      <td>NaN</td>\n",
       "      <td>2016-03-14 00:00:00</td>\n",
       "      <td>0</td>\n",
       "      <td>90480</td>\n",
       "      <td>2016-04-05 12:47:46</td>\n",
       "    </tr>\n",
       "    <tr>\n",
       "      <th>3</th>\n",
       "      <td>2016-03-17 16:54:04</td>\n",
       "      <td>1500</td>\n",
       "      <td>small</td>\n",
       "      <td>2001</td>\n",
       "      <td>manual</td>\n",
       "      <td>75</td>\n",
       "      <td>golf</td>\n",
       "      <td>150000</td>\n",
       "      <td>6</td>\n",
       "      <td>petrol</td>\n",
       "      <td>volkswagen</td>\n",
       "      <td>no</td>\n",
       "      <td>2016-03-17 00:00:00</td>\n",
       "      <td>0</td>\n",
       "      <td>91074</td>\n",
       "      <td>2016-03-17 17:40:17</td>\n",
       "    </tr>\n",
       "    <tr>\n",
       "      <th>4</th>\n",
       "      <td>2016-03-31 17:25:20</td>\n",
       "      <td>3600</td>\n",
       "      <td>small</td>\n",
       "      <td>2008</td>\n",
       "      <td>manual</td>\n",
       "      <td>69</td>\n",
       "      <td>fabia</td>\n",
       "      <td>90000</td>\n",
       "      <td>7</td>\n",
       "      <td>gasoline</td>\n",
       "      <td>skoda</td>\n",
       "      <td>no</td>\n",
       "      <td>2016-03-31 00:00:00</td>\n",
       "      <td>0</td>\n",
       "      <td>60437</td>\n",
       "      <td>2016-04-06 10:17:21</td>\n",
       "    </tr>\n",
       "  </tbody>\n",
       "</table>\n",
       "</div>"
      ],
      "text/plain": [
       "           DateCrawled  Price VehicleType  RegistrationYear Gearbox  Power  \\\n",
       "0  2016-03-24 11:52:17    480         NaN              1993  manual      0   \n",
       "1  2016-03-24 10:58:45  18300       coupe              2011  manual    190   \n",
       "2  2016-03-14 12:52:21   9800         suv              2004    auto    163   \n",
       "3  2016-03-17 16:54:04   1500       small              2001  manual     75   \n",
       "4  2016-03-31 17:25:20   3600       small              2008  manual     69   \n",
       "\n",
       "   Model  Kilometer  RegistrationMonth  FuelType       Brand NotRepaired  \\\n",
       "0   golf     150000                  0    petrol  volkswagen         NaN   \n",
       "1    NaN     125000                  5  gasoline        audi         yes   \n",
       "2  grand     125000                  8  gasoline        jeep         NaN   \n",
       "3   golf     150000                  6    petrol  volkswagen          no   \n",
       "4  fabia      90000                  7  gasoline       skoda          no   \n",
       "\n",
       "           DateCreated  NumberOfPictures  PostalCode             LastSeen  \n",
       "0  2016-03-24 00:00:00                 0       70435  2016-04-07 03:16:57  \n",
       "1  2016-03-24 00:00:00                 0       66954  2016-04-07 01:46:50  \n",
       "2  2016-03-14 00:00:00                 0       90480  2016-04-05 12:47:46  \n",
       "3  2016-03-17 00:00:00                 0       91074  2016-03-17 17:40:17  \n",
       "4  2016-03-31 00:00:00                 0       60437  2016-04-06 10:17:21  "
      ]
     },
     "metadata": {},
     "output_type": "display_data"
    }
   ],
   "source": [
    "#читаем файл с данными\n",
    "autos = pd.read_csv(r'Data\\autos.csv')\n",
    "\n",
    "print('\\nИнфо по датасету autos: \\n')\n",
    "display(autos.info())\n",
    "print('\\nДатасет autos: \\n')\n",
    "display(autos.head(5))"
   ]
  },
  {
   "cell_type": "markdown",
   "metadata": {},
   "source": [
    "### Вывод\n",
    "- Данные соответствуют описанию\n",
    "- В датасете 16 колонок, 354369 строк\n",
    "- *Наблюдаем пропуски в категориальных признаках*: `VehicleType`, `Gearbox`, `Model`, `FuelType`, `NotRepaired`\n",
    "- *Названия столбцов приведем к нижнему регистру*\n",
    "- *Есть столбцы-даты с типом object*, сделаем датой.\n",
    "- **Целевой признак, который нужно будет прогнозировать:**\n",
    "    - Цена **`Price`**"
   ]
  },
  {
   "cell_type": "markdown",
   "metadata": {},
   "source": [
    "## 2. Предобработка данных"
   ]
  },
  {
   "cell_type": "markdown",
   "metadata": {},
   "source": [
    "<a id='Link2'></a>"
   ]
  },
  {
   "cell_type": "markdown",
   "metadata": {},
   "source": [
    "### Замена названий столбцов и типов данных столбцов"
   ]
  },
  {
   "cell_type": "code",
   "execution_count": 3,
   "metadata": {},
   "outputs": [
    {
     "name": "stdout",
     "output_type": "stream",
     "text": [
      "Инфо по датасету autos после замены названий столбцов и типов данных:\n",
      "<class 'pandas.core.frame.DataFrame'>\n",
      "RangeIndex: 354369 entries, 0 to 354368\n",
      "Data columns (total 16 columns):\n",
      " #   Column             Non-Null Count   Dtype         \n",
      "---  ------             --------------   -----         \n",
      " 0   datecrawled        354369 non-null  datetime64[ns]\n",
      " 1   price              354369 non-null  int64         \n",
      " 2   vehicletype        316879 non-null  object        \n",
      " 3   registrationyear   354369 non-null  int64         \n",
      " 4   gearbox            334536 non-null  object        \n",
      " 5   power              354369 non-null  int64         \n",
      " 6   model              334664 non-null  object        \n",
      " 7   kilometer          354369 non-null  int64         \n",
      " 8   registrationmonth  354369 non-null  int64         \n",
      " 9   fueltype           321474 non-null  object        \n",
      " 10  brand              354369 non-null  object        \n",
      " 11  notrepaired        283215 non-null  object        \n",
      " 12  datecreated        354369 non-null  datetime64[ns]\n",
      " 13  numberofpictures   354369 non-null  int64         \n",
      " 14  postalcode         354369 non-null  int64         \n",
      " 15  lastseen           354369 non-null  datetime64[ns]\n",
      "dtypes: datetime64[ns](3), int64(7), object(6)\n",
      "memory usage: 43.3+ MB\n"
     ]
    }
   ],
   "source": [
    "# приведем названия столбцов к нижнему регистру\n",
    "autos.columns = autos.columns.str.lower()\n",
    "\n",
    "# даты делаем датами\n",
    "autos.datecrawled = pd.to_datetime(autos.datecrawled)\n",
    "autos.datecreated = pd.to_datetime(autos.datecreated)\n",
    "autos.lastseen = pd.to_datetime(autos.lastseen)\n",
    "\n",
    "# проверяем\n",
    "print('Инфо по датасету autos после замены названий столбцов и типов данных:')\n",
    "autos.info(5)"
   ]
  },
  {
   "cell_type": "markdown",
   "metadata": {},
   "source": [
    "<a id='Link3'></a>"
   ]
  },
  {
   "cell_type": "markdown",
   "metadata": {},
   "source": [
    "### Обработка пропусков"
   ]
  },
  {
   "cell_type": "markdown",
   "metadata": {},
   "source": [
    "- Введем категорию `unknown` для всех категориальных признаков с пропусками. Сделаем заполнение пропусков"
   ]
  },
  {
   "cell_type": "code",
   "execution_count": 4,
   "metadata": {},
   "outputs": [
    {
     "name": "stdout",
     "output_type": "stream",
     "text": [
      "Датасет после заполнения пропусков:\n"
     ]
    },
    {
     "data": {
      "text/html": [
       "<div>\n",
       "<style scoped>\n",
       "    .dataframe tbody tr th:only-of-type {\n",
       "        vertical-align: middle;\n",
       "    }\n",
       "\n",
       "    .dataframe tbody tr th {\n",
       "        vertical-align: top;\n",
       "    }\n",
       "\n",
       "    .dataframe thead th {\n",
       "        text-align: right;\n",
       "    }\n",
       "</style>\n",
       "<table border=\"1\" class=\"dataframe\">\n",
       "  <thead>\n",
       "    <tr style=\"text-align: right;\">\n",
       "      <th></th>\n",
       "      <th>datecrawled</th>\n",
       "      <th>price</th>\n",
       "      <th>vehicletype</th>\n",
       "      <th>registrationyear</th>\n",
       "      <th>gearbox</th>\n",
       "      <th>power</th>\n",
       "      <th>model</th>\n",
       "      <th>kilometer</th>\n",
       "      <th>registrationmonth</th>\n",
       "      <th>fueltype</th>\n",
       "      <th>brand</th>\n",
       "      <th>notrepaired</th>\n",
       "      <th>datecreated</th>\n",
       "      <th>numberofpictures</th>\n",
       "      <th>postalcode</th>\n",
       "      <th>lastseen</th>\n",
       "    </tr>\n",
       "  </thead>\n",
       "  <tbody>\n",
       "    <tr>\n",
       "      <th>0</th>\n",
       "      <td>2016-03-24 11:52:17</td>\n",
       "      <td>480</td>\n",
       "      <td>unknown</td>\n",
       "      <td>1993</td>\n",
       "      <td>manual</td>\n",
       "      <td>0</td>\n",
       "      <td>golf</td>\n",
       "      <td>150000</td>\n",
       "      <td>0</td>\n",
       "      <td>petrol</td>\n",
       "      <td>volkswagen</td>\n",
       "      <td>unknown</td>\n",
       "      <td>2016-03-24</td>\n",
       "      <td>0</td>\n",
       "      <td>70435</td>\n",
       "      <td>2016-04-07 03:16:57</td>\n",
       "    </tr>\n",
       "    <tr>\n",
       "      <th>1</th>\n",
       "      <td>2016-03-24 10:58:45</td>\n",
       "      <td>18300</td>\n",
       "      <td>coupe</td>\n",
       "      <td>2011</td>\n",
       "      <td>manual</td>\n",
       "      <td>190</td>\n",
       "      <td>unknown</td>\n",
       "      <td>125000</td>\n",
       "      <td>5</td>\n",
       "      <td>gasoline</td>\n",
       "      <td>audi</td>\n",
       "      <td>yes</td>\n",
       "      <td>2016-03-24</td>\n",
       "      <td>0</td>\n",
       "      <td>66954</td>\n",
       "      <td>2016-04-07 01:46:50</td>\n",
       "    </tr>\n",
       "    <tr>\n",
       "      <th>2</th>\n",
       "      <td>2016-03-14 12:52:21</td>\n",
       "      <td>9800</td>\n",
       "      <td>suv</td>\n",
       "      <td>2004</td>\n",
       "      <td>auto</td>\n",
       "      <td>163</td>\n",
       "      <td>grand</td>\n",
       "      <td>125000</td>\n",
       "      <td>8</td>\n",
       "      <td>gasoline</td>\n",
       "      <td>jeep</td>\n",
       "      <td>unknown</td>\n",
       "      <td>2016-03-14</td>\n",
       "      <td>0</td>\n",
       "      <td>90480</td>\n",
       "      <td>2016-04-05 12:47:46</td>\n",
       "    </tr>\n",
       "    <tr>\n",
       "      <th>3</th>\n",
       "      <td>2016-03-17 16:54:04</td>\n",
       "      <td>1500</td>\n",
       "      <td>small</td>\n",
       "      <td>2001</td>\n",
       "      <td>manual</td>\n",
       "      <td>75</td>\n",
       "      <td>golf</td>\n",
       "      <td>150000</td>\n",
       "      <td>6</td>\n",
       "      <td>petrol</td>\n",
       "      <td>volkswagen</td>\n",
       "      <td>no</td>\n",
       "      <td>2016-03-17</td>\n",
       "      <td>0</td>\n",
       "      <td>91074</td>\n",
       "      <td>2016-03-17 17:40:17</td>\n",
       "    </tr>\n",
       "    <tr>\n",
       "      <th>4</th>\n",
       "      <td>2016-03-31 17:25:20</td>\n",
       "      <td>3600</td>\n",
       "      <td>small</td>\n",
       "      <td>2008</td>\n",
       "      <td>manual</td>\n",
       "      <td>69</td>\n",
       "      <td>fabia</td>\n",
       "      <td>90000</td>\n",
       "      <td>7</td>\n",
       "      <td>gasoline</td>\n",
       "      <td>skoda</td>\n",
       "      <td>no</td>\n",
       "      <td>2016-03-31</td>\n",
       "      <td>0</td>\n",
       "      <td>60437</td>\n",
       "      <td>2016-04-06 10:17:21</td>\n",
       "    </tr>\n",
       "  </tbody>\n",
       "</table>\n",
       "</div>"
      ],
      "text/plain": [
       "          datecrawled  price vehicletype  registrationyear gearbox  power  \\\n",
       "0 2016-03-24 11:52:17    480     unknown              1993  manual      0   \n",
       "1 2016-03-24 10:58:45  18300       coupe              2011  manual    190   \n",
       "2 2016-03-14 12:52:21   9800         suv              2004    auto    163   \n",
       "3 2016-03-17 16:54:04   1500       small              2001  manual     75   \n",
       "4 2016-03-31 17:25:20   3600       small              2008  manual     69   \n",
       "\n",
       "     model  kilometer  registrationmonth  fueltype       brand notrepaired  \\\n",
       "0     golf     150000                  0    petrol  volkswagen     unknown   \n",
       "1  unknown     125000                  5  gasoline        audi         yes   \n",
       "2    grand     125000                  8  gasoline        jeep     unknown   \n",
       "3     golf     150000                  6    petrol  volkswagen          no   \n",
       "4    fabia      90000                  7  gasoline       skoda          no   \n",
       "\n",
       "  datecreated  numberofpictures  postalcode            lastseen  \n",
       "0  2016-03-24                 0       70435 2016-04-07 03:16:57  \n",
       "1  2016-03-24                 0       66954 2016-04-07 01:46:50  \n",
       "2  2016-03-14                 0       90480 2016-04-05 12:47:46  \n",
       "3  2016-03-17                 0       91074 2016-03-17 17:40:17  \n",
       "4  2016-03-31                 0       60437 2016-04-06 10:17:21  "
      ]
     },
     "metadata": {},
     "output_type": "display_data"
    },
    {
     "name": "stdout",
     "output_type": "stream",
     "text": [
      "Кол-во строк с пропусками после заполнения пропусков:\n",
      "\n"
     ]
    },
    {
     "data": {
      "text/plain": [
       "datecrawled          0\n",
       "price                0\n",
       "vehicletype          0\n",
       "registrationyear     0\n",
       "gearbox              0\n",
       "power                0\n",
       "model                0\n",
       "kilometer            0\n",
       "registrationmonth    0\n",
       "fueltype             0\n",
       "brand                0\n",
       "notrepaired          0\n",
       "datecreated          0\n",
       "numberofpictures     0\n",
       "postalcode           0\n",
       "lastseen             0\n",
       "dtype: int64"
      ]
     },
     "metadata": {},
     "output_type": "display_data"
    }
   ],
   "source": [
    "# делаем заполнение пропусков в категор признаках на unknown\n",
    "autos.vehicletype = autos.vehicletype.fillna('unknown')\n",
    "autos.gearbox = autos.gearbox.fillna('unknown')\n",
    "autos.model = autos.model.fillna('unknown')\n",
    "autos.fueltype = autos.fueltype.fillna('unknown')\n",
    "autos.notrepaired = autos.notrepaired.fillna('unknown')\n",
    "\n",
    "print('Датасет после заполнения пропусков:')\n",
    "display(autos.head(5))\n",
    "\n",
    "print('Кол-во строк с пропусками после заполнения пропусков:\\n')\n",
    "display(autos.isnull().sum())"
   ]
  },
  {
   "cell_type": "markdown",
   "metadata": {},
   "source": [
    "<a id='Link4'></a>"
   ]
  },
  {
   "cell_type": "markdown",
   "metadata": {},
   "source": [
    "### Обработка дубликатов"
   ]
  },
  {
   "cell_type": "code",
   "execution_count": 5,
   "metadata": {
    "scrolled": false
   },
   "outputs": [
    {
     "name": "stdout",
     "output_type": "stream",
     "text": [
      "Уникальные значения столбца vehicletype: \n",
      "['unknown' 'coupe' 'suv' 'small' 'sedan' 'convertible' 'bus' 'wagon'\n",
      " 'other']\n",
      "\n",
      "Уникальные значения столбца gearbox: \n",
      "['manual' 'auto' 'unknown']\n",
      "\n",
      "Уникальные значения столбца model: \n",
      "['golf' 'unknown' 'grand' 'fabia' '3er' '2_reihe' 'other' 'c_max'\n",
      " '3_reihe' 'passat' 'navara' 'ka' 'polo' 'twingo' 'a_klasse' 'scirocco'\n",
      " '5er' 'meriva' 'arosa' 'c4' 'civic' 'transporter' 'punto' 'e_klasse'\n",
      " 'clio' 'kadett' 'kangoo' 'corsa' 'one' 'fortwo' '1er' 'b_klasse' 'signum'\n",
      " 'astra' 'a8' 'jetta' 'fiesta' 'c_klasse' 'micra' 'vito' 'sprinter' '156'\n",
      " 'escort' 'forester' 'xc_reihe' 'scenic' 'a4' 'a1' 'insignia' 'combo'\n",
      " 'focus' 'tt' 'a6' 'jazz' 'omega' 'slk' '7er' '80' '147' '100' 'z_reihe'\n",
      " 'sportage' 'sorento' 'v40' 'ibiza' 'mustang' 'eos' 'touran' 'getz' 'a3'\n",
      " 'almera' 'megane' 'lupo' 'r19' 'zafira' 'caddy' 'mondeo' 'cordoba' 'colt'\n",
      " 'impreza' 'vectra' 'berlingo' 'tiguan' 'i_reihe' 'espace' 'sharan'\n",
      " '6_reihe' 'panda' 'up' 'seicento' 'ceed' '5_reihe' 'yeti' 'octavia' 'mii'\n",
      " 'rx_reihe' '6er' 'modus' 'fox' 'matiz' 'beetle' 'c1' 'rio' 'touareg'\n",
      " 'logan' 'spider' 'cuore' 's_max' 'a2' 'galaxy' 'c3' 'viano' 's_klasse'\n",
      " '1_reihe' 'avensis' 'roomster' 'sl' 'kaefer' 'santa' 'cooper' 'leon'\n",
      " '4_reihe' 'a5' '500' 'laguna' 'ptcruiser' 'clk' 'primera' 'x_reihe'\n",
      " 'exeo' '159' 'transit' 'juke' 'qashqai' 'carisma' 'accord' 'corolla'\n",
      " 'lanos' 'phaeton' 'verso' 'swift' 'rav' 'picanto' 'boxster' 'kalos'\n",
      " 'superb' 'stilo' 'alhambra' 'mx_reihe' 'roadster' 'ypsilon' 'cayenne'\n",
      " 'galant' 'justy' '90' 'sirion' 'crossfire' 'agila' 'duster' 'cr_reihe'\n",
      " 'v50' 'c_reihe' 'v_klasse' 'm_klasse' 'yaris' 'c5' 'aygo' 'cc' 'carnival'\n",
      " 'fusion' '911' 'bora' 'forfour' 'm_reihe' 'cl' 'tigra' '300c' 'spark'\n",
      " 'v70' 'kuga' 'x_type' 'ducato' 's_type' 'x_trail' 'toledo' 'altea'\n",
      " 'voyager' 'calibra' 'bravo' 'antara' 'tucson' 'citigo' 'jimny' 'wrangler'\n",
      " 'lybra' 'q7' 'lancer' 'captiva' 'c2' 'discovery' 'freelander' 'sandero'\n",
      " 'note' '900' 'cherokee' 'clubman' 'samara' 'defender' '601' 'cx_reihe'\n",
      " 'legacy' 'pajero' 'auris' 'niva' 's60' 'nubira' 'vivaro' 'g_klasse'\n",
      " 'lodgy' '850' 'range_rover' 'q3' 'serie_2' 'glk' 'charade' 'croma'\n",
      " 'outlander' 'doblo' 'musa' 'move' '9000' 'v60' '145' 'aveo' '200' 'b_max'\n",
      " 'range_rover_sport' 'terios' 'rangerover' 'q5' 'range_rover_evoque'\n",
      " 'materia' 'delta' 'gl' 'kalina' 'amarok' 'elefantino' 'i3' 'kappa'\n",
      " 'serie_3' 'serie_1']\n",
      "\n",
      "Уникальные значения столбца fueltype: \n",
      "['petrol' 'gasoline' 'unknown' 'lpg' 'other' 'hybrid' 'cng' 'electric']\n",
      "\n",
      "Уникальные значения столбца brand: \n",
      "['volkswagen' 'audi' 'jeep' 'skoda' 'bmw' 'peugeot' 'ford' 'mazda'\n",
      " 'nissan' 'renault' 'mercedes_benz' 'opel' 'seat' 'citroen' 'honda' 'fiat'\n",
      " 'mini' 'smart' 'hyundai' 'sonstige_autos' 'alfa_romeo' 'subaru' 'volvo'\n",
      " 'mitsubishi' 'kia' 'suzuki' 'lancia' 'toyota' 'chevrolet' 'dacia'\n",
      " 'daihatsu' 'trabant' 'saab' 'chrysler' 'jaguar' 'daewoo' 'porsche'\n",
      " 'rover' 'land_rover' 'lada']\n",
      "\n",
      "Уникальные значения столбца notrepaired: \n",
      "['unknown' 'yes' 'no']\n",
      "\n"
     ]
    }
   ],
   "source": [
    "# идем по категориальным признакам и смотрим уникальные значения\n",
    "# для определения наличия дубликатов по значению/смыслу в категориях\n",
    "for col in [c for c in autos.columns if autos[c].dtype.name == 'object']:\n",
    "    print('Уникальные значения столбца {}: '.format(col))\n",
    "    print(autos[col].unique())\n",
    "    print()"
   ]
  },
  {
   "cell_type": "markdown",
   "metadata": {},
   "source": [
    "- **По категориям дубликатов не наблюдаем**\n",
    "- Проверим дубликаты по строкам"
   ]
  },
  {
   "cell_type": "code",
   "execution_count": 6,
   "metadata": {},
   "outputs": [
    {
     "name": "stdout",
     "output_type": "stream",
     "text": [
      "Количество строк-дубликатов autos:  4\n"
     ]
    },
    {
     "data": {
      "text/html": [
       "<div>\n",
       "<style scoped>\n",
       "    .dataframe tbody tr th:only-of-type {\n",
       "        vertical-align: middle;\n",
       "    }\n",
       "\n",
       "    .dataframe tbody tr th {\n",
       "        vertical-align: top;\n",
       "    }\n",
       "\n",
       "    .dataframe thead th {\n",
       "        text-align: right;\n",
       "    }\n",
       "</style>\n",
       "<table border=\"1\" class=\"dataframe\">\n",
       "  <thead>\n",
       "    <tr style=\"text-align: right;\">\n",
       "      <th></th>\n",
       "      <th>datecrawled</th>\n",
       "      <th>price</th>\n",
       "      <th>vehicletype</th>\n",
       "      <th>registrationyear</th>\n",
       "      <th>gearbox</th>\n",
       "      <th>power</th>\n",
       "      <th>model</th>\n",
       "      <th>kilometer</th>\n",
       "      <th>registrationmonth</th>\n",
       "      <th>fueltype</th>\n",
       "      <th>brand</th>\n",
       "      <th>notrepaired</th>\n",
       "      <th>datecreated</th>\n",
       "      <th>numberofpictures</th>\n",
       "      <th>postalcode</th>\n",
       "      <th>lastseen</th>\n",
       "    </tr>\n",
       "  </thead>\n",
       "  <tbody>\n",
       "    <tr>\n",
       "      <th>171088</th>\n",
       "      <td>2016-03-08 18:42:48</td>\n",
       "      <td>1799</td>\n",
       "      <td>coupe</td>\n",
       "      <td>1999</td>\n",
       "      <td>auto</td>\n",
       "      <td>193</td>\n",
       "      <td>clk</td>\n",
       "      <td>20000</td>\n",
       "      <td>7</td>\n",
       "      <td>petrol</td>\n",
       "      <td>mercedes_benz</td>\n",
       "      <td>no</td>\n",
       "      <td>2016-03-08</td>\n",
       "      <td>0</td>\n",
       "      <td>89518</td>\n",
       "      <td>2016-03-09 09:46:57</td>\n",
       "    </tr>\n",
       "    <tr>\n",
       "      <th>231258</th>\n",
       "      <td>2016-03-28 00:56:10</td>\n",
       "      <td>1000</td>\n",
       "      <td>small</td>\n",
       "      <td>2002</td>\n",
       "      <td>manual</td>\n",
       "      <td>83</td>\n",
       "      <td>other</td>\n",
       "      <td>150000</td>\n",
       "      <td>1</td>\n",
       "      <td>petrol</td>\n",
       "      <td>suzuki</td>\n",
       "      <td>no</td>\n",
       "      <td>2016-03-28</td>\n",
       "      <td>0</td>\n",
       "      <td>66589</td>\n",
       "      <td>2016-03-28 08:46:21</td>\n",
       "    </tr>\n",
       "    <tr>\n",
       "      <th>258109</th>\n",
       "      <td>2016-04-03 09:01:15</td>\n",
       "      <td>4699</td>\n",
       "      <td>coupe</td>\n",
       "      <td>2003</td>\n",
       "      <td>auto</td>\n",
       "      <td>218</td>\n",
       "      <td>clk</td>\n",
       "      <td>125000</td>\n",
       "      <td>6</td>\n",
       "      <td>petrol</td>\n",
       "      <td>mercedes_benz</td>\n",
       "      <td>yes</td>\n",
       "      <td>2016-04-03</td>\n",
       "      <td>0</td>\n",
       "      <td>75196</td>\n",
       "      <td>2016-04-07 09:44:54</td>\n",
       "    </tr>\n",
       "    <tr>\n",
       "      <th>325651</th>\n",
       "      <td>2016-03-18 18:46:15</td>\n",
       "      <td>1999</td>\n",
       "      <td>wagon</td>\n",
       "      <td>2001</td>\n",
       "      <td>manual</td>\n",
       "      <td>131</td>\n",
       "      <td>passat</td>\n",
       "      <td>150000</td>\n",
       "      <td>7</td>\n",
       "      <td>gasoline</td>\n",
       "      <td>volkswagen</td>\n",
       "      <td>no</td>\n",
       "      <td>2016-03-18</td>\n",
       "      <td>0</td>\n",
       "      <td>36391</td>\n",
       "      <td>2016-03-18 18:46:15</td>\n",
       "    </tr>\n",
       "  </tbody>\n",
       "</table>\n",
       "</div>"
      ],
      "text/plain": [
       "               datecrawled  price vehicletype  registrationyear gearbox  \\\n",
       "171088 2016-03-08 18:42:48   1799       coupe              1999    auto   \n",
       "231258 2016-03-28 00:56:10   1000       small              2002  manual   \n",
       "258109 2016-04-03 09:01:15   4699       coupe              2003    auto   \n",
       "325651 2016-03-18 18:46:15   1999       wagon              2001  manual   \n",
       "\n",
       "        power   model  kilometer  registrationmonth  fueltype          brand  \\\n",
       "171088    193     clk      20000                  7    petrol  mercedes_benz   \n",
       "231258     83   other     150000                  1    petrol         suzuki   \n",
       "258109    218     clk     125000                  6    petrol  mercedes_benz   \n",
       "325651    131  passat     150000                  7  gasoline     volkswagen   \n",
       "\n",
       "       notrepaired datecreated  numberofpictures  postalcode  \\\n",
       "171088          no  2016-03-08                 0       89518   \n",
       "231258          no  2016-03-28                 0       66589   \n",
       "258109         yes  2016-04-03                 0       75196   \n",
       "325651          no  2016-03-18                 0       36391   \n",
       "\n",
       "                  lastseen  \n",
       "171088 2016-03-09 09:46:57  \n",
       "231258 2016-03-28 08:46:21  \n",
       "258109 2016-04-07 09:44:54  \n",
       "325651 2016-03-18 18:46:15  "
      ]
     },
     "execution_count": 6,
     "metadata": {},
     "output_type": "execute_result"
    }
   ],
   "source": [
    "# проверим дубликаты по строкам\n",
    "print('Количество строк-дубликатов autos: ', autos.duplicated().sum())\n",
    "autos[autos.duplicated()]"
   ]
  },
  {
   "cell_type": "markdown",
   "metadata": {},
   "source": [
    "- Удалим строки-дубликаты. Видимо, произошло задвоение по технологическим причинам"
   ]
  },
  {
   "cell_type": "code",
   "execution_count": 7,
   "metadata": {},
   "outputs": [
    {
     "name": "stdout",
     "output_type": "stream",
     "text": [
      "Количество строк-дубликатов autos:  0\n",
      "Длина датасета после удаления строк-дубликатов: 354365\n"
     ]
    }
   ],
   "source": [
    "# удаляем строки-дубликаты\n",
    "autos = autos.drop_duplicates().reset_index(drop=True)\n",
    "print('Количество строк-дубликатов autos: ', autos.duplicated().sum())\n",
    "print('Длина датасета после удаления строк-дубликатов:', len(autos))"
   ]
  },
  {
   "cell_type": "markdown",
   "metadata": {},
   "source": [
    "### Вывод\n",
    "- Названия столбцов привели к нижнему регистру\n",
    "- Столбцы-даты с типом object сделали датой\n",
    "- **Обработали пропуски: все пропуски в категориальных признаках заменили на unknown**\n",
    "- **Обработали дубликаты: удалили 4 строки-дубликата**"
   ]
  },
  {
   "cell_type": "markdown",
   "metadata": {},
   "source": [
    "## 3. Исследовательский анализ данных"
   ]
  },
  {
   "cell_type": "code",
   "execution_count": 8,
   "metadata": {},
   "outputs": [],
   "source": [
    "def fun_ax(ax, plot, x, y=None, title=None,\n",
    "           x_label=None, y_label=None,\n",
    "           color=None, x_range=None):\n",
    "    \"\"\" функция для рисования plt.subplots\n",
    "    \n",
    "    параметры:\n",
    "     - subplot\n",
    "     - тип графика\n",
    "     - выборка для оси X\n",
    "     - выборка для оси Y\n",
    "     - заголовок     \n",
    "     - название для оси Х\n",
    "     - название для оси Y\n",
    "     - цвет\n",
    "     - x_min, x_max - диапазон для оси X\n",
    "    \"\"\"\n",
    "    \n",
    "    # boxplot\n",
    "    if plot == 'box':\n",
    "        ax.boxplot(x, vert=False)\n",
    "\n",
    "    # гистограмма\n",
    "    elif plot == 'hist':\n",
    "        ax.hist(x, color=color, histtype='stepfilled',\n",
    "                bins=round(len(x) ** 0.5),\n",
    "                range=x_range)\n",
    "    \n",
    "    # если bar\n",
    "    elif plot == 'bar':\n",
    "        ax.bar(x, y, color=color)\n",
    "    \n",
    "    # скаттер-плот\n",
    "    elif plot == 'scatter':\n",
    "        ax.scatter(x, y, s=1, c=color)   \n",
    "    \n",
    "    # украшение графика\n",
    "    ax.set_xlabel(x_label)\n",
    "    ax.set_ylabel(y_label)\n",
    "    ax.set_title(title, fontsize=12)\n",
    "        \n",
    "    return None"
   ]
  },
  {
   "cell_type": "markdown",
   "metadata": {},
   "source": [
    "<a id='Link5'></a>"
   ]
  },
  {
   "cell_type": "markdown",
   "metadata": {},
   "source": [
    "### Исследуем выбросы и аномалии"
   ]
  },
  {
   "cell_type": "markdown",
   "metadata": {},
   "source": [
    "- Изучим выбросы и аномалии в количественных переменных"
   ]
  },
  {
   "cell_type": "code",
   "execution_count": 9,
   "metadata": {
    "scrolled": false
   },
   "outputs": [
    {
     "data": {
      "image/png": "[encoded data removed]",
      "text/plain": [
       "<Figure size 864x1728 with 12 Axes>"
      ]
     },
     "metadata": {
      "needs_background": "light"
     },
     "output_type": "display_data"
    }
   ],
   "source": [
    "fig = plt.figure(figsize=(12,24))\n",
    "\n",
    "# index строки, в которой будет отображаться текущий график\n",
    "ind=0\n",
    "# идем по всем количественным переменным, кроме postalcode (почтового индекса)\n",
    "for col in [c for c in autos.columns if (('int' in autos[c].dtype.name) | ('float' in autos[c].dtype.name)) \\\n",
    "           and (c != 'postalcode')]:\n",
    "\n",
    "    # создаем subplot\n",
    "    ax = plt.subplot2grid((6,2), (ind,0))\n",
    "    # рисуем boxplot\n",
    "    fun_ax(ax, 'box', autos[col],\n",
    "           title='Boxplot: ' + col,\n",
    "           x_label=col)\n",
    "       \n",
    "    # создаем subplot\n",
    "    ax = plt.subplot2grid((6,2), (ind,1))\n",
    "    # рисуем hist\n",
    "    if col in ('power', 'registrationyear'):\n",
    "        # используем квартили для min и max\n",
    "        fun_ax(ax, 'hist', autos[col],\n",
    "               title='Гистограмма: ' + col + ' (между 1 и 3 квартилем)',\n",
    "               x_label=col,\n",
    "               x_range=(autos[col].quantile(0.25),\n",
    "                        autos[col].quantile(0.75)))\n",
    "    else:\n",
    "        fun_ax(ax, 'hist', autos[col],\n",
    "               title='Гистограмма: ' + col,\n",
    "               x_label=col)\n",
    "    \n",
    "    # увеличиваем индекс строки\n",
    "    ind += 1\n",
    "    \n",
    "fig.tight_layout()"
   ]
  },
  {
   "cell_type": "markdown",
   "metadata": {},
   "source": [
    "- *Видим явные аномалии в `registrationyear` и `power`*. **Если разрабатываемое приложение перед прогнозированием цены машины будет проверять введенные данные на релистичность, то имеющиеся аномалии в исторических данных имеет смысл удалить, чтобы они не участвовали в обучении модели**.\n",
    "- `power` в датасете выражается в лошадиных силах. На сегодняшний день самые мощные машины - около 5000 л.с. Поэтому всё, что выше этого значения, удалим.\n",
    "- `registrationyear`:\n",
    "    - Оставим минимальные значения >= q1-3iqr. Всё, что меньше, удалим.\n",
    "    - Оставим максимальные значения <= 2020. Всё, что выше, удалим.\n",
    "- `numberofpictures` имеет только значение 0. При построении модели не имеет смысл учиывать этот признак."
   ]
  },
  {
   "cell_type": "code",
   "execution_count": 10,
   "metadata": {},
   "outputs": [
    {
     "name": "stdout",
     "output_type": "stream",
     "text": [
      "Длина датасета после удаления аномалий: 352341\n"
     ]
    }
   ],
   "source": [
    "# минимальный год регистрации авто для удаления аномалий\n",
    "# q1-3iqr\n",
    "anomaly_min_registrationyear = autos.registrationyear.quantile(0.25) - 3 * \\\n",
    "                                (autos.registrationyear.quantile(0.75) - \\\n",
    "                                  autos.registrationyear.quantile(0.25))\n",
    "\n",
    "# создаем новый df без аномальных значений registrationyear и power\n",
    "autos_new = autos.query(\"registrationyear <= 2020 and registrationyear >= @anomaly_min_registrationyear \" +\n",
    "                        \"and power <= 5000\").copy().reset_index()\n",
    "\n",
    "print('Длина датасета после удаления аномалий:', len(autos_new))"
   ]
  },
  {
   "cell_type": "markdown",
   "metadata": {},
   "source": [
    "<a id='Link6'></a>"
   ]
  },
  {
   "cell_type": "markdown",
   "metadata": {},
   "source": [
    "### Изучим взаимосвязи между количественными переменными. Построим матрицу корреляции"
   ]
  },
  {
   "cell_type": "code",
   "execution_count": 11,
   "metadata": {},
   "outputs": [
    {
     "data": {
      "text/html": [
       "<div>\n",
       "<style scoped>\n",
       "    .dataframe tbody tr th:only-of-type {\n",
       "        vertical-align: middle;\n",
       "    }\n",
       "\n",
       "    .dataframe tbody tr th {\n",
       "        vertical-align: top;\n",
       "    }\n",
       "\n",
       "    .dataframe thead th {\n",
       "        text-align: right;\n",
       "    }\n",
       "</style>\n",
       "<table border=\"1\" class=\"dataframe\">\n",
       "  <thead>\n",
       "    <tr style=\"text-align: right;\">\n",
       "      <th></th>\n",
       "      <th>price</th>\n",
       "      <th>registrationyear</th>\n",
       "      <th>power</th>\n",
       "      <th>kilometer</th>\n",
       "      <th>registrationmonth</th>\n",
       "    </tr>\n",
       "  </thead>\n",
       "  <tbody>\n",
       "    <tr>\n",
       "      <th>price</th>\n",
       "      <td>1.000000</td>\n",
       "      <td>0.421352</td>\n",
       "      <td>0.400399</td>\n",
       "      <td>-0.336835</td>\n",
       "      <td>0.110763</td>\n",
       "    </tr>\n",
       "    <tr>\n",
       "      <th>registrationyear</th>\n",
       "      <td>0.421352</td>\n",
       "      <td>1.000000</td>\n",
       "      <td>0.078108</td>\n",
       "      <td>-0.233896</td>\n",
       "      <td>0.037255</td>\n",
       "    </tr>\n",
       "    <tr>\n",
       "      <th>power</th>\n",
       "      <td>0.400399</td>\n",
       "      <td>0.078108</td>\n",
       "      <td>1.000000</td>\n",
       "      <td>0.065381</td>\n",
       "      <td>0.106577</td>\n",
       "    </tr>\n",
       "    <tr>\n",
       "      <th>kilometer</th>\n",
       "      <td>-0.336835</td>\n",
       "      <td>-0.233896</td>\n",
       "      <td>0.065381</td>\n",
       "      <td>1.000000</td>\n",
       "      <td>0.004202</td>\n",
       "    </tr>\n",
       "    <tr>\n",
       "      <th>registrationmonth</th>\n",
       "      <td>0.110763</td>\n",
       "      <td>0.037255</td>\n",
       "      <td>0.106577</td>\n",
       "      <td>0.004202</td>\n",
       "      <td>1.000000</td>\n",
       "    </tr>\n",
       "  </tbody>\n",
       "</table>\n",
       "</div>"
      ],
      "text/plain": [
       "                      price  registrationyear     power  kilometer  \\\n",
       "price              1.000000          0.421352  0.400399  -0.336835   \n",
       "registrationyear   0.421352          1.000000  0.078108  -0.233896   \n",
       "power              0.400399          0.078108  1.000000   0.065381   \n",
       "kilometer         -0.336835         -0.233896  0.065381   1.000000   \n",
       "registrationmonth  0.110763          0.037255  0.106577   0.004202   \n",
       "\n",
       "                   registrationmonth  \n",
       "price                       0.110763  \n",
       "registrationyear            0.037255  \n",
       "power                       0.106577  \n",
       "kilometer                   0.004202  \n",
       "registrationmonth           1.000000  "
      ]
     },
     "execution_count": 11,
     "metadata": {},
     "output_type": "execute_result"
    }
   ],
   "source": [
    "# построим матрицу корреляции между количественными признаками\n",
    "autos_new[['price', 'registrationyear', 'power', 'kilometer', 'registrationmonth']].corr()"
   ]
  },
  {
   "cell_type": "markdown",
   "metadata": {},
   "source": [
    "### Вывод\n",
    " - Удалили аномальные значения в `registrationyear` и `power`\n",
    " - Изучили матрицу корреляции между количественными переменными. Отметили:\n",
    "   - положительную корреляцию между `price` и `registrationyear`\n",
    "   - положительную корреляцию между `price` и `power`\n",
    "   - слабую отрицательную корреляцию между `price` и `kilometer`\n",
    "   - слабую отрицательную корреляцию между `registrationyear` и `kilometer`\n",
    "   - **мультиколлинеарности и утечки целевого признака не наблюдаем**"
   ]
  },
  {
   "cell_type": "markdown",
   "metadata": {},
   "source": [
    "## 4. Подготовка признаков для построения моделей"
   ]
  },
  {
   "cell_type": "markdown",
   "metadata": {},
   "source": [
    "<a id='Link7'></a>"
   ]
  },
  {
   "cell_type": "markdown",
   "metadata": {},
   "source": [
    "### Признаки, которые будут участвовать в построении модели для прогонозирования целевого признака `price`: `vehicletype`, `registrationyear`, `gearbox`, `power`, `model`, `kilometer`, `registrationmonth`, `fueltype`, `brand`, `notrepaired`"
   ]
  },
  {
   "cell_type": "markdown",
   "metadata": {},
   "source": [
    "#### Определяем список категориальных `category_columns`, закодированных  категориальных `category_coded_columns`, и количественных `numeric_columns` признаков"
   ]
  },
  {
   "cell_type": "code",
   "execution_count": 12,
   "metadata": {},
   "outputs": [],
   "source": [
    "# определяем список категориальных признаков\n",
    "category_columns = ['vehicletype', 'gearbox', 'model', 'fueltype', 'brand', 'notrepaired']\n",
    "\n",
    "# определяем список закодированных категориальных признаков\n",
    "# методом Порядковое кодирование\n",
    "category_columns_ordinal = [c + '_ordinal' for c in category_columns]\n",
    "\n",
    "# определим список закодированных категориальных признаков\n",
    "# методом Прямое кодирование OHE\n",
    "# названия столбцов внесем после преобразования OHE\n",
    "category_columns_ohe = []\n",
    "\n",
    "# определяем список количественных признаков\n",
    "numeric_columns = ['registrationyear', 'power', 'kilometer', 'registrationmonth']"
   ]
  },
  {
   "cell_type": "markdown",
   "metadata": {},
   "source": [
    "### **Порядковое кодирование**"
   ]
  },
  {
   "cell_type": "code",
   "execution_count": 13,
   "metadata": {
    "scrolled": false
   },
   "outputs": [
    {
     "name": "stdout",
     "output_type": "stream",
     "text": [
      "\n",
      "Проверяем типы данных категориальных признаков и закодированных категориальных признаков:\n",
      "\n",
      "vehicletype            category\n",
      "gearbox                category\n",
      "model                  category\n",
      "fueltype               category\n",
      "brand                  category\n",
      "notrepaired            category\n",
      "vehicletype_ordinal       int64\n",
      "gearbox_ordinal           int64\n",
      "model_ordinal             int64\n",
      "fueltype_ordinal          int64\n",
      "brand_ordinal             int64\n",
      "notrepaired_ordinal       int64\n",
      "dtype: object\n",
      "\n",
      "Провели порядковое кодирование категориальных признаков. Проверим:\n",
      "\n",
      "Признаки ДО порядкового кодирования\n"
     ]
    },
    {
     "data": {
      "text/html": [
       "<div>\n",
       "<style scoped>\n",
       "    .dataframe tbody tr th:only-of-type {\n",
       "        vertical-align: middle;\n",
       "    }\n",
       "\n",
       "    .dataframe tbody tr th {\n",
       "        vertical-align: top;\n",
       "    }\n",
       "\n",
       "    .dataframe thead th {\n",
       "        text-align: right;\n",
       "    }\n",
       "</style>\n",
       "<table border=\"1\" class=\"dataframe\">\n",
       "  <thead>\n",
       "    <tr style=\"text-align: right;\">\n",
       "      <th></th>\n",
       "      <th>vehicletype</th>\n",
       "      <th>gearbox</th>\n",
       "      <th>model</th>\n",
       "      <th>fueltype</th>\n",
       "      <th>brand</th>\n",
       "      <th>notrepaired</th>\n",
       "    </tr>\n",
       "  </thead>\n",
       "  <tbody>\n",
       "    <tr>\n",
       "      <th>0</th>\n",
       "      <td>unknown</td>\n",
       "      <td>manual</td>\n",
       "      <td>golf</td>\n",
       "      <td>petrol</td>\n",
       "      <td>volkswagen</td>\n",
       "      <td>unknown</td>\n",
       "    </tr>\n",
       "    <tr>\n",
       "      <th>1</th>\n",
       "      <td>coupe</td>\n",
       "      <td>manual</td>\n",
       "      <td>unknown</td>\n",
       "      <td>gasoline</td>\n",
       "      <td>audi</td>\n",
       "      <td>yes</td>\n",
       "    </tr>\n",
       "    <tr>\n",
       "      <th>2</th>\n",
       "      <td>suv</td>\n",
       "      <td>auto</td>\n",
       "      <td>grand</td>\n",
       "      <td>gasoline</td>\n",
       "      <td>jeep</td>\n",
       "      <td>unknown</td>\n",
       "    </tr>\n",
       "    <tr>\n",
       "      <th>3</th>\n",
       "      <td>small</td>\n",
       "      <td>manual</td>\n",
       "      <td>golf</td>\n",
       "      <td>petrol</td>\n",
       "      <td>volkswagen</td>\n",
       "      <td>no</td>\n",
       "    </tr>\n",
       "    <tr>\n",
       "      <th>4</th>\n",
       "      <td>small</td>\n",
       "      <td>manual</td>\n",
       "      <td>fabia</td>\n",
       "      <td>gasoline</td>\n",
       "      <td>skoda</td>\n",
       "      <td>no</td>\n",
       "    </tr>\n",
       "  </tbody>\n",
       "</table>\n",
       "</div>"
      ],
      "text/plain": [
       "  vehicletype gearbox    model  fueltype       brand notrepaired\n",
       "0     unknown  manual     golf    petrol  volkswagen     unknown\n",
       "1       coupe  manual  unknown  gasoline        audi         yes\n",
       "2         suv    auto    grand  gasoline        jeep     unknown\n",
       "3       small  manual     golf    petrol  volkswagen          no\n",
       "4       small  manual    fabia  gasoline       skoda          no"
      ]
     },
     "metadata": {},
     "output_type": "display_data"
    },
    {
     "name": "stdout",
     "output_type": "stream",
     "text": [
      "\n",
      "Признаки ПОСЛЕ порядкового кодирования\n"
     ]
    },
    {
     "data": {
      "text/html": [
       "<div>\n",
       "<style scoped>\n",
       "    .dataframe tbody tr th:only-of-type {\n",
       "        vertical-align: middle;\n",
       "    }\n",
       "\n",
       "    .dataframe tbody tr th {\n",
       "        vertical-align: top;\n",
       "    }\n",
       "\n",
       "    .dataframe thead th {\n",
       "        text-align: right;\n",
       "    }\n",
       "</style>\n",
       "<table border=\"1\" class=\"dataframe\">\n",
       "  <thead>\n",
       "    <tr style=\"text-align: right;\">\n",
       "      <th></th>\n",
       "      <th>vehicletype_ordinal</th>\n",
       "      <th>gearbox_ordinal</th>\n",
       "      <th>model_ordinal</th>\n",
       "      <th>fueltype_ordinal</th>\n",
       "      <th>brand_ordinal</th>\n",
       "      <th>notrepaired_ordinal</th>\n",
       "    </tr>\n",
       "  </thead>\n",
       "  <tbody>\n",
       "    <tr>\n",
       "      <th>0</th>\n",
       "      <td>7</td>\n",
       "      <td>1</td>\n",
       "      <td>116</td>\n",
       "      <td>6</td>\n",
       "      <td>38</td>\n",
       "      <td>1</td>\n",
       "    </tr>\n",
       "    <tr>\n",
       "      <th>1</th>\n",
       "      <td>2</td>\n",
       "      <td>1</td>\n",
       "      <td>228</td>\n",
       "      <td>2</td>\n",
       "      <td>1</td>\n",
       "      <td>2</td>\n",
       "    </tr>\n",
       "    <tr>\n",
       "      <th>2</th>\n",
       "      <td>6</td>\n",
       "      <td>0</td>\n",
       "      <td>117</td>\n",
       "      <td>2</td>\n",
       "      <td>14</td>\n",
       "      <td>1</td>\n",
       "    </tr>\n",
       "    <tr>\n",
       "      <th>3</th>\n",
       "      <td>5</td>\n",
       "      <td>1</td>\n",
       "      <td>116</td>\n",
       "      <td>6</td>\n",
       "      <td>38</td>\n",
       "      <td>0</td>\n",
       "    </tr>\n",
       "    <tr>\n",
       "      <th>4</th>\n",
       "      <td>5</td>\n",
       "      <td>1</td>\n",
       "      <td>101</td>\n",
       "      <td>2</td>\n",
       "      <td>31</td>\n",
       "      <td>0</td>\n",
       "    </tr>\n",
       "  </tbody>\n",
       "</table>\n",
       "</div>"
      ],
      "text/plain": [
       "   vehicletype_ordinal  gearbox_ordinal  model_ordinal  fueltype_ordinal  \\\n",
       "0                    7                1            116                 6   \n",
       "1                    2                1            228                 2   \n",
       "2                    6                0            117                 2   \n",
       "3                    5                1            116                 6   \n",
       "4                    5                1            101                 2   \n",
       "\n",
       "   brand_ordinal  notrepaired_ordinal  \n",
       "0             38                    1  \n",
       "1              1                    2  \n",
       "2             14                    1  \n",
       "3             38                    0  \n",
       "4             31                    0  "
      ]
     },
     "metadata": {},
     "output_type": "display_data"
    }
   ],
   "source": [
    "# создем объкет для кодирования\n",
    "encoder = OrdinalEncoder()\n",
    "# преобразуем категориальные признаки\n",
    "encoder.fit(autos_new[category_columns])\n",
    "\n",
    "# создаем новый DF с:\n",
    "# - преобразованными категориальными признаками\n",
    "# - оригинальными категориальными признаками\n",
    "# - количественными признаками\n",
    "autos_new_coded = pd.concat([pd.DataFrame(encoder.transform(autos_new[category_columns]),\n",
    "                                          columns = category_columns_ordinal),\n",
    "                             autos_new[category_columns + numeric_columns + ['price']]], axis=1)\n",
    "\n",
    "# переводим в int все преобразованные категориальные признаки\n",
    "for col in category_columns_ordinal:\n",
    "    autos_new_coded[col] = autos_new_coded[col].astype('int64')\n",
    "\n",
    "# переводим в category все оригинальные категориальные признаки\n",
    "for col in category_columns:\n",
    "    autos_new_coded[col] = autos_new_coded[col].astype('category')    \n",
    "\n",
    "# проверяем типы данных\n",
    "print('\\nПроверяем типы данных категориальных признаков и закодированных категориальных признаков:\\n')\n",
    "print(autos_new_coded[category_columns + category_columns_ordinal].dtypes)\n",
    "\n",
    "# проверяем преобразование\n",
    "print('\\nПровели порядковое кодирование категориальных признаков. Проверим:\\n')\n",
    "print('Признаки ДО порядкового кодирования')\n",
    "display(autos_new_coded[category_columns].head(5))\n",
    "print('\\nПризнаки ПОСЛЕ порядкового кодирования')\n",
    "display(autos_new_coded[category_columns_ordinal].head(5))"
   ]
  },
  {
   "cell_type": "markdown",
   "metadata": {},
   "source": [
    "### Прямое кодирование OHE"
   ]
  },
  {
   "cell_type": "code",
   "execution_count": 14,
   "metadata": {
    "scrolled": false
   },
   "outputs": [
    {
     "name": "stdout",
     "output_type": "stream",
     "text": [
      "Список закодированных категориальных признаков методом прямого кодирования OHE (первые 10):\n"
     ]
    },
    {
     "data": {
      "text/plain": [
       "['vehicletype_convertible_ohe',\n",
       " 'vehicletype_coupe_ohe',\n",
       " 'vehicletype_other_ohe',\n",
       " 'vehicletype_sedan_ohe',\n",
       " 'vehicletype_small_ohe',\n",
       " 'vehicletype_suv_ohe',\n",
       " 'vehicletype_unknown_ohe',\n",
       " 'vehicletype_wagon_ohe',\n",
       " 'gearbox_manual_ohe',\n",
       " 'gearbox_unknown_ohe']"
      ]
     },
     "metadata": {},
     "output_type": "display_data"
    },
    {
     "name": "stdout",
     "output_type": "stream",
     "text": [
      "\n",
      "Проверяем типы данных закодированных категориальных признаков (первые 10):\n",
      "\n",
      "vehicletype_convertible_ohe    uint8\n",
      "vehicletype_coupe_ohe          uint8\n",
      "vehicletype_other_ohe          uint8\n",
      "vehicletype_sedan_ohe          uint8\n",
      "vehicletype_small_ohe          uint8\n",
      "vehicletype_suv_ohe            uint8\n",
      "vehicletype_unknown_ohe        uint8\n",
      "vehicletype_wagon_ohe          uint8\n",
      "gearbox_manual_ohe             uint8\n",
      "gearbox_unknown_ohe            uint8\n",
      "dtype: object\n",
      "\n",
      "Провели прямое кодирование OHE категориальных признаков. Проверим:\n",
      "\n",
      "Признаки ДО прямого кодирования OHE\n"
     ]
    },
    {
     "data": {
      "text/html": [
       "<div>\n",
       "<style scoped>\n",
       "    .dataframe tbody tr th:only-of-type {\n",
       "        vertical-align: middle;\n",
       "    }\n",
       "\n",
       "    .dataframe tbody tr th {\n",
       "        vertical-align: top;\n",
       "    }\n",
       "\n",
       "    .dataframe thead th {\n",
       "        text-align: right;\n",
       "    }\n",
       "</style>\n",
       "<table border=\"1\" class=\"dataframe\">\n",
       "  <thead>\n",
       "    <tr style=\"text-align: right;\">\n",
       "      <th></th>\n",
       "      <th>vehicletype</th>\n",
       "      <th>gearbox</th>\n",
       "      <th>model</th>\n",
       "      <th>fueltype</th>\n",
       "      <th>brand</th>\n",
       "      <th>notrepaired</th>\n",
       "    </tr>\n",
       "  </thead>\n",
       "  <tbody>\n",
       "    <tr>\n",
       "      <th>0</th>\n",
       "      <td>unknown</td>\n",
       "      <td>manual</td>\n",
       "      <td>golf</td>\n",
       "      <td>petrol</td>\n",
       "      <td>volkswagen</td>\n",
       "      <td>unknown</td>\n",
       "    </tr>\n",
       "    <tr>\n",
       "      <th>1</th>\n",
       "      <td>coupe</td>\n",
       "      <td>manual</td>\n",
       "      <td>unknown</td>\n",
       "      <td>gasoline</td>\n",
       "      <td>audi</td>\n",
       "      <td>yes</td>\n",
       "    </tr>\n",
       "    <tr>\n",
       "      <th>2</th>\n",
       "      <td>suv</td>\n",
       "      <td>auto</td>\n",
       "      <td>grand</td>\n",
       "      <td>gasoline</td>\n",
       "      <td>jeep</td>\n",
       "      <td>unknown</td>\n",
       "    </tr>\n",
       "    <tr>\n",
       "      <th>3</th>\n",
       "      <td>small</td>\n",
       "      <td>manual</td>\n",
       "      <td>golf</td>\n",
       "      <td>petrol</td>\n",
       "      <td>volkswagen</td>\n",
       "      <td>no</td>\n",
       "    </tr>\n",
       "    <tr>\n",
       "      <th>4</th>\n",
       "      <td>small</td>\n",
       "      <td>manual</td>\n",
       "      <td>fabia</td>\n",
       "      <td>gasoline</td>\n",
       "      <td>skoda</td>\n",
       "      <td>no</td>\n",
       "    </tr>\n",
       "  </tbody>\n",
       "</table>\n",
       "</div>"
      ],
      "text/plain": [
       "  vehicletype gearbox    model  fueltype       brand notrepaired\n",
       "0     unknown  manual     golf    petrol  volkswagen     unknown\n",
       "1       coupe  manual  unknown  gasoline        audi         yes\n",
       "2         suv    auto    grand  gasoline        jeep     unknown\n",
       "3       small  manual     golf    petrol  volkswagen          no\n",
       "4       small  manual    fabia  gasoline       skoda          no"
      ]
     },
     "metadata": {},
     "output_type": "display_data"
    },
    {
     "name": "stdout",
     "output_type": "stream",
     "text": [
      "\n",
      "Признаки ПОСЛЕ прямого кодирования OHE\n"
     ]
    },
    {
     "data": {
      "text/html": [
       "<div>\n",
       "<style scoped>\n",
       "    .dataframe tbody tr th:only-of-type {\n",
       "        vertical-align: middle;\n",
       "    }\n",
       "\n",
       "    .dataframe tbody tr th {\n",
       "        vertical-align: top;\n",
       "    }\n",
       "\n",
       "    .dataframe thead th {\n",
       "        text-align: right;\n",
       "    }\n",
       "</style>\n",
       "<table border=\"1\" class=\"dataframe\">\n",
       "  <thead>\n",
       "    <tr style=\"text-align: right;\">\n",
       "      <th></th>\n",
       "      <th>vehicletype_convertible_ohe</th>\n",
       "      <th>vehicletype_coupe_ohe</th>\n",
       "      <th>vehicletype_other_ohe</th>\n",
       "      <th>vehicletype_sedan_ohe</th>\n",
       "      <th>vehicletype_small_ohe</th>\n",
       "      <th>vehicletype_suv_ohe</th>\n",
       "      <th>vehicletype_unknown_ohe</th>\n",
       "      <th>vehicletype_wagon_ohe</th>\n",
       "      <th>gearbox_manual_ohe</th>\n",
       "      <th>gearbox_unknown_ohe</th>\n",
       "      <th>...</th>\n",
       "      <th>brand_smart_ohe</th>\n",
       "      <th>brand_sonstige_autos_ohe</th>\n",
       "      <th>brand_subaru_ohe</th>\n",
       "      <th>brand_suzuki_ohe</th>\n",
       "      <th>brand_toyota_ohe</th>\n",
       "      <th>brand_trabant_ohe</th>\n",
       "      <th>brand_volkswagen_ohe</th>\n",
       "      <th>brand_volvo_ohe</th>\n",
       "      <th>notrepaired_unknown_ohe</th>\n",
       "      <th>notrepaired_yes_ohe</th>\n",
       "    </tr>\n",
       "  </thead>\n",
       "  <tbody>\n",
       "    <tr>\n",
       "      <th>0</th>\n",
       "      <td>0</td>\n",
       "      <td>0</td>\n",
       "      <td>0</td>\n",
       "      <td>0</td>\n",
       "      <td>0</td>\n",
       "      <td>0</td>\n",
       "      <td>1</td>\n",
       "      <td>0</td>\n",
       "      <td>1</td>\n",
       "      <td>0</td>\n",
       "      <td>...</td>\n",
       "      <td>0</td>\n",
       "      <td>0</td>\n",
       "      <td>0</td>\n",
       "      <td>0</td>\n",
       "      <td>0</td>\n",
       "      <td>0</td>\n",
       "      <td>1</td>\n",
       "      <td>0</td>\n",
       "      <td>1</td>\n",
       "      <td>0</td>\n",
       "    </tr>\n",
       "    <tr>\n",
       "      <th>1</th>\n",
       "      <td>0</td>\n",
       "      <td>1</td>\n",
       "      <td>0</td>\n",
       "      <td>0</td>\n",
       "      <td>0</td>\n",
       "      <td>0</td>\n",
       "      <td>0</td>\n",
       "      <td>0</td>\n",
       "      <td>1</td>\n",
       "      <td>0</td>\n",
       "      <td>...</td>\n",
       "      <td>0</td>\n",
       "      <td>0</td>\n",
       "      <td>0</td>\n",
       "      <td>0</td>\n",
       "      <td>0</td>\n",
       "      <td>0</td>\n",
       "      <td>0</td>\n",
       "      <td>0</td>\n",
       "      <td>0</td>\n",
       "      <td>1</td>\n",
       "    </tr>\n",
       "    <tr>\n",
       "      <th>2</th>\n",
       "      <td>0</td>\n",
       "      <td>0</td>\n",
       "      <td>0</td>\n",
       "      <td>0</td>\n",
       "      <td>0</td>\n",
       "      <td>1</td>\n",
       "      <td>0</td>\n",
       "      <td>0</td>\n",
       "      <td>0</td>\n",
       "      <td>0</td>\n",
       "      <td>...</td>\n",
       "      <td>0</td>\n",
       "      <td>0</td>\n",
       "      <td>0</td>\n",
       "      <td>0</td>\n",
       "      <td>0</td>\n",
       "      <td>0</td>\n",
       "      <td>0</td>\n",
       "      <td>0</td>\n",
       "      <td>1</td>\n",
       "      <td>0</td>\n",
       "    </tr>\n",
       "    <tr>\n",
       "      <th>3</th>\n",
       "      <td>0</td>\n",
       "      <td>0</td>\n",
       "      <td>0</td>\n",
       "      <td>0</td>\n",
       "      <td>1</td>\n",
       "      <td>0</td>\n",
       "      <td>0</td>\n",
       "      <td>0</td>\n",
       "      <td>1</td>\n",
       "      <td>0</td>\n",
       "      <td>...</td>\n",
       "      <td>0</td>\n",
       "      <td>0</td>\n",
       "      <td>0</td>\n",
       "      <td>0</td>\n",
       "      <td>0</td>\n",
       "      <td>0</td>\n",
       "      <td>1</td>\n",
       "      <td>0</td>\n",
       "      <td>0</td>\n",
       "      <td>0</td>\n",
       "    </tr>\n",
       "    <tr>\n",
       "      <th>4</th>\n",
       "      <td>0</td>\n",
       "      <td>0</td>\n",
       "      <td>0</td>\n",
       "      <td>0</td>\n",
       "      <td>1</td>\n",
       "      <td>0</td>\n",
       "      <td>0</td>\n",
       "      <td>0</td>\n",
       "      <td>1</td>\n",
       "      <td>0</td>\n",
       "      <td>...</td>\n",
       "      <td>0</td>\n",
       "      <td>0</td>\n",
       "      <td>0</td>\n",
       "      <td>0</td>\n",
       "      <td>0</td>\n",
       "      <td>0</td>\n",
       "      <td>0</td>\n",
       "      <td>0</td>\n",
       "      <td>0</td>\n",
       "      <td>0</td>\n",
       "    </tr>\n",
       "  </tbody>\n",
       "</table>\n",
       "<p>5 rows × 308 columns</p>\n",
       "</div>"
      ],
      "text/plain": [
       "   vehicletype_convertible_ohe  vehicletype_coupe_ohe  vehicletype_other_ohe  \\\n",
       "0                            0                      0                      0   \n",
       "1                            0                      1                      0   \n",
       "2                            0                      0                      0   \n",
       "3                            0                      0                      0   \n",
       "4                            0                      0                      0   \n",
       "\n",
       "   vehicletype_sedan_ohe  vehicletype_small_ohe  vehicletype_suv_ohe  \\\n",
       "0                      0                      0                    0   \n",
       "1                      0                      0                    0   \n",
       "2                      0                      0                    1   \n",
       "3                      0                      1                    0   \n",
       "4                      0                      1                    0   \n",
       "\n",
       "   vehicletype_unknown_ohe  vehicletype_wagon_ohe  gearbox_manual_ohe  \\\n",
       "0                        1                      0                   1   \n",
       "1                        0                      0                   1   \n",
       "2                        0                      0                   0   \n",
       "3                        0                      0                   1   \n",
       "4                        0                      0                   1   \n",
       "\n",
       "   gearbox_unknown_ohe  ...  brand_smart_ohe  brand_sonstige_autos_ohe  \\\n",
       "0                    0  ...                0                         0   \n",
       "1                    0  ...                0                         0   \n",
       "2                    0  ...                0                         0   \n",
       "3                    0  ...                0                         0   \n",
       "4                    0  ...                0                         0   \n",
       "\n",
       "   brand_subaru_ohe  brand_suzuki_ohe  brand_toyota_ohe  brand_trabant_ohe  \\\n",
       "0                 0                 0                 0                  0   \n",
       "1                 0                 0                 0                  0   \n",
       "2                 0                 0                 0                  0   \n",
       "3                 0                 0                 0                  0   \n",
       "4                 0                 0                 0                  0   \n",
       "\n",
       "   brand_volkswagen_ohe  brand_volvo_ohe  notrepaired_unknown_ohe  \\\n",
       "0                     1                0                        1   \n",
       "1                     0                0                        0   \n",
       "2                     0                0                        1   \n",
       "3                     1                0                        0   \n",
       "4                     0                0                        0   \n",
       "\n",
       "   notrepaired_yes_ohe  \n",
       "0                    0  \n",
       "1                    1  \n",
       "2                    0  \n",
       "3                    0  \n",
       "4                    0  \n",
       "\n",
       "[5 rows x 308 columns]"
      ]
     },
     "metadata": {},
     "output_type": "display_data"
    }
   ],
   "source": [
    "# применяем OHE\n",
    "autos_ohe = pd.get_dummies(autos_new[category_columns], drop_first=True)\n",
    "\n",
    "# сохраняем список столбцов, закодированных через OHE, добавляем \"_ohe\"\n",
    "category_columns_ohe = [c + '_ohe' for c in autos_ohe.columns]\n",
    "# обновляем названия столбцов в самом telecom_ohe\n",
    "autos_ohe.columns = category_columns_ohe\n",
    "\n",
    "# добавляем autos_ohe к autos_new_coded\n",
    "autos_new_coded = autos_new_coded.join(autos_ohe)\n",
    "\n",
    "print('Список закодированных категориальных признаков методом прямого кодирования OHE (первые 10):')\n",
    "display(category_columns_ohe[:10])\n",
    "\n",
    "# проверяем типы данных\n",
    "print('\\nПроверяем типы данных закодированных категориальных признаков (первые 10):\\n')\n",
    "print(autos_new_coded[category_columns_ohe].dtypes[:10])\n",
    "    \n",
    "# проверяем преобразование\n",
    "print('\\nПровели прямое кодирование OHE категориальных признаков. Проверим:\\n')\n",
    "print('Признаки ДО прямого кодирования OHE')\n",
    "display(autos_new_coded[category_columns].head(5))\n",
    "print('\\nПризнаки ПОСЛЕ прямого кодирования OHE')\n",
    "display(autos_new_coded[category_columns_ohe].head(5))"
   ]
  },
  {
   "cell_type": "markdown",
   "metadata": {},
   "source": [
    "<a id='Link8'></a>"
   ]
  },
  {
   "cell_type": "markdown",
   "metadata": {},
   "source": [
    "### Разделим датасет на обучающую и тестовую выборки"
   ]
  },
  {
   "cell_type": "code",
   "execution_count": 15,
   "metadata": {},
   "outputs": [
    {
     "name": "stdout",
     "output_type": "stream",
     "text": [
      "Длина исходного датасета: 352341\n",
      "Длина обучающей выборки: 264255\n",
      "Длина тестовой выборки: 88086\n",
      "Проверка общей длины обучающей + тестовой: 352341\n"
     ]
    }
   ],
   "source": [
    "# выделим фичи и целевой признак\n",
    "features = autos_new_coded.drop('price', axis=1)\n",
    "target = autos_new_coded['price']\n",
    "\n",
    "# делам сплит на обучающую и тестовую выборки\n",
    "train_features, test_features, train_target, test_target = \\\n",
    "            train_test_split(features, target, test_size=0.25, random_state=12345)\n",
    "   \n",
    "# выводим размеры выборок\n",
    "print('Длина исходного датасета:', len(autos_new_coded))\n",
    "print('Длина обучающей выборки:', len(train_features))\n",
    "print('Длина тестовой выборки:', len(test_features))\n",
    "print('Проверка общей длины обучающей + тестовой:', len(train_features) + len(test_features))"
   ]
  },
  {
   "cell_type": "markdown",
   "metadata": {},
   "source": [
    "<a id='Link9'></a>"
   ]
  },
  {
   "cell_type": "markdown",
   "metadata": {},
   "source": [
    "### Масштабируем количественные признаки"
   ]
  },
  {
   "cell_type": "code",
   "execution_count": 16,
   "metadata": {},
   "outputs": [
    {
     "data": {
      "text/plain": [
       "'Количественные признаки ДО масштабирования признаков:'"
      ]
     },
     "metadata": {},
     "output_type": "display_data"
    },
    {
     "data": {
      "text/html": [
       "<div>\n",
       "<style scoped>\n",
       "    .dataframe tbody tr th:only-of-type {\n",
       "        vertical-align: middle;\n",
       "    }\n",
       "\n",
       "    .dataframe tbody tr th {\n",
       "        vertical-align: top;\n",
       "    }\n",
       "\n",
       "    .dataframe thead th {\n",
       "        text-align: right;\n",
       "    }\n",
       "</style>\n",
       "<table border=\"1\" class=\"dataframe\">\n",
       "  <thead>\n",
       "    <tr style=\"text-align: right;\">\n",
       "      <th></th>\n",
       "      <th>registrationyear</th>\n",
       "      <th>power</th>\n",
       "      <th>kilometer</th>\n",
       "      <th>registrationmonth</th>\n",
       "    </tr>\n",
       "  </thead>\n",
       "  <tbody>\n",
       "    <tr>\n",
       "      <th>269187</th>\n",
       "      <td>2009</td>\n",
       "      <td>129</td>\n",
       "      <td>150000</td>\n",
       "      <td>1</td>\n",
       "    </tr>\n",
       "    <tr>\n",
       "      <th>164715</th>\n",
       "      <td>1999</td>\n",
       "      <td>64</td>\n",
       "      <td>150000</td>\n",
       "      <td>11</td>\n",
       "    </tr>\n",
       "    <tr>\n",
       "      <th>64512</th>\n",
       "      <td>2006</td>\n",
       "      <td>163</td>\n",
       "      <td>30000</td>\n",
       "      <td>3</td>\n",
       "    </tr>\n",
       "    <tr>\n",
       "      <th>187974</th>\n",
       "      <td>2004</td>\n",
       "      <td>204</td>\n",
       "      <td>150000</td>\n",
       "      <td>1</td>\n",
       "    </tr>\n",
       "    <tr>\n",
       "      <th>303688</th>\n",
       "      <td>1999</td>\n",
       "      <td>125</td>\n",
       "      <td>150000</td>\n",
       "      <td>8</td>\n",
       "    </tr>\n",
       "  </tbody>\n",
       "</table>\n",
       "</div>"
      ],
      "text/plain": [
       "        registrationyear  power  kilometer  registrationmonth\n",
       "269187              2009    129     150000                  1\n",
       "164715              1999     64     150000                 11\n",
       "64512               2006    163      30000                  3\n",
       "187974              2004    204     150000                  1\n",
       "303688              1999    125     150000                  8"
      ]
     },
     "metadata": {},
     "output_type": "display_data"
    },
    {
     "data": {
      "text/plain": [
       "'Количественные признаки ПОСЛЕ масштабирования признаков:'"
      ]
     },
     "metadata": {},
     "output_type": "display_data"
    },
    {
     "data": {
      "text/html": [
       "<div>\n",
       "<style scoped>\n",
       "    .dataframe tbody tr th:only-of-type {\n",
       "        vertical-align: middle;\n",
       "    }\n",
       "\n",
       "    .dataframe tbody tr th {\n",
       "        vertical-align: top;\n",
       "    }\n",
       "\n",
       "    .dataframe thead th {\n",
       "        text-align: right;\n",
       "    }\n",
       "</style>\n",
       "<table border=\"1\" class=\"dataframe\">\n",
       "  <thead>\n",
       "    <tr style=\"text-align: right;\">\n",
       "      <th></th>\n",
       "      <th>registrationyear</th>\n",
       "      <th>power</th>\n",
       "      <th>kilometer</th>\n",
       "      <th>registrationmonth</th>\n",
       "    </tr>\n",
       "  </thead>\n",
       "  <tbody>\n",
       "    <tr>\n",
       "      <th>269187</th>\n",
       "      <td>0.831607</td>\n",
       "      <td>0.279930</td>\n",
       "      <td>0.572297</td>\n",
       "      <td>-1.269704</td>\n",
       "    </tr>\n",
       "    <tr>\n",
       "      <th>164715</th>\n",
       "      <td>-0.627650</td>\n",
       "      <td>-0.575117</td>\n",
       "      <td>0.572297</td>\n",
       "      <td>1.417001</td>\n",
       "    </tr>\n",
       "    <tr>\n",
       "      <th>64512</th>\n",
       "      <td>0.393830</td>\n",
       "      <td>0.727186</td>\n",
       "      <td>-2.620601</td>\n",
       "      <td>-0.732363</td>\n",
       "    </tr>\n",
       "    <tr>\n",
       "      <th>187974</th>\n",
       "      <td>0.101979</td>\n",
       "      <td>1.266523</td>\n",
       "      <td>0.572297</td>\n",
       "      <td>-1.269704</td>\n",
       "    </tr>\n",
       "    <tr>\n",
       "      <th>303688</th>\n",
       "      <td>-0.627650</td>\n",
       "      <td>0.227312</td>\n",
       "      <td>0.572297</td>\n",
       "      <td>0.610989</td>\n",
       "    </tr>\n",
       "  </tbody>\n",
       "</table>\n",
       "</div>"
      ],
      "text/plain": [
       "        registrationyear     power  kilometer  registrationmonth\n",
       "269187          0.831607  0.279930   0.572297          -1.269704\n",
       "164715         -0.627650 -0.575117   0.572297           1.417001\n",
       "64512           0.393830  0.727186  -2.620601          -0.732363\n",
       "187974          0.101979  1.266523   0.572297          -1.269704\n",
       "303688         -0.627650  0.227312   0.572297           0.610989"
      ]
     },
     "metadata": {},
     "output_type": "display_data"
    }
   ],
   "source": [
    "# масштабируем количественные признаки\n",
    "    \n",
    "display('Количественные признаки ДО масштабирования признаков:',\n",
    "        train_features[numeric_columns].head(5))\n",
    "    \n",
    "# создаем объект структуры StandardScaler() и настраиваем его на обучающих данных\n",
    "scaler = StandardScaler()\n",
    "scaler.fit(train_features[numeric_columns])\n",
    "\n",
    "# масштабируем количественные признаки в обучающей выборке\n",
    "train_features.loc[:, numeric_columns] = scaler.transform(train_features[numeric_columns])\n",
    "    \n",
    "# масштабируем количественные признаки в тестовой выборке\n",
    "test_features.loc[:, numeric_columns] = scaler.transform(test_features[numeric_columns])\n",
    "    \n",
    "display('Количественные признаки ПОСЛЕ масштабирования признаков:',\n",
    "        train_features[numeric_columns].head(5))"
   ]
  },
  {
   "cell_type": "markdown",
   "metadata": {},
   "source": [
    "### Вывод\n",
    "- Закодировали категориальные признаки\n",
    "- Разделили датасет на обучающую и тестовую выборки\n",
    "- Масштабировали количественные признаки"
   ]
  },
  {
   "cell_type": "markdown",
   "metadata": {},
   "source": [
    "## 5. Построение моделей"
   ]
  },
  {
   "cell_type": "code",
   "execution_count": 17,
   "metadata": {},
   "outputs": [],
   "source": [
    "# функция для расчета RMSE\n",
    "fun_rmse = lambda target, predictions: \\\n",
    "           mean_squared_error(np.array(target), predictions) ** 0.5\n",
    "\n",
    "# задаем свой score через функцию\n",
    "score_rmse = make_scorer(fun_rmse, greater_is_better=False)"
   ]
  },
  {
   "cell_type": "code",
   "execution_count": 18,
   "metadata": {},
   "outputs": [],
   "source": [
    "def fun_build_model(model, model_name, parametrs, features, target, cv, params_fit):\n",
    "    \"\"\"функция для построения модели,\n",
    "    обучает модель, подбирает лучшие параметры,\n",
    "    использует кросс-валидацию и скор = score_rmse\n",
    "    \n",
    "    на входе:\n",
    "     - структура модели\n",
    "     - наименование\n",
    "     - словарь параметров, по которым нужно определить лучшую модель\n",
    "     - список фичей\n",
    "     - таргет\n",
    "     - кол-во сплитов при кросс-валидации\n",
    "     - параметры для обучения\n",
    "    \n",
    "    на выходе:\n",
    "     - результат работы метода GridSearchCV\n",
    "    \"\"\"\n",
    "    \n",
    "    # передаем модель и параметры\n",
    "    grid= GridSearchCV(model, parametrs, scoring=score_rmse, n_jobs=-1, cv=cv)\n",
    "    \n",
    "    # обучаем модель\n",
    "    grid.fit(features, target, **params_fit)\n",
    "\n",
    "    # выводим лучшую модель, лучшие параметры и лучший скор\n",
    "    print('Лучшая модель {}:'.format(model_name))\n",
    "    display(grid.best_estimator_)\n",
    "    print('Лучшие параметры модели:')\n",
    "    display(grid.best_params_)\n",
    "    print('Лучший RMSE: {}\\n'.format(grid.best_score_.round(4)))\n",
    "    # выводим время обучения полного датасета\n",
    "    print('Время обучения полного обучающего датасета после получения лучших параметров: {:.3f} сек\\n'\n",
    "      .format(grid.refit_time_))\n",
    "    \n",
    "    #возвращаем grid\n",
    "    return grid"
   ]
  },
  {
   "cell_type": "code",
   "execution_count": 19,
   "metadata": {},
   "outputs": [],
   "source": [
    "def features_importances(model, col_names, model_name):\n",
    "    \"\"\"функция для вывода весов признаков при построении модели\n",
    "    \n",
    "    на входе:\n",
    "     - модель\n",
    "    \n",
    "    на выходе:\n",
    "     - вывод весов признаков\n",
    "    \"\"\"\n",
    "    # создаем DF из feature_importances модели\n",
    "    feature_importances = model.feature_importances_\n",
    "    feature_importances_df = pd.DataFrame({'features': col_names, 'feature_importances': feature_importances})\n",
    "   \n",
    "    # рисуем bar\n",
    "    fig = plt.figure(figsize=(12,5))\n",
    "    ax = plt.subplot(111)\n",
    "    fun_ax(ax, 'bar',\n",
    "           feature_importances_df.sort_values('feature_importances', ascending=False).features,\n",
    "           feature_importances_df.sort_values('feature_importances', ascending=False).feature_importances,\n",
    "          'Веса признаков при построении модели {}'.format(model_name),\n",
    "           x_label='Признаки', y_label='Веса',\n",
    "           color='orange')\n",
    "    plt.xticks(rotation=90)\n",
    "    fig.tight_layout()"
   ]
  },
  {
   "cell_type": "markdown",
   "metadata": {},
   "source": [
    "<a id='Link10'></a>"
   ]
  },
  {
   "cell_type": "markdown",
   "metadata": {},
   "source": [
    "### Модель Линейная регрессия"
   ]
  },
  {
   "cell_type": "code",
   "execution_count": 20,
   "metadata": {
    "scrolled": false
   },
   "outputs": [
    {
     "name": "stdout",
     "output_type": "stream",
     "text": [
      "Лучшая модель Линейная регрессия:\n"
     ]
    },
    {
     "data": {
      "text/plain": [
       "LinearRegression(copy_X=True, fit_intercept=True, n_jobs=None, normalize=False)"
      ]
     },
     "metadata": {},
     "output_type": "display_data"
    },
    {
     "name": "stdout",
     "output_type": "stream",
     "text": [
      "Лучшие параметры модели:\n"
     ]
    },
    {
     "data": {
      "text/plain": [
       "{}"
      ]
     },
     "metadata": {},
     "output_type": "display_data"
    },
    {
     "name": "stdout",
     "output_type": "stream",
     "text": [
      "Лучший RMSE: -2735.5452\n",
      "\n",
      "Время обучения полного обучающего датасета после получения лучших параметров: 4.971 сек\n",
      "\n",
      "Wall time: 30.1 s\n"
     ]
    }
   ],
   "source": [
    "%%time\n",
    "# формируем параметры для поиска лучшей модели\n",
    "params_grid = {}\n",
    "\n",
    "# строим модель Линейная регрессия\n",
    "grid_linear_regression = fun_build_model(LinearRegression(),\n",
    "                                         'Линейная регрессия',\n",
    "                                         params_grid,\n",
    "                                         # передаем закодированные категориальные признаки\n",
    "                                         # методом прямого кодирования ohe\n",
    "                                         train_features[category_columns_ohe + numeric_columns],\n",
    "                                         train_target, cv=3, params_fit={})"
   ]
  },
  {
   "cell_type": "markdown",
   "metadata": {},
   "source": [
    "<a id='Link11'></a>"
   ]
  },
  {
   "cell_type": "markdown",
   "metadata": {},
   "source": [
    "### Модель Дерево решений"
   ]
  },
  {
   "cell_type": "code",
   "execution_count": 21,
   "metadata": {},
   "outputs": [
    {
     "name": "stdout",
     "output_type": "stream",
     "text": [
      "Лучшая модель Дерево решений:\n"
     ]
    },
    {
     "data": {
      "text/plain": [
       "DecisionTreeRegressor(ccp_alpha=0.0, criterion='mse', max_depth=13,\n",
       "                      max_features=None, max_leaf_nodes=None,\n",
       "                      min_impurity_decrease=0.0, min_impurity_split=None,\n",
       "                      min_samples_leaf=1, min_samples_split=2,\n",
       "                      min_weight_fraction_leaf=0.0, presort='deprecated',\n",
       "                      random_state=12345, splitter='best')"
      ]
     },
     "metadata": {},
     "output_type": "display_data"
    },
    {
     "name": "stdout",
     "output_type": "stream",
     "text": [
      "Лучшие параметры модели:\n"
     ]
    },
    {
     "data": {
      "text/plain": [
       "{'max_depth': 13}"
      ]
     },
     "metadata": {},
     "output_type": "display_data"
    },
    {
     "name": "stdout",
     "output_type": "stream",
     "text": [
      "Лучший RMSE: -2074.7933\n",
      "\n",
      "Время обучения полного обучающего датасета после получения лучших параметров: 0.865 сек\n",
      "\n",
      "Wall time: 7.22 s\n"
     ]
    },
    {
     "data": {
      "image/png": "[encoded data removed]",
      "text/plain": [
       "<Figure size 864x360 with 1 Axes>"
      ]
     },
     "metadata": {
      "needs_background": "light"
     },
     "output_type": "display_data"
    }
   ],
   "source": [
    "%%time\n",
    "# формируем параметры для поиска лучшей модели\n",
    "params_grid = {'max_depth': range(1,20,2)}\n",
    "\n",
    "# строим модель Дерево решений\n",
    "grid_tree_regressor = fun_build_model(DecisionTreeRegressor(random_state=12345),\n",
    "                                      'Дерево решений',\n",
    "                                      params_grid,\n",
    "                                      # передаем закодированные категориальные признаки\n",
    "                                      # методом порядкового кодирования\n",
    "                                      train_features[category_columns_ordinal + numeric_columns],                                     \n",
    "                                      train_target, cv=3, params_fit={})\n",
    "\n",
    "# смотрим веса признаков при построении модели\n",
    "features_importances(grid_tree_regressor.best_estimator_,\n",
    "                     category_columns_ordinal + numeric_columns,\n",
    "                     'Дерево решений')"
   ]
  },
  {
   "cell_type": "markdown",
   "metadata": {},
   "source": [
    "<a id='Link12'></a>"
   ]
  },
  {
   "cell_type": "markdown",
   "metadata": {},
   "source": [
    "### Модель Случайный лес"
   ]
  },
  {
   "cell_type": "code",
   "execution_count": 22,
   "metadata": {},
   "outputs": [
    {
     "name": "stdout",
     "output_type": "stream",
     "text": [
      "Лучшая модель Случайный лес:\n"
     ]
    },
    {
     "data": {
      "text/plain": [
       "RandomForestRegressor(bootstrap=True, ccp_alpha=0.0, criterion='mse',\n",
       "                      max_depth=10, max_features='auto', max_leaf_nodes=None,\n",
       "                      max_samples=None, min_impurity_decrease=0.0,\n",
       "                      min_impurity_split=None, min_samples_leaf=1,\n",
       "                      min_samples_split=2, min_weight_fraction_leaf=0.0,\n",
       "                      n_estimators=50, n_jobs=None, oob_score=False,\n",
       "                      random_state=12345, verbose=0, warm_start=False)"
      ]
     },
     "metadata": {},
     "output_type": "display_data"
    },
    {
     "name": "stdout",
     "output_type": "stream",
     "text": [
      "Лучшие параметры модели:\n"
     ]
    },
    {
     "data": {
      "text/plain": [
       "{'max_depth': 10, 'n_estimators': 50}"
      ]
     },
     "metadata": {},
     "output_type": "display_data"
    },
    {
     "name": "stdout",
     "output_type": "stream",
     "text": [
      "Лучший RMSE: -1989.6983\n",
      "\n",
      "Время обучения полного обучающего датасета после получения лучших параметров: 27.067 сек\n",
      "\n",
      "Wall time: 5min 26s\n"
     ]
    },
    {
     "data": {
      "image/png": "[encoded data removed]",
      "text/plain": [
       "<Figure size 864x360 with 1 Axes>"
      ]
     },
     "metadata": {
      "needs_background": "light"
     },
     "output_type": "display_data"
    }
   ],
   "source": [
    "%%time\n",
    "# формируем параметры для поиска лучшей модели\n",
    "params_grid = {'max_depth': range(1,11,1),\n",
    "               'n_estimators': range(10,51,10)}\n",
    "\n",
    "# строим модель Случайный лес\n",
    "grid_forest_regressor = fun_build_model(RandomForestRegressor(random_state=12345),\n",
    "                                        'Случайный лес',\n",
    "                                        params_grid,\n",
    "                                        # передаем закодированные категориальные признаки\n",
    "                                        # методом порядкового кодирования\n",
    "                                        train_features[category_columns_ordinal + numeric_columns],\n",
    "                                        train_target, cv=3, params_fit={})\n",
    "\n",
    "# смотрим веса признаков при построении модели\n",
    "features_importances(grid_forest_regressor.best_estimator_,\n",
    "                     category_columns_ordinal + numeric_columns,\n",
    "                     'Случайный лес')"
   ]
  },
  {
   "cell_type": "markdown",
   "metadata": {},
   "source": [
    "<a id='Link13'></a>"
   ]
  },
  {
   "cell_type": "markdown",
   "metadata": {},
   "source": [
    "### Модель градиентный бустинг LGBMRegressor"
   ]
  },
  {
   "cell_type": "code",
   "execution_count": 23,
   "metadata": {
    "scrolled": false
   },
   "outputs": [
    {
     "name": "stdout",
     "output_type": "stream",
     "text": [
      "Лучшая модель Градиентный бустинг LightGBM:\n"
     ]
    },
    {
     "data": {
      "text/plain": [
       "LGBMRegressor(boosting_type='gbdt', class_weight=None, colsample_bytree=1.0,\n",
       "              importance_type='split', learning_rate=0.4, max_depth=5,\n",
       "              min_child_samples=20, min_child_weight=0.001, min_split_gain=0.0,\n",
       "              n_estimators=100, n_jobs=-1, num_iterations=100, num_leaves=20,\n",
       "              objective=None, random_state=12345, reg_alpha=0.0, reg_lambda=0.0,\n",
       "              silent=True, subsample=1.0, subsample_for_bin=200000,\n",
       "              subsample_freq=0)"
      ]
     },
     "metadata": {},
     "output_type": "display_data"
    },
    {
     "name": "stdout",
     "output_type": "stream",
     "text": [
      "Лучшие параметры модели:\n"
     ]
    },
    {
     "data": {
      "text/plain": [
       "{'learning_rate': 0.4, 'max_depth': 5}"
      ]
     },
     "metadata": {},
     "output_type": "display_data"
    },
    {
     "name": "stdout",
     "output_type": "stream",
     "text": [
      "Лучший RMSE: -1758.1921\n",
      "\n",
      "Время обучения полного обучающего датасета после получения лучших параметров: 1.002 сек\n",
      "\n",
      "Wall time: 55.8 s\n"
     ]
    },
    {
     "data": {
      "image/png": "[encoded data removed]",
      "text/plain": [
       "<Figure size 864x360 with 1 Axes>"
      ]
     },
     "metadata": {
      "needs_background": "light"
     },
     "output_type": "display_data"
    }
   ],
   "source": [
    "%%time\n",
    "# формируем параметры для обучения\n",
    "params_fit = {'categorical_feature': category_columns}\n",
    "\n",
    "# формируем параметры для поиска лучшей модели\n",
    "params_grid = {'max_depth': range(1,6,1),\n",
    "               'learning_rate': np.arange(0.1,1,0.1)}\n",
    "\n",
    "#формируем параметры для создания модели\n",
    "params_model = {'num_iterations': 100,\n",
    "                'num_leaves': 20,\n",
    "                'random_state': 12345}\n",
    "    \n",
    "#задаем модель LGBMRegressor\n",
    "model_lgb = lgb.LGBMRegressor(**params_model)\n",
    "\n",
    "#строим модель Градиентный бустинг\n",
    "grid_lgb = fun_build_model(model_lgb, 'Градиентный бустинг LightGBM', params_grid,\n",
    "                           # передаем оригинальные категориальные признаки\n",
    "                           train_features[category_columns + numeric_columns],\n",
    "                           train_target, cv=3, params_fit=params_fit)\n",
    "\n",
    "# смотрим веса признаков при построении модели\n",
    "features_importances(grid_lgb.best_estimator_,\n",
    "                     category_columns + numeric_columns,\n",
    "                     'Градиентный бустинг LightGBM')"
   ]
  },
  {
   "cell_type": "markdown",
   "metadata": {},
   "source": [
    "<a id='Link14'></a>"
   ]
  },
  {
   "cell_type": "markdown",
   "metadata": {},
   "source": [
    "### Модель градиентный бустинг CatBoostRegressor"
   ]
  },
  {
   "cell_type": "code",
   "execution_count": 24,
   "metadata": {
    "scrolled": false
   },
   "outputs": [
    {
     "name": "stdout",
     "output_type": "stream",
     "text": [
      "Лучшая модель Градиентный бустинг CatBoost:\n"
     ]
    },
    {
     "data": {
      "text/plain": [
       "<catboost.core.CatBoostRegressor at 0x5739348>"
      ]
     },
     "metadata": {},
     "output_type": "display_data"
    },
    {
     "name": "stdout",
     "output_type": "stream",
     "text": [
      "Лучшие параметры модели:\n"
     ]
    },
    {
     "data": {
      "text/plain": [
       "{'learning_rate': 0.7000000000000001, 'max_depth': 5}"
      ]
     },
     "metadata": {},
     "output_type": "display_data"
    },
    {
     "name": "stdout",
     "output_type": "stream",
     "text": [
      "Лучший RMSE: -1814.5325\n",
      "\n",
      "Время обучения полного обучающего датасета после получения лучших параметров: 6.001 сек\n",
      "\n",
      "Wall time: 6min 34s\n"
     ]
    },
    {
     "data": {
      "image/png": "[encoded data removed]",
      "text/plain": [
       "<Figure size 864x360 with 1 Axes>"
      ]
     },
     "metadata": {
      "needs_background": "light"
     },
     "output_type": "display_data"
    }
   ],
   "source": [
    "%%time\n",
    "# формируем параметры для обучения\n",
    "params_fit = {'cat_features': category_columns,\n",
    "              'verbose': False}\n",
    "\n",
    "# формируем параметры для поиска лучшей модели\n",
    "params_grid = {'max_depth': range(1,6,1),\n",
    "               'learning_rate': np.arange(0.1,1,0.1)}\n",
    "\n",
    "# формируем параметры для создания модели\n",
    "params_model = {'iterations': 100,\n",
    "                'random_state': 12345}\n",
    "    \n",
    "# задаем модель CatBoostRegressor\n",
    "model_cat = CatBoostRegressor(**params_model)\n",
    "\n",
    "# строим модель Градиентный бустинг\n",
    "grid_cat = fun_build_model(model_cat, 'Градиентный бустинг CatBoost', params_grid,\n",
    "                           # передаем оригинальные категориальные признаки\n",
    "                           train_features[category_columns + numeric_columns],\n",
    "                           train_target, cv=3, params_fit=params_fit)\n",
    "\n",
    "# смотрим веса признаков при построении модели\n",
    "features_importances(grid_cat.best_estimator_,\n",
    "                     category_columns + numeric_columns,\n",
    "                     'Градиентный бустинг CatBoost')"
   ]
  },
  {
   "cell_type": "markdown",
   "metadata": {},
   "source": [
    "<a id='Link15'></a>"
   ]
  },
  {
   "cell_type": "markdown",
   "metadata": {},
   "source": [
    "### Модель градиентный бустинг XGBoostRegressor"
   ]
  },
  {
   "cell_type": "code",
   "execution_count": 25,
   "metadata": {},
   "outputs": [
    {
     "name": "stdout",
     "output_type": "stream",
     "text": [
      "Лучшая модель Градиентный бустинг XGBoost:\n"
     ]
    },
    {
     "data": {
      "text/plain": [
       "XGBRegressor(base_score=0.5, booster='gbtree', colsample_bylevel=1,\n",
       "             colsample_bynode=1, colsample_bytree=1, eta=0.5, gamma=0,\n",
       "             gpu_id=-1, importance_type='gain', interaction_constraints='',\n",
       "             learning_rate=0.5, max_delta_step=0, max_depth=5,\n",
       "             min_child_weight=1, missing=nan, monotone_constraints='()',\n",
       "             n_estimators=100, n_jobs=0, num_parallel_tree=1,\n",
       "             objective='reg:squarederror', random_state=12345, reg_alpha=0,\n",
       "             reg_lambda=1, scale_pos_weight=1, subsample=1, tree_method='exact',\n",
       "             validate_parameters=1, verbosity=None)"
      ]
     },
     "metadata": {},
     "output_type": "display_data"
    },
    {
     "name": "stdout",
     "output_type": "stream",
     "text": [
      "Лучшие параметры модели:\n"
     ]
    },
    {
     "data": {
      "text/plain": [
       "{'eta': 0.5, 'max_depth': 5}"
      ]
     },
     "metadata": {},
     "output_type": "display_data"
    },
    {
     "name": "stdout",
     "output_type": "stream",
     "text": [
      "Лучший RMSE: -1778.967\n",
      "\n",
      "Время обучения полного обучающего датасета после получения лучших параметров: 6.110 сек\n",
      "\n",
      "Wall time: 5min 46s\n"
     ]
    },
    {
     "data": {
      "image/png": "[encoded data removed]",
      "text/plain": [
       "<Figure size 864x360 with 1 Axes>"
      ]
     },
     "metadata": {
      "needs_background": "light"
     },
     "output_type": "display_data"
    }
   ],
   "source": [
    "%%time\n",
    "# формируем параметры для обучения\n",
    "params_fit = {'verbose': 0}\n",
    "\n",
    "# формируем параметры для поиска лучшей модели\n",
    "params_grid = {'max_depth': range(1,6,1),\n",
    "               'eta': np.arange(0.1,1,0.1)}\n",
    "\n",
    "# формируем параметры для создания модели\n",
    "params_model = {'n_estimators': 100,\n",
    "                'random_state': 12345}\n",
    "    \n",
    "# задаем модель XGBRegressor\n",
    "model_xgb = XGBRegressor(**params_model)\n",
    "\n",
    "# строим модель Градиентный бустинг\n",
    "grid_xgb = fun_build_model(model_xgb, 'Градиентный бустинг XGBoost', params_grid,\n",
    "                           # передаем закодированные категориальные признаки\n",
    "                           # методом порядкового кодирования\n",
    "                           train_features[category_columns_ordinal + numeric_columns], train_target,\n",
    "                           cv=3, params_fit=params_fit)\n",
    "\n",
    "# смотрим веса признаков при построении модели\n",
    "features_importances(grid_xgb.best_estimator_,\n",
    "                     category_columns_ordinal + numeric_columns,\n",
    "                     'Градиентный бустинг XGBoost')"
   ]
  },
  {
   "cell_type": "markdown",
   "metadata": {},
   "source": [
    "## 6. Анализ моделей"
   ]
  },
  {
   "cell_type": "markdown",
   "metadata": {},
   "source": [
    "<a id='Link16'></a>"
   ]
  },
  {
   "cell_type": "markdown",
   "metadata": {},
   "source": [
    "###  Проверим модели на тестовой выборке и рассчитаем скорость предсказания"
   ]
  },
  {
   "cell_type": "code",
   "execution_count": 26,
   "metadata": {},
   "outputs": [],
   "source": [
    "def fun_check_by_test(model, model_name, features, target, ax):\n",
    "    \"\"\"функция для проверки модели на тестовой выборке\n",
    "    делает предсказания по переданной модели и\n",
    "    рассчитывает RMSE, выводит scatter предсказаний и таргета\n",
    "    \n",
    "    параметры:\n",
    "     - модель и название модели,\n",
    "     - признаки, таргет\n",
    "     - ax для диаграммы рассеяния (таргет, предсказания)\n",
    "    \"\"\"\n",
    "     \n",
    "    # предсказания на тестовой выборке\n",
    "    # засекаем время предсказания\n",
    "    start_time = perf_counter()\n",
    "    predictions = model.predict(features)\n",
    "    stop_time = perf_counter()\n",
    "    \n",
    "    # рисуем scatter между таргетом и пресказаниями\n",
    "    fun_ax(ax, 'scatter', target, predictions,\n",
    "          'Диаграмма рассеяния.\\nМодель - {}.\\nRMSE на test: {:.2f}.\\nВремя предсказания: {:.3f} s'\n",
    "           .format(model_name, fun_rmse(target, predictions), stop_time - start_time),\n",
    "           x_label='Целевой признак (таргет)', y_label='Предсказания таргета',\n",
    "           color='orange')"
   ]
  },
  {
   "cell_type": "code",
   "execution_count": 27,
   "metadata": {},
   "outputs": [
    {
     "data": {
      "image/png": "[encoded data removed]",
      "text/plain": [
       "<Figure size 864x864 with 6 Axes>"
      ]
     },
     "metadata": {
      "needs_background": "light"
     },
     "output_type": "display_data"
    }
   ],
   "source": [
    "fig = plt.figure(figsize=(12,12))\n",
    "\n",
    "# Линейная регрессия\n",
    "ax = plt.subplot(331)\n",
    "fun_check_by_test(grid_linear_regression.best_estimator_,\n",
    "                  'Линейная регрессия',\n",
    "                  # передаем закодированные категориальные признаки\n",
    "                  test_features[category_columns_ohe + numeric_columns],\n",
    "                  test_target, ax)\n",
    "\n",
    "# Дерево решений\n",
    "ax = plt.subplot(332)\n",
    "fun_check_by_test(grid_tree_regressor.best_estimator_,\n",
    "                  'Дерево решений',\n",
    "                  # передаем закодированные категориальные признаки\n",
    "                  test_features[category_columns_ordinal + numeric_columns],\n",
    "                  test_target, ax)\n",
    "\n",
    "# Случайный лес\n",
    "ax = plt.subplot(333)\n",
    "fun_check_by_test(grid_forest_regressor.best_estimator_,\n",
    "                  'Случайный лес',\n",
    "                  # передаем закодированные категориальные признаки\n",
    "                  test_features[category_columns_ordinal + numeric_columns],\n",
    "                  test_target, ax)\n",
    "\n",
    "# Градиентный бустинг LightGBM\n",
    "ax = plt.subplot(334)\n",
    "fun_check_by_test(grid_lgb.best_estimator_,\n",
    "                  'Градиентный бустинг LightGBM',\n",
    "                  # передаем оригинальные категориальные признаки\n",
    "                  test_features[category_columns + numeric_columns],\n",
    "                  test_target, ax)\n",
    "\n",
    "# Градиентный бустинг CatBoost\n",
    "ax = plt.subplot(335)\n",
    "fun_check_by_test(grid_cat.best_estimator_,\n",
    "                  'Градиентный бустинг CatBoost',\n",
    "                  # передаем оригинальные категориальные признаки\n",
    "                  test_features[category_columns + numeric_columns],\n",
    "                  test_target, ax)\n",
    "\n",
    "\n",
    "# Градиентный бустинг XGBoost\n",
    "ax = plt.subplot(336)\n",
    "fun_check_by_test(grid_xgb.best_estimator_,\n",
    "                  'Градиентный бустинг XGBoost',\n",
    "                  # передаем закодированные категориальные признаки\n",
    "                  test_features[category_columns_ordinal + numeric_columns],\n",
    "                  test_target, ax)\n",
    "\n",
    "fig.tight_layout()"
   ]
  },
  {
   "cell_type": "markdown",
   "metadata": {},
   "source": [
    "<a id='Link17'></a>"
   ]
  },
  {
   "cell_type": "markdown",
   "metadata": {},
   "source": [
    "### Проверим модели на вменяемость. Посчитаем `RMSE` у константной модели по предсказаниям среднего `price`"
   ]
  },
  {
   "cell_type": "code",
   "execution_count": 28,
   "metadata": {},
   "outputs": [
    {
     "name": "stdout",
     "output_type": "stream",
     "text": [
      "RMSE константной модели на тестовой выборке: 4507.78\n"
     ]
    }
   ],
   "source": [
    "# проверяем на вменяемость\n",
    "# делаем серию из среднего price обучающей выборки\n",
    "predictions_mean = pd.Series(train_target.mean(),\n",
    "                                index=test_target.index)\n",
    "print('RMSE константной модели на тестовой выборке: {:.2f}'.format(fun_rmse(test_target, predictions_mean)))"
   ]
  },
  {
   "cell_type": "markdown",
   "metadata": {},
   "source": [
    "- ***Все модели прошли проверку на вменяемость***"
   ]
  },
  {
   "cell_type": "markdown",
   "metadata": {},
   "source": [
    "<a id='Link18'></a>"
   ]
  },
  {
   "cell_type": "markdown",
   "metadata": {},
   "source": [
    "### Анализ моделей"
   ]
  },
  {
   "cell_type": "markdown",
   "metadata": {},
   "source": [
    "#### *Качество моделей на тестовой выборке:*\n",
    "- *Линейная регрессия*: **RMSE = 2745**\n",
    "- *Дерево решений*: **RMSE = 2047**\n",
    "- *Случайный лес*: **RMSE = 2011**\n",
    "- *Градиентный бустинг LightGBM*: **RMSE = 1762**\n",
    "- *Градиентный бустинг CatBoost*: **RMSE = 1826**\n",
    "- *Градиентный бустинг XGBoost*: **RMSE = 1774**\n",
    "\n",
    "\n",
    "#### *Скорость предсказания на тестовой выборке:*\n",
    "- *Линейная регрессия*: **0,2** сек\n",
    "- *Дерево решений*: **0,02** сек\n",
    "- *Случайный лес*: **0,5** сек\n",
    "- *Градиентный бустинг LightGBM*: **0,2** сек\n",
    "- *Градиентный бустинг CatBoost*: **0,1** сек\n",
    "- *Градиентный бустинг XGBoost*: **0,2** сек\n",
    "\n",
    "\n",
    "#### *Время обучения полного обучающего датасета после получения лучших параметров:*\n",
    "- *Линейная регрессия*: **5** сек\n",
    "- *Дерево решений*: **0,9** сек\n",
    "- *Случайный лес*: **27** сек\n",
    "- *Градиентный бустинг LightGBM*: **1** сек\n",
    "- *Градиентный бустинг CatBoost*: **6** сек\n",
    "- *Градиентный бустинг XGBoost*: **6** сек\n",
    "\n",
    "\n",
    "**Самая лучшая модель по качеству среди простых моделей - Случайный лес**.\n",
    "\n",
    "**Самые лучшие модели по качеству среди всех моделей - Градиентный бустинг LightGBM и Градиентный бустинг XGBoost**, при этом скорость предсказания у обеих моделей одинаковая, но скорость обучения у LightGBM гораздо лучше.\n",
    "\n",
    "**Самая худшая модель по качеству - Линейная регрессия**.\n",
    "\n",
    "**Медленнее всех обучается Случайный лес**.\n",
    "\n",
    "Почти у всех моделей наибольший вес имеют признаки: `registrationyear`, `power`, `kilometer`. Но LGBMRegressor поставила на первое место признак `model`. Самыми \"невостребованными\" оказались признаки: `registrationmonth`, `gearbox`, `fueltype`."
   ]
  },
  {
   "cell_type": "markdown",
   "metadata": {},
   "source": [
    "<a id='Link19'></a>"
   ]
  },
  {
   "cell_type": "markdown",
   "metadata": {},
   "source": [
    "## 7. Общий вывод\n",
    "\n",
    "\n",
    "\n",
    " - *Изучили общую информацию*\n",
    "    - Обнаружили *пропуски в категориальных признаках*: `VehicleType`, `Gearbox`, `Model`, `FuelType`, `NotRepaired`\n",
    "\n",
    "\n",
    "\n",
    " - *Предобработали данные*\n",
    "    - Заменили названия столбцов\n",
    "    - Заменили типы данных\n",
    "    - *Все пропуски в категориальных признаках заменили на unknown*\n",
    "    - Удалили строки-дубликаты\n",
    "\n",
    "\n",
    "\n",
    " - *Провели исследовательский анализ данных*\n",
    "   - Удалили аномальные значения в `registrationyear` и `power`\n",
    "   - Изучили матрицу корреляции между количественными переменными. Отметили:\n",
    "      - положительную корреляцию между `price` и `registrationyear`\n",
    "      - положительную корреляцию между `price` и `power`\n",
    "      - слабую отрицательную корреляцию между `price` и `kilometer`\n",
    "      - слабую отрицательную корреляцию между `registrationyear` и `kilometer`\n",
    "      - **мультиколлинеарности и утечки целевого признака не обнаружили**\n",
    "\n",
    "\n",
    "\n",
    " - *Подготовили признаки для построения модели*\n",
    "   - Закодировали категориальные признаки\n",
    "   - Разделили датасет на обучающую и тестовую выборки\n",
    "   - Масштабировали количественные признаки\n",
    "\n",
    "\n",
    "\n",
    " - *Построили модели:* **Линейная регрессия, Дерево решений, Случайный лес, Градиентный бустинг LightGBM, Градиентный бустинг CatBoost, Градиентный бустинг XGBoost**\n",
    "\n",
    "\n",
    "\n",
    " - *Провели анализ моделей*\n",
    "   - Проверили модели на тестовой выборке\n",
    "   - Проверили модели на вменяемость\n",
    "   - Сравнили качество, скорость предсказания, время обучения всех моделей, а также веса признаков при построении моделей\n",
    "\n",
    "\n",
    "\n",
    " - **Вывод**\n",
    "  - **Самая лучшая модель по качеству среди простых моделей - Случайный лес**.\n",
    "\n",
    "  - **Самые лучшие модели по качеству среди всех моделей - Градиентный бустинг LightGBM и Градиентный бустинг XGBoost**, при этом скорость предсказания у обеих моделей одинаковая, но скорость обучения у LightGBM гораздо лучше.\n",
    "\n",
    "  - **Самая худшая модель по качеству - Линейная регрессия**.\n",
    "\n",
    "  - **Медленнее всех обучается Случайный лес**.\n",
    "\n",
    "  - Почти у всех моделей наибольший вес имеют признаки: `registrationyear`, `power`, `kilometer`. Но LGBMRegressor поставила на первое место признак `model`. Самыми \"невостребованными\" оказались признаки: `registrationmonth`, `gearbox`, `fueltype`.\n",
    "\n",
    "\n",
    "  - **Для предсказания цены в приложении будем использовать модель Градиентный бустинг LightGBM, которая имеет лучшие характеристики по качеству и скорости обучения и хорошую скорость предсказания**."
   ]
  }
 ],
 "metadata": {
  "kernelspec": {
   "display_name": "Python 3",
   "language": "python",
   "name": "python3"
  },
  "language_info": {
   "codemirror_mode": {
    "name": "ipython",
    "version": 3
   },
   "file_extension": ".py",
   "mimetype": "text/x-python",
   "name": "python",
   "nbconvert_exporter": "python",
   "pygments_lexer": "ipython3",
   "version": "3.7.6"
  }
 },
 "nbformat": 4,
 "nbformat_minor": 2
}
