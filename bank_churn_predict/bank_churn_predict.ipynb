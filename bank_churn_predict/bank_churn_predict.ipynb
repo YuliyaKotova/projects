{
 "cells": [
  {
   "cell_type": "markdown",
   "metadata": {},
   "source": [
    "### *План:*\n",
    "\n",
    "- ***1. Изучение общей информации*** \n",
    "\n",
    " - [Загрузка библиотек, чтение и изучение файлов с данными, ознакомление, получение общей информации](#Link1)\n",
    " \n",
    " \n",
    "- ***2. Предобработка данных***\n",
    "\n",
    " - [Замена названий столбцов](#Link2)\n",
    " - [Проверка дубликатов](#Link3)\n",
    "\n",
    "\n",
    "- ***3. Исследовательский анализ данных*** \n",
    "\n",
    " - [Количественные признаки](#Link4)\n",
    "   - [Изучение аномалий, выбросов, распределений признаков. Построение boxplot’ов и гистрограмм](#Link5)\n",
    "   - [Изучение взаимосвязи между признаками. Построение матрицы корреляций](#Link6)\n",
    "   - [Изучение взаимосвязи между количественными признаками и целевым признаком](#Link7)\n",
    " - [Категориальные признаки](#Link8)\n",
    "   - [Построение столбчатых диаграмм](#Link9)\n",
    "\n",
    "\n",
    "- ***4. Подготовка признаков для построения моделей*** \n",
    "\n",
    " - [Кодирование категориальных признаков](#Link10)\n",
    " - [Подготовка обучающей и тестовой выборок](#Link11)\n",
    " - [Масштабирование признаков](#Link12)\n",
    "\n",
    "\n",
    "- ***5. Исследование баланса классов. Обучение моделей*** \n",
    "\n",
    " - [Исследование баланса классов в целевом признаке датасета](#Link13)\n",
    " - [Построение моделей без учета дисбаланса классов](#Link14)\n",
    " - [Увеличение качества моделей с учетом дисбаланса классов](#Link15)\n",
    "   - [Взвешивание классов](#Link16)\n",
    "   - [Увеличение редкого класса в обучающей выборке](#Link17)\n",
    "   - [Уменьшение частого класса в обучающей выборке](#Link18)\n",
    "\n",
    "\n",
    "- ***6. Финальное тестирование. Определение лучшей модели.***\n",
    "\n",
    " - [Проверка моделей на тестовой выборке](#Link19)\n",
    " - [Проверка моделей на вменяемость](#Link20)\n",
    " - [Определение лучшей модели](#Link21)\n",
    "\n",
    "\n",
    "- ***7. Общий вывод***\n",
    "\n",
    " - [Вывод](#Link22)"
   ]
  },
  {
   "cell_type": "markdown",
   "metadata": {},
   "source": [
    "<a id='Link1'></a>"
   ]
  },
  {
   "cell_type": "markdown",
   "metadata": {},
   "source": [
    "## 1. Изучение общей информации"
   ]
  },
  {
   "cell_type": "code",
   "execution_count": 1,
   "metadata": {},
   "outputs": [],
   "source": [
    "import pandas as pd\n",
    "import numpy as np\n",
    "from time import perf_counter\n",
    "\n",
    "from simple_colors import *\n",
    "\n",
    "import warnings\n",
    "warnings.filterwarnings(\"ignore\")\n",
    "\n",
    "import seaborn as sns\n",
    "from matplotlib import pyplot as plt\n",
    "\n",
    "from sklearn.tree import DecisionTreeClassifier\n",
    "from sklearn.ensemble import RandomForestClassifier\n",
    "from sklearn.linear_model import LogisticRegression\n",
    "\n",
    "from sklearn.model_selection import train_test_split\n",
    "from sklearn.model_selection import GridSearchCV\n",
    "from sklearn.preprocessing import StandardScaler\n",
    "from sklearn.utils import shuffle\n",
    "from sklearn.preprocessing import OrdinalEncoder\n",
    "\n",
    "from sklearn.metrics import accuracy_score, f1_score, roc_auc_score, \\\n",
    "                            roc_curve, confusion_matrix"
   ]
  },
  {
   "cell_type": "code",
   "execution_count": 2,
   "metadata": {
    "scrolled": false
   },
   "outputs": [
    {
     "name": "stdout",
     "output_type": "stream",
     "text": [
      "\n",
      "Информация о датасете Поведение клиентов: \n",
      "\n",
      "<class 'pandas.core.frame.DataFrame'>\n",
      "RangeIndex: 10000 entries, 0 to 9999\n",
      "Data columns (total 14 columns):\n",
      " #   Column           Non-Null Count  Dtype  \n",
      "---  ------           --------------  -----  \n",
      " 0   RowNumber        10000 non-null  int64  \n",
      " 1   CustomerId       10000 non-null  int64  \n",
      " 2   Surname          10000 non-null  object \n",
      " 3   CreditScore      10000 non-null  int64  \n",
      " 4   Geography        10000 non-null  object \n",
      " 5   Gender           10000 non-null  object \n",
      " 6   Age              10000 non-null  int64  \n",
      " 7   Tenure           10000 non-null  int64  \n",
      " 8   Balance          10000 non-null  float64\n",
      " 9   NumOfProducts    10000 non-null  int64  \n",
      " 10  HasCrCard        10000 non-null  int64  \n",
      " 11  IsActiveMember   10000 non-null  int64  \n",
      " 12  EstimatedSalary  10000 non-null  float64\n",
      " 13  Exited           10000 non-null  int64  \n",
      "dtypes: float64(2), int64(9), object(3)\n",
      "memory usage: 1.1+ MB\n"
     ]
    },
    {
     "data": {
      "text/plain": [
       "None"
      ]
     },
     "metadata": {},
     "output_type": "display_data"
    },
    {
     "name": "stdout",
     "output_type": "stream",
     "text": [
      "\n",
      "Датасет Поведение клиентов: \n",
      "\n"
     ]
    },
    {
     "data": {
      "text/html": [
       "<div>\n",
       "<style scoped>\n",
       "    .dataframe tbody tr th:only-of-type {\n",
       "        vertical-align: middle;\n",
       "    }\n",
       "\n",
       "    .dataframe tbody tr th {\n",
       "        vertical-align: top;\n",
       "    }\n",
       "\n",
       "    .dataframe thead th {\n",
       "        text-align: right;\n",
       "    }\n",
       "</style>\n",
       "<table border=\"1\" class=\"dataframe\">\n",
       "  <thead>\n",
       "    <tr style=\"text-align: right;\">\n",
       "      <th></th>\n",
       "      <th>RowNumber</th>\n",
       "      <th>CustomerId</th>\n",
       "      <th>Surname</th>\n",
       "      <th>CreditScore</th>\n",
       "      <th>Geography</th>\n",
       "      <th>Gender</th>\n",
       "      <th>Age</th>\n",
       "      <th>Tenure</th>\n",
       "      <th>Balance</th>\n",
       "      <th>NumOfProducts</th>\n",
       "      <th>HasCrCard</th>\n",
       "      <th>IsActiveMember</th>\n",
       "      <th>EstimatedSalary</th>\n",
       "      <th>Exited</th>\n",
       "    </tr>\n",
       "  </thead>\n",
       "  <tbody>\n",
       "    <tr>\n",
       "      <th>0</th>\n",
       "      <td>1</td>\n",
       "      <td>15634602</td>\n",
       "      <td>Hargrave</td>\n",
       "      <td>619</td>\n",
       "      <td>France</td>\n",
       "      <td>Female</td>\n",
       "      <td>42</td>\n",
       "      <td>2</td>\n",
       "      <td>0.00</td>\n",
       "      <td>1</td>\n",
       "      <td>1</td>\n",
       "      <td>1</td>\n",
       "      <td>101348.88</td>\n",
       "      <td>1</td>\n",
       "    </tr>\n",
       "    <tr>\n",
       "      <th>1</th>\n",
       "      <td>2</td>\n",
       "      <td>15647311</td>\n",
       "      <td>Hill</td>\n",
       "      <td>608</td>\n",
       "      <td>Spain</td>\n",
       "      <td>Female</td>\n",
       "      <td>41</td>\n",
       "      <td>1</td>\n",
       "      <td>83807.86</td>\n",
       "      <td>1</td>\n",
       "      <td>0</td>\n",
       "      <td>1</td>\n",
       "      <td>112542.58</td>\n",
       "      <td>0</td>\n",
       "    </tr>\n",
       "    <tr>\n",
       "      <th>2</th>\n",
       "      <td>3</td>\n",
       "      <td>15619304</td>\n",
       "      <td>Onio</td>\n",
       "      <td>502</td>\n",
       "      <td>France</td>\n",
       "      <td>Female</td>\n",
       "      <td>42</td>\n",
       "      <td>8</td>\n",
       "      <td>159660.80</td>\n",
       "      <td>3</td>\n",
       "      <td>1</td>\n",
       "      <td>0</td>\n",
       "      <td>113931.57</td>\n",
       "      <td>1</td>\n",
       "    </tr>\n",
       "    <tr>\n",
       "      <th>3</th>\n",
       "      <td>4</td>\n",
       "      <td>15701354</td>\n",
       "      <td>Boni</td>\n",
       "      <td>699</td>\n",
       "      <td>France</td>\n",
       "      <td>Female</td>\n",
       "      <td>39</td>\n",
       "      <td>1</td>\n",
       "      <td>0.00</td>\n",
       "      <td>2</td>\n",
       "      <td>0</td>\n",
       "      <td>0</td>\n",
       "      <td>93826.63</td>\n",
       "      <td>0</td>\n",
       "    </tr>\n",
       "    <tr>\n",
       "      <th>4</th>\n",
       "      <td>5</td>\n",
       "      <td>15737888</td>\n",
       "      <td>Mitchell</td>\n",
       "      <td>850</td>\n",
       "      <td>Spain</td>\n",
       "      <td>Female</td>\n",
       "      <td>43</td>\n",
       "      <td>2</td>\n",
       "      <td>125510.82</td>\n",
       "      <td>1</td>\n",
       "      <td>1</td>\n",
       "      <td>1</td>\n",
       "      <td>79084.10</td>\n",
       "      <td>0</td>\n",
       "    </tr>\n",
       "    <tr>\n",
       "      <th>5</th>\n",
       "      <td>6</td>\n",
       "      <td>15574012</td>\n",
       "      <td>Chu</td>\n",
       "      <td>645</td>\n",
       "      <td>Spain</td>\n",
       "      <td>Male</td>\n",
       "      <td>44</td>\n",
       "      <td>8</td>\n",
       "      <td>113755.78</td>\n",
       "      <td>2</td>\n",
       "      <td>1</td>\n",
       "      <td>0</td>\n",
       "      <td>149756.71</td>\n",
       "      <td>1</td>\n",
       "    </tr>\n",
       "    <tr>\n",
       "      <th>6</th>\n",
       "      <td>7</td>\n",
       "      <td>15592531</td>\n",
       "      <td>Bartlett</td>\n",
       "      <td>822</td>\n",
       "      <td>France</td>\n",
       "      <td>Male</td>\n",
       "      <td>50</td>\n",
       "      <td>7</td>\n",
       "      <td>0.00</td>\n",
       "      <td>2</td>\n",
       "      <td>1</td>\n",
       "      <td>1</td>\n",
       "      <td>10062.80</td>\n",
       "      <td>0</td>\n",
       "    </tr>\n",
       "    <tr>\n",
       "      <th>7</th>\n",
       "      <td>8</td>\n",
       "      <td>15656148</td>\n",
       "      <td>Obinna</td>\n",
       "      <td>376</td>\n",
       "      <td>Germany</td>\n",
       "      <td>Female</td>\n",
       "      <td>29</td>\n",
       "      <td>4</td>\n",
       "      <td>115046.74</td>\n",
       "      <td>4</td>\n",
       "      <td>1</td>\n",
       "      <td>0</td>\n",
       "      <td>119346.88</td>\n",
       "      <td>1</td>\n",
       "    </tr>\n",
       "    <tr>\n",
       "      <th>8</th>\n",
       "      <td>9</td>\n",
       "      <td>15792365</td>\n",
       "      <td>He</td>\n",
       "      <td>501</td>\n",
       "      <td>France</td>\n",
       "      <td>Male</td>\n",
       "      <td>44</td>\n",
       "      <td>4</td>\n",
       "      <td>142051.07</td>\n",
       "      <td>2</td>\n",
       "      <td>0</td>\n",
       "      <td>1</td>\n",
       "      <td>74940.50</td>\n",
       "      <td>0</td>\n",
       "    </tr>\n",
       "    <tr>\n",
       "      <th>9</th>\n",
       "      <td>10</td>\n",
       "      <td>15592389</td>\n",
       "      <td>H?</td>\n",
       "      <td>684</td>\n",
       "      <td>France</td>\n",
       "      <td>Male</td>\n",
       "      <td>27</td>\n",
       "      <td>2</td>\n",
       "      <td>134603.88</td>\n",
       "      <td>1</td>\n",
       "      <td>1</td>\n",
       "      <td>1</td>\n",
       "      <td>71725.73</td>\n",
       "      <td>0</td>\n",
       "    </tr>\n",
       "  </tbody>\n",
       "</table>\n",
       "</div>"
      ],
      "text/plain": [
       "   RowNumber  CustomerId   Surname  CreditScore Geography  Gender  Age  \\\n",
       "0          1    15634602  Hargrave          619    France  Female   42   \n",
       "1          2    15647311      Hill          608     Spain  Female   41   \n",
       "2          3    15619304      Onio          502    France  Female   42   \n",
       "3          4    15701354      Boni          699    France  Female   39   \n",
       "4          5    15737888  Mitchell          850     Spain  Female   43   \n",
       "5          6    15574012       Chu          645     Spain    Male   44   \n",
       "6          7    15592531  Bartlett          822    France    Male   50   \n",
       "7          8    15656148    Obinna          376   Germany  Female   29   \n",
       "8          9    15792365        He          501    France    Male   44   \n",
       "9         10    15592389        H?          684    France    Male   27   \n",
       "\n",
       "   Tenure    Balance  NumOfProducts  HasCrCard  IsActiveMember  \\\n",
       "0       2       0.00              1          1               1   \n",
       "1       1   83807.86              1          0               1   \n",
       "2       8  159660.80              3          1               0   \n",
       "3       1       0.00              2          0               0   \n",
       "4       2  125510.82              1          1               1   \n",
       "5       8  113755.78              2          1               0   \n",
       "6       7       0.00              2          1               1   \n",
       "7       4  115046.74              4          1               0   \n",
       "8       4  142051.07              2          0               1   \n",
       "9       2  134603.88              1          1               1   \n",
       "\n",
       "   EstimatedSalary  Exited  \n",
       "0        101348.88       1  \n",
       "1        112542.58       0  \n",
       "2        113931.57       1  \n",
       "3         93826.63       0  \n",
       "4         79084.10       0  \n",
       "5        149756.71       1  \n",
       "6         10062.80       0  \n",
       "7        119346.88       1  \n",
       "8         74940.50       0  \n",
       "9         71725.73       0  "
      ]
     },
     "metadata": {},
     "output_type": "display_data"
    }
   ],
   "source": [
    "# читаем файл с данными о поведении клиентов\n",
    "clients_behavior = pd.read_csv(r'Data\\Churn_Modelling.csv')\n",
    "\n",
    "print('\\nИнформация о датасете Поведение клиентов: \\n')\n",
    "display(clients_behavior.info())\n",
    "\n",
    "print('\\nДатасет Поведение клиентов: \\n')\n",
    "display(clients_behavior.head(10))"
   ]
  },
  {
   "cell_type": "markdown",
   "metadata": {},
   "source": [
    "### Вывод\n",
    "- Данные соответствуют описанию\n",
    "- Видим 14 колонок, 10000 строк\n",
    "- `RowNumber` не несет никакой смысловой нагрузки\n",
    "- Целевой признак - `Exited` (клиент ушел — 1, остался — 0)\n",
    "- **Явных пропусков не наблюдается**\n",
    "- Типы данных соответствуют данным, производить замену типов данных не будем\n",
    "- Приведем названия столбцов к нижнему регистру\n",
    "- Отметим, что клиент мог уйти (exited=1), но при этом иметь положительный баланс на счету и кредитную карту в банке"
   ]
  },
  {
   "cell_type": "markdown",
   "metadata": {},
   "source": [
    "## 2. Предобработка данных"
   ]
  },
  {
   "cell_type": "markdown",
   "metadata": {},
   "source": [
    "<a id='Link2'></a>"
   ]
  },
  {
   "cell_type": "markdown",
   "metadata": {},
   "source": [
    " - **Приведем названия столбцов к нижему регистру**"
   ]
  },
  {
   "cell_type": "code",
   "execution_count": 3,
   "metadata": {},
   "outputs": [
    {
     "name": "stdout",
     "output_type": "stream",
     "text": [
      "<class 'pandas.core.frame.DataFrame'>\n",
      "RangeIndex: 10000 entries, 0 to 9999\n",
      "Data columns (total 14 columns):\n",
      " #   Column           Non-Null Count  Dtype  \n",
      "---  ------           --------------  -----  \n",
      " 0   rownumber        10000 non-null  int64  \n",
      " 1   customerid       10000 non-null  int64  \n",
      " 2   surname          10000 non-null  object \n",
      " 3   creditscore      10000 non-null  int64  \n",
      " 4   geography        10000 non-null  object \n",
      " 5   gender           10000 non-null  object \n",
      " 6   age              10000 non-null  int64  \n",
      " 7   tenure           10000 non-null  int64  \n",
      " 8   balance          10000 non-null  float64\n",
      " 9   numofproducts    10000 non-null  int64  \n",
      " 10  hascrcard        10000 non-null  int64  \n",
      " 11  isactivemember   10000 non-null  int64  \n",
      " 12  estimatedsalary  10000 non-null  float64\n",
      " 13  exited           10000 non-null  int64  \n",
      "dtypes: float64(2), int64(9), object(3)\n",
      "memory usage: 1.1+ MB\n"
     ]
    },
    {
     "data": {
      "text/plain": [
       "None"
      ]
     },
     "metadata": {},
     "output_type": "display_data"
    }
   ],
   "source": [
    "# поменяем регистр на нижний в названиях столбцов\n",
    "clients_behavior.columns = clients_behavior.columns.str.lower()\n",
    "display(clients_behavior.info())"
   ]
  },
  {
   "cell_type": "markdown",
   "metadata": {},
   "source": [
    "<a id='Link3'></a>"
   ]
  },
  {
   "cell_type": "markdown",
   "metadata": {},
   "source": [
    " - **Проверим и обработаем дубликаты**"
   ]
  },
  {
   "cell_type": "code",
   "execution_count": 4,
   "metadata": {},
   "outputs": [
    {
     "data": {
      "text/plain": [
       "'Количество уникальных id клиентов:'"
      ]
     },
     "metadata": {},
     "output_type": "display_data"
    },
    {
     "data": {
      "text/plain": [
       "10000"
      ]
     },
     "metadata": {},
     "output_type": "display_data"
    },
    {
     "data": {
      "text/plain": [
       "'Уникальные значения geography:'"
      ]
     },
     "metadata": {},
     "output_type": "display_data"
    },
    {
     "data": {
      "text/plain": [
       "France     5014\n",
       "Germany    2509\n",
       "Spain      2477\n",
       "Name: geography, dtype: int64"
      ]
     },
     "metadata": {},
     "output_type": "display_data"
    },
    {
     "data": {
      "text/plain": [
       "'Уникальные значения gender:'"
      ]
     },
     "metadata": {},
     "output_type": "display_data"
    },
    {
     "data": {
      "text/plain": [
       "Male      5457\n",
       "Female    4543\n",
       "Name: gender, dtype: int64"
      ]
     },
     "metadata": {},
     "output_type": "display_data"
    },
    {
     "name": "stdout",
     "output_type": "stream",
     "text": [
      "Количество строк-дубликатов:  0\n"
     ]
    }
   ],
   "source": [
    "# проверяем уникальность customerid\n",
    "display('Количество уникальных id клиентов:')\n",
    "display(clients_behavior.customerid.nunique())\n",
    "\n",
    "# проверяем уникальность категориальных переменных типа object\n",
    "display('Уникальные значения geography:')\n",
    "display(clients_behavior.geography.value_counts())\n",
    "display('Уникальные значения gender:')\n",
    "display(clients_behavior.gender.value_counts())\n",
    "print('Количество строк-дубликатов: ', clients_behavior.duplicated().sum())"
   ]
  },
  {
   "cell_type": "markdown",
   "metadata": {},
   "source": [
    "### Вывод\n",
    "- Заменили регистр на нижний в названии столбцов\n",
    "- Проверили данные на дубликаты, **дубликаты не обнаружены**"
   ]
  },
  {
   "cell_type": "markdown",
   "metadata": {},
   "source": [
    "## 3. Исследовательский анализ данных"
   ]
  },
  {
   "cell_type": "code",
   "execution_count": 5,
   "metadata": {},
   "outputs": [],
   "source": [
    "def fun_plot(plot, title, df=None,\n",
    "             df_x=None, df_x_name=None, x_label=None,\n",
    "             df_y=None, df_y_name=None, y_label=None,\n",
    "             category=None, color=None, \n",
    "             label=None, ax=None, linestyle=None, fmt=''):\n",
    "    \n",
    "    \"\"\" функция для построения графиков\n",
    "\n",
    "    параметры:\n",
    "     - plot - типа графика, который нужно построить\n",
    "     - title - заголовок\n",
    "     - df - DF\n",
    "     - df_x - значения для оси X\n",
    "     - df_x_name - название столбца в DF для оси X\n",
    "     - x_label - название оси X\n",
    "     - df_y - значения для оси Y\n",
    "     - df_y_name - название столбца в DF для оси Y\n",
    "     - y_label - название оси Y\n",
    "     - category - столбец в DF, по которому нужно сделать группировку     \n",
    "     - color - цвет\n",
    "     - label - название для легенды\n",
    "     - ax - subplot\n",
    "     - linestyle - тип линии\n",
    "     - fmt - формат\n",
    "     \"\"\"\n",
    "    \n",
    "    # столбчатый график\n",
    "    if plot == 'bar':\n",
    "        sns.barplot(x=df_x, y=df_y, hue=category, hue_order=[1, 0])\n",
    "\n",
    "    # ящик с усами\n",
    "    elif plot == 'box':\n",
    "        sns.boxplot(data=df, x=category, y=df_y,\n",
    "                    palette='muted', order=[1, 0])\n",
    "    \n",
    "    # гистограмма\n",
    "    elif plot == 'hist':\n",
    "        sns.histplot(data=df, x=df_x_name, hue=category,\n",
    "                     kde=True, palette='muted',\n",
    "                     hue_order=[1, 0], linewidth=0)\n",
    "        \n",
    "    # диаграмма рассеяния\n",
    "    elif plot == 'scatter':\n",
    "        sns.scatterplot(data=df, x=df_x_name, y=df_y_name, s=100,\n",
    "                        color=color, ax=ax)\n",
    "        ax.set_xticks([0,1])\n",
    "    \n",
    "    # тепловая диаграмма\n",
    "    elif plot == 'heat':\n",
    "        sns.heatmap(df, xticklabels=df.columns, yticklabels=df.columns,\n",
    "                    cmap='viridis', center=0, annot=True, fmt=fmt)\n",
    "    \n",
    "    # линейный график\n",
    "    elif plot == 'plot':\n",
    "        sns.lineplot(data=pd.DataFrame({'fpr': df_x, 'tpr': df_y}),\n",
    "                 x=df_x_name, y=df_y_name,\n",
    "                 color=color, label=label, linestyle=linestyle)\n",
    "        plt.legend(loc=\"lower right\")\n",
    "    \n",
    "    # украшение графика\n",
    "    plt.title(title + '\\n', fontsize=12)\n",
    "    plt.xlabel(x_label, fontsize=12)\n",
    "    plt.ylabel(y_label, fontsize=12)\n",
    "\n",
    "    return None"
   ]
  },
  {
   "cell_type": "markdown",
   "metadata": {},
   "source": [
    "- В качестве фичей, на которых в дальнейшем будем тренировать модель для предсказания `exited`, выделим: `creditscore`, `geography`, `gender`, `age`, `tenure`, `balance`, `numofproducts`, `hascrcard`, `isactivemember`, `estimatedsalary`"
   ]
  },
  {
   "cell_type": "code",
   "execution_count": 6,
   "metadata": {},
   "outputs": [
    {
     "data": {
      "text/plain": [
       "'Количественные признаки: '"
      ]
     },
     "metadata": {},
     "output_type": "display_data"
    },
    {
     "data": {
      "text/plain": [
       "['creditscore', 'age', 'tenure', 'balance', 'numofproducts', 'estimatedsalary']"
      ]
     },
     "metadata": {},
     "output_type": "display_data"
    },
    {
     "data": {
      "text/plain": [
       "'Категориальные признаки: '"
      ]
     },
     "metadata": {},
     "output_type": "display_data"
    },
    {
     "data": {
      "text/plain": [
       "['geography', 'gender', 'hascrcard', 'isactivemember']"
      ]
     },
     "metadata": {},
     "output_type": "display_data"
    },
    {
     "data": {
      "text/plain": [
       "'Целевой признак: '"
      ]
     },
     "metadata": {},
     "output_type": "display_data"
    },
    {
     "data": {
      "text/plain": [
       "'exited'"
      ]
     },
     "metadata": {},
     "output_type": "display_data"
    }
   ],
   "source": [
    "# определим словарь количественных признаков\n",
    "dict_features_numeric = {'creditscore': 'Кредитный рейтинг', 'age': 'Возраст',\n",
    "                       'tenure': 'Количество объектов недвижимости', 'balance': 'Баланс на счетах клиента',\n",
    "                       'numofproducts': 'Количество продуктов в банке у клиента', 'estimatedsalary': 'Зарплата'}\n",
    "display('Количественные признаки: ', list(dict_features_numeric.keys()))\n",
    "\n",
    "\n",
    "# определим словарь категориальных признаков\n",
    "dict_features_category = {'geography': 'Страна', 'gender': 'Пол',\n",
    "                          'hascrcard': 'Наличие кредитной карты',\n",
    "                          'isactivemember': 'Активный пользователь услуг банка'}\n",
    "display('Категориальные признаки: ', list(dict_features_category.keys()))\n",
    "\n",
    "# определим целевой признак\n",
    "target_column = 'exited'\n",
    "display('Целевой признак: ', target_column)"
   ]
  },
  {
   "cell_type": "markdown",
   "metadata": {},
   "source": [
    "<a id='Link4'></a>"
   ]
  },
  {
   "cell_type": "markdown",
   "metadata": {},
   "source": [
    "### Анализ количественных признаков:"
   ]
  },
  {
   "cell_type": "markdown",
   "metadata": {},
   "source": [
    "<a id='Link5'></a>"
   ]
  },
  {
   "cell_type": "markdown",
   "metadata": {},
   "source": [
    "### Изучим выбросы и аномалии. Посторим boxplot'ы и гистограммы с группировкой по целевому признаку"
   ]
  },
  {
   "cell_type": "code",
   "execution_count": 7,
   "metadata": {},
   "outputs": [],
   "source": [
    "sns.set_context('paper')"
   ]
  },
  {
   "cell_type": "code",
   "execution_count": 8,
   "metadata": {
    "scrolled": false
   },
   "outputs": [
    {
     "data": {
      "image/png": "[encoded data removed]",
      "text/plain": [
       "<Figure size 864x1728 with 12 Axes>"
      ]
     },
     "metadata": {
      "needs_background": "light"
     },
     "output_type": "display_data"
    }
   ],
   "source": [
    "fig = plt.figure(figsize=(12,24))\n",
    "\n",
    "# строим boxplot и hist по всем количественным признакам с группировкой по exited\n",
    "\n",
    "# index строки, в которой будет отображаться текущий график\n",
    "ind=0\n",
    "# идем по словарю количесвтенных признаков\n",
    "for feature_numeric in dict_features_numeric:\n",
    "    \n",
    "    # создаем subplot\n",
    "    ax = plt.subplot2grid((6,3), (ind,0))\n",
    "    # рисуем boxplot\n",
    "    fun_plot('box', 'Boxplot: ' + dict_features_numeric[feature_numeric],\n",
    "             df=clients_behavior,\n",
    "             x_label='Exited: Клиент ушел(1), остался(0)',\n",
    "             df_y=clients_behavior[feature_numeric],\n",
    "             category=clients_behavior.exited)\n",
    "       \n",
    "    # создаем subplot\n",
    "    ax = plt.subplot2grid((6,3), (ind,1), colspan=2)\n",
    "    # рисуем hist\n",
    "    fun_plot('hist', 'Гистограмма: ' + dict_features_numeric[feature_numeric],\n",
    "             df=clients_behavior,\n",
    "             # название столбца, по которому строим гистограмму\n",
    "             df_x_name=feature_numeric,\n",
    "             category=target_column)\n",
    "    \n",
    "    # увеличиваем индекс строки\n",
    "    ind += 1\n",
    "    \n",
    "fig.tight_layout()"
   ]
  },
  {
   "cell_type": "markdown",
   "metadata": {},
   "source": [
    "#### Вывод\n",
    "\n",
    "\n",
    "- *Кредитный рейтинг `creditscore`*:\n",
    " - Видим выбросы ниже уровня 300 по тем, кто ушел. Значит, ***в том числе, уходят клиенты с очень низким рейтингом***.\n",
    " - Распределение признака похоже на нормальное, но имеет ***выраженный высокий хвост справа, похожий на второй горб***, то есть частота максимальных значений `creditscore` высока для нормального распределения. Можно сказать, что в банке относительно много клиентов с максимальным кредитным рейтингом. Возможно, для таких клиентов в банке предусмотрена специальная программа обслуживания.\n",
    "\n",
    "\n",
    "- *Возраст `age`*:\n",
    " - Медианный возраст отличается:\n",
    "   - клиент остался: 35 лет\n",
    "   - клиент ушел: 45 лет\n",
    " - Выбросы:\n",
    "   - клиент остался: выше 55 лет\n",
    "   - клиент ушел: выше 70 лет.\n",
    " - ***Банк покидают более взрослые клиенты. И для тех, кто остался, возраст выше 55 лет - редкость***. *Но редкие клиенты старше 70 лет предпочитают больше оставаться, чем уходить*.\n",
    " - В распределении видим бимодальность в районах 28 и 40 лет. Опять-таки, возможно, влияние, других факторов, например, специальные программы. Например, льготная ипотека молодым семьям до 30 лет.\n",
    "\n",
    "\n",
    "- *Количество объектов недвижимости `tenure`*:\n",
    " - ***Количество объектов недвижимости среди ушедших и оставшихся клиентов примерно одинаковое***.\n",
    "\n",
    "\n",
    "- *Баланс на счетах клиента `balance`*:\n",
    " - Медианный баланс у тех, кто ушел, чуть выше, чем у тех, кто остался.\n",
    " - По оставшимся в банке клиентам нижняя граница усов около нуля совпадает с 1 квартилем. Это значит, что ***25% клиентов, которые остались, держат на счетах балансы около 0***. \n",
    " - По ушедшим из банка клиентам 1 квартиль находится на уровне 50 тыс.\n",
    " - ***Те, кто остался, продолжают держать в банке очень незначительные суммы***.\n",
    " - В распределении видим ***выраженную свечу слева около нуля, похожую на второй горб (бимодальность)***. ***Наблюдаем очень высокую частоту околонулевых балансов на счетах, особенно, среди тех, кто остался***. Возможно, это связано с тем, что много клиентов (как ушедших из банка, так и оставшихся) оставляют минимальные суммы на счетах и забывают про них.\n",
    "\n",
    "\n",
    "- *Количество продуктов в банке у клиента `numofproducts`*:\n",
    " - ***Среди тех, кто остался, имеют 1 или 2 продукта с банке. Те, кто ушел, чаще имели только 1 продукт***.\n",
    "\n",
    "\n",
    "- *Зарплата `estimatedsalary`*:\n",
    " - ***Зарплата среди ушедших и оставшихся клиентов примерно одинаковая***.\n",
    "\n",
    "\n",
    "- **Сильно выбивающихся аномальных значений нет. Выбросы оставим**."
   ]
  },
  {
   "cell_type": "markdown",
   "metadata": {},
   "source": [
    "<a id='Link6'></a>"
   ]
  },
  {
   "cell_type": "markdown",
   "metadata": {},
   "source": [
    "### Изучим взаимосвязи между количественными признаками. Построим тепловую диаграмму корреляции"
   ]
  },
  {
   "cell_type": "code",
   "execution_count": 9,
   "metadata": {},
   "outputs": [
    {
     "data": {
      "image/png": "[encoded data removed]",
      "text/plain": [
       "<Figure size 432x288 with 2 Axes>"
      ]
     },
     "metadata": {
      "needs_background": "light"
     },
     "output_type": "display_data"
    }
   ],
   "source": [
    "# строим тепловую диаграмму с корреляцией по всем количественным параметрам\n",
    "fun_plot('heat', 'Тепловая диаграмма: матрица корреляции',\n",
    "         df=clients_behavior[list(dict_features_numeric.keys())].corr(), fmt='.3f')"
   ]
  },
  {
   "cell_type": "markdown",
   "metadata": {},
   "source": [
    "#### Вывод\n",
    "\n",
    "- Наблюдаем *слабую отрицательную корреляцию между `balance` и `numofproducts`*\n",
    "- *Мультиколлинеарности* нет"
   ]
  },
  {
   "cell_type": "markdown",
   "metadata": {},
   "source": [
    "<a id='Link7'></a>"
   ]
  },
  {
   "cell_type": "markdown",
   "metadata": {},
   "source": [
    "### Изучим взаимосвязи между количественными признаками и целевым признаком `Exited`. Построим диаграммы рассеяния"
   ]
  },
  {
   "cell_type": "code",
   "execution_count": 10,
   "metadata": {
    "scrolled": false
   },
   "outputs": [
    {
     "data": {
      "image/png": "[encoded data removed]",
      "text/plain": [
       "<Figure size 864x648 with 6 Axes>"
      ]
     },
     "metadata": {
      "needs_background": "light"
     },
     "output_type": "display_data"
    }
   ],
   "source": [
    "fig = plt.figure(figsize=(12,9))\n",
    "\n",
    "# строим диаграммы рассеяния, чтобы посмотреть взаимосвязь между целевой переменной и фичами\n",
    "\n",
    "# index ax для текущего графика\n",
    "ind=1\n",
    "for feature_count in dict_features_numeric:\n",
    "    \n",
    "    # создаем subplot\n",
    "    ax = plt.subplot(2,3,ind)\n",
    "    # рисуем scatter\n",
    "    fun_plot('scatter', 'Диаграмма рассеяния взаимосвязи:\\n{} и\\nПризнак ухода клиента'\n",
    "             .format(dict_features_numeric[feature_count]),\n",
    "             x_label='Клиент ушел (0 - нет, 1 -да)',\n",
    "             y_label=dict_features_numeric[feature_count],\n",
    "             df=clients_behavior,\n",
    "             df_x_name = target_column,\n",
    "             df_y_name = str(feature_count),\n",
    "             color='orange', ax=ax)\n",
    "    \n",
    "    # увеличиваем индекс\n",
    "    ind += 1\n",
    "    \n",
    "fig.tight_layout()"
   ]
  },
  {
   "cell_type": "markdown",
   "metadata": {},
   "source": [
    "#### Вывод\n",
    "- Диаграммы рассеяния подтверждают сделанные ранее выводы, в частности:\n",
    "  - Клиенты с кредитным рейтингом ниже 400 в основном уходят из банка.\n",
    "  - Очень взрослые клиенты старше 70 лет предпочитают оставатся в банке.\n",
    "  - Самые высокие показатели баланса на счетах (около 250 тыс) имеют клиенты, которые уходят из банка.\n",
    "  - Количество объектов недвижимости и зарплата примерно одинаковые у обеих групп клиентов."
   ]
  },
  {
   "cell_type": "markdown",
   "metadata": {},
   "source": [
    "<a id='Link8'></a>"
   ]
  },
  {
   "cell_type": "markdown",
   "metadata": {},
   "source": [
    "### Анализ категориальных признаков"
   ]
  },
  {
   "cell_type": "markdown",
   "metadata": {},
   "source": [
    "<a id='Link9'></a>"
   ]
  },
  {
   "cell_type": "markdown",
   "metadata": {},
   "source": [
    "### Изучим категориальные признаки. Построим столбчатые диаграммы с группировкой по целевому признаку"
   ]
  },
  {
   "cell_type": "code",
   "execution_count": 11,
   "metadata": {
    "scrolled": false
   },
   "outputs": [
    {
     "data": {
      "image/png": "[encoded data removed]",
      "text/plain": [
       "<Figure size 1008x360 with 4 Axes>"
      ]
     },
     "metadata": {
      "needs_background": "light"
     },
     "output_type": "display_data"
    }
   ],
   "source": [
    "fig = plt.figure(figsize=(14,5))\n",
    "\n",
    "# index ax для текущего графика\n",
    "ind=1\n",
    "# идем по словарю категориальных признаков\n",
    "for feature_category in dict_features_category:\n",
    "    \n",
    "    # делаем группировку для построения столбчатых диаграмм\n",
    "    df_group = clients_behavior.groupby([feature_category, target_column], as_index=False).customerid.count()\n",
    "\n",
    "    # создаем subplot\n",
    "    ax = plt.subplot(1,4,ind)\n",
    "    \n",
    "    # рисуем bar\n",
    "    fun_plot('bar', 'Столбчатая диаграмма:\\n' + dict_features_category[feature_category],\n",
    "             df_x=df_group[feature_category],\n",
    "             x_label=dict_features_category[feature_category],\n",
    "             df_y=df_group.customerid,\n",
    "             y_label='Количество объектов', category=df_group.exited)\n",
    "    \n",
    "    # увеличиваем индекс\n",
    "    ind += 1\n",
    "    \n",
    "fig.tight_layout()    "
   ]
  },
  {
   "cell_type": "markdown",
   "metadata": {},
   "source": [
    "#### Вывод\n",
    " - Во Франции и Испании уходит относительно немного клиентов по отношению к оставшимся; в Германии уходит почти 50% от тех, кто остается.\n",
    " - Чаще уходят мужчины.\n",
    " - Чаще уходят клиенты, имеющие кредитную карту, и неактивно пользующиеся услугами банка.\n",
    " - Графики выглядят адекватно, аномалий не наблюдаем."
   ]
  },
  {
   "cell_type": "markdown",
   "metadata": {},
   "source": [
    "## 4.  Подготовка признаков для построения модели"
   ]
  },
  {
   "cell_type": "markdown",
   "metadata": {},
   "source": [
    "- Для построения моделей не берем в расчет колонки: `rownumber`, `customerid`, `surname`, так как они не могут влиять на целевой признак"
   ]
  },
  {
   "cell_type": "markdown",
   "metadata": {},
   "source": [
    "<a id='Link10'></a>"
   ]
  },
  {
   "cell_type": "markdown",
   "metadata": {},
   "source": [
    "### Порядковое кодирование"
   ]
  },
  {
   "cell_type": "code",
   "execution_count": 12,
   "metadata": {},
   "outputs": [],
   "source": [
    "# список категориальных признаков\n",
    "category_columns = list(dict_features_category.keys())\n",
    "# список закодированных категориальных признаков\n",
    "# методом порядковое кодирование\n",
    "category_columns_ordinal = [c + '_ordinal' for c in category_columns]\n",
    "# список количественных признаков\n",
    "numeric_columns = list(dict_features_numeric.keys())"
   ]
  },
  {
   "cell_type": "code",
   "execution_count": 13,
   "metadata": {},
   "outputs": [
    {
     "name": "stdout",
     "output_type": "stream",
     "text": [
      "\n",
      "Проверяем типы данных закодированных категориальных признаков:\n",
      "\n",
      "geography_ordinal         int64\n",
      "gender_ordinal            int64\n",
      "hascrcard_ordinal         int64\n",
      "isactivemember_ordinal    int64\n",
      "dtype: object\n",
      "\n",
      "Провели порядковое кодирование категориальных признаков. Проверим:\n",
      "\n",
      "Признаки ДО порядкового кодирования\n"
     ]
    },
    {
     "data": {
      "text/html": [
       "<div>\n",
       "<style scoped>\n",
       "    .dataframe tbody tr th:only-of-type {\n",
       "        vertical-align: middle;\n",
       "    }\n",
       "\n",
       "    .dataframe tbody tr th {\n",
       "        vertical-align: top;\n",
       "    }\n",
       "\n",
       "    .dataframe thead th {\n",
       "        text-align: right;\n",
       "    }\n",
       "</style>\n",
       "<table border=\"1\" class=\"dataframe\">\n",
       "  <thead>\n",
       "    <tr style=\"text-align: right;\">\n",
       "      <th></th>\n",
       "      <th>geography</th>\n",
       "      <th>gender</th>\n",
       "      <th>hascrcard</th>\n",
       "      <th>isactivemember</th>\n",
       "    </tr>\n",
       "  </thead>\n",
       "  <tbody>\n",
       "    <tr>\n",
       "      <th>0</th>\n",
       "      <td>France</td>\n",
       "      <td>Female</td>\n",
       "      <td>1</td>\n",
       "      <td>1</td>\n",
       "    </tr>\n",
       "    <tr>\n",
       "      <th>1</th>\n",
       "      <td>Spain</td>\n",
       "      <td>Female</td>\n",
       "      <td>0</td>\n",
       "      <td>1</td>\n",
       "    </tr>\n",
       "    <tr>\n",
       "      <th>2</th>\n",
       "      <td>France</td>\n",
       "      <td>Female</td>\n",
       "      <td>1</td>\n",
       "      <td>0</td>\n",
       "    </tr>\n",
       "    <tr>\n",
       "      <th>3</th>\n",
       "      <td>France</td>\n",
       "      <td>Female</td>\n",
       "      <td>0</td>\n",
       "      <td>0</td>\n",
       "    </tr>\n",
       "    <tr>\n",
       "      <th>4</th>\n",
       "      <td>Spain</td>\n",
       "      <td>Female</td>\n",
       "      <td>1</td>\n",
       "      <td>1</td>\n",
       "    </tr>\n",
       "  </tbody>\n",
       "</table>\n",
       "</div>"
      ],
      "text/plain": [
       "  geography  gender  hascrcard  isactivemember\n",
       "0    France  Female          1               1\n",
       "1     Spain  Female          0               1\n",
       "2    France  Female          1               0\n",
       "3    France  Female          0               0\n",
       "4     Spain  Female          1               1"
      ]
     },
     "metadata": {},
     "output_type": "display_data"
    },
    {
     "name": "stdout",
     "output_type": "stream",
     "text": [
      "\n",
      "Признаки ПОСЛЕ порядкового кодирования\n"
     ]
    },
    {
     "data": {
      "text/html": [
       "<div>\n",
       "<style scoped>\n",
       "    .dataframe tbody tr th:only-of-type {\n",
       "        vertical-align: middle;\n",
       "    }\n",
       "\n",
       "    .dataframe tbody tr th {\n",
       "        vertical-align: top;\n",
       "    }\n",
       "\n",
       "    .dataframe thead th {\n",
       "        text-align: right;\n",
       "    }\n",
       "</style>\n",
       "<table border=\"1\" class=\"dataframe\">\n",
       "  <thead>\n",
       "    <tr style=\"text-align: right;\">\n",
       "      <th></th>\n",
       "      <th>geography_ordinal</th>\n",
       "      <th>gender_ordinal</th>\n",
       "      <th>hascrcard_ordinal</th>\n",
       "      <th>isactivemember_ordinal</th>\n",
       "    </tr>\n",
       "  </thead>\n",
       "  <tbody>\n",
       "    <tr>\n",
       "      <th>0</th>\n",
       "      <td>0</td>\n",
       "      <td>0</td>\n",
       "      <td>1</td>\n",
       "      <td>1</td>\n",
       "    </tr>\n",
       "    <tr>\n",
       "      <th>1</th>\n",
       "      <td>2</td>\n",
       "      <td>0</td>\n",
       "      <td>0</td>\n",
       "      <td>1</td>\n",
       "    </tr>\n",
       "    <tr>\n",
       "      <th>2</th>\n",
       "      <td>0</td>\n",
       "      <td>0</td>\n",
       "      <td>1</td>\n",
       "      <td>0</td>\n",
       "    </tr>\n",
       "    <tr>\n",
       "      <th>3</th>\n",
       "      <td>0</td>\n",
       "      <td>0</td>\n",
       "      <td>0</td>\n",
       "      <td>0</td>\n",
       "    </tr>\n",
       "    <tr>\n",
       "      <th>4</th>\n",
       "      <td>2</td>\n",
       "      <td>0</td>\n",
       "      <td>1</td>\n",
       "      <td>1</td>\n",
       "    </tr>\n",
       "  </tbody>\n",
       "</table>\n",
       "</div>"
      ],
      "text/plain": [
       "   geography_ordinal  gender_ordinal  hascrcard_ordinal  \\\n",
       "0                  0               0                  1   \n",
       "1                  2               0                  0   \n",
       "2                  0               0                  1   \n",
       "3                  0               0                  0   \n",
       "4                  2               0                  1   \n",
       "\n",
       "   isactivemember_ordinal  \n",
       "0                       1  \n",
       "1                       1  \n",
       "2                       0  \n",
       "3                       0  \n",
       "4                       1  "
      ]
     },
     "metadata": {},
     "output_type": "display_data"
    }
   ],
   "source": [
    "# создем объкет для кодирования\n",
    "encoder = OrdinalEncoder()\n",
    "# преобразуем категориальные признаки\n",
    "encoder.fit(clients_behavior[category_columns])\n",
    "\n",
    "# создаем новый DF с:\n",
    "# - преобразованными категориальными признаками\n",
    "# - оригинальными категориальными признаками\n",
    "# - количественными признаками\n",
    "clients_behavior_coded = pd.concat([pd.DataFrame(encoder.transform(clients_behavior[category_columns]),\n",
    "                                                 columns = category_columns_ordinal),\n",
    "                             clients_behavior[category_columns + numeric_columns + [target_column]]], axis=1)\n",
    "\n",
    "# переводим в int все преобразованные категориальные признаки\n",
    "for col in category_columns_ordinal:\n",
    "    clients_behavior_coded[col] = clients_behavior_coded[col].astype('int64')\n",
    "\n",
    "# проверяем типы данных\n",
    "print('\\nПроверяем типы данных закодированных категориальных признаков:\\n')\n",
    "print(clients_behavior_coded[category_columns_ordinal].dtypes)\n",
    "\n",
    "# проверяем преобразование\n",
    "print('\\nПровели порядковое кодирование категориальных признаков. Проверим:\\n')\n",
    "print('Признаки ДО порядкового кодирования')\n",
    "display(clients_behavior_coded[category_columns].head(5))\n",
    "print('\\nПризнаки ПОСЛЕ порядкового кодирования')\n",
    "display(clients_behavior_coded[category_columns_ordinal].head(5))"
   ]
  },
  {
   "cell_type": "markdown",
   "metadata": {},
   "source": [
    "### Прямое кодирование OHE"
   ]
  },
  {
   "cell_type": "code",
   "execution_count": 14,
   "metadata": {},
   "outputs": [
    {
     "data": {
      "text/html": [
       "<div>\n",
       "<style scoped>\n",
       "    .dataframe tbody tr th:only-of-type {\n",
       "        vertical-align: middle;\n",
       "    }\n",
       "\n",
       "    .dataframe tbody tr th {\n",
       "        vertical-align: top;\n",
       "    }\n",
       "\n",
       "    .dataframe thead th {\n",
       "        text-align: right;\n",
       "    }\n",
       "</style>\n",
       "<table border=\"1\" class=\"dataframe\">\n",
       "  <thead>\n",
       "    <tr style=\"text-align: right;\">\n",
       "      <th></th>\n",
       "      <th>hascrcard</th>\n",
       "      <th>isactivemember</th>\n",
       "      <th>creditscore</th>\n",
       "      <th>age</th>\n",
       "      <th>tenure</th>\n",
       "      <th>balance</th>\n",
       "      <th>numofproducts</th>\n",
       "      <th>estimatedsalary</th>\n",
       "      <th>exited</th>\n",
       "      <th>geography_Germany</th>\n",
       "      <th>geography_Spain</th>\n",
       "      <th>gender_Male</th>\n",
       "    </tr>\n",
       "  </thead>\n",
       "  <tbody>\n",
       "    <tr>\n",
       "      <th>0</th>\n",
       "      <td>1</td>\n",
       "      <td>1</td>\n",
       "      <td>619</td>\n",
       "      <td>42</td>\n",
       "      <td>2</td>\n",
       "      <td>0.00</td>\n",
       "      <td>1</td>\n",
       "      <td>101348.88</td>\n",
       "      <td>1</td>\n",
       "      <td>0</td>\n",
       "      <td>0</td>\n",
       "      <td>0</td>\n",
       "    </tr>\n",
       "    <tr>\n",
       "      <th>1</th>\n",
       "      <td>0</td>\n",
       "      <td>1</td>\n",
       "      <td>608</td>\n",
       "      <td>41</td>\n",
       "      <td>1</td>\n",
       "      <td>83807.86</td>\n",
       "      <td>1</td>\n",
       "      <td>112542.58</td>\n",
       "      <td>0</td>\n",
       "      <td>0</td>\n",
       "      <td>1</td>\n",
       "      <td>0</td>\n",
       "    </tr>\n",
       "    <tr>\n",
       "      <th>2</th>\n",
       "      <td>1</td>\n",
       "      <td>0</td>\n",
       "      <td>502</td>\n",
       "      <td>42</td>\n",
       "      <td>8</td>\n",
       "      <td>159660.80</td>\n",
       "      <td>3</td>\n",
       "      <td>113931.57</td>\n",
       "      <td>1</td>\n",
       "      <td>0</td>\n",
       "      <td>0</td>\n",
       "      <td>0</td>\n",
       "    </tr>\n",
       "    <tr>\n",
       "      <th>3</th>\n",
       "      <td>0</td>\n",
       "      <td>0</td>\n",
       "      <td>699</td>\n",
       "      <td>39</td>\n",
       "      <td>1</td>\n",
       "      <td>0.00</td>\n",
       "      <td>2</td>\n",
       "      <td>93826.63</td>\n",
       "      <td>0</td>\n",
       "      <td>0</td>\n",
       "      <td>0</td>\n",
       "      <td>0</td>\n",
       "    </tr>\n",
       "    <tr>\n",
       "      <th>4</th>\n",
       "      <td>1</td>\n",
       "      <td>1</td>\n",
       "      <td>850</td>\n",
       "      <td>43</td>\n",
       "      <td>2</td>\n",
       "      <td>125510.82</td>\n",
       "      <td>1</td>\n",
       "      <td>79084.10</td>\n",
       "      <td>0</td>\n",
       "      <td>0</td>\n",
       "      <td>1</td>\n",
       "      <td>0</td>\n",
       "    </tr>\n",
       "  </tbody>\n",
       "</table>\n",
       "</div>"
      ],
      "text/plain": [
       "   hascrcard  isactivemember  creditscore  age  tenure    balance  \\\n",
       "0          1               1          619   42       2       0.00   \n",
       "1          0               1          608   41       1   83807.86   \n",
       "2          1               0          502   42       8  159660.80   \n",
       "3          0               0          699   39       1       0.00   \n",
       "4          1               1          850   43       2  125510.82   \n",
       "\n",
       "   numofproducts  estimatedsalary  exited  geography_Germany  geography_Spain  \\\n",
       "0              1        101348.88       1                  0                0   \n",
       "1              1        112542.58       0                  0                1   \n",
       "2              3        113931.57       1                  0                0   \n",
       "3              2         93826.63       0                  0                0   \n",
       "4              1         79084.10       0                  0                1   \n",
       "\n",
       "   gender_Male  \n",
       "0            0  \n",
       "1            0  \n",
       "2            0  \n",
       "3            0  \n",
       "4            0  "
      ]
     },
     "metadata": {},
     "output_type": "display_data"
    }
   ],
   "source": [
    "# применяем OHE к gender и geography\n",
    "clients_behavior_ohe = clients_behavior[list(dict_features_category.keys()) \n",
    "                                        + list(dict_features_numeric.keys())\n",
    "                                        + [target_column]].drop(['geography', 'gender'], axis=1) \\\n",
    "                        .join(pd.get_dummies(clients_behavior[['geography', 'gender']],\n",
    "                                             drop_first=True),\n",
    "                              how='inner')\n",
    "\n",
    "display(clients_behavior_ohe.head())"
   ]
  },
  {
   "cell_type": "code",
   "execution_count": 15,
   "metadata": {},
   "outputs": [
    {
     "name": "stdout",
     "output_type": "stream",
     "text": [
      "Список закодированных категориальных признаков методом прямого кодирования OHE:\n"
     ]
    },
    {
     "data": {
      "text/plain": [
       "['hascrcard_ohe',\n",
       " 'isactivemember_ohe',\n",
       " 'geography_Germany_ohe',\n",
       " 'geography_Spain_ohe',\n",
       " 'gender_Male_ohe']"
      ]
     },
     "metadata": {},
     "output_type": "display_data"
    },
    {
     "name": "stdout",
     "output_type": "stream",
     "text": [
      "\n",
      "Провели прямое кодирование OHE категориальных признаков. Проверим:\n",
      "\n",
      "Признаки ДО прямого кодирования OHE\n"
     ]
    },
    {
     "data": {
      "text/html": [
       "<div>\n",
       "<style scoped>\n",
       "    .dataframe tbody tr th:only-of-type {\n",
       "        vertical-align: middle;\n",
       "    }\n",
       "\n",
       "    .dataframe tbody tr th {\n",
       "        vertical-align: top;\n",
       "    }\n",
       "\n",
       "    .dataframe thead th {\n",
       "        text-align: right;\n",
       "    }\n",
       "</style>\n",
       "<table border=\"1\" class=\"dataframe\">\n",
       "  <thead>\n",
       "    <tr style=\"text-align: right;\">\n",
       "      <th></th>\n",
       "      <th>geography</th>\n",
       "      <th>gender</th>\n",
       "      <th>hascrcard</th>\n",
       "      <th>isactivemember</th>\n",
       "    </tr>\n",
       "  </thead>\n",
       "  <tbody>\n",
       "    <tr>\n",
       "      <th>0</th>\n",
       "      <td>France</td>\n",
       "      <td>Female</td>\n",
       "      <td>1</td>\n",
       "      <td>1</td>\n",
       "    </tr>\n",
       "    <tr>\n",
       "      <th>1</th>\n",
       "      <td>Spain</td>\n",
       "      <td>Female</td>\n",
       "      <td>0</td>\n",
       "      <td>1</td>\n",
       "    </tr>\n",
       "    <tr>\n",
       "      <th>2</th>\n",
       "      <td>France</td>\n",
       "      <td>Female</td>\n",
       "      <td>1</td>\n",
       "      <td>0</td>\n",
       "    </tr>\n",
       "    <tr>\n",
       "      <th>3</th>\n",
       "      <td>France</td>\n",
       "      <td>Female</td>\n",
       "      <td>0</td>\n",
       "      <td>0</td>\n",
       "    </tr>\n",
       "    <tr>\n",
       "      <th>4</th>\n",
       "      <td>Spain</td>\n",
       "      <td>Female</td>\n",
       "      <td>1</td>\n",
       "      <td>1</td>\n",
       "    </tr>\n",
       "  </tbody>\n",
       "</table>\n",
       "</div>"
      ],
      "text/plain": [
       "  geography  gender  hascrcard  isactivemember\n",
       "0    France  Female          1               1\n",
       "1     Spain  Female          0               1\n",
       "2    France  Female          1               0\n",
       "3    France  Female          0               0\n",
       "4     Spain  Female          1               1"
      ]
     },
     "metadata": {},
     "output_type": "display_data"
    },
    {
     "name": "stdout",
     "output_type": "stream",
     "text": [
      "\n",
      "Признаки ПОСЛЕ прямого кодирования OHE\n"
     ]
    },
    {
     "data": {
      "text/html": [
       "<div>\n",
       "<style scoped>\n",
       "    .dataframe tbody tr th:only-of-type {\n",
       "        vertical-align: middle;\n",
       "    }\n",
       "\n",
       "    .dataframe tbody tr th {\n",
       "        vertical-align: top;\n",
       "    }\n",
       "\n",
       "    .dataframe thead th {\n",
       "        text-align: right;\n",
       "    }\n",
       "</style>\n",
       "<table border=\"1\" class=\"dataframe\">\n",
       "  <thead>\n",
       "    <tr style=\"text-align: right;\">\n",
       "      <th></th>\n",
       "      <th>hascrcard_ohe</th>\n",
       "      <th>isactivemember_ohe</th>\n",
       "      <th>geography_Germany_ohe</th>\n",
       "      <th>geography_Spain_ohe</th>\n",
       "      <th>gender_Male_ohe</th>\n",
       "    </tr>\n",
       "  </thead>\n",
       "  <tbody>\n",
       "    <tr>\n",
       "      <th>0</th>\n",
       "      <td>1</td>\n",
       "      <td>1</td>\n",
       "      <td>0</td>\n",
       "      <td>0</td>\n",
       "      <td>0</td>\n",
       "    </tr>\n",
       "    <tr>\n",
       "      <th>1</th>\n",
       "      <td>0</td>\n",
       "      <td>1</td>\n",
       "      <td>0</td>\n",
       "      <td>1</td>\n",
       "      <td>0</td>\n",
       "    </tr>\n",
       "    <tr>\n",
       "      <th>2</th>\n",
       "      <td>1</td>\n",
       "      <td>0</td>\n",
       "      <td>0</td>\n",
       "      <td>0</td>\n",
       "      <td>0</td>\n",
       "    </tr>\n",
       "    <tr>\n",
       "      <th>3</th>\n",
       "      <td>0</td>\n",
       "      <td>0</td>\n",
       "      <td>0</td>\n",
       "      <td>0</td>\n",
       "      <td>0</td>\n",
       "    </tr>\n",
       "    <tr>\n",
       "      <th>4</th>\n",
       "      <td>1</td>\n",
       "      <td>1</td>\n",
       "      <td>0</td>\n",
       "      <td>1</td>\n",
       "      <td>0</td>\n",
       "    </tr>\n",
       "  </tbody>\n",
       "</table>\n",
       "</div>"
      ],
      "text/plain": [
       "   hascrcard_ohe  isactivemember_ohe  geography_Germany_ohe  \\\n",
       "0              1                   1                      0   \n",
       "1              0                   1                      0   \n",
       "2              1                   0                      0   \n",
       "3              0                   0                      0   \n",
       "4              1                   1                      0   \n",
       "\n",
       "   geography_Spain_ohe  gender_Male_ohe  \n",
       "0                    0                0  \n",
       "1                    1                0  \n",
       "2                    0                0  \n",
       "3                    0                0  \n",
       "4                    1                0  "
      ]
     },
     "metadata": {},
     "output_type": "display_data"
    }
   ],
   "source": [
    "# применяем OHE\n",
    "clients_behavior_ohe = pd.get_dummies(clients_behavior[category_columns], drop_first=True)\n",
    "\n",
    "# сохраняем список столбцов, закодированных через OHE, добавляем \"_ohe\"\n",
    "category_columns_ohe = [c + '_ohe' for c in clients_behavior_ohe.columns]\n",
    "# обновляем названия столбцов в самом telecom_ohe\n",
    "clients_behavior_ohe.columns = category_columns_ohe\n",
    "\n",
    "# добавляем autos_ohe к autos_new_coded\n",
    "clients_behavior_coded = clients_behavior_coded.join(clients_behavior_ohe)\n",
    "\n",
    "print('Список закодированных категориальных признаков методом прямого кодирования OHE:')\n",
    "display(category_columns_ohe)\n",
    "\n",
    "# проверяем преобразование\n",
    "print('\\nПровели прямое кодирование OHE категориальных признаков. Проверим:\\n')\n",
    "print('Признаки ДО прямого кодирования OHE')\n",
    "display(clients_behavior_coded[category_columns].head(5))\n",
    "print('\\nПризнаки ПОСЛЕ прямого кодирования OHE')\n",
    "display(clients_behavior_coded[category_columns_ohe].head(5))"
   ]
  },
  {
   "cell_type": "markdown",
   "metadata": {},
   "source": [
    "<a id='Link11'></a>"
   ]
  },
  {
   "cell_type": "markdown",
   "metadata": {},
   "source": [
    "### Подготовка обучающей и тестовой выборок"
   ]
  },
  {
   "cell_type": "markdown",
   "metadata": {},
   "source": [
    "- Выделим *фичи* и *целевой признак*"
   ]
  },
  {
   "cell_type": "code",
   "execution_count": 16,
   "metadata": {},
   "outputs": [],
   "source": [
    "# фичи исходного датасета\n",
    "features = clients_behavior_coded.drop([target_column], axis=1)\n",
    "# таргет исходного датасета\n",
    "target = clients_behavior_coded[target_column]"
   ]
  },
  {
   "cell_type": "markdown",
   "metadata": {},
   "source": [
    "- Разделим исходные данные на *обучающую* и *тестовую* выборки в процентном отношении: *80% / 20% от исходной выборки*"
   ]
  },
  {
   "cell_type": "code",
   "execution_count": 17,
   "metadata": {},
   "outputs": [
    {
     "name": "stdout",
     "output_type": "stream",
     "text": [
      "Длина всего датасета:  10000\n",
      "Длина обучающей выборки: 8000\n",
      "Длина тестовой выборки: 2000\n"
     ]
    }
   ],
   "source": [
    "# делим исходный датасет: обучающая 80%, тестовая 20%\n",
    "\n",
    "train_features, test_features, train_target, test_target = \\\n",
    "         train_test_split(features, target, test_size=0.20,\n",
    "                          random_state=12345, stratify=target)\n",
    "\n",
    "# выводим размеры выборок\n",
    "print('Длина всего датасета: ', len(features))\n",
    "print('Длина обучающей выборки:', len(train_features))\n",
    "print('Длина тестовой выборки:', len(test_features))"
   ]
  },
  {
   "cell_type": "markdown",
   "metadata": {},
   "source": [
    "<a id='Link12'></a>"
   ]
  },
  {
   "cell_type": "markdown",
   "metadata": {},
   "source": [
    "###  Масштабируем количественные признаки"
   ]
  },
  {
   "cell_type": "code",
   "execution_count": 18,
   "metadata": {},
   "outputs": [
    {
     "data": {
      "text/plain": [
       "'Обучающая выборка после масштабирования признаков:'"
      ]
     },
     "metadata": {},
     "output_type": "display_data"
    },
    {
     "data": {
      "text/html": [
       "<div>\n",
       "<style scoped>\n",
       "    .dataframe tbody tr th:only-of-type {\n",
       "        vertical-align: middle;\n",
       "    }\n",
       "\n",
       "    .dataframe tbody tr th {\n",
       "        vertical-align: top;\n",
       "    }\n",
       "\n",
       "    .dataframe thead th {\n",
       "        text-align: right;\n",
       "    }\n",
       "</style>\n",
       "<table border=\"1\" class=\"dataframe\">\n",
       "  <thead>\n",
       "    <tr style=\"text-align: right;\">\n",
       "      <th></th>\n",
       "      <th>geography_ordinal</th>\n",
       "      <th>gender_ordinal</th>\n",
       "      <th>hascrcard_ordinal</th>\n",
       "      <th>isactivemember_ordinal</th>\n",
       "      <th>geography</th>\n",
       "      <th>gender</th>\n",
       "      <th>hascrcard</th>\n",
       "      <th>isactivemember</th>\n",
       "      <th>creditscore</th>\n",
       "      <th>age</th>\n",
       "      <th>tenure</th>\n",
       "      <th>balance</th>\n",
       "      <th>numofproducts</th>\n",
       "      <th>estimatedsalary</th>\n",
       "      <th>hascrcard_ohe</th>\n",
       "      <th>isactivemember_ohe</th>\n",
       "      <th>geography_Germany_ohe</th>\n",
       "      <th>geography_Spain_ohe</th>\n",
       "      <th>gender_Male_ohe</th>\n",
       "    </tr>\n",
       "  </thead>\n",
       "  <tbody>\n",
       "    <tr>\n",
       "      <th>3376</th>\n",
       "      <td>1</td>\n",
       "      <td>0</td>\n",
       "      <td>1</td>\n",
       "      <td>1</td>\n",
       "      <td>Germany</td>\n",
       "      <td>Female</td>\n",
       "      <td>1</td>\n",
       "      <td>1</td>\n",
       "      <td>-0.061427</td>\n",
       "      <td>0.106098</td>\n",
       "      <td>-0.353942</td>\n",
       "      <td>0.010530</td>\n",
       "      <td>0.805878</td>\n",
       "      <td>0.267707</td>\n",
       "      <td>1</td>\n",
       "      <td>1</td>\n",
       "      <td>1</td>\n",
       "      <td>0</td>\n",
       "      <td>0</td>\n",
       "    </tr>\n",
       "    <tr>\n",
       "      <th>1315</th>\n",
       "      <td>2</td>\n",
       "      <td>0</td>\n",
       "      <td>0</td>\n",
       "      <td>0</td>\n",
       "      <td>Spain</td>\n",
       "      <td>Female</td>\n",
       "      <td>0</td>\n",
       "      <td>0</td>\n",
       "      <td>-0.443298</td>\n",
       "      <td>-1.139433</td>\n",
       "      <td>-0.006983</td>\n",
       "      <td>0.388533</td>\n",
       "      <td>-0.911497</td>\n",
       "      <td>-1.612531</td>\n",
       "      <td>0</td>\n",
       "      <td>0</td>\n",
       "      <td>0</td>\n",
       "      <td>1</td>\n",
       "      <td>0</td>\n",
       "    </tr>\n",
       "    <tr>\n",
       "      <th>2552</th>\n",
       "      <td>2</td>\n",
       "      <td>0</td>\n",
       "      <td>1</td>\n",
       "      <td>0</td>\n",
       "      <td>Spain</td>\n",
       "      <td>Female</td>\n",
       "      <td>1</td>\n",
       "      <td>0</td>\n",
       "      <td>-0.525865</td>\n",
       "      <td>0.680958</td>\n",
       "      <td>0.686936</td>\n",
       "      <td>0.082043</td>\n",
       "      <td>0.805878</td>\n",
       "      <td>-0.297533</td>\n",
       "      <td>1</td>\n",
       "      <td>0</td>\n",
       "      <td>0</td>\n",
       "      <td>1</td>\n",
       "      <td>0</td>\n",
       "    </tr>\n",
       "    <tr>\n",
       "      <th>511</th>\n",
       "      <td>1</td>\n",
       "      <td>0</td>\n",
       "      <td>1</td>\n",
       "      <td>0</td>\n",
       "      <td>Germany</td>\n",
       "      <td>Female</td>\n",
       "      <td>1</td>\n",
       "      <td>0</td>\n",
       "      <td>-0.185277</td>\n",
       "      <td>-0.085522</td>\n",
       "      <td>0.339977</td>\n",
       "      <td>0.159218</td>\n",
       "      <td>0.805878</td>\n",
       "      <td>-0.040122</td>\n",
       "      <td>1</td>\n",
       "      <td>0</td>\n",
       "      <td>1</td>\n",
       "      <td>0</td>\n",
       "      <td>0</td>\n",
       "    </tr>\n",
       "    <tr>\n",
       "      <th>1888</th>\n",
       "      <td>0</td>\n",
       "      <td>1</td>\n",
       "      <td>1</td>\n",
       "      <td>1</td>\n",
       "      <td>France</td>\n",
       "      <td>Male</td>\n",
       "      <td>1</td>\n",
       "      <td>1</td>\n",
       "      <td>-2.280406</td>\n",
       "      <td>2.022299</td>\n",
       "      <td>0.686936</td>\n",
       "      <td>-1.224906</td>\n",
       "      <td>0.805878</td>\n",
       "      <td>1.100176</td>\n",
       "      <td>1</td>\n",
       "      <td>1</td>\n",
       "      <td>0</td>\n",
       "      <td>0</td>\n",
       "      <td>1</td>\n",
       "    </tr>\n",
       "  </tbody>\n",
       "</table>\n",
       "</div>"
      ],
      "text/plain": [
       "      geography_ordinal  gender_ordinal  hascrcard_ordinal  \\\n",
       "3376                  1               0                  1   \n",
       "1315                  2               0                  0   \n",
       "2552                  2               0                  1   \n",
       "511                   1               0                  1   \n",
       "1888                  0               1                  1   \n",
       "\n",
       "      isactivemember_ordinal geography  gender  hascrcard  isactivemember  \\\n",
       "3376                       1   Germany  Female          1               1   \n",
       "1315                       0     Spain  Female          0               0   \n",
       "2552                       0     Spain  Female          1               0   \n",
       "511                        0   Germany  Female          1               0   \n",
       "1888                       1    France    Male          1               1   \n",
       "\n",
       "      creditscore       age    tenure   balance  numofproducts  \\\n",
       "3376    -0.061427  0.106098 -0.353942  0.010530       0.805878   \n",
       "1315    -0.443298 -1.139433 -0.006983  0.388533      -0.911497   \n",
       "2552    -0.525865  0.680958  0.686936  0.082043       0.805878   \n",
       "511     -0.185277 -0.085522  0.339977  0.159218       0.805878   \n",
       "1888    -2.280406  2.022299  0.686936 -1.224906       0.805878   \n",
       "\n",
       "      estimatedsalary  hascrcard_ohe  isactivemember_ohe  \\\n",
       "3376         0.267707              1                   1   \n",
       "1315        -1.612531              0                   0   \n",
       "2552        -0.297533              1                   0   \n",
       "511         -0.040122              1                   0   \n",
       "1888         1.100176              1                   1   \n",
       "\n",
       "      geography_Germany_ohe  geography_Spain_ohe  gender_Male_ohe  \n",
       "3376                      1                    0                0  \n",
       "1315                      0                    1                0  \n",
       "2552                      0                    1                0  \n",
       "511                       1                    0                0  \n",
       "1888                      0                    0                1  "
      ]
     },
     "metadata": {},
     "output_type": "display_data"
    }
   ],
   "source": [
    "# создаем объект структуры StandardScaler() и настраиваем его на обучающих данных\n",
    "scaler = StandardScaler()\n",
    "scaler.fit(train_features[numeric_columns])\n",
    "\n",
    "# масштабируем колич признаки в обучающей выборке\n",
    "train_features.loc[:, numeric_columns] = \\\n",
    "                scaler.transform(train_features[numeric_columns])\n",
    "\n",
    "# масштабируем колич признаки в тестовой выборке\n",
    "test_features.loc[:, numeric_columns] = \\\n",
    "                scaler.transform(test_features[numeric_columns])\n",
    "\n",
    "display('Обучающая выборка после масштабирования признаков:', train_features.head())"
   ]
  },
  {
   "cell_type": "markdown",
   "metadata": {},
   "source": [
    "### Вывод\n",
    "- Закодировали категориальные признаки.\n",
    "- Разделили исходные данные на обучающую и тестовую выборки.\n",
    "- Масштабировали числовые признаки."
   ]
  },
  {
   "cell_type": "markdown",
   "metadata": {},
   "source": [
    "## 5. Исследование баланса классов. Обучение моделей. Улучшение качества моделей с учетом дисбаланса классов"
   ]
  },
  {
   "cell_type": "markdown",
   "metadata": {},
   "source": [
    "<a id='Link13'></a>"
   ]
  },
  {
   "cell_type": "markdown",
   "metadata": {},
   "source": [
    "### Исследование баланса классов в целевом признаке датасета"
   ]
  },
  {
   "cell_type": "code",
   "execution_count": 19,
   "metadata": {},
   "outputs": [],
   "source": [
    "# функция для определения частоты классов\n",
    "def check_class_frequency(target, title, plot_title):\n",
    "    \n",
    "    # частотa классов\n",
    "    class_frequency = target.value_counts(normalize=True)\n",
    "    display(title, class_frequency)\n",
    "\n",
    "    # строим столбчатый график для частот классов\n",
    "    fig = plt.figure(figsize=(5,4))\n",
    "    ax = plt.subplot(111)\n",
    "    # рисуем bar\n",
    "    fun_plot('bar', plot_title,\n",
    "             df_x=class_frequency.index,\n",
    "             x_label='Класс целевого признака: клиент ушел (0-нет, 1-да)',\n",
    "             df_y=class_frequency,\n",
    "             y_label='Частота класса')\n",
    "    fig.tight_layout()   \n",
    "    \n",
    "    return None"
   ]
  },
  {
   "cell_type": "code",
   "execution_count": 20,
   "metadata": {},
   "outputs": [
    {
     "data": {
      "text/plain": [
       "'Частота классов целевого признака датасета:'"
      ]
     },
     "metadata": {},
     "output_type": "display_data"
    },
    {
     "data": {
      "text/plain": [
       "0    0.7963\n",
       "1    0.2037\n",
       "Name: exited, dtype: float64"
      ]
     },
     "metadata": {},
     "output_type": "display_data"
    },
    {
     "data": {
      "image/png": "[encoded data removed]",
      "text/plain": [
       "<Figure size 360x288 with 1 Axes>"
      ]
     },
     "metadata": {
      "needs_background": "light"
     },
     "output_type": "display_data"
    }
   ],
   "source": [
    "#проверяем частоты классов у целевого признака из дадасета\n",
    "check_class_frequency(target, 'Частота классов целевого признака датасета:',\n",
    "                      'Частота классов целевого признака датасета')"
   ]
  },
  {
   "cell_type": "markdown",
   "metadata": {},
   "source": [
    "#### Вывод\n",
    "- ***Наблюдаем дисбаланс классов целевого признака (1:4)***"
   ]
  },
  {
   "cell_type": "markdown",
   "metadata": {},
   "source": [
    "#### При построении моделей будем собирать лучшие модели, у которых F1-мера >= 0.59, в датасет `best_models`"
   ]
  },
  {
   "cell_type": "code",
   "execution_count": 21,
   "metadata": {},
   "outputs": [],
   "source": [
    "# создадим DF для сбора лучших моделей\n",
    "best_models = pd.DataFrame(columns=['f1', 'model', 'model_name', 'params'])\n",
    "# пороговое значение f1-меры для моделей\n",
    "F1_MIN = 0.59"
   ]
  },
  {
   "cell_type": "code",
   "execution_count": 22,
   "metadata": {},
   "outputs": [],
   "source": [
    "def fun_build_model(model, model_name, method_name, parametrs,\n",
    "                    features, target, cv, params_fit, best_models):\n",
    "    \"\"\"функция для построения модели,\n",
    "    обучает модель, подбирает лучшие параметры,\n",
    "    использует кросс-валидацию и скор = score_rmse\n",
    "    \n",
    "    параметры:\n",
    "     - структура модели\n",
    "     - наименование модели\n",
    "     - наименование применяемого метода для балансировки классов\n",
    "     - словарь параметров, по которым нужно определить лучшую модель\n",
    "     - список фичей\n",
    "     - таргет\n",
    "     - кол-во сплитов при кросс-валидации\n",
    "     - параметры для обучения\n",
    "     - DF для сбора лучших моделей\n",
    "    \n",
    "    возвращает результат работы метода GridSearchCV и best_models\n",
    "    \"\"\"\n",
    "    \n",
    "    # передаем модель и параметры\n",
    "    # метрика = f1\n",
    "    grid= GridSearchCV(model, parametrs,\n",
    "                       scoring='f1',\n",
    "                       n_jobs=-1, cv=cv)\n",
    "    \n",
    "    # обучаем модель\n",
    "    grid.fit(features, target, **params_fit)\n",
    "\n",
    "    # выводим лучшую модель, лучшие параметры и лучший скор\n",
    "    print('Лучшая модель {}:'.format(model_name))\n",
    "    display(grid.best_estimator_)\n",
    "    print('Лучшие параметры модели:')\n",
    "    display(grid.best_params_)\n",
    "    print('Лучший F1: {}\\n'.format(grid.best_score_.round(4)))\n",
    "    # выводим время обучения полного датасета\n",
    "    print('Время обучения полного обучающего датасета после получения лучших параметров: {:.3f} сек\\n'\n",
    "      .format(grid.refit_time_))\n",
    "    \n",
    "    # если лучший скор >= F1_MIN, то сохраняем модель\n",
    "    if grid.best_score_ >= F1_MIN:\n",
    "        best_models = best_models.append(\n",
    "                    {'f1': grid.best_score_,\n",
    "                     'model': grid.best_estimator_,\n",
    "                     'model_name': method_name + model_name,\n",
    "                     'params': grid.best_params_}, ignore_index=True)    \n",
    "    \n",
    "    # возвращаем grid и датасет с лучшими моделями\n",
    "    return grid, best_models"
   ]
  },
  {
   "cell_type": "code",
   "execution_count": 23,
   "metadata": {},
   "outputs": [],
   "source": [
    "def fun_build_LogisticRegression(train_features, train_target, method_name, best_models, class_weight=None):\n",
    "    \"\"\"\n",
    "    ф-ция для построения Логистическая регрессия\n",
    "    \n",
    "    \"\"\"\n",
    "    # формируем параметры для поиска лучшей модели\n",
    "    params_grid = {'C': np.arange(0.1, 10, 0.2)}\n",
    "\n",
    "    # строим модель Логистичекая регрессия\n",
    "    grid_reg, best_models = fun_build_model(LogisticRegression(random_state=12345,\n",
    "                                                               class_weight=class_weight),\n",
    "                                           'Логистическая регрессия',\n",
    "                                            method_name,\n",
    "                                            params_grid,\n",
    "                                            train_features[category_columns_ohe + numeric_columns],\n",
    "                                            train_target, cv=3, params_fit={},\n",
    "                                            best_models=best_models)\n",
    "    return best_models"
   ]
  },
  {
   "cell_type": "code",
   "execution_count": 24,
   "metadata": {},
   "outputs": [],
   "source": [
    "def fun_build_DecisionTreeClassifier(train_features, train_target, method_name, best_models, class_weight=None):\n",
    "    \"\"\"\n",
    "    ф-ция для построения Дерево решений\n",
    "    \n",
    "    \"\"\"\n",
    "    \n",
    "    # формируем параметры для поиска лучшей модели\n",
    "    params_grid = {'max_depth': range(1,52,2),\n",
    "                   'min_samples_split': range(2,103,10),\n",
    "                   'min_samples_leaf': range(1,62,5)}\n",
    "\n",
    "    # строим модель Дерево решений\n",
    "    grid_tree, best_models = fun_build_model(DecisionTreeClassifier(random_state=12345,\n",
    "                                                                    class_weight=class_weight),\n",
    "                                             'Дерево решений',\n",
    "                                             method_name,\n",
    "                                             params_grid,\n",
    "                                             train_features[category_columns_ordinal + numeric_columns],\n",
    "                                             train_target, cv=3, params_fit={},\n",
    "                                             best_models=best_models)\n",
    "    return best_models    "
   ]
  },
  {
   "cell_type": "code",
   "execution_count": 25,
   "metadata": {},
   "outputs": [],
   "source": [
    "def fun_build_RandomForestClassifier(train_features, train_target, method_name, best_models, class_weight=None):\n",
    "    \"\"\"\n",
    "    ф-ция для построения Случайный лес\n",
    "    \n",
    "    \"\"\"\n",
    "    \n",
    "    # формируем параметры для поиска лучшей модели\n",
    "    params_grid = {'max_depth': range(1,20,2),\n",
    "                   'n_estimators': range(10,101,10)}\n",
    "\n",
    "    # строим модель Случайный лес\n",
    "    grid_forest, best_models = fun_build_model(RandomForestClassifier(random_state=12345,\n",
    "                                                                      class_weight=class_weight),\n",
    "                                              'Случайный лес',\n",
    "                                               method_name,\n",
    "                                               params_grid,\n",
    "                                               train_features[category_columns_ordinal + numeric_columns],\n",
    "                                               train_target, cv=3, params_fit={},\n",
    "                                               best_models=best_models)\n",
    "    return best_models    "
   ]
  },
  {
   "cell_type": "markdown",
   "metadata": {},
   "source": [
    "<a id='Link14'></a>"
   ]
  },
  {
   "cell_type": "markdown",
   "metadata": {},
   "source": [
    "### Построим модели без учета дисбаланса классов"
   ]
  },
  {
   "cell_type": "code",
   "execution_count": 26,
   "metadata": {
    "scrolled": false
   },
   "outputs": [
    {
     "name": "stdout",
     "output_type": "stream",
     "text": [
      "Лучшая модель Логистическая регрессия:\n"
     ]
    },
    {
     "data": {
      "text/plain": [
       "LogisticRegression(C=6.700000000000001, class_weight=None, dual=False,\n",
       "                   fit_intercept=True, intercept_scaling=1, l1_ratio=None,\n",
       "                   max_iter=100, multi_class='auto', n_jobs=None, penalty='l2',\n",
       "                   random_state=12345, solver='lbfgs', tol=0.0001, verbose=0,\n",
       "                   warm_start=False)"
      ]
     },
     "metadata": {},
     "output_type": "display_data"
    },
    {
     "name": "stdout",
     "output_type": "stream",
     "text": [
      "Лучшие параметры модели:\n"
     ]
    },
    {
     "data": {
      "text/plain": [
       "{'C': 6.700000000000001}"
      ]
     },
     "metadata": {},
     "output_type": "display_data"
    },
    {
     "name": "stdout",
     "output_type": "stream",
     "text": [
      "Лучший F1: 0.3222\n",
      "\n",
      "Время обучения полного обучающего датасета после получения лучших параметров: 0.020 сек\n",
      "\n"
     ]
    }
   ],
   "source": [
    "# Логистическая регрессия\n",
    "best_models = fun_build_LogisticRegression(train_features, train_target,\n",
    "                                           'Без учета дисбаланса классов:\\n', best_models)"
   ]
  },
  {
   "cell_type": "code",
   "execution_count": 27,
   "metadata": {},
   "outputs": [
    {
     "name": "stdout",
     "output_type": "stream",
     "text": [
      "Лучшая модель Дерево решений:\n"
     ]
    },
    {
     "data": {
      "text/plain": [
       "DecisionTreeClassifier(ccp_alpha=0.0, class_weight=None, criterion='gini',\n",
       "                       max_depth=11, max_features=None, max_leaf_nodes=None,\n",
       "                       min_impurity_decrease=0.0, min_impurity_split=None,\n",
       "                       min_samples_leaf=21, min_samples_split=102,\n",
       "                       min_weight_fraction_leaf=0.0, presort='deprecated',\n",
       "                       random_state=12345, splitter='best')"
      ]
     },
     "metadata": {},
     "output_type": "display_data"
    },
    {
     "name": "stdout",
     "output_type": "stream",
     "text": [
      "Лучшие параметры модели:\n"
     ]
    },
    {
     "data": {
      "text/plain": [
       "{'max_depth': 11, 'min_samples_leaf': 21, 'min_samples_split': 102}"
      ]
     },
     "metadata": {},
     "output_type": "display_data"
    },
    {
     "name": "stdout",
     "output_type": "stream",
     "text": [
      "Лучший F1: 0.5857\n",
      "\n",
      "Время обучения полного обучающего датасета после получения лучших параметров: 0.025 сек\n",
      "\n"
     ]
    }
   ],
   "source": [
    "# Дерево решений\n",
    "best_models = fun_build_DecisionTreeClassifier(train_features, train_target,\n",
    "                                               'Без учета дисбаланса классов:\\n', best_models)"
   ]
  },
  {
   "cell_type": "code",
   "execution_count": 28,
   "metadata": {},
   "outputs": [
    {
     "name": "stdout",
     "output_type": "stream",
     "text": [
      "Лучшая модель Случайный лес:\n"
     ]
    },
    {
     "data": {
      "text/plain": [
       "RandomForestClassifier(bootstrap=True, ccp_alpha=0.0, class_weight=None,\n",
       "                       criterion='gini', max_depth=19, max_features='auto',\n",
       "                       max_leaf_nodes=None, max_samples=None,\n",
       "                       min_impurity_decrease=0.0, min_impurity_split=None,\n",
       "                       min_samples_leaf=1, min_samples_split=2,\n",
       "                       min_weight_fraction_leaf=0.0, n_estimators=100,\n",
       "                       n_jobs=None, oob_score=False, random_state=12345,\n",
       "                       verbose=0, warm_start=False)"
      ]
     },
     "metadata": {},
     "output_type": "display_data"
    },
    {
     "name": "stdout",
     "output_type": "stream",
     "text": [
      "Лучшие параметры модели:\n"
     ]
    },
    {
     "data": {
      "text/plain": [
       "{'max_depth': 19, 'n_estimators': 100}"
      ]
     },
     "metadata": {},
     "output_type": "display_data"
    },
    {
     "name": "stdout",
     "output_type": "stream",
     "text": [
      "Лучший F1: 0.5637\n",
      "\n",
      "Время обучения полного обучающего датасета после получения лучших параметров: 0.997 сек\n",
      "\n"
     ]
    }
   ],
   "source": [
    "# Случайный лес\n",
    "best_models = fun_build_RandomForestClassifier(train_features, train_target,\n",
    "                                               'Без учета дисбаланса классов:\\n', best_models)"
   ]
  },
  {
   "cell_type": "markdown",
   "metadata": {},
   "source": [
    "#### Вывод\n",
    "- Значение F1-меры у всех моделей недостаточное. **Попробуем улучшить качество моделей с учетом дисбаланса классов**."
   ]
  },
  {
   "cell_type": "markdown",
   "metadata": {},
   "source": [
    "<a id='Link15'></a>"
   ]
  },
  {
   "cell_type": "markdown",
   "metadata": {},
   "source": [
    "### Улучшим качество моделей с учетом дисбаланса классов"
   ]
  },
  {
   "cell_type": "markdown",
   "metadata": {},
   "source": [
    "<a id='Link16'></a>"
   ]
  },
  {
   "cell_type": "markdown",
   "metadata": {},
   "source": [
    "### Построим модели. Взвесим классы через аттрибут `class_weight`"
   ]
  },
  {
   "cell_type": "markdown",
   "metadata": {},
   "source": [
    "- Построим модели, задав значение 'balanced' аттрибуту `class_weight`"
   ]
  },
  {
   "cell_type": "code",
   "execution_count": 29,
   "metadata": {},
   "outputs": [
    {
     "name": "stdout",
     "output_type": "stream",
     "text": [
      "Лучшая модель Логистическая регрессия:\n"
     ]
    },
    {
     "data": {
      "text/plain": [
       "LogisticRegression(C=0.1, class_weight='balanced', dual=False,\n",
       "                   fit_intercept=True, intercept_scaling=1, l1_ratio=None,\n",
       "                   max_iter=100, multi_class='auto', n_jobs=None, penalty='l2',\n",
       "                   random_state=12345, solver='lbfgs', tol=0.0001, verbose=0,\n",
       "                   warm_start=False)"
      ]
     },
     "metadata": {},
     "output_type": "display_data"
    },
    {
     "name": "stdout",
     "output_type": "stream",
     "text": [
      "Лучшие параметры модели:\n"
     ]
    },
    {
     "data": {
      "text/plain": [
       "{'C': 0.1}"
      ]
     },
     "metadata": {},
     "output_type": "display_data"
    },
    {
     "name": "stdout",
     "output_type": "stream",
     "text": [
      "Лучший F1: 0.4866\n",
      "\n",
      "Время обучения полного обучающего датасета после получения лучших параметров: 0.020 сек\n",
      "\n"
     ]
    }
   ],
   "source": [
    "# Логистическая регрессия\n",
    "best_models = fun_build_LogisticRegression(train_features, train_target,\n",
    "                                          'Применили метод взвешивания классов:\\n', best_models,\n",
    "                                           class_weight='balanced')"
   ]
  },
  {
   "cell_type": "code",
   "execution_count": 30,
   "metadata": {},
   "outputs": [
    {
     "name": "stdout",
     "output_type": "stream",
     "text": [
      "Лучшая модель Дерево решений:\n"
     ]
    },
    {
     "data": {
      "text/plain": [
       "DecisionTreeClassifier(ccp_alpha=0.0, class_weight='balanced', criterion='gini',\n",
       "                       max_depth=5, max_features=None, max_leaf_nodes=None,\n",
       "                       min_impurity_decrease=0.0, min_impurity_split=None,\n",
       "                       min_samples_leaf=6, min_samples_split=32,\n",
       "                       min_weight_fraction_leaf=0.0, presort='deprecated',\n",
       "                       random_state=12345, splitter='best')"
      ]
     },
     "metadata": {},
     "output_type": "display_data"
    },
    {
     "name": "stdout",
     "output_type": "stream",
     "text": [
      "Лучшие параметры модели:\n"
     ]
    },
    {
     "data": {
      "text/plain": [
       "{'max_depth': 5, 'min_samples_leaf': 6, 'min_samples_split': 32}"
      ]
     },
     "metadata": {},
     "output_type": "display_data"
    },
    {
     "name": "stdout",
     "output_type": "stream",
     "text": [
      "Лучший F1: 0.5746\n",
      "\n",
      "Время обучения полного обучающего датасета после получения лучших параметров: 0.019 сек\n",
      "\n"
     ]
    }
   ],
   "source": [
    "# Дерево решений\n",
    "best_models = fun_build_DecisionTreeClassifier(train_features, train_target,\n",
    "                                               'Применили метод взвешивания классов:\\n', best_models,\n",
    "                                               class_weight='balanced')"
   ]
  },
  {
   "cell_type": "code",
   "execution_count": 31,
   "metadata": {},
   "outputs": [
    {
     "name": "stdout",
     "output_type": "stream",
     "text": [
      "Лучшая модель Случайный лес:\n"
     ]
    },
    {
     "data": {
      "text/plain": [
       "RandomForestClassifier(bootstrap=True, ccp_alpha=0.0, class_weight='balanced',\n",
       "                       criterion='gini', max_depth=9, max_features='auto',\n",
       "                       max_leaf_nodes=None, max_samples=None,\n",
       "                       min_impurity_decrease=0.0, min_impurity_split=None,\n",
       "                       min_samples_leaf=1, min_samples_split=2,\n",
       "                       min_weight_fraction_leaf=0.0, n_estimators=90,\n",
       "                       n_jobs=None, oob_score=False, random_state=12345,\n",
       "                       verbose=0, warm_start=False)"
      ]
     },
     "metadata": {},
     "output_type": "display_data"
    },
    {
     "name": "stdout",
     "output_type": "stream",
     "text": [
      "Лучшие параметры модели:\n"
     ]
    },
    {
     "data": {
      "text/plain": [
       "{'max_depth': 9, 'n_estimators': 90}"
      ]
     },
     "metadata": {},
     "output_type": "display_data"
    },
    {
     "name": "stdout",
     "output_type": "stream",
     "text": [
      "Лучший F1: 0.6014\n",
      "\n",
      "Время обучения полного обучающего датасета после получения лучших параметров: 0.677 сек\n",
      "\n"
     ]
    }
   ],
   "source": [
    "# Случайный лес\n",
    "best_models = fun_build_RandomForestClassifier(train_features, train_target,\n",
    "                                               'Применили метод взвешивания классов:\\n', best_models,\n",
    "                                               class_weight='balanced')"
   ]
  },
  {
   "cell_type": "markdown",
   "metadata": {},
   "source": [
    "#### Вывод\n",
    "- *Применили метод взвешивания классов*\n",
    "- ***Самая высокая `F1-мера` 0.6 - у модели Случайный лес***\n",
    "- Получили достаточно хорошее значение F1-меры, но попробуем ещё другие методы балансировки классов"
   ]
  },
  {
   "cell_type": "markdown",
   "metadata": {},
   "source": [
    "<a id='Link17'></a>"
   ]
  },
  {
   "cell_type": "markdown",
   "metadata": {},
   "source": [
    "### Увеличим выборку у редкого класса (1) методом `upsampling`"
   ]
  },
  {
   "cell_type": "code",
   "execution_count": 32,
   "metadata": {},
   "outputs": [],
   "source": [
    "# функция для увеличения выборки с редким классом\n",
    "def fun_upsample(features, target, repeat):\n",
    "    \"\"\"\n",
    "    функция для увеличения выборки с редким классом\n",
    "    \n",
    "    параметры:\n",
    "    - признаки, таргет\n",
    "    - во сколько раз увеличивать выборку с редким классом\n",
    "    \"\"\"\n",
    "    \n",
    "    print('Длина обучающей выборки до увеличения:', len(features))\n",
    "    \n",
    "    features_zeros = features[target == 0]\n",
    "    features_ones = features[target == 1]\n",
    "    target_zeros = target[target == 0]\n",
    "    target_ones = target[target == 1]\n",
    "\n",
    "    # увеличиваем выборку\n",
    "    features_upsampled = pd.concat([features_zeros] + [features_ones] * repeat)\n",
    "    target_upsampled = pd.concat([target_zeros] + [target_ones] * repeat)\n",
    "\n",
    "    # перемешиваем\n",
    "    features_upsampled = shuffle(features_upsampled, random_state=1234)\n",
    "    target_upsampled = shuffle(target_upsampled, random_state=1234)\n",
    "    \n",
    "    print('Длина обучающей выборки с классом 1: {}. Длина обучающей выборки с классом 0: {}' \\\n",
    "          .format(len(features_ones), len(features_zeros)))\n",
    "    print('Длина обучающей выборки после увеличения в {} раз редкого класса 1: {}' \\\n",
    "      .format(repeat, len(features_upsampled)))\n",
    "    \n",
    "    return features_upsampled, target_upsampled"
   ]
  },
  {
   "cell_type": "code",
   "execution_count": 33,
   "metadata": {
    "scrolled": false
   },
   "outputs": [
    {
     "name": "stdout",
     "output_type": "stream",
     "text": [
      "Длина обучающей выборки до увеличения: 8000\n",
      "Длина обучающей выборки с классом 1: 1630. Длина обучающей выборки с классом 0: 6370\n",
      "Длина обучающей выборки после увеличения в 2 раз редкого класса 1: 9630\n"
     ]
    }
   ],
   "source": [
    "# увеличиваем количество элементов с классом 1 в обучающей выборке\n",
    "N_REPEAT = 2\n",
    "train_features_upsampled, train_target_upsampled = fun_upsample(train_features, train_target, N_REPEAT)"
   ]
  },
  {
   "cell_type": "markdown",
   "metadata": {},
   "source": [
    "### Построим модели. Для обучения передадим обучающую выборку с увеличенным редким классом 1"
   ]
  },
  {
   "cell_type": "code",
   "execution_count": 34,
   "metadata": {},
   "outputs": [
    {
     "name": "stdout",
     "output_type": "stream",
     "text": [
      "Лучшая модель Логистическая регрессия:\n"
     ]
    },
    {
     "data": {
      "text/plain": [
       "LogisticRegression(C=2.5000000000000004, class_weight=None, dual=False,\n",
       "                   fit_intercept=True, intercept_scaling=1, l1_ratio=None,\n",
       "                   max_iter=100, multi_class='auto', n_jobs=None, penalty='l2',\n",
       "                   random_state=12345, solver='lbfgs', tol=0.0001, verbose=0,\n",
       "                   warm_start=False)"
      ]
     },
     "metadata": {},
     "output_type": "display_data"
    },
    {
     "name": "stdout",
     "output_type": "stream",
     "text": [
      "Лучшие параметры модели:\n"
     ]
    },
    {
     "data": {
      "text/plain": [
       "{'C': 2.5000000000000004}"
      ]
     },
     "metadata": {},
     "output_type": "display_data"
    },
    {
     "name": "stdout",
     "output_type": "stream",
     "text": [
      "Лучший F1: 0.534\n",
      "\n",
      "Время обучения полного обучающего датасета после получения лучших параметров: 0.022 сек\n",
      "\n"
     ]
    }
   ],
   "source": [
    "# Логистическая регрессия\n",
    "best_models = fun_build_LogisticRegression(train_features_upsampled, train_target_upsampled,\n",
    "                                           'Применили метод увеличения редкого класса в {} раз:\\n'\n",
    "                                           .format(N_REPEAT),\n",
    "                                           best_models)"
   ]
  },
  {
   "cell_type": "code",
   "execution_count": 35,
   "metadata": {},
   "outputs": [
    {
     "name": "stdout",
     "output_type": "stream",
     "text": [
      "Лучшая модель Дерево решений:\n"
     ]
    },
    {
     "data": {
      "text/plain": [
       "DecisionTreeClassifier(ccp_alpha=0.0, class_weight=None, criterion='gini',\n",
       "                       max_depth=19, max_features=None, max_leaf_nodes=None,\n",
       "                       min_impurity_decrease=0.0, min_impurity_split=None,\n",
       "                       min_samples_leaf=1, min_samples_split=2,\n",
       "                       min_weight_fraction_leaf=0.0, presort='deprecated',\n",
       "                       random_state=12345, splitter='best')"
      ]
     },
     "metadata": {},
     "output_type": "display_data"
    },
    {
     "name": "stdout",
     "output_type": "stream",
     "text": [
      "Лучшие параметры модели:\n"
     ]
    },
    {
     "data": {
      "text/plain": [
       "{'max_depth': 19, 'min_samples_leaf': 1, 'min_samples_split': 2}"
      ]
     },
     "metadata": {},
     "output_type": "display_data"
    },
    {
     "name": "stdout",
     "output_type": "stream",
     "text": [
      "Лучший F1: 0.7797\n",
      "\n",
      "Время обучения полного обучающего датасета после получения лучших параметров: 0.042 сек\n",
      "\n"
     ]
    }
   ],
   "source": [
    "# Дерево решений\n",
    "best_models = fun_build_DecisionTreeClassifier(train_features_upsampled, train_target_upsampled,\n",
    "                                           'Применили метод увеличения редкого класса в {} раз:\\n'\n",
    "                                           .format(N_REPEAT),\n",
    "                                           best_models)"
   ]
  },
  {
   "cell_type": "code",
   "execution_count": 36,
   "metadata": {},
   "outputs": [
    {
     "name": "stdout",
     "output_type": "stream",
     "text": [
      "Лучшая модель Случайный лес:\n"
     ]
    },
    {
     "data": {
      "text/plain": [
       "RandomForestClassifier(bootstrap=True, ccp_alpha=0.0, class_weight=None,\n",
       "                       criterion='gini', max_depth=17, max_features='auto',\n",
       "                       max_leaf_nodes=None, max_samples=None,\n",
       "                       min_impurity_decrease=0.0, min_impurity_split=None,\n",
       "                       min_samples_leaf=1, min_samples_split=2,\n",
       "                       min_weight_fraction_leaf=0.0, n_estimators=80,\n",
       "                       n_jobs=None, oob_score=False, random_state=12345,\n",
       "                       verbose=0, warm_start=False)"
      ]
     },
     "metadata": {},
     "output_type": "display_data"
    },
    {
     "name": "stdout",
     "output_type": "stream",
     "text": [
      "Лучшие параметры модели:\n"
     ]
    },
    {
     "data": {
      "text/plain": [
       "{'max_depth': 17, 'n_estimators': 80}"
      ]
     },
     "metadata": {},
     "output_type": "display_data"
    },
    {
     "name": "stdout",
     "output_type": "stream",
     "text": [
      "Лучший F1: 0.8569\n",
      "\n",
      "Время обучения полного обучающего датасета после получения лучших параметров: 0.925 сек\n",
      "\n"
     ]
    }
   ],
   "source": [
    "# Случайный лес\n",
    "best_models = fun_build_RandomForestClassifier(train_features_upsampled, train_target_upsampled,\n",
    "                                           'Применили метод увеличения редкого класса в {} раз:\\n'\n",
    "                                           .format(N_REPEAT),\n",
    "                                           best_models)"
   ]
  },
  {
   "cell_type": "markdown",
   "metadata": {},
   "source": [
    "#### Вывод\n",
    "- *Применили метод увеличения редкого класса 1 в обучающей выборке*\n",
    "- ***Самая высокая `F1-мера` 0.86 - у модели Случайный лес***\n",
    "- Получили достаточно хорошее значение F1-меры"
   ]
  },
  {
   "cell_type": "markdown",
   "metadata": {},
   "source": [
    "<a id='Link18'></a>"
   ]
  },
  {
   "cell_type": "markdown",
   "metadata": {},
   "source": [
    "### Уменьшим выборку у частого класса (0) методом `downsampling`"
   ]
  },
  {
   "cell_type": "code",
   "execution_count": 37,
   "metadata": {},
   "outputs": [],
   "source": [
    "# функция уменьшения выборки с частым классом\n",
    "def fun_downsample(features, target, fraction):\n",
    "    \"\"\"\n",
    "    функция для уменьшения выборки с частым классом\n",
    "    \n",
    "    параметры:\n",
    "    - признаки, таргет\n",
    "    - какую долю взять от выборки с частым классом\n",
    "    \"\"\"\n",
    "    \n",
    "    print('Длина обучающей выборки до уменьшения:', len(features))    \n",
    "    \n",
    "    features_zeros = features[target == 0]\n",
    "    features_ones = features[target == 1]\n",
    "    target_zeros = target[target == 0]\n",
    "    target_ones = target[target == 1]\n",
    "\n",
    "    # получаем случайные элементы для частого класса в количестве: frac * (длина исходной выборки)\n",
    "    features_downsampled = pd.concat([features_zeros.sample\n",
    "                                     (frac=fraction, random_state=12345)] +\n",
    "                                     [features_ones])\n",
    "    target_downsampled = pd.concat([target_zeros.sample\n",
    "                                   (frac=fraction, random_state=12345)] +\n",
    "                                   [target_ones])\n",
    "    \n",
    "    print('Длина выборки с классом 1: {}. Длина выборки с классом 0: {}'.format(len(features_ones), len(features_zeros)))\n",
    "    print('Длина обучающей выборки после уменьшения в {} раз частого класса 0: {}' \\\n",
    "      .format(int(1 / fraction), len(features_downsampled)))\n",
    "    \n",
    "    return features_downsampled, target_downsampled"
   ]
  },
  {
   "cell_type": "code",
   "execution_count": 38,
   "metadata": {},
   "outputs": [
    {
     "name": "stdout",
     "output_type": "stream",
     "text": [
      "Длина обучающей выборки до уменьшения: 8000\n",
      "Длина выборки с классом 1: 1630. Длина выборки с классом 0: 6370\n",
      "Длина обучающей выборки после уменьшения в 2 раз частого класса 0: 4815\n"
     ]
    }
   ],
   "source": [
    "# уменьшаем количество элементов с классом 0 в обучающей выборке\n",
    "FRAC = 0.5\n",
    "train_features_downsampled, train_target_downsampled = fun_downsample(train_features, train_target, FRAC)"
   ]
  },
  {
   "cell_type": "markdown",
   "metadata": {},
   "source": [
    "### Построим модели. Для обучения передадим обучающую выборку с уменьшенным частым классом 0"
   ]
  },
  {
   "cell_type": "code",
   "execution_count": 39,
   "metadata": {},
   "outputs": [
    {
     "name": "stdout",
     "output_type": "stream",
     "text": [
      "Лучшая модель Логистическая регрессия:\n"
     ]
    },
    {
     "data": {
      "text/plain": [
       "LogisticRegression(C=1.1000000000000003, class_weight=None, dual=False,\n",
       "                   fit_intercept=True, intercept_scaling=1, l1_ratio=None,\n",
       "                   max_iter=100, multi_class='auto', n_jobs=None, penalty='l2',\n",
       "                   random_state=12345, solver='lbfgs', tol=0.0001, verbose=0,\n",
       "                   warm_start=False)"
      ]
     },
     "metadata": {},
     "output_type": "display_data"
    },
    {
     "name": "stdout",
     "output_type": "stream",
     "text": [
      "Лучшие параметры модели:\n"
     ]
    },
    {
     "data": {
      "text/plain": [
       "{'C': 1.1000000000000003}"
      ]
     },
     "metadata": {},
     "output_type": "display_data"
    },
    {
     "name": "stdout",
     "output_type": "stream",
     "text": [
      "Лучший F1: 0.519\n",
      "\n",
      "Время обучения полного обучающего датасета после получения лучших параметров: 0.012 сек\n",
      "\n"
     ]
    }
   ],
   "source": [
    "# Логистическая регрессия\n",
    "best_models = fun_build_LogisticRegression(train_features_downsampled, train_target_downsampled,\n",
    "                                          'Применили метод уменьшения частого класса в {} раз:\\n'.format(int(1 / FRAC)),\n",
    "                                          best_models)"
   ]
  },
  {
   "cell_type": "code",
   "execution_count": 40,
   "metadata": {},
   "outputs": [
    {
     "name": "stdout",
     "output_type": "stream",
     "text": [
      "Лучшая модель Дерево решений:\n"
     ]
    },
    {
     "data": {
      "text/plain": [
       "DecisionTreeClassifier(ccp_alpha=0.0, class_weight=None, criterion='gini',\n",
       "                       max_depth=11, max_features=None, max_leaf_nodes=None,\n",
       "                       min_impurity_decrease=0.0, min_impurity_split=None,\n",
       "                       min_samples_leaf=6, min_samples_split=52,\n",
       "                       min_weight_fraction_leaf=0.0, presort='deprecated',\n",
       "                       random_state=12345, splitter='best')"
      ]
     },
     "metadata": {},
     "output_type": "display_data"
    },
    {
     "name": "stdout",
     "output_type": "stream",
     "text": [
      "Лучшие параметры модели:\n"
     ]
    },
    {
     "data": {
      "text/plain": [
       "{'max_depth': 11, 'min_samples_leaf': 6, 'min_samples_split': 52}"
      ]
     },
     "metadata": {},
     "output_type": "display_data"
    },
    {
     "name": "stdout",
     "output_type": "stream",
     "text": [
      "Лучший F1: 0.6698\n",
      "\n",
      "Время обучения полного обучающего датасета после получения лучших параметров: 0.017 сек\n",
      "\n"
     ]
    }
   ],
   "source": [
    "# Дерево решений\n",
    "best_models = fun_build_DecisionTreeClassifier(train_features_downsampled, train_target_downsampled,\n",
    "                                              'Применили метод уменьшения частого класса в {} раз:\\n'.format(int(1 / FRAC)),\n",
    "                                              best_models)"
   ]
  },
  {
   "cell_type": "code",
   "execution_count": 41,
   "metadata": {},
   "outputs": [
    {
     "name": "stdout",
     "output_type": "stream",
     "text": [
      "Лучшая модель Случайный лес:\n"
     ]
    },
    {
     "data": {
      "text/plain": [
       "RandomForestClassifier(bootstrap=True, ccp_alpha=0.0, class_weight=None,\n",
       "                       criterion='gini', max_depth=19, max_features='auto',\n",
       "                       max_leaf_nodes=None, max_samples=None,\n",
       "                       min_impurity_decrease=0.0, min_impurity_split=None,\n",
       "                       min_samples_leaf=1, min_samples_split=2,\n",
       "                       min_weight_fraction_leaf=0.0, n_estimators=40,\n",
       "                       n_jobs=None, oob_score=False, random_state=12345,\n",
       "                       verbose=0, warm_start=False)"
      ]
     },
     "metadata": {},
     "output_type": "display_data"
    },
    {
     "name": "stdout",
     "output_type": "stream",
     "text": [
      "Лучшие параметры модели:\n"
     ]
    },
    {
     "data": {
      "text/plain": [
       "{'max_depth': 19, 'n_estimators': 40}"
      ]
     },
     "metadata": {},
     "output_type": "display_data"
    },
    {
     "name": "stdout",
     "output_type": "stream",
     "text": [
      "Лучший F1: 0.6768\n",
      "\n",
      "Время обучения полного обучающего датасета после получения лучших параметров: 0.259 сек\n",
      "\n"
     ]
    }
   ],
   "source": [
    "# Случайный лес\n",
    "best_models = fun_build_RandomForestClassifier(train_features_downsampled, train_target_downsampled,\n",
    "                                              'Применили метод уменьшения частого класса в {} раз:\\n'.format(int(1 / FRAC)),\n",
    "                                              best_models)"
   ]
  },
  {
   "cell_type": "markdown",
   "metadata": {},
   "source": [
    "#### Вывод\n",
    "- *Применили метод уменьшения частого класса 0 в обучающей выборке*\n",
    "- ***Самая высокая `F1-мера` 0.68 - у модели Случайный лес***\n",
    "- Получили достаточно хорошее значение F1-меры"
   ]
  },
  {
   "cell_type": "markdown",
   "metadata": {},
   "source": [
    "<a id='Link19'></a>"
   ]
  },
  {
   "cell_type": "markdown",
   "metadata": {},
   "source": [
    "## 6. Проведем финальное тестирование, проверим модели на вменяемость. Определим лучшую модель."
   ]
  },
  {
   "cell_type": "markdown",
   "metadata": {},
   "source": [
    "### Выведем все наши лучшие модели с `f1` >= 0.59 при валидации, проверим их на тестовой выборке, посчитаем метрики `f1` и  `auc_roc` на тестовой выборке"
   ]
  },
  {
   "cell_type": "code",
   "execution_count": 42,
   "metadata": {},
   "outputs": [],
   "source": [
    "def fun_check_by_test(best_model):\n",
    "    \"\"\"функция для проверки модели на тестовой выборке\n",
    "    делает предсказания по переданной модели и\n",
    "    рассчитывает f1, auc_roc, accuracy, fpr, tpr\n",
    "    \n",
    "    параметры: строка с лучшей моделью из датасета best_models\n",
    "    возвращает рассчитанные метрики\n",
    "    \"\"\"\n",
    "     \n",
    "    # если это лог регрессия\n",
    "    if best_model.model_name == 'Логистическая регрессия':\n",
    "        # категориальные признаки методом OHE\n",
    "        columns = category_columns_ohe + numeric_columns\n",
    "    # если другие модели\n",
    "    else:\n",
    "        # категориальные признаки порядковым кодированием\n",
    "        columns = category_columns_ordinal + numeric_columns    \n",
    "    \n",
    "    # предсказания на тестовой выборке\n",
    "    # засекаем время предсказания\n",
    "    start_time = perf_counter()\n",
    "    predictions = best_model.model.predict(test_features[columns])\n",
    "    stop_time = perf_counter()\n",
    "       \n",
    "    # вероятности получить класс 1\n",
    "    probabilities_one = best_model.model.predict_proba(test_features[columns])[:, 1]\n",
    "    # метрика F1-мера\n",
    "    f1 = f1_score(test_target, predictions)\n",
    "    # метрика auc_roc\n",
    "    auc_roc = roc_auc_score(test_target, probabilities_one)\n",
    "    # метрика accuracy\n",
    "    accuracy = accuracy_score(test_target, predictions)\n",
    "    \n",
    "    # получаем значения fpr, tpr в зависимости от thresholds\n",
    "    fpr, tpr, thresholds = roc_curve(test_target, probabilities_one)\n",
    "    \n",
    "    # матрица ошибок\n",
    "    conf_matrix = confusion_matrix(test_target, predictions)\n",
    "    \n",
    "    # возвращаем рассчитанные метрики\n",
    "    return pd.Series([f1, {'pred_time': stop_time - start_time, 'auc_roc': auc_roc,\n",
    "            'accuracy': accuracy, 'fpr': fpr, 'tpr':tpr, 'conf_matrix': conf_matrix}])"
   ]
  },
  {
   "cell_type": "markdown",
   "metadata": {},
   "source": [
    " - Проверяем модели на тестовой выборке и сохраняем все метрики в датасет лучших моделей `best_models`"
   ]
  },
  {
   "cell_type": "code",
   "execution_count": 43,
   "metadata": {},
   "outputs": [
    {
     "data": {
      "text/html": [
       "<div>\n",
       "<style scoped>\n",
       "    .dataframe tbody tr th:only-of-type {\n",
       "        vertical-align: middle;\n",
       "    }\n",
       "\n",
       "    .dataframe tbody tr th {\n",
       "        vertical-align: top;\n",
       "    }\n",
       "\n",
       "    .dataframe thead th {\n",
       "        text-align: right;\n",
       "    }\n",
       "</style>\n",
       "<table border=\"1\" class=\"dataframe\">\n",
       "  <thead>\n",
       "    <tr style=\"text-align: right;\">\n",
       "      <th></th>\n",
       "      <th>f1</th>\n",
       "      <th>model</th>\n",
       "      <th>model_name</th>\n",
       "      <th>params</th>\n",
       "      <th>f1_test</th>\n",
       "      <th>metrics</th>\n",
       "    </tr>\n",
       "  </thead>\n",
       "  <tbody>\n",
       "    <tr>\n",
       "      <th>0</th>\n",
       "      <td>0.601386</td>\n",
       "      <td>(DecisionTreeClassifier(ccp_alpha=0.0, class_w...</td>\n",
       "      <td>Применили метод взвешивания классов:\\nСлучайны...</td>\n",
       "      <td>{'max_depth': 9, 'n_estimators': 90}</td>\n",
       "      <td>0.626374</td>\n",
       "      <td>{'pred_time': 0.0374507939999944, 'auc_roc': 0...</td>\n",
       "    </tr>\n",
       "    <tr>\n",
       "      <th>1</th>\n",
       "      <td>0.779734</td>\n",
       "      <td>DecisionTreeClassifier(ccp_alpha=0.0, class_we...</td>\n",
       "      <td>Применили метод увеличения редкого класса в 2 ...</td>\n",
       "      <td>{'max_depth': 19, 'min_samples_leaf': 1, 'min_...</td>\n",
       "      <td>0.540541</td>\n",
       "      <td>{'pred_time': 0.002205193000008876, 'auc_roc':...</td>\n",
       "    </tr>\n",
       "    <tr>\n",
       "      <th>2</th>\n",
       "      <td>0.856869</td>\n",
       "      <td>(DecisionTreeClassifier(ccp_alpha=0.0, class_w...</td>\n",
       "      <td>Применили метод увеличения редкого класса в 2 ...</td>\n",
       "      <td>{'max_depth': 17, 'n_estimators': 80}</td>\n",
       "      <td>0.609418</td>\n",
       "      <td>{'pred_time': 0.038976847000014914, 'auc_roc':...</td>\n",
       "    </tr>\n",
       "    <tr>\n",
       "      <th>3</th>\n",
       "      <td>0.669831</td>\n",
       "      <td>DecisionTreeClassifier(ccp_alpha=0.0, class_we...</td>\n",
       "      <td>Применили метод уменьшения частого класса в 2 ...</td>\n",
       "      <td>{'max_depth': 11, 'min_samples_leaf': 6, 'min_...</td>\n",
       "      <td>0.566434</td>\n",
       "      <td>{'pred_time': 0.001979407999954219, 'auc_roc':...</td>\n",
       "    </tr>\n",
       "    <tr>\n",
       "      <th>4</th>\n",
       "      <td>0.676806</td>\n",
       "      <td>(DecisionTreeClassifier(ccp_alpha=0.0, class_w...</td>\n",
       "      <td>Применили метод уменьшения частого класса в 2 ...</td>\n",
       "      <td>{'max_depth': 19, 'n_estimators': 40}</td>\n",
       "      <td>0.602500</td>\n",
       "      <td>{'pred_time': 0.019251037000003635, 'auc_roc':...</td>\n",
       "    </tr>\n",
       "  </tbody>\n",
       "</table>\n",
       "</div>"
      ],
      "text/plain": [
       "         f1                                              model  \\\n",
       "0  0.601386  (DecisionTreeClassifier(ccp_alpha=0.0, class_w...   \n",
       "1  0.779734  DecisionTreeClassifier(ccp_alpha=0.0, class_we...   \n",
       "2  0.856869  (DecisionTreeClassifier(ccp_alpha=0.0, class_w...   \n",
       "3  0.669831  DecisionTreeClassifier(ccp_alpha=0.0, class_we...   \n",
       "4  0.676806  (DecisionTreeClassifier(ccp_alpha=0.0, class_w...   \n",
       "\n",
       "                                          model_name  \\\n",
       "0  Применили метод взвешивания классов:\\nСлучайны...   \n",
       "1  Применили метод увеличения редкого класса в 2 ...   \n",
       "2  Применили метод увеличения редкого класса в 2 ...   \n",
       "3  Применили метод уменьшения частого класса в 2 ...   \n",
       "4  Применили метод уменьшения частого класса в 2 ...   \n",
       "\n",
       "                                              params   f1_test  \\\n",
       "0               {'max_depth': 9, 'n_estimators': 90}  0.626374   \n",
       "1  {'max_depth': 19, 'min_samples_leaf': 1, 'min_...  0.540541   \n",
       "2              {'max_depth': 17, 'n_estimators': 80}  0.609418   \n",
       "3  {'max_depth': 11, 'min_samples_leaf': 6, 'min_...  0.566434   \n",
       "4              {'max_depth': 19, 'n_estimators': 40}  0.602500   \n",
       "\n",
       "                                             metrics  \n",
       "0  {'pred_time': 0.0374507939999944, 'auc_roc': 0...  \n",
       "1  {'pred_time': 0.002205193000008876, 'auc_roc':...  \n",
       "2  {'pred_time': 0.038976847000014914, 'auc_roc':...  \n",
       "3  {'pred_time': 0.001979407999954219, 'auc_roc':...  \n",
       "4  {'pred_time': 0.019251037000003635, 'auc_roc':...  "
      ]
     },
     "metadata": {},
     "output_type": "display_data"
    }
   ],
   "source": [
    "# идем по строкам датасета best_models\n",
    "# проверяем все модели на тестовой выборке\n",
    "# сохраняем в best_models полученные метрики\n",
    "best_models[['f1_test','metrics']] = best_models.apply(fun_check_by_test, axis=1)\n",
    "display(best_models)"
   ]
  },
  {
   "cell_type": "code",
   "execution_count": 44,
   "metadata": {},
   "outputs": [],
   "source": [
    "# функция для вывода лучших моделей\n",
    "def fun_print_models(best_model):\n",
    "    \"\"\"\n",
    "    функция для вывода лучших моделей, метрик, графика ROC-curve\n",
    "    \n",
    "    параметры: строка с лучшей моделью из датасета best_models\n",
    "    \"\"\"\n",
    "    \n",
    "    # выводим место модели в рейтинге\n",
    "    print(red('{} место'.format(best_model['index']+1), 'bold'))\n",
    "    \n",
    "    # выводим лучшие параметры модели и метрики\n",
    "    print(blue(best_model.model_name, 'bold'))\n",
    "    print('Лучшие параметры:\\n{}'.format(best_model.params))\n",
    "    print('F1 при кросс-валидации во время обучения: {:.2f}'.format(best_model.f1))\n",
    "    # метрики на тестовой выборке\n",
    "    print(red('\\nF1 на тестовой выборке: {:.2f}'.format(best_model.f1_test)))\n",
    "    print('AUC_ROC на тестовой выборке: {:.2f}'.format(best_model.metrics['auc_roc']))\n",
    "    print('ACCURACY на тестовой выборке: {:.2f}\\n'.format(best_model.metrics['accuracy']))\n",
    "    print (blue('Время предсказания: {:.6f} s'.format(best_model.metrics['pred_time'])))    \n",
    " \n",
    "    #рисуем график roc_curve\n",
    "    fig = plt.figure(figsize=(10,3))\n",
    "\n",
    "    # roc_curve\n",
    "    ax = plt.subplot(121)\n",
    "    fun_plot('plot', 'ROC-кривая:\\n',\n",
    "             df_x=best_model.metrics['fpr'], df_x_name='fpr',\n",
    "             x_label='False Positive Rate',\n",
    "             df_y=best_model.metrics['tpr'], df_y_name='tpr',\n",
    "             y_label='True Positive Rate = Recall',\n",
    "             label='ROC curve (area = %0.2f)' % best_model.metrics['auc_roc'],\n",
    "             color='darkorange')\n",
    "    # линия treshhold\n",
    "    fun_plot('plot', 'ROC-кривая:\\n',\n",
    "             df_x=[0, 1], df_x_name='fpr',\n",
    "             x_label='False Positive Rate',\n",
    "             df_y=[0, 1], df_y_name='tpr',\n",
    "             y_label='True Positive Rate = Recall',\n",
    "             color='navy', linestyle='dotted')\n",
    "    \n",
    "    \n",
    "    # матрица ошибок\n",
    "    confusion_matrix_df = pd.DataFrame(best_model.metrics['conf_matrix'],\n",
    "                                       columns=['0','1'],\n",
    "                                       index=['0', '1'])\n",
    "    # confusion_matrix\n",
    "    ax = plt.subplot(122)\n",
    "    fun_plot('heat', 'Матрица ошибок:\\n',\n",
    "             df=confusion_matrix_df, fmt='d')\n",
    "    \n",
    "    fig.tight_layout()\n",
    "    plt.show()\n",
    "    \n",
    "    print(blue('\\n------------------------------------------------\\n'))"
   ]
  },
  {
   "cell_type": "markdown",
   "metadata": {},
   "source": [
    "### Отсортируем наши лучшие модели по `f1` на тестовой выборке по убыванию и выведем лучшие модели"
   ]
  },
  {
   "cell_type": "code",
   "execution_count": 45,
   "metadata": {
    "scrolled": false
   },
   "outputs": [
    {
     "name": "stdout",
     "output_type": "stream",
     "text": [
      "\n",
      "Наши лучшие модели:\n",
      "\n",
      "\u001b[34m------------------------------------------------\n",
      "\u001b[0m\n",
      "\u001b[1;31m1 место\u001b[0m\n",
      "\u001b[1;34mПрименили метод взвешивания классов:\n",
      "Случайный лес\u001b[0m\n",
      "Лучшие параметры:\n",
      "{'max_depth': 9, 'n_estimators': 90}\n",
      "F1 при кросс-валидации во время обучения: 0.60\n",
      "\u001b[31m\n",
      "F1 на тестовой выборке: 0.63\u001b[0m\n",
      "AUC_ROC на тестовой выборке: 0.86\n",
      "ACCURACY на тестовой выборке: 0.83\n",
      "\n",
      "\u001b[34mВремя предсказания: 0.037451 s\u001b[0m\n"
     ]
    },
    {
     "data": {
      "image/png": "[encoded data removed]",
      "text/plain": [
       "<Figure size 720x216 with 3 Axes>"
      ]
     },
     "metadata": {
      "needs_background": "light"
     },
     "output_type": "display_data"
    },
    {
     "name": "stdout",
     "output_type": "stream",
     "text": [
      "\u001b[34m\n",
      "------------------------------------------------\n",
      "\u001b[0m\n",
      "\u001b[1;31m2 место\u001b[0m\n",
      "\u001b[1;34mПрименили метод увеличения редкого класса в 2 раз:\n",
      "Случайный лес\u001b[0m\n",
      "Лучшие параметры:\n",
      "{'max_depth': 17, 'n_estimators': 80}\n",
      "F1 при кросс-валидации во время обучения: 0.86\n",
      "\u001b[31m\n",
      "F1 на тестовой выборке: 0.61\u001b[0m\n",
      "AUC_ROC на тестовой выборке: 0.86\n",
      "ACCURACY на тестовой выборке: 0.86\n",
      "\n",
      "\u001b[34mВремя предсказания: 0.038977 s\u001b[0m\n"
     ]
    },
    {
     "data": {
      "image/png": "[encoded data removed]",
      "text/plain": [
       "<Figure size 720x216 with 3 Axes>"
      ]
     },
     "metadata": {
      "needs_background": "light"
     },
     "output_type": "display_data"
    },
    {
     "name": "stdout",
     "output_type": "stream",
     "text": [
      "\u001b[34m\n",
      "------------------------------------------------\n",
      "\u001b[0m\n",
      "\u001b[1;31m3 место\u001b[0m\n",
      "\u001b[1;34mПрименили метод уменьшения частого класса в 2 раз:\n",
      "Случайный лес\u001b[0m\n",
      "Лучшие параметры:\n",
      "{'max_depth': 19, 'n_estimators': 40}\n",
      "F1 при кросс-валидации во время обучения: 0.68\n",
      "\u001b[31m\n",
      "F1 на тестовой выборке: 0.60\u001b[0m\n",
      "AUC_ROC на тестовой выборке: 0.85\n",
      "ACCURACY на тестовой выборке: 0.84\n",
      "\n",
      "\u001b[34mВремя предсказания: 0.019251 s\u001b[0m\n"
     ]
    },
    {
     "data": {
      "image/png": "[encoded data removed]",
      "text/plain": [
       "<Figure size 720x216 with 3 Axes>"
      ]
     },
     "metadata": {
      "needs_background": "light"
     },
     "output_type": "display_data"
    },
    {
     "name": "stdout",
     "output_type": "stream",
     "text": [
      "\u001b[34m\n",
      "------------------------------------------------\n",
      "\u001b[0m\n",
      "\u001b[1;31m4 место\u001b[0m\n",
      "\u001b[1;34mПрименили метод уменьшения частого класса в 2 раз:\n",
      "Дерево решений\u001b[0m\n",
      "Лучшие параметры:\n",
      "{'max_depth': 11, 'min_samples_leaf': 6, 'min_samples_split': 52}\n",
      "F1 при кросс-валидации во время обучения: 0.67\n",
      "\u001b[31m\n",
      "F1 на тестовой выборке: 0.57\u001b[0m\n",
      "AUC_ROC на тестовой выборке: 0.83\n",
      "ACCURACY на тестовой выборке: 0.81\n",
      "\n",
      "\u001b[34mВремя предсказания: 0.001979 s\u001b[0m\n"
     ]
    },
    {
     "data": {
      "image/png": "[encoded data removed]",
      "text/plain": [
       "<Figure size 720x216 with 3 Axes>"
      ]
     },
     "metadata": {
      "needs_background": "light"
     },
     "output_type": "display_data"
    },
    {
     "name": "stdout",
     "output_type": "stream",
     "text": [
      "\u001b[34m\n",
      "------------------------------------------------\n",
      "\u001b[0m\n",
      "\u001b[1;31m5 место\u001b[0m\n",
      "\u001b[1;34mПрименили метод увеличения редкого класса в 2 раз:\n",
      "Дерево решений\u001b[0m\n",
      "Лучшие параметры:\n",
      "{'max_depth': 19, 'min_samples_leaf': 1, 'min_samples_split': 2}\n",
      "F1 при кросс-валидации во время обучения: 0.78\n",
      "\u001b[31m\n",
      "F1 на тестовой выборке: 0.54\u001b[0m\n",
      "AUC_ROC на тестовой выборке: 0.71\n",
      "ACCURACY на тестовой выборке: 0.80\n",
      "\n",
      "\u001b[34mВремя предсказания: 0.002205 s\u001b[0m\n"
     ]
    },
    {
     "data": {
      "image/png": "[encoded data removed]",
      "text/plain": [
       "<Figure size 720x216 with 3 Axes>"
      ]
     },
     "metadata": {
      "needs_background": "light"
     },
     "output_type": "display_data"
    },
    {
     "name": "stdout",
     "output_type": "stream",
     "text": [
      "\u001b[34m\n",
      "------------------------------------------------\n",
      "\u001b[0m\n"
     ]
    },
    {
     "data": {
      "text/plain": [
       "0    None\n",
       "1    None\n",
       "2    None\n",
       "3    None\n",
       "4    None\n",
       "dtype: object"
      ]
     },
     "execution_count": 45,
     "metadata": {},
     "output_type": "execute_result"
    }
   ],
   "source": [
    "# сортируем best_models по f1 на тестовой выборке\n",
    "# составялем рейтинг моделей\n",
    "best_models = best_models.sort_values('f1_test', ascending=False)\n",
    "best_models = best_models.reset_index(drop=True).reset_index()\n",
    "\n",
    "print('\\nНаши лучшие модели:\\n')\n",
    "print(blue('------------------------------------------------\\n'))\n",
    "\n",
    "# идем по строкам датасета best_models\n",
    "# выводим все наши модели, начиная с самой лучшей\n",
    "best_models.apply(fun_print_models, axis=1)"
   ]
  },
  {
   "cell_type": "markdown",
   "metadata": {},
   "source": [
    " - **Можем отметить, что есть переобученные модели с высоким F1 на обучающей выборке и низким на тестовой**"
   ]
  },
  {
   "cell_type": "markdown",
   "metadata": {},
   "source": [
    "<a id='Link20'></a>"
   ]
  },
  {
   "cell_type": "markdown",
   "metadata": {},
   "source": [
    "### Проверим модели на вменяемость"
   ]
  },
  {
   "cell_type": "markdown",
   "metadata": {},
   "source": [
    " - Посчитаем `f1` для константной модели, прогнозирующей класс 1"
   ]
  },
  {
   "cell_type": "code",
   "execution_count": 46,
   "metadata": {},
   "outputs": [
    {
     "name": "stdout",
     "output_type": "stream",
     "text": [
      "F1 константной модели на тестовой выборке: 0.338\n"
     ]
    }
   ],
   "source": [
    "# f1 для константной модели\n",
    "print('F1 константной модели на тестовой выборке: {:.3f}'.\n",
    "      format(f1_score(test_target, np.ones(len(test_target)))))"
   ]
  },
  {
   "cell_type": "markdown",
   "metadata": {},
   "source": [
    " - Посчитаем `accuracy` константной модели, прогнозирующей самый частый класс 0"
   ]
  },
  {
   "cell_type": "code",
   "execution_count": 47,
   "metadata": {},
   "outputs": [
    {
     "name": "stdout",
     "output_type": "stream",
     "text": [
      "Accuracy константной модели на тестовой выборке: 0.796\n"
     ]
    }
   ],
   "source": [
    "# accuracy для константной модели\n",
    "print('Accuracy константной модели на тестовой выборке: {:.3f}'.\n",
    "      format(accuracy_score(test_target, np.zeros(len(test_target)))))"
   ]
  },
  {
   "cell_type": "markdown",
   "metadata": {},
   "source": [
    " - **Все наши лучшие модели прошли проверку на вменяемость. Но модели на 4 и 5 месте показывают практически тот же Accuracy, что и константная модель.**"
   ]
  },
  {
   "cell_type": "markdown",
   "metadata": {},
   "source": [
    "<a id='Link21'></a>"
   ]
  },
  {
   "cell_type": "markdown",
   "metadata": {},
   "source": [
    "### Определим лучшую модель\n",
    " - Проверили модели на тестовой выборке.\n",
    " - Проверили модели на вменяемость. Все модели прошли проверку. Но модели на 4 и 5 месте показывают практически тот же Accuracy, что и константная модель.\n",
    " - **Самые лучшие модели**:\n",
    "   - *Случайный лес с параметрами {'max_depth': 9, 'n_estimators': 90} при методе взвешивания классов:*\n",
    "     - *F1 на тестовой выборке: 0.63*\n",
    "     - *AUC_ROC на тестовой выборке: 0.86*\n",
    "     - ACCURACY на тестовой выборке: 0.83\n",
    "   - *Случайный лес с параметрами {'max_depth': 17, 'n_estimators': 80} при методе увеличения редкого класса в 2 раза:*\n",
    "     - *F1 на тестовой выборке: 0.61*\n",
    "     - *AUC_ROC на тестовой выборке: 0.86*\n",
    "     - ACCURACY на тестовой выборке: 0.86\n",
    " - Отметим, что Дерево решений переобучалось и на тестовой выборке показывало себя не лучшим образом.\n",
    " \n",
    " \n",
    " - **Выбор итоговой лучшей модели зависит требований банка (стоимости потери клиента и стоимости попытки его сохранения) :**\n",
    "   - **Первая лучшая модель 218 лояльных клиентов отнесла к ушедшим и 122 ушедших - к оставшимся.**\n",
    "   - **Вторая лучшая модель допустила меньше ошибок в определении отрицательного класса: 95 лояльных клиентов отнесла к ушедшим, но уже 187 ушедших клиентов отнесла к оставшимся.**\n",
    "   - **Мы можем понизить порог классификации для того, чтобы ловить больше потенциальных клиентов, которые покинут банк, либо же повысить, чтобы тратить время и деньги на специальные предложения тем, кого модель считает наиболее выроятными к уходу.**"
   ]
  },
  {
   "cell_type": "markdown",
   "metadata": {},
   "source": [
    "<a id='Link22'></a>"
   ]
  },
  {
   "cell_type": "markdown",
   "metadata": {},
   "source": [
    "## 7. Общий вывод\n",
    "\n",
    "- **Изучили файл с поведением клиентов банка**\n",
    "  - Явных *пропусков не обнаружили*\n",
    "  - Определили *Целевой признак - Exited* (клиент ушел — 1, остался — 0)\n",
    "\n",
    "\n",
    "- **Предобработали данные**\n",
    "  - Заменили названия столбцов - привели к нижнему регистру\n",
    "  - *Дубликаты не обнаружили*\n",
    "\n",
    "\n",
    "- **Провели исследовательский анализ данных. Проверили выбросы, распределения признаков**\n",
    "  - **Количественные признаки:**\n",
    "    - Сильно выбивающихся аномальных значений не обнаружили. *Найденные выбросы оставили*. Отметили:\n",
    "      - Среди ушедших клиентов есть клиенты с низким кредитным рейтингом (ниже 300). При этом **в банке относительно много клиентов с максимальным кредитным рейтингом. Возможно, для таких клиентов в банке предусмотрена специальная программа обслуживания**.\n",
    "      - Медианный возраст тех, кто ушел = 45 лет, это на 10 лет больше, чем у тех, кто остался. ***Банк покидают более взрослые клиенты. И для тех, кто остался, возраст выше 55 лет - редкость***. *Но редкие клиенты старше 70 лет предпочитают больше оставаться, чем уходить*.\n",
    "      - ***Количество объектов недвижимости среди ушедших и оставшихся клиентов примерно одинаковое***.\n",
    "      - ***Наблюдаем очень высокую частоту околонулевых балансов на счетах, особенно, среди тех, кто остался***. Возможно, это связано с тем, что много клиентов (как ушедших из банка, так и оставшихся) оставляют минимальные суммы на счетах и забывают про них.\n",
    "      - ***Среди тех, кто остался, имеют 1 или 2 продукта с банке. Те, кто ушел, чаще имели только 1 продукт***.\n",
    "      - ***Зарплата среди ушедших и оставшихся клиентов примерно одинаковая***.\n",
    "    - Проверили взаимосвязи между признаками. Нашли слабую отрицательную корреляцию между `balance` и `numofproducts`. *Мультиколлинеарность не обнаружили*.\n",
    "  - **Категориальные признаки:**\n",
    "    - Во Франции и Испании уходит относительно немного клиентов по отношению к оставшимся; в Германии уходит почти 50% от тех, кто остается.\n",
    "    - Чаще уходят мужчины.\n",
    "    - Чаще уходят клиенты, имеющие кредитную карту, и неактивно пользующиеся услугами банка.\n",
    "  \n",
    "  \n",
    "- **Подготовили признаки для построения моделей** \n",
    " - Закодировали категориальные признаки\n",
    " - Подготовили обучающую и тестовую выборки\n",
    " - Масштабировали числовые признаки \n",
    "\n",
    "\n",
    "- **Исследовали баланс классов. Построили модели**\n",
    " - Обнаружили *дисбаланс классов*:\n",
    "    - 0: 0.7963\n",
    "    - 1: 0.2037\n",
    "  - Построили модели (Дерево решений, Случайный лес, Логистическая регрессия) *без учета дисбаланса классов*. Уровень `F1-меры` оказался недостаточным.\n",
    "  - Улучшили качество моделей:\n",
    "    - *Применили метод взвешивания классов*\n",
    "    - *Применили метод увеличения редкого класса 1 в обучающей выборке*\n",
    "    - *Применили метод уменьшения частого класса 0 в обучающей выборке*\n",
    "  - *Получили 5 лучших моделей по значению F1-меры на обучающей выборке*\n",
    "\n",
    "\n",
    "- **Провели финальное тестирование на тестовой выборке, проверили на вменяемость, определили лучшую модель**\n",
    " - Проверили модели на тестовой выборке.\n",
    " - Проверили модели на вменяемость. Все модели прошли проверку. Но модели на 4 и 5 месте показывают практически тот же Accuracy, что и константная модель.\n",
    " - **Самые лучшие модели**:\n",
    "   - *Случайный лес с параметрами {'max_depth': 9, 'n_estimators': 90} при методе взвешивания классов:*\n",
    "     - *F1 на тестовой выборке: 0.63*\n",
    "     - *AUC_ROC на тестовой выборке: 0.86*\n",
    "     - ACCURACY на тестовой выборке: 0.83\n",
    "   - *Случайный лес с параметрами {'max_depth': 17, 'n_estimators': 80} при методе увеличения редкого класса в 2 раза:*\n",
    "     - *F1 на тестовой выборке: 0.61*\n",
    "     - *AUC_ROC на тестовой выборке: 0.86*\n",
    "     - ACCURACY на тестовой выборке: 0.86\n",
    " - Отметим, что Дерево решений переобучалось и на тестовой выборке показывало себя не лучшим образом.\n",
    " \n",
    " \n",
    " - **Выбор итоговой лучшей модели зависит требований банка (стоимости потери клиента и стоимости попытки его сохранения) :**\n",
    "   - **Первая лучшая модель 218 лояльных клиентов отнесла к ушедшим и 122 ушедших - к оставшимся.**\n",
    "   - **Вторая лучшая модель допустила меньше ошибок в определении отрицательного класса: 95 лояльных клиентов отнесла к ушедшим, но уже 187 ушедших клиентов отнесла к оставшимся.**\n",
    "   - **Мы можем понизить порог классификации для того, чтобы ловить больше потенциальных клиентов, которые покинут банк, либо же повысить, чтобы тратить время и деньги на специальные предложения тем, кого модель считает наиболее выроятными к уходу.**"
   ]
  }
 ],
 "metadata": {
  "kernelspec": {
   "display_name": "Python 3",
   "language": "python",
   "name": "python3"
  },
  "language_info": {
   "codemirror_mode": {
    "name": "ipython",
    "version": 3
   },
   "file_extension": ".py",
   "mimetype": "text/x-python",
   "name": "python",
   "nbconvert_exporter": "python",
   "pygments_lexer": "ipython3",
   "version": "3.7.6"
  }
 },
 "nbformat": 4,
 "nbformat_minor": 4
}
