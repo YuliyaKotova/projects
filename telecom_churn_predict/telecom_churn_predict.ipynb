{
 "cells": [
  {
   "cell_type": "markdown",
   "metadata": {},
   "source": [
    "### *План:*\n",
    "\n",
    "- ***1. Изучение общей информации*** \n",
    "\n",
    " - [Загрузка библиотек, чтение и изучение файлов с данными, ознакомление, получение общей информации](#Link1)\n",
    "\n",
    "\n",
    "- ***2. Предобработка данных***\n",
    "\n",
    " - [Замена названий столбцов, типов данных, поиск пропусков и дубликатов](#Link2)\n",
    " \n",
    " \n",
    "- ***3. Исследовательский анализ данных***\n",
    "\n",
    " - [Количественные признаки](#Link3)\n",
    "   - Изучение аномалий, выбросов, распределений признаков. Построение boxplot’ов и гистрограмм\n",
    "   - Изучение взаимосвязи между признаками. Построение матрицы корреляций\n",
    " - [Категориальные признаки](#Link4)\n",
    "   - Построение столбчатых диаграмм\n",
    "   - Исследование баланса классов целевого признака\n",
    "   \n",
    "   \n",
    "- ***4. Подготовка признаков для построения модели***  \n",
    "\n",
    " - [Подготовка признаков](#Link5)\n",
    "   - Кодирование категориальных признаков\n",
    "   - Разделение датасета на обучающую и тестовую выборки\n",
    "   - Масштабирование количественных признаков\n",
    " \n",
    "\n",
    "- ***5. Обучение моделей***  \n",
    "\n",
    " - [Логистическая регрессия](#Link6)\n",
    " - [Дерево решений](#Link7)\n",
    " - [Случайный лес](#Link8)\n",
    " - [Градиентный бустинг](#Link9)\n",
    " \n",
    "\n",
    "- ***6. Проверка лучшей модели на вменяемость*** \n",
    "\n",
    " - [Проверка на вменяемость](#Link10)\n",
    " \n",
    " \n",
    "- ***7. Общий вывод***\n",
    "\n",
    " - [Вывод](#Link11)"
   ]
  },
  {
   "cell_type": "markdown",
   "metadata": {},
   "source": [
    "<a id='Link1'></a>"
   ]
  },
  {
   "cell_type": "markdown",
   "metadata": {},
   "source": [
    "## 1. Изучение общей информации"
   ]
  },
  {
   "cell_type": "code",
   "execution_count": 1,
   "metadata": {},
   "outputs": [],
   "source": [
    "import pandas as pd\n",
    "import numpy as np\n",
    "from time import perf_counter\n",
    "\n",
    "import warnings\n",
    "warnings.filterwarnings(\"ignore\")\n",
    "\n",
    "from matplotlib import pyplot as plt\n",
    "import seaborn as sns\n",
    "\n",
    "from sklearn.preprocessing import OrdinalEncoder\n",
    "from sklearn.preprocessing import StandardScaler\n",
    "\n",
    "from sklearn.model_selection import train_test_split\n",
    "from sklearn.model_selection import GridSearchCV\n",
    "\n",
    "from sklearn.tree import DecisionTreeClassifier\n",
    "from sklearn.ensemble import RandomForestClassifier\n",
    "from sklearn.linear_model import LogisticRegression\n",
    "from xgboost import XGBClassifier\n",
    "\n",
    "from sklearn.utils import shuffle\n",
    "from sklearn.metrics import accuracy_score, roc_auc_score, confusion_matrix, roc_curve"
   ]
  },
  {
   "cell_type": "code",
   "execution_count": 2,
   "metadata": {},
   "outputs": [],
   "source": [
    "def print_df(df, df_name, title):\n",
    "    \"\"\"\n",
    "    функция для вывода на экран датасетов\n",
    "    \n",
    "    параметры: DF, название DF, заголовок\n",
    "    \"\"\"\n",
    "    \n",
    "    print('\\nДатасет ' + df_name + ': ' + title)\n",
    "    display(df.head(5))    \n",
    "    print('\\nИнфо по датасету ' + df_name + ':\\n')\n",
    "    display(df.info())"
   ]
  },
  {
   "cell_type": "code",
   "execution_count": 3,
   "metadata": {
    "scrolled": false
   },
   "outputs": [
    {
     "name": "stdout",
     "output_type": "stream",
     "text": [
      "\n",
      "Датасет contract: Информация о договорах\n"
     ]
    },
    {
     "data": {
      "text/html": [
       "<div>\n",
       "<style scoped>\n",
       "    .dataframe tbody tr th:only-of-type {\n",
       "        vertical-align: middle;\n",
       "    }\n",
       "\n",
       "    .dataframe tbody tr th {\n",
       "        vertical-align: top;\n",
       "    }\n",
       "\n",
       "    .dataframe thead th {\n",
       "        text-align: right;\n",
       "    }\n",
       "</style>\n",
       "<table border=\"1\" class=\"dataframe\">\n",
       "  <thead>\n",
       "    <tr style=\"text-align: right;\">\n",
       "      <th></th>\n",
       "      <th>customerID</th>\n",
       "      <th>BeginDate</th>\n",
       "      <th>EndDate</th>\n",
       "      <th>Type</th>\n",
       "      <th>PaperlessBilling</th>\n",
       "      <th>PaymentMethod</th>\n",
       "      <th>MonthlyCharges</th>\n",
       "      <th>TotalCharges</th>\n",
       "    </tr>\n",
       "  </thead>\n",
       "  <tbody>\n",
       "    <tr>\n",
       "      <th>0</th>\n",
       "      <td>7590-VHVEG</td>\n",
       "      <td>2020-01-01</td>\n",
       "      <td>No</td>\n",
       "      <td>Month-to-month</td>\n",
       "      <td>Yes</td>\n",
       "      <td>Electronic check</td>\n",
       "      <td>29.85</td>\n",
       "      <td>29.85</td>\n",
       "    </tr>\n",
       "    <tr>\n",
       "      <th>1</th>\n",
       "      <td>5575-GNVDE</td>\n",
       "      <td>2017-04-01</td>\n",
       "      <td>No</td>\n",
       "      <td>One year</td>\n",
       "      <td>No</td>\n",
       "      <td>Mailed check</td>\n",
       "      <td>56.95</td>\n",
       "      <td>1889.5</td>\n",
       "    </tr>\n",
       "    <tr>\n",
       "      <th>2</th>\n",
       "      <td>3668-QPYBK</td>\n",
       "      <td>2019-10-01</td>\n",
       "      <td>2019-12-01 00:00:00</td>\n",
       "      <td>Month-to-month</td>\n",
       "      <td>Yes</td>\n",
       "      <td>Mailed check</td>\n",
       "      <td>53.85</td>\n",
       "      <td>108.15</td>\n",
       "    </tr>\n",
       "    <tr>\n",
       "      <th>3</th>\n",
       "      <td>7795-CFOCW</td>\n",
       "      <td>2016-05-01</td>\n",
       "      <td>No</td>\n",
       "      <td>One year</td>\n",
       "      <td>No</td>\n",
       "      <td>Bank transfer (automatic)</td>\n",
       "      <td>42.30</td>\n",
       "      <td>1840.75</td>\n",
       "    </tr>\n",
       "    <tr>\n",
       "      <th>4</th>\n",
       "      <td>9237-HQITU</td>\n",
       "      <td>2019-09-01</td>\n",
       "      <td>2019-11-01 00:00:00</td>\n",
       "      <td>Month-to-month</td>\n",
       "      <td>Yes</td>\n",
       "      <td>Electronic check</td>\n",
       "      <td>70.70</td>\n",
       "      <td>151.65</td>\n",
       "    </tr>\n",
       "  </tbody>\n",
       "</table>\n",
       "</div>"
      ],
      "text/plain": [
       "   customerID   BeginDate              EndDate            Type  \\\n",
       "0  7590-VHVEG  2020-01-01                   No  Month-to-month   \n",
       "1  5575-GNVDE  2017-04-01                   No        One year   \n",
       "2  3668-QPYBK  2019-10-01  2019-12-01 00:00:00  Month-to-month   \n",
       "3  7795-CFOCW  2016-05-01                   No        One year   \n",
       "4  9237-HQITU  2019-09-01  2019-11-01 00:00:00  Month-to-month   \n",
       "\n",
       "  PaperlessBilling              PaymentMethod  MonthlyCharges TotalCharges  \n",
       "0              Yes           Electronic check           29.85        29.85  \n",
       "1               No               Mailed check           56.95       1889.5  \n",
       "2              Yes               Mailed check           53.85       108.15  \n",
       "3               No  Bank transfer (automatic)           42.30      1840.75  \n",
       "4              Yes           Electronic check           70.70       151.65  "
      ]
     },
     "metadata": {},
     "output_type": "display_data"
    },
    {
     "name": "stdout",
     "output_type": "stream",
     "text": [
      "\n",
      "Инфо по датасету contract:\n",
      "\n",
      "<class 'pandas.core.frame.DataFrame'>\n",
      "RangeIndex: 7043 entries, 0 to 7042\n",
      "Data columns (total 8 columns):\n",
      " #   Column            Non-Null Count  Dtype  \n",
      "---  ------            --------------  -----  \n",
      " 0   customerID        7043 non-null   object \n",
      " 1   BeginDate         7043 non-null   object \n",
      " 2   EndDate           7043 non-null   object \n",
      " 3   Type              7043 non-null   object \n",
      " 4   PaperlessBilling  7043 non-null   object \n",
      " 5   PaymentMethod     7043 non-null   object \n",
      " 6   MonthlyCharges    7043 non-null   float64\n",
      " 7   TotalCharges      7043 non-null   object \n",
      "dtypes: float64(1), object(7)\n",
      "memory usage: 440.3+ KB\n"
     ]
    },
    {
     "data": {
      "text/plain": [
       "None"
      ]
     },
     "metadata": {},
     "output_type": "display_data"
    },
    {
     "name": "stdout",
     "output_type": "stream",
     "text": [
      "\n",
      "Датасет personal: Персональные данные клиента\n"
     ]
    },
    {
     "data": {
      "text/html": [
       "<div>\n",
       "<style scoped>\n",
       "    .dataframe tbody tr th:only-of-type {\n",
       "        vertical-align: middle;\n",
       "    }\n",
       "\n",
       "    .dataframe tbody tr th {\n",
       "        vertical-align: top;\n",
       "    }\n",
       "\n",
       "    .dataframe thead th {\n",
       "        text-align: right;\n",
       "    }\n",
       "</style>\n",
       "<table border=\"1\" class=\"dataframe\">\n",
       "  <thead>\n",
       "    <tr style=\"text-align: right;\">\n",
       "      <th></th>\n",
       "      <th>customerID</th>\n",
       "      <th>gender</th>\n",
       "      <th>SeniorCitizen</th>\n",
       "      <th>Partner</th>\n",
       "      <th>Dependents</th>\n",
       "    </tr>\n",
       "  </thead>\n",
       "  <tbody>\n",
       "    <tr>\n",
       "      <th>0</th>\n",
       "      <td>7590-VHVEG</td>\n",
       "      <td>Female</td>\n",
       "      <td>0</td>\n",
       "      <td>Yes</td>\n",
       "      <td>No</td>\n",
       "    </tr>\n",
       "    <tr>\n",
       "      <th>1</th>\n",
       "      <td>5575-GNVDE</td>\n",
       "      <td>Male</td>\n",
       "      <td>0</td>\n",
       "      <td>No</td>\n",
       "      <td>No</td>\n",
       "    </tr>\n",
       "    <tr>\n",
       "      <th>2</th>\n",
       "      <td>3668-QPYBK</td>\n",
       "      <td>Male</td>\n",
       "      <td>0</td>\n",
       "      <td>No</td>\n",
       "      <td>No</td>\n",
       "    </tr>\n",
       "    <tr>\n",
       "      <th>3</th>\n",
       "      <td>7795-CFOCW</td>\n",
       "      <td>Male</td>\n",
       "      <td>0</td>\n",
       "      <td>No</td>\n",
       "      <td>No</td>\n",
       "    </tr>\n",
       "    <tr>\n",
       "      <th>4</th>\n",
       "      <td>9237-HQITU</td>\n",
       "      <td>Female</td>\n",
       "      <td>0</td>\n",
       "      <td>No</td>\n",
       "      <td>No</td>\n",
       "    </tr>\n",
       "  </tbody>\n",
       "</table>\n",
       "</div>"
      ],
      "text/plain": [
       "   customerID  gender  SeniorCitizen Partner Dependents\n",
       "0  7590-VHVEG  Female              0     Yes         No\n",
       "1  5575-GNVDE    Male              0      No         No\n",
       "2  3668-QPYBK    Male              0      No         No\n",
       "3  7795-CFOCW    Male              0      No         No\n",
       "4  9237-HQITU  Female              0      No         No"
      ]
     },
     "metadata": {},
     "output_type": "display_data"
    },
    {
     "name": "stdout",
     "output_type": "stream",
     "text": [
      "\n",
      "Инфо по датасету personal:\n",
      "\n",
      "<class 'pandas.core.frame.DataFrame'>\n",
      "RangeIndex: 7043 entries, 0 to 7042\n",
      "Data columns (total 5 columns):\n",
      " #   Column         Non-Null Count  Dtype \n",
      "---  ------         --------------  ----- \n",
      " 0   customerID     7043 non-null   object\n",
      " 1   gender         7043 non-null   object\n",
      " 2   SeniorCitizen  7043 non-null   int64 \n",
      " 3   Partner        7043 non-null   object\n",
      " 4   Dependents     7043 non-null   object\n",
      "dtypes: int64(1), object(4)\n",
      "memory usage: 275.2+ KB\n"
     ]
    },
    {
     "data": {
      "text/plain": [
       "None"
      ]
     },
     "metadata": {},
     "output_type": "display_data"
    },
    {
     "name": "stdout",
     "output_type": "stream",
     "text": [
      "\n",
      "Датасет internet: Информация об интернет-услугах\n"
     ]
    },
    {
     "data": {
      "text/html": [
       "<div>\n",
       "<style scoped>\n",
       "    .dataframe tbody tr th:only-of-type {\n",
       "        vertical-align: middle;\n",
       "    }\n",
       "\n",
       "    .dataframe tbody tr th {\n",
       "        vertical-align: top;\n",
       "    }\n",
       "\n",
       "    .dataframe thead th {\n",
       "        text-align: right;\n",
       "    }\n",
       "</style>\n",
       "<table border=\"1\" class=\"dataframe\">\n",
       "  <thead>\n",
       "    <tr style=\"text-align: right;\">\n",
       "      <th></th>\n",
       "      <th>customerID</th>\n",
       "      <th>InternetService</th>\n",
       "      <th>OnlineSecurity</th>\n",
       "      <th>OnlineBackup</th>\n",
       "      <th>DeviceProtection</th>\n",
       "      <th>TechSupport</th>\n",
       "      <th>StreamingTV</th>\n",
       "      <th>StreamingMovies</th>\n",
       "    </tr>\n",
       "  </thead>\n",
       "  <tbody>\n",
       "    <tr>\n",
       "      <th>0</th>\n",
       "      <td>7590-VHVEG</td>\n",
       "      <td>DSL</td>\n",
       "      <td>No</td>\n",
       "      <td>Yes</td>\n",
       "      <td>No</td>\n",
       "      <td>No</td>\n",
       "      <td>No</td>\n",
       "      <td>No</td>\n",
       "    </tr>\n",
       "    <tr>\n",
       "      <th>1</th>\n",
       "      <td>5575-GNVDE</td>\n",
       "      <td>DSL</td>\n",
       "      <td>Yes</td>\n",
       "      <td>No</td>\n",
       "      <td>Yes</td>\n",
       "      <td>No</td>\n",
       "      <td>No</td>\n",
       "      <td>No</td>\n",
       "    </tr>\n",
       "    <tr>\n",
       "      <th>2</th>\n",
       "      <td>3668-QPYBK</td>\n",
       "      <td>DSL</td>\n",
       "      <td>Yes</td>\n",
       "      <td>Yes</td>\n",
       "      <td>No</td>\n",
       "      <td>No</td>\n",
       "      <td>No</td>\n",
       "      <td>No</td>\n",
       "    </tr>\n",
       "    <tr>\n",
       "      <th>3</th>\n",
       "      <td>7795-CFOCW</td>\n",
       "      <td>DSL</td>\n",
       "      <td>Yes</td>\n",
       "      <td>No</td>\n",
       "      <td>Yes</td>\n",
       "      <td>Yes</td>\n",
       "      <td>No</td>\n",
       "      <td>No</td>\n",
       "    </tr>\n",
       "    <tr>\n",
       "      <th>4</th>\n",
       "      <td>9237-HQITU</td>\n",
       "      <td>Fiber optic</td>\n",
       "      <td>No</td>\n",
       "      <td>No</td>\n",
       "      <td>No</td>\n",
       "      <td>No</td>\n",
       "      <td>No</td>\n",
       "      <td>No</td>\n",
       "    </tr>\n",
       "  </tbody>\n",
       "</table>\n",
       "</div>"
      ],
      "text/plain": [
       "   customerID InternetService OnlineSecurity OnlineBackup DeviceProtection  \\\n",
       "0  7590-VHVEG             DSL             No          Yes               No   \n",
       "1  5575-GNVDE             DSL            Yes           No              Yes   \n",
       "2  3668-QPYBK             DSL            Yes          Yes               No   \n",
       "3  7795-CFOCW             DSL            Yes           No              Yes   \n",
       "4  9237-HQITU     Fiber optic             No           No               No   \n",
       "\n",
       "  TechSupport StreamingTV StreamingMovies  \n",
       "0          No          No              No  \n",
       "1          No          No              No  \n",
       "2          No          No              No  \n",
       "3         Yes          No              No  \n",
       "4          No          No              No  "
      ]
     },
     "metadata": {},
     "output_type": "display_data"
    },
    {
     "name": "stdout",
     "output_type": "stream",
     "text": [
      "\n",
      "Инфо по датасету internet:\n",
      "\n",
      "<class 'pandas.core.frame.DataFrame'>\n",
      "RangeIndex: 5517 entries, 0 to 5516\n",
      "Data columns (total 8 columns):\n",
      " #   Column            Non-Null Count  Dtype \n",
      "---  ------            --------------  ----- \n",
      " 0   customerID        5517 non-null   object\n",
      " 1   InternetService   5517 non-null   object\n",
      " 2   OnlineSecurity    5517 non-null   object\n",
      " 3   OnlineBackup      5517 non-null   object\n",
      " 4   DeviceProtection  5517 non-null   object\n",
      " 5   TechSupport       5517 non-null   object\n",
      " 6   StreamingTV       5517 non-null   object\n",
      " 7   StreamingMovies   5517 non-null   object\n",
      "dtypes: object(8)\n",
      "memory usage: 344.9+ KB\n"
     ]
    },
    {
     "data": {
      "text/plain": [
       "None"
      ]
     },
     "metadata": {},
     "output_type": "display_data"
    },
    {
     "name": "stdout",
     "output_type": "stream",
     "text": [
      "\n",
      "Датасет phone: Информация об услугах телефонии\n"
     ]
    },
    {
     "data": {
      "text/html": [
       "<div>\n",
       "<style scoped>\n",
       "    .dataframe tbody tr th:only-of-type {\n",
       "        vertical-align: middle;\n",
       "    }\n",
       "\n",
       "    .dataframe tbody tr th {\n",
       "        vertical-align: top;\n",
       "    }\n",
       "\n",
       "    .dataframe thead th {\n",
       "        text-align: right;\n",
       "    }\n",
       "</style>\n",
       "<table border=\"1\" class=\"dataframe\">\n",
       "  <thead>\n",
       "    <tr style=\"text-align: right;\">\n",
       "      <th></th>\n",
       "      <th>customerID</th>\n",
       "      <th>MultipleLines</th>\n",
       "    </tr>\n",
       "  </thead>\n",
       "  <tbody>\n",
       "    <tr>\n",
       "      <th>0</th>\n",
       "      <td>5575-GNVDE</td>\n",
       "      <td>No</td>\n",
       "    </tr>\n",
       "    <tr>\n",
       "      <th>1</th>\n",
       "      <td>3668-QPYBK</td>\n",
       "      <td>No</td>\n",
       "    </tr>\n",
       "    <tr>\n",
       "      <th>2</th>\n",
       "      <td>9237-HQITU</td>\n",
       "      <td>No</td>\n",
       "    </tr>\n",
       "    <tr>\n",
       "      <th>3</th>\n",
       "      <td>9305-CDSKC</td>\n",
       "      <td>Yes</td>\n",
       "    </tr>\n",
       "    <tr>\n",
       "      <th>4</th>\n",
       "      <td>1452-KIOVK</td>\n",
       "      <td>Yes</td>\n",
       "    </tr>\n",
       "  </tbody>\n",
       "</table>\n",
       "</div>"
      ],
      "text/plain": [
       "   customerID MultipleLines\n",
       "0  5575-GNVDE            No\n",
       "1  3668-QPYBK            No\n",
       "2  9237-HQITU            No\n",
       "3  9305-CDSKC           Yes\n",
       "4  1452-KIOVK           Yes"
      ]
     },
     "metadata": {},
     "output_type": "display_data"
    },
    {
     "name": "stdout",
     "output_type": "stream",
     "text": [
      "\n",
      "Инфо по датасету phone:\n",
      "\n",
      "<class 'pandas.core.frame.DataFrame'>\n",
      "RangeIndex: 6361 entries, 0 to 6360\n",
      "Data columns (total 2 columns):\n",
      " #   Column         Non-Null Count  Dtype \n",
      "---  ------         --------------  ----- \n",
      " 0   customerID     6361 non-null   object\n",
      " 1   MultipleLines  6361 non-null   object\n",
      "dtypes: object(2)\n",
      "memory usage: 99.5+ KB\n"
     ]
    },
    {
     "data": {
      "text/plain": [
       "None"
      ]
     },
     "metadata": {},
     "output_type": "display_data"
    }
   ],
   "source": [
    "# читаем файлы с данными\n",
    "files = {'contract.csv': ['contract', 'Информация о договорах'],\n",
    "         'personal.csv': ['personal', 'Персональные данные клиента'],\n",
    "         'internet.csv': ['internet', 'Информация об интернет-услугах'],\n",
    "         'phone.csv': ['phone', 'Информация об услугах телефонии']}\n",
    "\n",
    "for file, df_name in files.items():\n",
    "    locals()[df_name[0]] = pd.read_csv(\"Data/\" + file)\n",
    "    print_df(locals()[df_name[0]], df_name[0], df_name[1])"
   ]
  },
  {
   "cell_type": "markdown",
   "metadata": {},
   "source": [
    "### Вывод\n",
    " - Данные соответствуют описанию\n",
    " - Явных пропусков в каждом из датасетов не наблюдаем\n",
    " - Приведем названия столбцов к нижнему регистру\n",
    " - Сделаем замену типов данных в столбцах `begindate`, `enddate`, `totalcharges`\n",
    " - Добавим новый столбец для целевого признака `enddate_target` со значениями 0 (абонент остался) и 1 (абонент ушел)\n",
    " - Объединим все данные в одну таблицу"
   ]
  },
  {
   "cell_type": "markdown",
   "metadata": {},
   "source": [
    "<a id='Link2'></a>"
   ]
  },
  {
   "cell_type": "markdown",
   "metadata": {},
   "source": [
    "## 2. Предобработка данных"
   ]
  },
  {
   "cell_type": "markdown",
   "metadata": {},
   "source": [
    "### Приведем названия столбцов к нижнему регистру"
   ]
  },
  {
   "cell_type": "code",
   "execution_count": 4,
   "metadata": {},
   "outputs": [],
   "source": [
    "# приведем названия столбцов к нижнему регистру\n",
    "contract.columns = contract.columns.str.lower()\n",
    "personal.columns = personal.columns.str.lower()\n",
    "internet.columns = internet.columns.str.lower()\n",
    "phone.columns = phone.columns.str.lower()"
   ]
  },
  {
   "cell_type": "markdown",
   "metadata": {},
   "source": [
    "### Сделаем замену типов данных в столбцах `begindate`, `enddate`, `totalcharges`"
   ]
  },
  {
   "cell_type": "code",
   "execution_count": 5,
   "metadata": {},
   "outputs": [],
   "source": [
    "# функция для замены типа данных\n",
    "def fun_change_type(column, new_type):\n",
    "    \"\"\"\n",
    "    функция для замены типов данных\n",
    "    \n",
    "    параметры: серия, новый тип данных\n",
    "    возвращает серию с новым типом данных\n",
    "    \"\"\"\n",
    "    \n",
    "    # пробуем заменить на переданный в функцию тип\n",
    "    try:\n",
    "        # если новый тип - date\n",
    "        if new_type == 'date':\n",
    "            column = pd.to_datetime(column)\n",
    "        # если новый тип - float\n",
    "        elif new_type == 'float':\n",
    "            column = pd.to_numeric(column)\n",
    "        return column\n",
    "    \n",
    "    # если при замене типа возникла ошибка, выодим текст ошибки\n",
    "    except Exception as err:\n",
    "        print(\"\\n !!!Ошибка в замене типа: {} с {} на {}. {:s}\" \\\n",
    "              .format(column.name, column.dtype.name, new_type, repr(err)))\n",
    "        \n",
    "        return column"
   ]
  },
  {
   "cell_type": "code",
   "execution_count": 6,
   "metadata": {},
   "outputs": [
    {
     "name": "stdout",
     "output_type": "stream",
     "text": [
      "\n",
      " !!!Ошибка в замене типа: enddate с object на date. ParserError('Unknown string format: %s', 'No')\n",
      "\n",
      " !!!Ошибка в замене типа: totalcharges с object на float. ValueError('Unable to parse string \" \" at position 488')\n"
     ]
    }
   ],
   "source": [
    "# меняем типы данных в стобцах begindate, enddate, totalcharges\n",
    "contract.begindate = fun_change_type(contract.begindate, 'date')\n",
    "contract.enddate = fun_change_type(contract.enddate, 'date')\n",
    "contract.totalcharges = fun_change_type(contract.totalcharges, 'float')"
   ]
  },
  {
   "cell_type": "markdown",
   "metadata": {},
   "source": [
    " - **`enddate` - заменим `No` на `NaN`, а также посмотрим все строки со значением `totalcharges` = \" \"**"
   ]
  },
  {
   "cell_type": "code",
   "execution_count": 7,
   "metadata": {},
   "outputs": [
    {
     "data": {
      "text/html": [
       "<div>\n",
       "<style scoped>\n",
       "    .dataframe tbody tr th:only-of-type {\n",
       "        vertical-align: middle;\n",
       "    }\n",
       "\n",
       "    .dataframe tbody tr th {\n",
       "        vertical-align: top;\n",
       "    }\n",
       "\n",
       "    .dataframe thead th {\n",
       "        text-align: right;\n",
       "    }\n",
       "</style>\n",
       "<table border=\"1\" class=\"dataframe\">\n",
       "  <thead>\n",
       "    <tr style=\"text-align: right;\">\n",
       "      <th></th>\n",
       "      <th>customerid</th>\n",
       "      <th>begindate</th>\n",
       "      <th>enddate</th>\n",
       "      <th>type</th>\n",
       "      <th>paperlessbilling</th>\n",
       "      <th>paymentmethod</th>\n",
       "      <th>monthlycharges</th>\n",
       "      <th>totalcharges</th>\n",
       "    </tr>\n",
       "  </thead>\n",
       "  <tbody>\n",
       "    <tr>\n",
       "      <th>488</th>\n",
       "      <td>4472-LVYGI</td>\n",
       "      <td>2020-02-01</td>\n",
       "      <td>No</td>\n",
       "      <td>Two year</td>\n",
       "      <td>Yes</td>\n",
       "      <td>Bank transfer (automatic)</td>\n",
       "      <td>52.55</td>\n",
       "      <td></td>\n",
       "    </tr>\n",
       "    <tr>\n",
       "      <th>753</th>\n",
       "      <td>3115-CZMZD</td>\n",
       "      <td>2020-02-01</td>\n",
       "      <td>No</td>\n",
       "      <td>Two year</td>\n",
       "      <td>No</td>\n",
       "      <td>Mailed check</td>\n",
       "      <td>20.25</td>\n",
       "      <td></td>\n",
       "    </tr>\n",
       "    <tr>\n",
       "      <th>936</th>\n",
       "      <td>5709-LVOEQ</td>\n",
       "      <td>2020-02-01</td>\n",
       "      <td>No</td>\n",
       "      <td>Two year</td>\n",
       "      <td>No</td>\n",
       "      <td>Mailed check</td>\n",
       "      <td>80.85</td>\n",
       "      <td></td>\n",
       "    </tr>\n",
       "    <tr>\n",
       "      <th>1082</th>\n",
       "      <td>4367-NUYAO</td>\n",
       "      <td>2020-02-01</td>\n",
       "      <td>No</td>\n",
       "      <td>Two year</td>\n",
       "      <td>No</td>\n",
       "      <td>Mailed check</td>\n",
       "      <td>25.75</td>\n",
       "      <td></td>\n",
       "    </tr>\n",
       "    <tr>\n",
       "      <th>1340</th>\n",
       "      <td>1371-DWPAZ</td>\n",
       "      <td>2020-02-01</td>\n",
       "      <td>No</td>\n",
       "      <td>Two year</td>\n",
       "      <td>No</td>\n",
       "      <td>Credit card (automatic)</td>\n",
       "      <td>56.05</td>\n",
       "      <td></td>\n",
       "    </tr>\n",
       "    <tr>\n",
       "      <th>3331</th>\n",
       "      <td>7644-OMVMY</td>\n",
       "      <td>2020-02-01</td>\n",
       "      <td>No</td>\n",
       "      <td>Two year</td>\n",
       "      <td>No</td>\n",
       "      <td>Mailed check</td>\n",
       "      <td>19.85</td>\n",
       "      <td></td>\n",
       "    </tr>\n",
       "    <tr>\n",
       "      <th>3826</th>\n",
       "      <td>3213-VVOLG</td>\n",
       "      <td>2020-02-01</td>\n",
       "      <td>No</td>\n",
       "      <td>Two year</td>\n",
       "      <td>No</td>\n",
       "      <td>Mailed check</td>\n",
       "      <td>25.35</td>\n",
       "      <td></td>\n",
       "    </tr>\n",
       "    <tr>\n",
       "      <th>4380</th>\n",
       "      <td>2520-SGTTA</td>\n",
       "      <td>2020-02-01</td>\n",
       "      <td>No</td>\n",
       "      <td>Two year</td>\n",
       "      <td>No</td>\n",
       "      <td>Mailed check</td>\n",
       "      <td>20.00</td>\n",
       "      <td></td>\n",
       "    </tr>\n",
       "    <tr>\n",
       "      <th>5218</th>\n",
       "      <td>2923-ARZLG</td>\n",
       "      <td>2020-02-01</td>\n",
       "      <td>No</td>\n",
       "      <td>One year</td>\n",
       "      <td>Yes</td>\n",
       "      <td>Mailed check</td>\n",
       "      <td>19.70</td>\n",
       "      <td></td>\n",
       "    </tr>\n",
       "    <tr>\n",
       "      <th>6670</th>\n",
       "      <td>4075-WKNIU</td>\n",
       "      <td>2020-02-01</td>\n",
       "      <td>No</td>\n",
       "      <td>Two year</td>\n",
       "      <td>No</td>\n",
       "      <td>Mailed check</td>\n",
       "      <td>73.35</td>\n",
       "      <td></td>\n",
       "    </tr>\n",
       "    <tr>\n",
       "      <th>6754</th>\n",
       "      <td>2775-SEFEE</td>\n",
       "      <td>2020-02-01</td>\n",
       "      <td>No</td>\n",
       "      <td>Two year</td>\n",
       "      <td>Yes</td>\n",
       "      <td>Bank transfer (automatic)</td>\n",
       "      <td>61.90</td>\n",
       "      <td></td>\n",
       "    </tr>\n",
       "  </tbody>\n",
       "</table>\n",
       "</div>"
      ],
      "text/plain": [
       "      customerid  begindate enddate      type paperlessbilling  \\\n",
       "488   4472-LVYGI 2020-02-01      No  Two year              Yes   \n",
       "753   3115-CZMZD 2020-02-01      No  Two year               No   \n",
       "936   5709-LVOEQ 2020-02-01      No  Two year               No   \n",
       "1082  4367-NUYAO 2020-02-01      No  Two year               No   \n",
       "1340  1371-DWPAZ 2020-02-01      No  Two year               No   \n",
       "3331  7644-OMVMY 2020-02-01      No  Two year               No   \n",
       "3826  3213-VVOLG 2020-02-01      No  Two year               No   \n",
       "4380  2520-SGTTA 2020-02-01      No  Two year               No   \n",
       "5218  2923-ARZLG 2020-02-01      No  One year              Yes   \n",
       "6670  4075-WKNIU 2020-02-01      No  Two year               No   \n",
       "6754  2775-SEFEE 2020-02-01      No  Two year              Yes   \n",
       "\n",
       "                  paymentmethod  monthlycharges totalcharges  \n",
       "488   Bank transfer (automatic)           52.55               \n",
       "753                Mailed check           20.25               \n",
       "936                Mailed check           80.85               \n",
       "1082               Mailed check           25.75               \n",
       "1340    Credit card (automatic)           56.05               \n",
       "3331               Mailed check           19.85               \n",
       "3826               Mailed check           25.35               \n",
       "4380               Mailed check           20.00               \n",
       "5218               Mailed check           19.70               \n",
       "6670               Mailed check           73.35               \n",
       "6754  Bank transfer (automatic)           61.90               "
      ]
     },
     "execution_count": 7,
     "metadata": {},
     "output_type": "execute_result"
    }
   ],
   "source": [
    "# смотрим все строки со значением totalcharges = \" \"\n",
    "contract.query(\"totalcharges == ' '\")"
   ]
  },
  {
   "cell_type": "markdown",
   "metadata": {},
   "source": [
    " - **В этих строках Дата подключения =  Дата выгрузки данных 01.02.2020. В `totalcharges` добавляется сумма `monthlycharges` только после прошедшего отчетного периода. То есть для тех, кто подключился 01.01.20, `totalcharges` = `monthlycharges`.\n",
    "Для подключившися 01.02.20 установим `totalcharges` = 0**"
   ]
  },
  {
   "cell_type": "code",
   "execution_count": 8,
   "metadata": {},
   "outputs": [
    {
     "name": "stdout",
     "output_type": "stream",
     "text": [
      "Инфо по датасету contract после замены типов данных:\n",
      "\n",
      "<class 'pandas.core.frame.DataFrame'>\n",
      "RangeIndex: 7043 entries, 0 to 7042\n",
      "Data columns (total 8 columns):\n",
      " #   Column            Non-Null Count  Dtype         \n",
      "---  ------            --------------  -----         \n",
      " 0   customerid        7043 non-null   object        \n",
      " 1   begindate         7043 non-null   datetime64[ns]\n",
      " 2   enddate           1869 non-null   datetime64[ns]\n",
      " 3   type              7043 non-null   object        \n",
      " 4   paperlessbilling  7043 non-null   object        \n",
      " 5   paymentmethod     7043 non-null   object        \n",
      " 6   monthlycharges    7043 non-null   float64       \n",
      " 7   totalcharges      7043 non-null   float64       \n",
      "dtypes: datetime64[ns](2), float64(2), object(4)\n",
      "memory usage: 440.3+ KB\n"
     ]
    },
    {
     "data": {
      "text/plain": [
       "None"
      ]
     },
     "metadata": {},
     "output_type": "display_data"
    }
   ],
   "source": [
    "# enddate - заменим No на NaN\n",
    "# для подключившися 01.02.20 установим totalcharges = 0\n",
    "contract = contract.replace({'enddate': {'No': np.nan},\n",
    "                             'totalcharges': {' ': 0}})\n",
    "\n",
    "# снова меняем типы данных\n",
    "contract.enddate = fun_change_type(contract.enddate, 'date')\n",
    "contract.totalcharges = fun_change_type(contract.totalcharges, 'float')\n",
    "\n",
    "# проверяем\n",
    "print('Инфо по датасету contract после замены типов данных:\\n')\n",
    "display(contract.info())"
   ]
  },
  {
   "cell_type": "markdown",
   "metadata": {},
   "source": [
    "### Проверим и объединим данные"
   ]
  },
  {
   "cell_type": "markdown",
   "metadata": {},
   "source": [
    " - **Проверим на уникальность `customerid` во всех таблицах**"
   ]
  },
  {
   "cell_type": "code",
   "execution_count": 9,
   "metadata": {},
   "outputs": [
    {
     "name": "stdout",
     "output_type": "stream",
     "text": [
      "Количество уникальных customerid в contract с длиной датасета 7043 = 7043\n",
      "Количество уникальных customerid в personal с длиной датасета 7043 = 7043\n",
      "Количество уникальных customerid в internet с длиной датасета 5517 = 5517\n",
      "Количество уникальных customerid в phone с длиной датасета 6361 = 6361\n"
     ]
    }
   ],
   "source": [
    "# проверим на уникальность customerid во всех таблицах\n",
    "print('Количество уникальных customerid в {} с длиной датасета {} = {}'.\n",
    "      format('contract', len(contract), contract.customerid.nunique()))\n",
    "print('Количество уникальных customerid в {} с длиной датасета {} = {}'\n",
    "      .format('personal', len(personal), personal.customerid.nunique()))\n",
    "print('Количество уникальных customerid в {} с длиной датасета {} = {}'\n",
    "      .format('internet', len(internet), internet.customerid.nunique()))\n",
    "print('Количество уникальных customerid в {} с длиной датасета {} = {}'\n",
    "      .format('phone', len(phone), phone.customerid.nunique()))"
   ]
  },
  {
   "cell_type": "markdown",
   "metadata": {},
   "source": [
    " - **Во всех таблицах одна строка соответствует одному `customerid`. Сделаем `customerid` ключом и соединим таблицы в одну**"
   ]
  },
  {
   "cell_type": "code",
   "execution_count": 10,
   "metadata": {},
   "outputs": [],
   "source": [
    "# cделаем customerid ключом во всех таблицах\n",
    "contract = contract.set_index('customerid')\n",
    "personal = personal.set_index('customerid')\n",
    "internet = internet.set_index('customerid')\n",
    "phone = phone.set_index('customerid')"
   ]
  },
  {
   "cell_type": "code",
   "execution_count": 11,
   "metadata": {},
   "outputs": [
    {
     "name": "stdout",
     "output_type": "stream",
     "text": [
      "\n",
      "Новая объединенная таблица telecom размером (7043, 19)\n"
     ]
    },
    {
     "data": {
      "text/html": [
       "<div>\n",
       "<style scoped>\n",
       "    .dataframe tbody tr th:only-of-type {\n",
       "        vertical-align: middle;\n",
       "    }\n",
       "\n",
       "    .dataframe tbody tr th {\n",
       "        vertical-align: top;\n",
       "    }\n",
       "\n",
       "    .dataframe thead th {\n",
       "        text-align: right;\n",
       "    }\n",
       "</style>\n",
       "<table border=\"1\" class=\"dataframe\">\n",
       "  <thead>\n",
       "    <tr style=\"text-align: right;\">\n",
       "      <th></th>\n",
       "      <th>begindate</th>\n",
       "      <th>enddate</th>\n",
       "      <th>type</th>\n",
       "      <th>paperlessbilling</th>\n",
       "      <th>paymentmethod</th>\n",
       "      <th>monthlycharges</th>\n",
       "      <th>totalcharges</th>\n",
       "      <th>gender</th>\n",
       "      <th>seniorcitizen</th>\n",
       "      <th>partner</th>\n",
       "      <th>dependents</th>\n",
       "      <th>internetservice</th>\n",
       "      <th>onlinesecurity</th>\n",
       "      <th>onlinebackup</th>\n",
       "      <th>deviceprotection</th>\n",
       "      <th>techsupport</th>\n",
       "      <th>streamingtv</th>\n",
       "      <th>streamingmovies</th>\n",
       "      <th>multiplelines</th>\n",
       "    </tr>\n",
       "    <tr>\n",
       "      <th>customerid</th>\n",
       "      <th></th>\n",
       "      <th></th>\n",
       "      <th></th>\n",
       "      <th></th>\n",
       "      <th></th>\n",
       "      <th></th>\n",
       "      <th></th>\n",
       "      <th></th>\n",
       "      <th></th>\n",
       "      <th></th>\n",
       "      <th></th>\n",
       "      <th></th>\n",
       "      <th></th>\n",
       "      <th></th>\n",
       "      <th></th>\n",
       "      <th></th>\n",
       "      <th></th>\n",
       "      <th></th>\n",
       "      <th></th>\n",
       "    </tr>\n",
       "  </thead>\n",
       "  <tbody>\n",
       "    <tr>\n",
       "      <th>0002-ORFBO</th>\n",
       "      <td>2019-05-01</td>\n",
       "      <td>NaT</td>\n",
       "      <td>One year</td>\n",
       "      <td>Yes</td>\n",
       "      <td>Mailed check</td>\n",
       "      <td>65.6</td>\n",
       "      <td>593.30</td>\n",
       "      <td>Female</td>\n",
       "      <td>0</td>\n",
       "      <td>Yes</td>\n",
       "      <td>Yes</td>\n",
       "      <td>DSL</td>\n",
       "      <td>No</td>\n",
       "      <td>Yes</td>\n",
       "      <td>No</td>\n",
       "      <td>Yes</td>\n",
       "      <td>Yes</td>\n",
       "      <td>No</td>\n",
       "      <td>No</td>\n",
       "    </tr>\n",
       "    <tr>\n",
       "      <th>0003-MKNFE</th>\n",
       "      <td>2019-05-01</td>\n",
       "      <td>NaT</td>\n",
       "      <td>Month-to-month</td>\n",
       "      <td>No</td>\n",
       "      <td>Mailed check</td>\n",
       "      <td>59.9</td>\n",
       "      <td>542.40</td>\n",
       "      <td>Male</td>\n",
       "      <td>0</td>\n",
       "      <td>No</td>\n",
       "      <td>No</td>\n",
       "      <td>DSL</td>\n",
       "      <td>No</td>\n",
       "      <td>No</td>\n",
       "      <td>No</td>\n",
       "      <td>No</td>\n",
       "      <td>No</td>\n",
       "      <td>Yes</td>\n",
       "      <td>Yes</td>\n",
       "    </tr>\n",
       "    <tr>\n",
       "      <th>0004-TLHLJ</th>\n",
       "      <td>2019-09-01</td>\n",
       "      <td>2020-01-01</td>\n",
       "      <td>Month-to-month</td>\n",
       "      <td>Yes</td>\n",
       "      <td>Electronic check</td>\n",
       "      <td>73.9</td>\n",
       "      <td>280.85</td>\n",
       "      <td>Male</td>\n",
       "      <td>0</td>\n",
       "      <td>No</td>\n",
       "      <td>No</td>\n",
       "      <td>Fiber optic</td>\n",
       "      <td>No</td>\n",
       "      <td>No</td>\n",
       "      <td>Yes</td>\n",
       "      <td>No</td>\n",
       "      <td>No</td>\n",
       "      <td>No</td>\n",
       "      <td>No</td>\n",
       "    </tr>\n",
       "    <tr>\n",
       "      <th>0011-IGKFF</th>\n",
       "      <td>2018-12-01</td>\n",
       "      <td>2020-01-01</td>\n",
       "      <td>Month-to-month</td>\n",
       "      <td>Yes</td>\n",
       "      <td>Electronic check</td>\n",
       "      <td>98.0</td>\n",
       "      <td>1237.85</td>\n",
       "      <td>Male</td>\n",
       "      <td>1</td>\n",
       "      <td>Yes</td>\n",
       "      <td>No</td>\n",
       "      <td>Fiber optic</td>\n",
       "      <td>No</td>\n",
       "      <td>Yes</td>\n",
       "      <td>Yes</td>\n",
       "      <td>No</td>\n",
       "      <td>Yes</td>\n",
       "      <td>Yes</td>\n",
       "      <td>No</td>\n",
       "    </tr>\n",
       "    <tr>\n",
       "      <th>0013-EXCHZ</th>\n",
       "      <td>2019-09-01</td>\n",
       "      <td>2019-12-01</td>\n",
       "      <td>Month-to-month</td>\n",
       "      <td>Yes</td>\n",
       "      <td>Mailed check</td>\n",
       "      <td>83.9</td>\n",
       "      <td>267.40</td>\n",
       "      <td>Female</td>\n",
       "      <td>1</td>\n",
       "      <td>Yes</td>\n",
       "      <td>No</td>\n",
       "      <td>Fiber optic</td>\n",
       "      <td>No</td>\n",
       "      <td>No</td>\n",
       "      <td>No</td>\n",
       "      <td>Yes</td>\n",
       "      <td>Yes</td>\n",
       "      <td>No</td>\n",
       "      <td>No</td>\n",
       "    </tr>\n",
       "  </tbody>\n",
       "</table>\n",
       "</div>"
      ],
      "text/plain": [
       "            begindate    enddate            type paperlessbilling  \\\n",
       "customerid                                                          \n",
       "0002-ORFBO 2019-05-01        NaT        One year              Yes   \n",
       "0003-MKNFE 2019-05-01        NaT  Month-to-month               No   \n",
       "0004-TLHLJ 2019-09-01 2020-01-01  Month-to-month              Yes   \n",
       "0011-IGKFF 2018-12-01 2020-01-01  Month-to-month              Yes   \n",
       "0013-EXCHZ 2019-09-01 2019-12-01  Month-to-month              Yes   \n",
       "\n",
       "               paymentmethod  monthlycharges  totalcharges  gender  \\\n",
       "customerid                                                           \n",
       "0002-ORFBO      Mailed check            65.6        593.30  Female   \n",
       "0003-MKNFE      Mailed check            59.9        542.40    Male   \n",
       "0004-TLHLJ  Electronic check            73.9        280.85    Male   \n",
       "0011-IGKFF  Electronic check            98.0       1237.85    Male   \n",
       "0013-EXCHZ      Mailed check            83.9        267.40  Female   \n",
       "\n",
       "            seniorcitizen partner dependents internetservice onlinesecurity  \\\n",
       "customerid                                                                    \n",
       "0002-ORFBO              0     Yes        Yes             DSL             No   \n",
       "0003-MKNFE              0      No         No             DSL             No   \n",
       "0004-TLHLJ              0      No         No     Fiber optic             No   \n",
       "0011-IGKFF              1     Yes         No     Fiber optic             No   \n",
       "0013-EXCHZ              1     Yes         No     Fiber optic             No   \n",
       "\n",
       "           onlinebackup deviceprotection techsupport streamingtv  \\\n",
       "customerid                                                         \n",
       "0002-ORFBO          Yes               No         Yes         Yes   \n",
       "0003-MKNFE           No               No          No          No   \n",
       "0004-TLHLJ           No              Yes          No          No   \n",
       "0011-IGKFF          Yes              Yes          No         Yes   \n",
       "0013-EXCHZ           No               No         Yes         Yes   \n",
       "\n",
       "           streamingmovies multiplelines  \n",
       "customerid                                \n",
       "0002-ORFBO              No            No  \n",
       "0003-MKNFE             Yes           Yes  \n",
       "0004-TLHLJ              No            No  \n",
       "0011-IGKFF             Yes            No  \n",
       "0013-EXCHZ              No            No  "
      ]
     },
     "metadata": {},
     "output_type": "display_data"
    }
   ],
   "source": [
    "#  соединим все таблицы в одну\n",
    "telecom = contract.join(personal, how='inner').join(internet, how='outer').join(phone, how='outer')\n",
    "print('\\nНовая объединенная таблица telecom размером', telecom.shape)\n",
    "display(telecom.head(5))"
   ]
  },
  {
   "cell_type": "markdown",
   "metadata": {},
   "source": [
    "### Добавим новые столбцы"
   ]
  },
  {
   "cell_type": "markdown",
   "metadata": {},
   "source": [
    " - **Добавим новый столбец `Срок жизни абонента в днях`  = `enddate` - `begindate`. Там, где `enddate` = `NaN`, будем использовать `01.02.2020` (дата актуальности данных).**\n",
    " - **Создадим новый таргет-столбец `enddate_target` со значением 0 (где `enddate` = `NaN` - остался) и 1 (где `enddate` не пустая - ушел)**\n",
    " - **Добавим новый стобец `amount_extra` - количество дополнительных услуг**"
   ]
  },
  {
   "cell_type": "code",
   "execution_count": 12,
   "metadata": {
    "scrolled": false
   },
   "outputs": [
    {
     "name": "stdout",
     "output_type": "stream",
     "text": [
      "\n",
      "Датасет telecom после добавления новых столбцов:\n",
      "\n"
     ]
    },
    {
     "data": {
      "text/html": [
       "<div>\n",
       "<style scoped>\n",
       "    .dataframe tbody tr th:only-of-type {\n",
       "        vertical-align: middle;\n",
       "    }\n",
       "\n",
       "    .dataframe tbody tr th {\n",
       "        vertical-align: top;\n",
       "    }\n",
       "\n",
       "    .dataframe thead th {\n",
       "        text-align: right;\n",
       "    }\n",
       "</style>\n",
       "<table border=\"1\" class=\"dataframe\">\n",
       "  <thead>\n",
       "    <tr style=\"text-align: right;\">\n",
       "      <th></th>\n",
       "      <th>begindate</th>\n",
       "      <th>enddate</th>\n",
       "      <th>type</th>\n",
       "      <th>paperlessbilling</th>\n",
       "      <th>paymentmethod</th>\n",
       "      <th>monthlycharges</th>\n",
       "      <th>totalcharges</th>\n",
       "      <th>gender</th>\n",
       "      <th>seniorcitizen</th>\n",
       "      <th>partner</th>\n",
       "      <th>...</th>\n",
       "      <th>onlinesecurity</th>\n",
       "      <th>onlinebackup</th>\n",
       "      <th>deviceprotection</th>\n",
       "      <th>techsupport</th>\n",
       "      <th>streamingtv</th>\n",
       "      <th>streamingmovies</th>\n",
       "      <th>multiplelines</th>\n",
       "      <th>lifetime_days</th>\n",
       "      <th>enddate_target</th>\n",
       "      <th>amount_extra</th>\n",
       "    </tr>\n",
       "    <tr>\n",
       "      <th>customerid</th>\n",
       "      <th></th>\n",
       "      <th></th>\n",
       "      <th></th>\n",
       "      <th></th>\n",
       "      <th></th>\n",
       "      <th></th>\n",
       "      <th></th>\n",
       "      <th></th>\n",
       "      <th></th>\n",
       "      <th></th>\n",
       "      <th></th>\n",
       "      <th></th>\n",
       "      <th></th>\n",
       "      <th></th>\n",
       "      <th></th>\n",
       "      <th></th>\n",
       "      <th></th>\n",
       "      <th></th>\n",
       "      <th></th>\n",
       "      <th></th>\n",
       "      <th></th>\n",
       "    </tr>\n",
       "  </thead>\n",
       "  <tbody>\n",
       "    <tr>\n",
       "      <th>0002-ORFBO</th>\n",
       "      <td>2019-05-01</td>\n",
       "      <td>NaT</td>\n",
       "      <td>One year</td>\n",
       "      <td>Yes</td>\n",
       "      <td>Mailed check</td>\n",
       "      <td>65.6</td>\n",
       "      <td>593.30</td>\n",
       "      <td>Female</td>\n",
       "      <td>0</td>\n",
       "      <td>Yes</td>\n",
       "      <td>...</td>\n",
       "      <td>No</td>\n",
       "      <td>Yes</td>\n",
       "      <td>No</td>\n",
       "      <td>Yes</td>\n",
       "      <td>Yes</td>\n",
       "      <td>No</td>\n",
       "      <td>No</td>\n",
       "      <td>276</td>\n",
       "      <td>0</td>\n",
       "      <td>3</td>\n",
       "    </tr>\n",
       "    <tr>\n",
       "      <th>0003-MKNFE</th>\n",
       "      <td>2019-05-01</td>\n",
       "      <td>NaT</td>\n",
       "      <td>Month-to-month</td>\n",
       "      <td>No</td>\n",
       "      <td>Mailed check</td>\n",
       "      <td>59.9</td>\n",
       "      <td>542.40</td>\n",
       "      <td>Male</td>\n",
       "      <td>0</td>\n",
       "      <td>No</td>\n",
       "      <td>...</td>\n",
       "      <td>No</td>\n",
       "      <td>No</td>\n",
       "      <td>No</td>\n",
       "      <td>No</td>\n",
       "      <td>No</td>\n",
       "      <td>Yes</td>\n",
       "      <td>Yes</td>\n",
       "      <td>276</td>\n",
       "      <td>0</td>\n",
       "      <td>1</td>\n",
       "    </tr>\n",
       "    <tr>\n",
       "      <th>0004-TLHLJ</th>\n",
       "      <td>2019-09-01</td>\n",
       "      <td>2020-01-01</td>\n",
       "      <td>Month-to-month</td>\n",
       "      <td>Yes</td>\n",
       "      <td>Electronic check</td>\n",
       "      <td>73.9</td>\n",
       "      <td>280.85</td>\n",
       "      <td>Male</td>\n",
       "      <td>0</td>\n",
       "      <td>No</td>\n",
       "      <td>...</td>\n",
       "      <td>No</td>\n",
       "      <td>No</td>\n",
       "      <td>Yes</td>\n",
       "      <td>No</td>\n",
       "      <td>No</td>\n",
       "      <td>No</td>\n",
       "      <td>No</td>\n",
       "      <td>122</td>\n",
       "      <td>1</td>\n",
       "      <td>1</td>\n",
       "    </tr>\n",
       "    <tr>\n",
       "      <th>0011-IGKFF</th>\n",
       "      <td>2018-12-01</td>\n",
       "      <td>2020-01-01</td>\n",
       "      <td>Month-to-month</td>\n",
       "      <td>Yes</td>\n",
       "      <td>Electronic check</td>\n",
       "      <td>98.0</td>\n",
       "      <td>1237.85</td>\n",
       "      <td>Male</td>\n",
       "      <td>1</td>\n",
       "      <td>Yes</td>\n",
       "      <td>...</td>\n",
       "      <td>No</td>\n",
       "      <td>Yes</td>\n",
       "      <td>Yes</td>\n",
       "      <td>No</td>\n",
       "      <td>Yes</td>\n",
       "      <td>Yes</td>\n",
       "      <td>No</td>\n",
       "      <td>396</td>\n",
       "      <td>1</td>\n",
       "      <td>4</td>\n",
       "    </tr>\n",
       "    <tr>\n",
       "      <th>0013-EXCHZ</th>\n",
       "      <td>2019-09-01</td>\n",
       "      <td>2019-12-01</td>\n",
       "      <td>Month-to-month</td>\n",
       "      <td>Yes</td>\n",
       "      <td>Mailed check</td>\n",
       "      <td>83.9</td>\n",
       "      <td>267.40</td>\n",
       "      <td>Female</td>\n",
       "      <td>1</td>\n",
       "      <td>Yes</td>\n",
       "      <td>...</td>\n",
       "      <td>No</td>\n",
       "      <td>No</td>\n",
       "      <td>No</td>\n",
       "      <td>Yes</td>\n",
       "      <td>Yes</td>\n",
       "      <td>No</td>\n",
       "      <td>No</td>\n",
       "      <td>91</td>\n",
       "      <td>1</td>\n",
       "      <td>2</td>\n",
       "    </tr>\n",
       "  </tbody>\n",
       "</table>\n",
       "<p>5 rows × 22 columns</p>\n",
       "</div>"
      ],
      "text/plain": [
       "            begindate    enddate            type paperlessbilling  \\\n",
       "customerid                                                          \n",
       "0002-ORFBO 2019-05-01        NaT        One year              Yes   \n",
       "0003-MKNFE 2019-05-01        NaT  Month-to-month               No   \n",
       "0004-TLHLJ 2019-09-01 2020-01-01  Month-to-month              Yes   \n",
       "0011-IGKFF 2018-12-01 2020-01-01  Month-to-month              Yes   \n",
       "0013-EXCHZ 2019-09-01 2019-12-01  Month-to-month              Yes   \n",
       "\n",
       "               paymentmethod  monthlycharges  totalcharges  gender  \\\n",
       "customerid                                                           \n",
       "0002-ORFBO      Mailed check            65.6        593.30  Female   \n",
       "0003-MKNFE      Mailed check            59.9        542.40    Male   \n",
       "0004-TLHLJ  Electronic check            73.9        280.85    Male   \n",
       "0011-IGKFF  Electronic check            98.0       1237.85    Male   \n",
       "0013-EXCHZ      Mailed check            83.9        267.40  Female   \n",
       "\n",
       "            seniorcitizen partner  ... onlinesecurity onlinebackup  \\\n",
       "customerid                         ...                               \n",
       "0002-ORFBO              0     Yes  ...             No          Yes   \n",
       "0003-MKNFE              0      No  ...             No           No   \n",
       "0004-TLHLJ              0      No  ...             No           No   \n",
       "0011-IGKFF              1     Yes  ...             No          Yes   \n",
       "0013-EXCHZ              1     Yes  ...             No           No   \n",
       "\n",
       "           deviceprotection techsupport streamingtv streamingmovies  \\\n",
       "customerid                                                            \n",
       "0002-ORFBO               No         Yes         Yes              No   \n",
       "0003-MKNFE               No          No          No             Yes   \n",
       "0004-TLHLJ              Yes          No          No              No   \n",
       "0011-IGKFF              Yes          No         Yes             Yes   \n",
       "0013-EXCHZ               No         Yes         Yes              No   \n",
       "\n",
       "           multiplelines lifetime_days enddate_target  amount_extra  \n",
       "customerid                                                           \n",
       "0002-ORFBO            No           276              0             3  \n",
       "0003-MKNFE           Yes           276              0             1  \n",
       "0004-TLHLJ            No           122              1             1  \n",
       "0011-IGKFF            No           396              1             4  \n",
       "0013-EXCHZ            No            91              1             2  \n",
       "\n",
       "[5 rows x 22 columns]"
      ]
     },
     "metadata": {},
     "output_type": "display_data"
    }
   ],
   "source": [
    "# новый стобец lifetime_days\n",
    "telecom['lifetime_days'] = (telecom.enddate.fillna(pd.to_datetime('2020.02.01')) - telecom.begindate).dt.days\n",
    "\n",
    "# новый стобец enddate_target\n",
    "telecom['enddate_target'] = np.where(telecom.enddate.isnull(), 0, 1)\n",
    "\n",
    "# новый столбец количество доп услуг\n",
    "telecom['amount_extra'] = np.array([np.where(telecom.streamingmovies == 'Yes', 1, 0),\n",
    "                                    np.where(telecom.streamingtv == 'Yes', 1, 0),\n",
    "                                    np.where(telecom.onlinesecurity == 'Yes', 1, 0),\n",
    "                                    np.where(telecom.onlinebackup == 'Yes', 1, 0),\n",
    "                                    np.where(telecom.deviceprotection == 'Yes', 1, 0),\n",
    "                                    np.where(telecom.techsupport == 'Yes', 1, 0)\n",
    "                                   ]).sum(axis=0)\n",
    "\n",
    "print('\\nДатасет telecom после добавления новых столбцов:\\n')\n",
    "display(telecom.head(5))"
   ]
  },
  {
   "cell_type": "markdown",
   "metadata": {},
   "source": [
    "**Удалим столбцы begindate и enddate**"
   ]
  },
  {
   "cell_type": "code",
   "execution_count": 13,
   "metadata": {},
   "outputs": [],
   "source": [
    "# удалим столбцы begindate и enddate\n",
    "telecom = telecom.drop(['begindate', 'enddate'], axis=1)"
   ]
  },
  {
   "cell_type": "markdown",
   "metadata": {},
   "source": [
    "### Проверим и обработаем пропуски в новой объединенной таблице"
   ]
  },
  {
   "cell_type": "code",
   "execution_count": 14,
   "metadata": {},
   "outputs": [
    {
     "data": {
      "text/plain": [
       "type                   0\n",
       "paperlessbilling       0\n",
       "paymentmethod          0\n",
       "monthlycharges         0\n",
       "totalcharges           0\n",
       "gender                 0\n",
       "seniorcitizen          0\n",
       "partner                0\n",
       "dependents             0\n",
       "internetservice     1526\n",
       "onlinesecurity      1526\n",
       "onlinebackup        1526\n",
       "deviceprotection    1526\n",
       "techsupport         1526\n",
       "streamingtv         1526\n",
       "streamingmovies     1526\n",
       "multiplelines        682\n",
       "lifetime_days          0\n",
       "enddate_target         0\n",
       "amount_extra           0\n",
       "dtype: int64"
      ]
     },
     "execution_count": 14,
     "metadata": {},
     "output_type": "execute_result"
    }
   ],
   "source": [
    "# пропуски в telecom\n",
    "telecom.isnull().sum()"
   ]
  },
  {
   "cell_type": "markdown",
   "metadata": {},
   "source": [
    " - **У нас есть 1526 договоров без использования услуги доступа в интернет. Заменим `NaN` на `No` в колонках: `internetservice`, `onlinesecurity`, `onlinebackup`, `deviceprotection`, `techsupport`, `streamingtv`, `streamingmovies`.**\n",
    " - **Посмотрим, подключен ли интернет (и какой) на 682 договорах без услуги телефонии**"
   ]
  },
  {
   "cell_type": "code",
   "execution_count": 15,
   "metadata": {},
   "outputs": [
    {
     "name": "stdout",
     "output_type": "stream",
     "text": [
      "На договорах без телефонии подключен интернет\n"
     ]
    },
    {
     "data": {
      "text/plain": [
       "DSL    682\n",
       "Name: internetservice, dtype: int64"
      ]
     },
     "execution_count": 15,
     "metadata": {},
     "output_type": "execute_result"
    }
   ],
   "source": [
    "# какой интернет на договорах без услуги телефонии\n",
    "print('На договорах без телефонии подключен интернет')\n",
    "telecom.query(\"multiplelines != multiplelines\").internetservice.value_counts()"
   ]
  },
  {
   "cell_type": "markdown",
   "metadata": {},
   "source": [
    "- **Предположим, что компания может предоставлять доступ в интернет по DSL без телефонной линии и оплаты за нее. Заменим `multiplelines` = `Nan` на `No_line`, то есть добавим категорию, что будет означать, что нет телефонной линии.**"
   ]
  },
  {
   "cell_type": "code",
   "execution_count": 16,
   "metadata": {},
   "outputs": [],
   "source": [
    "# делаем замену пропусков\n",
    "telecom = telecom.fillna({'internetservice': 'No', 'onlinesecurity': 'No', 'onlinebackup': 'No',\n",
    "                           'deviceprotection': 'No', 'techsupport': 'No',\n",
    "                           'streamingtv': 'No', 'streamingmovies': 'No',\n",
    "                           'multiplelines': 'No_line'})"
   ]
  },
  {
   "cell_type": "code",
   "execution_count": 17,
   "metadata": {},
   "outputs": [
    {
     "data": {
      "text/plain": [
       "type                0\n",
       "paperlessbilling    0\n",
       "paymentmethod       0\n",
       "monthlycharges      0\n",
       "totalcharges        0\n",
       "gender              0\n",
       "seniorcitizen       0\n",
       "partner             0\n",
       "dependents          0\n",
       "internetservice     0\n",
       "onlinesecurity      0\n",
       "onlinebackup        0\n",
       "deviceprotection    0\n",
       "techsupport         0\n",
       "streamingtv         0\n",
       "streamingmovies     0\n",
       "multiplelines       0\n",
       "lifetime_days       0\n",
       "enddate_target      0\n",
       "amount_extra        0\n",
       "dtype: int64"
      ]
     },
     "execution_count": 17,
     "metadata": {},
     "output_type": "execute_result"
    }
   ],
   "source": [
    "# проверяем пропуски\n",
    "telecom.isnull().sum()"
   ]
  },
  {
   "cell_type": "markdown",
   "metadata": {},
   "source": [
    "### Проверим и обработаем дубликаты"
   ]
  },
  {
   "cell_type": "markdown",
   "metadata": {},
   "source": [
    "**Создадим списки количественных и категориальных признаков**"
   ]
  },
  {
   "cell_type": "code",
   "execution_count": 18,
   "metadata": {},
   "outputs": [
    {
     "data": {
      "text/plain": [
       "'Количественные признаки: '"
      ]
     },
     "metadata": {},
     "output_type": "display_data"
    },
    {
     "data": {
      "text/plain": [
       "['monthlycharges', 'totalcharges', 'lifetime_days', 'amount_extra']"
      ]
     },
     "metadata": {},
     "output_type": "display_data"
    },
    {
     "data": {
      "text/plain": [
       "'Категориальные признаки: '"
      ]
     },
     "metadata": {},
     "output_type": "display_data"
    },
    {
     "data": {
      "text/plain": [
       "['type',\n",
       " 'paperlessbilling',\n",
       " 'paymentmethod',\n",
       " 'gender',\n",
       " 'seniorcitizen',\n",
       " 'partner',\n",
       " 'dependents',\n",
       " 'internetservice',\n",
       " 'onlinesecurity',\n",
       " 'onlinebackup',\n",
       " 'deviceprotection',\n",
       " 'techsupport',\n",
       " 'streamingtv',\n",
       " 'streamingmovies',\n",
       " 'multiplelines']"
      ]
     },
     "metadata": {},
     "output_type": "display_data"
    },
    {
     "data": {
      "text/plain": [
       "'Целевой признак: '"
      ]
     },
     "metadata": {},
     "output_type": "display_data"
    },
    {
     "data": {
      "text/plain": [
       "'enddate_target'"
      ]
     },
     "metadata": {},
     "output_type": "display_data"
    }
   ],
   "source": [
    "# определим список количественных признаков\n",
    "numeric_columns = ['monthlycharges', 'totalcharges', 'lifetime_days', 'amount_extra']\n",
    "numeric_columns_names = ['Оплата в месяц', 'Оплата за все время', 'Срок жизни, дни', 'Количество доп. сервисов']\n",
    "display('Количественные признаки: ', numeric_columns)\n",
    "\n",
    "# определим список категориальных признаков\n",
    "category_columns = ['type', 'paperlessbilling', 'paymentmethod', 'gender',\n",
    "                    'seniorcitizen', 'partner', 'dependents', 'internetservice',\n",
    "                    'onlinesecurity', 'onlinebackup', 'deviceprotection',\n",
    "                    'techsupport', 'streamingtv', 'streamingmovies', 'multiplelines']\n",
    "category_columns_names = ['Тип оплаты', 'Электронный счет', 'Метод оплаты', 'Пол',\n",
    "                          'Пожилой человек', 'Супружество', 'Дети', 'Интернет',\n",
    "                          'Блокировка небезопасных сайтов', 'Облачное хранилище', 'Антивирус',\n",
    "                          'Техническая поддержка', 'Стриминговое ТВ', 'Каталог фильмов',\n",
    "                          'Несколько тел. линий']\n",
    "display('Категориальные признаки: ', category_columns)\n",
    "\n",
    "# определим целевой признак\n",
    "target_column = 'enddate_target'\n",
    "display('Целевой признак: ', target_column)"
   ]
  },
  {
   "cell_type": "code",
   "execution_count": 19,
   "metadata": {},
   "outputs": [
    {
     "name": "stdout",
     "output_type": "stream",
     "text": [
      "Уникальные значения столбца type: \n",
      "['One year' 'Month-to-month' 'Two year']\n",
      "\n",
      "Уникальные значения столбца paperlessbilling: \n",
      "['Yes' 'No']\n",
      "\n",
      "Уникальные значения столбца paymentmethod: \n",
      "['Mailed check' 'Electronic check' 'Credit card (automatic)'\n",
      " 'Bank transfer (automatic)']\n",
      "\n",
      "Уникальные значения столбца gender: \n",
      "['Female' 'Male']\n",
      "\n",
      "Уникальные значения столбца seniorcitizen: \n",
      "[0 1]\n",
      "\n",
      "Уникальные значения столбца partner: \n",
      "['Yes' 'No']\n",
      "\n",
      "Уникальные значения столбца dependents: \n",
      "['Yes' 'No']\n",
      "\n",
      "Уникальные значения столбца internetservice: \n",
      "['DSL' 'Fiber optic' 'No']\n",
      "\n",
      "Уникальные значения столбца onlinesecurity: \n",
      "['No' 'Yes']\n",
      "\n",
      "Уникальные значения столбца onlinebackup: \n",
      "['Yes' 'No']\n",
      "\n",
      "Уникальные значения столбца deviceprotection: \n",
      "['No' 'Yes']\n",
      "\n",
      "Уникальные значения столбца techsupport: \n",
      "['Yes' 'No']\n",
      "\n",
      "Уникальные значения столбца streamingtv: \n",
      "['Yes' 'No']\n",
      "\n",
      "Уникальные значения столбца streamingmovies: \n",
      "['No' 'Yes']\n",
      "\n",
      "Уникальные значения столбца multiplelines: \n",
      "['No' 'Yes' 'No_line']\n",
      "\n"
     ]
    }
   ],
   "source": [
    "# идем по категориальным признакам и смотрим уникальные значения\n",
    "# для определения наличия дубликатов по значению/смыслу в категориях\n",
    "for col in category_columns:\n",
    "    print('Уникальные значения столбца {}: '.format(col))\n",
    "    print(telecom[col].unique())\n",
    "    print()"
   ]
  },
  {
   "cell_type": "markdown",
   "metadata": {},
   "source": [
    "- **По категориям дубликатов не наблюдаем**\n",
    "- Дубликаты по строкам нет смысла проверять, так как у нас все строки с уникальными `customerid`"
   ]
  },
  {
   "cell_type": "markdown",
   "metadata": {},
   "source": [
    "### Вывод\n",
    " - Привели названия столбцов к нижнему регистру\n",
    " - Сделали замену типов данных в столбцах `begindate`, `enddate`, `totalcharges`\n",
    " - Объединили все данные в одну таблицу `telecom`\n",
    " - Добавили новый столбец для целевого признака `enddate_target` со значениями 0 (абонент остался) и 1 (абонент ушел)\n",
    " - Добавили новый столбец `lifetime_days` - cрок жизни абонента в днях\n",
    " - Добавили новый столбец `amount_extra` - количество дополнительных услуг\n",
    " - Заменили пропуски в новой таблице `telecom`\n",
    " - Дубликатов не обнаружили"
   ]
  },
  {
   "cell_type": "markdown",
   "metadata": {},
   "source": [
    "## 3. Исследовательский анализ данных"
   ]
  },
  {
   "cell_type": "code",
   "execution_count": 20,
   "metadata": {},
   "outputs": [],
   "source": [
    "sns.set_context('paper')"
   ]
  },
  {
   "cell_type": "code",
   "execution_count": 21,
   "metadata": {},
   "outputs": [],
   "source": [
    "def fun_ax(ax, plot, title, df=None,\n",
    "           x=None, df_x_name=None, x_label=None,\n",
    "           y=None, df_y_name=None, y_label=None,\n",
    "           category=None, color=None,label=None,\n",
    "           linestyle=None, fmt=''):\n",
    "    \n",
    "    \"\"\" функция для построения графиков\n",
    "\n",
    "    параметры:\n",
    "     - ax - subplot\n",
    "     - plot - типа графика, который нужно построить\n",
    "     - title - заголовок\n",
    "     - df - DF\n",
    "     - df_x - значения для оси X\n",
    "     - df_x_name - название столбца в DF для оси X\n",
    "     - x_label - название оси X\n",
    "     - df_y - значения для оси Y\n",
    "     - df_y_name - название столбца в DF для оси Y\n",
    "     - y_label - название оси Y\n",
    "     - category - столбец в DF, по которому нужно сделать группировку     \n",
    "     - color - цвет\n",
    "     - label - название для легенды\n",
    "     - linestyle - тип линии\n",
    "     - fmt - формат\n",
    "     \"\"\"\n",
    "    \n",
    "    # boxplot\n",
    "    if plot == 'box':\n",
    "        sns.boxplot(data=df, x=category, y=y,\n",
    "                    palette='muted', order=[1,0])\n",
    "    \n",
    "    # гистограмма\n",
    "    elif plot == 'hist':\n",
    "        sns.histplot(data=df, x=df_x_name, hue=category,\n",
    "                     kde=True, palette='muted',\n",
    "                     hue_order=[1,0], linewidth=0)\n",
    "        ax.grid(True)\n",
    "    \n",
    "    # если bar\n",
    "    elif plot == 'bar':\n",
    "        sns.barplot(x=x, y=y, hue=category, hue_order=[1,0])\n",
    "    \n",
    "    # скаттер-плот\n",
    "    elif plot == 'scatter':\n",
    "        sns.scatterplot(x=x, y=y, hue=category, color=color)\n",
    "        \n",
    "    # тепловая диаграмма\n",
    "    elif plot == 'heat':\n",
    "        sns.heatmap(df, xticklabels=df.columns, yticklabels=df.columns,\n",
    "                    cmap='viridis', center=0, annot=True, fmt=fmt)\n",
    "        \n",
    "    # линейный график\n",
    "    elif plot == 'plot':\n",
    "        sns.lineplot(x=x, y=y, color=color, label=label, linestyle=linestyle)\n",
    "    \n",
    "    # украшение графика\n",
    "    ax.set_xlabel(x_label)\n",
    "    ax.set_ylabel(y_label)\n",
    "    ax.set_title(title, fontsize=12)\n",
    "        \n",
    "    return None"
   ]
  },
  {
   "cell_type": "markdown",
   "metadata": {},
   "source": [
    "<a id='Link3'></a>"
   ]
  },
  {
   "cell_type": "markdown",
   "metadata": {},
   "source": [
    "### Анализ количественных признаков"
   ]
  },
  {
   "cell_type": "markdown",
   "metadata": {},
   "source": [
    "### Изучим выбросы и аномалии. Посторим boxplot'ы и гистограммы с группировкой по целевому признаку"
   ]
  },
  {
   "cell_type": "code",
   "execution_count": 22,
   "metadata": {
    "scrolled": false
   },
   "outputs": [
    {
     "data": {
      "image/png": "[encoded data removed]",
      "text/plain": [
       "<Figure size 864x1152 with 8 Axes>"
      ]
     },
     "metadata": {
      "needs_background": "light"
     },
     "output_type": "display_data"
    }
   ],
   "source": [
    "fig = plt.figure(figsize=(12,16))\n",
    "\n",
    "# строим boxplot и hist по всем количественным признакам с группировкой по целевому признаку\n",
    "\n",
    "# идем по списку количесвтенных признаков\n",
    "for num_feature in range(0, len(numeric_columns)):\n",
    "    \n",
    "    # создаем subplot\n",
    "    ax = plt.subplot2grid((4,3), (num_feature,0))\n",
    "    # рисуем boxplot\n",
    "    fun_ax(ax, 'box',\n",
    "           'Boxplot:\\n' + numeric_columns_names[num_feature],\n",
    "            df=telecom,\n",
    "            x_label='enddate_target: ушел(1), остался(0)',\n",
    "            y=telecom[numeric_columns[num_feature]],\n",
    "            category=telecom.enddate_target)\n",
    "    \n",
    "    # создаем subplot\n",
    "    ax = plt.subplot2grid((4,3), (num_feature,1), colspan=2)\n",
    "    # рисуем hist\n",
    "    fun_ax(ax, 'hist',\n",
    "           'Гистограмма:\\n' + numeric_columns_names[num_feature],\n",
    "           df=telecom,\n",
    "           # название столбца, по которому строим гистограмму\n",
    "           df_x_name=numeric_columns[num_feature],\n",
    "           category=target_column)\n",
    "\n",
    "fig.tight_layout()"
   ]
  },
  {
   "cell_type": "markdown",
   "metadata": {},
   "source": [
    " - ***Оплата в месяц***: \n",
    "   - Наблюдаем мультимодальность, возможно, это связано с наличием тарифной шкалы/сетки. При этом видим свечу около 20 для оставшихся клиентов. То есть те, кто остаются, пользуются в основном недорогими тарифными планами и платят немного.\n",
    "   - БОльшая часть абонентов из тех, кто ушел, платили в месяц высокую плату.\n",
    "   - Ушедшие платили очевидно больше, чем те, кто остался: 1 квартиль ушедших почти на уровне медианы по оставшимся. Медиана по оплате у ушедших выше, чем по оставшимся.\n",
    "   \n",
    "\n",
    " - ***Оплата за все время***:\n",
    "   - В гистограмме видим околонулевую свечу: те, кто ушли, заплатили оператору немного. Для оставшихся тоже есть такая же свеча, но это недавно пришедшие абоненты.\n",
    "   - Boxplot подтверждает, что ушедшие оставили оператору немного денег за все время: выбросы начинаются от 6000. Медиана - практически около нуля.\n",
    "   \n",
    "   \n",
    " - ***Срок жизни в днях***:\n",
    "   - Те, кто ушли, в основном пользовались услугами не больше 100 дней (3-4 месяца).\n",
    "   - Среди оставшихся есть много тех, кто пользуется услугами около 2000 дней (около 5 лет). То есть, если всё-таки абоненты сохраняют лояльность, то это надолго.\n",
    "   \n",
    "\n",
    "- ***Количество доп. сервисов***:\n",
    "   - Оставшиеся в основном не пользуются доп серсами (свеча около нуля)\n",
    "   - Ушедшие в основном либо не пользуются доп сервисами, либо подключают 1 или 2 сервиса. Возможно, именно они для ушедших \"утяжеляют\" плату в месяц при том, что сами эти доп услуги им не особо нужны.\n",
    "\n",
    "\n",
    " - **Итого, ушедшие абоненты платили больше в месяц, но в целом оставили меньше денег за все время пользования услугами. И уходили они быстро: 25% уходили через 3-4 месяца, 50% - максимум через 10 месяцев. При этом у ушедших абонентов часто были подключены доп услуги, которые могли нежелательным образом увеличивать плату в месяц.**\n",
    " \n",
    " \n",
    " - *Грубых выбросов нет*"
   ]
  },
  {
   "cell_type": "markdown",
   "metadata": {},
   "source": [
    "### Изучим взаимосвязи между количественными признаками. Построим тепловую диаграмму корреляции"
   ]
  },
  {
   "cell_type": "code",
   "execution_count": 23,
   "metadata": {},
   "outputs": [
    {
     "data": {
      "image/png": "[encoded data removed]",
      "text/plain": [
       "<Figure size 432x432 with 2 Axes>"
      ]
     },
     "metadata": {
      "needs_background": "light"
     },
     "output_type": "display_data"
    }
   ],
   "source": [
    "# строим тепловую диаграмму с корреляцией по всем количественным параметрам\n",
    "fig = plt.figure(figsize=(6,6))\n",
    "ax = plt.subplot(111) \n",
    "fun_ax(ax, 'heat', 'Тепловая диаграмма: матрица корреляции\\n',\n",
    "       df=telecom[numeric_columns].corr(),\n",
    "       fmt='.2f')"
   ]
  },
  {
   "cell_type": "markdown",
   "metadata": {},
   "source": [
    " - **Видим мультиколлинеарность**. Новый столбец `lifetime_days` сильно коррелирует с `totalcharges`.\n",
    " - Также видим достаточно высокую корреляцию между `totalcharges` и `monthlycharges`, а также между `totalcharges` и `amount_extra` и между `monthlycharges` и `amount_extra`.\n",
    " - **Перед обучением моделей признаки `totalcharges` и `monthlycharges` удалим**."
   ]
  },
  {
   "cell_type": "markdown",
   "metadata": {},
   "source": [
    "<a id='Link4'></a>"
   ]
  },
  {
   "cell_type": "markdown",
   "metadata": {},
   "source": [
    "### Анализ категориальных признаков"
   ]
  },
  {
   "cell_type": "markdown",
   "metadata": {},
   "source": [
    "### Изучим категориальные признаки. Построим столбчатые диаграммы с группировкой по целевому признаку"
   ]
  },
  {
   "cell_type": "code",
   "execution_count": 24,
   "metadata": {
    "scrolled": false
   },
   "outputs": [
    {
     "data": {
      "image/png": "[encoded data removed]",
      "text/plain": [
       "<Figure size 864x1800 with 15 Axes>"
      ]
     },
     "metadata": {
      "needs_background": "light"
     },
     "output_type": "display_data"
    }
   ],
   "source": [
    "fig = plt.figure(figsize=(12,25))\n",
    "\n",
    "# идем по списку категориальных признаков\n",
    "for num_feature in range(0, len(category_columns)):\n",
    "    \n",
    "    # делаем группировку для построения столбчатых диаграмм\n",
    "    df_group = telecom.groupby([category_columns[num_feature],\n",
    "                                target_column], as_index=False).lifetime_days.count()\n",
    "\n",
    "    # создаем subplot\n",
    "    ax = plt.subplot(5,3,num_feature+1)\n",
    "    # рисуем bar\n",
    "    fun_ax(ax, 'bar',\n",
    "           'Столбчатая диаграмма:\\n' + category_columns_names[num_feature],\n",
    "           x=df_group[category_columns[num_feature]],\n",
    "           y=df_group.lifetime_days,\n",
    "           y_label='Количество объектов', category=df_group[target_column])\n",
    "    plt.xticks(rotation=45)\n",
    "\n",
    "fig.tight_layout()    "
   ]
  },
  {
   "cell_type": "markdown",
   "metadata": {},
   "source": [
    " - ***Тип оплаты***: \n",
    "   - Ушедшие в основном платили помесячно. Оставшиеся разделяют предпочтения между всеми типами оплаты. Возможно, при оплате на 1 или 2 года есть весомые скидки. И те, кто ушел, вовремя об этих типах оплаты не узнали.\n",
    "   - Есть предположение, что `monthlycharges` имеет мультимодальность в связи с типом оплаты `type`. И, возможно, именно по этой причине `monthlycharges` у оставшихся ниже, чем у ушедших: по причине использования типов оплаты на год и два со скидками.\n",
    "   \n",
    "   \n",
    " - ***Метод оплаты***: \n",
    "   - Примечательно, что ушедшие в основном пользовались методом оплаты `Electronic check`.\n",
    "   \n",
    "   \n",
    " - ***Пожилой человек***:\n",
    "   - Среди ушедших ощутимую долю занимают пожилые люди.\n",
    "   \n",
    "   \n",
    " - Среди тех, кто ушел, больше **неженатых и без детей**.\n",
    "   \n",
    "   \n",
    " - ***Наличие интернета***:   \n",
    "   - Среди ушедших много тех, кто пользовался оптоволокном. Возможно, они не знали о другом более дешевом способе подключения к сети интернет. Также среди ушедших мало тех, кто совсем не пользовался интернетом, при том, что среди оставшихся почти треть интернетом вообще не пользовалась.\n",
    "   \n",
    "   \n",
    " - **Итого ушедшие абоненты платили в основном помесячно, предпочитали метод оплаты `Electronic check`, многие пользовались оптоволокном. Возможно, они просто вовремя не узнали о других методах оплаты и других способах подключения к интернету**."
   ]
  },
  {
   "cell_type": "markdown",
   "metadata": {},
   "source": [
    "### Исследуем баланс классов"
   ]
  },
  {
   "cell_type": "code",
   "execution_count": 25,
   "metadata": {},
   "outputs": [
    {
     "data": {
      "text/plain": [
       "'Частота классов целевого признака датасета:'"
      ]
     },
     "metadata": {},
     "output_type": "display_data"
    },
    {
     "data": {
      "text/plain": [
       "0    0.73463\n",
       "1    0.26537\n",
       "Name: enddate_target, dtype: float64"
      ]
     },
     "metadata": {},
     "output_type": "display_data"
    },
    {
     "data": {
      "image/png": "[encoded data removed]",
      "text/plain": [
       "<Figure size 360x288 with 1 Axes>"
      ]
     },
     "metadata": {
      "needs_background": "light"
     },
     "output_type": "display_data"
    }
   ],
   "source": [
    "# частотa классов\n",
    "class_frequency = telecom[target_column].value_counts(normalize=True)\n",
    "display('Частота классов целевого признака датасета:', class_frequency)\n",
    "\n",
    "# сроим столбчатый график для частот классов\n",
    "fig = plt.figure(figsize=(5,4))\n",
    "ax = plt.subplot(111)\n",
    "# рисуем bar\n",
    "fun_ax(ax, 'bar', 'Частота классов целевого признака датасета',\n",
    "       x=class_frequency.index,\n",
    "       x_label='Класс целевого признака: абонент ушел (0-нет, 1-да)',\n",
    "       y=class_frequency,\n",
    "       y_label='Частота класса')\n",
    "fig.tight_layout()  "
   ]
  },
  {
   "cell_type": "markdown",
   "metadata": {},
   "source": [
    " - **Наблюдаем дисбаланс классов по всему датасету примерно 1:3**"
   ]
  },
  {
   "cell_type": "markdown",
   "metadata": {},
   "source": [
    " - **Рассмотрим, как меняется дисбаланс классов в зависимости от срока жизни `lifetime_days`**"
   ]
  },
  {
   "cell_type": "code",
   "execution_count": 26,
   "metadata": {
    "scrolled": false
   },
   "outputs": [
    {
     "data": {
      "image/png": "[encoded data removed]",
      "text/plain": [
       "<Figure size 864x288 with 1 Axes>"
      ]
     },
     "metadata": {
      "needs_background": "light"
     },
     "output_type": "display_data"
    }
   ],
   "source": [
    "# строим линейный график по дисбалансу классов в зависимости от lifetime_days\n",
    "\n",
    "# формируем список значений дисбаланса накопительно\n",
    "fig = plt.figure(figsize=(12,4))\n",
    "\n",
    "class_balance = []\n",
    "for days in (telecom.lifetime_days.sort_values().unique()[1:]):\n",
    "    class_balance.append(telecom.query(\"lifetime_days <= @days\").enddate_target.value_counts()[0] /\n",
    "                         telecom.query(\"lifetime_days <= @days\").enddate_target.value_counts()[1])\n",
    "ax = plt.subplot(111)\n",
    "# рисуем plot\n",
    "fun_ax(ax, 'plot', 'Накопительное изменение дисбаланса классов в зависимости срока жизни абонента',\n",
    "        x=telecom.lifetime_days.sort_values().unique()[1:],\n",
    "        x_label='Срок жизни абонента (lifetime_days)',\n",
    "        y=np.array(class_balance),\n",
    "        y_label='Дисбаланса классов\\n(sum(negativ) / sum(positive))',\n",
    "           color='orange')\n",
    "plt.grid()\n",
    "\n",
    "fig.tight_layout() "
   ]
  },
  {
   "cell_type": "markdown",
   "metadata": {},
   "source": [
    " - Нулевой месяц не считаем. Это абоненты, которые подключились в момент выгрузки данных.\n",
    " - Для абонентов со сроком жизни до 3 месяцев дисбаланс в в сторону большей частоты класса 1 и меньшей частоты класса 0.\n",
    " - Для абонентов со сроком жизни до 1 года балансы классов примерно равны.\n",
    " - Далее начинается дисбаланс в сторону большей частоты класса 0 и меньшей частоты класса 1.\n",
    "\n",
    " - **Абоненты со сроком жизни до 3 месяцев с большей вероятностью могут покинуть оператора в любой момент. Здесь важно проводить с новичками работу, рассказывать им обо всех скидках, акциях, тарифах**."
   ]
  },
  {
   "cell_type": "markdown",
   "metadata": {},
   "source": [
    "### Вывод\n",
    "\n",
    " - **Ушедшие абоненты платили больше в месяц, но в целом оставили меньше денег за все время пользования услугами**. И **уходили они быстро**: 25% уходили через 3-4 месяца, 50% - максимум через 10 месяцев. При этом у ушедших абонентов часто были **подключены доп услуги**, которые могли нежелательным образом увеличивать плату в месяц.\n",
    " \n",
    "  \n",
    " - **Ушедшие абоненты платили в основном помесячно**, предпочитали метод оплаты `Electronic check`, многие пользовались **оптоволокном**. Возможно, они просто **вовремя не узнали о других методах оплаты и других способах подключения к интернету**.\n",
    " \n",
    " \n",
    " - Обнаружили **дисбаланс классов** по всему датасету примерно 1:3.\n",
    "\n",
    " - **Абоненты со сроком жизни до 3 месяцев с большей вероятностью могут покинуть оператора в любой момент. Здесь важно проводить с новичками работу, рассказывать им обо всех скидках, акциях, тарифах**."
   ]
  },
  {
   "cell_type": "markdown",
   "metadata": {},
   "source": [
    "<a id='Link5'></a>"
   ]
  },
  {
   "cell_type": "markdown",
   "metadata": {},
   "source": [
    "## 4.  Подготовка признаков для построения модели"
   ]
  },
  {
   "cell_type": "markdown",
   "metadata": {},
   "source": [
    " - **Удалим признаки `totalcharges` и `monthlycharges`**"
   ]
  },
  {
   "cell_type": "code",
   "execution_count": 27,
   "metadata": {},
   "outputs": [],
   "source": [
    "# удалим столбцы begindate и enddate\n",
    "telecom = telecom.drop(['totalcharges', 'monthlycharges'], axis=1)"
   ]
  },
  {
   "cell_type": "markdown",
   "metadata": {},
   "source": [
    "### Переопределим список категориальных и количественных признаков"
   ]
  },
  {
   "cell_type": "markdown",
   "metadata": {},
   "source": [
    " - **Из категориальных признаков уберем `gender`, `partner`, `dependents`, `onlinesecurity`, `onlinebackup`, `deviceprotection`, `techsupport`, `streamingtv`, `streamingmovies`**"
   ]
  },
  {
   "cell_type": "code",
   "execution_count": 28,
   "metadata": {},
   "outputs": [],
   "source": [
    "# обновленный список категориальных признаков\n",
    "category_columns = ['type', 'paperlessbilling', 'paymentmethod', 'seniorcitizen',\n",
    "                    'internetservice', 'multiplelines']\n",
    "\n",
    "# обновленный список количественных признаков\n",
    "numeric_columns = ['lifetime_days', 'amount_extra']"
   ]
  },
  {
   "cell_type": "markdown",
   "metadata": {},
   "source": [
    "### **Для категориальных признаков применим порядковое кодирование и прямое кодирование OHE**"
   ]
  },
  {
   "cell_type": "markdown",
   "metadata": {},
   "source": [
    " - **Создадим два списка с названиями закодированных категориальных признаков `category_columns_ordinal` и `category_columns_ohe`**"
   ]
  },
  {
   "cell_type": "code",
   "execution_count": 29,
   "metadata": {},
   "outputs": [
    {
     "name": "stdout",
     "output_type": "stream",
     "text": [
      "Список закодированных категориальных признаков методом порядкового кодирования:\n"
     ]
    },
    {
     "data": {
      "text/plain": [
       "['type_ordinal',\n",
       " 'paperlessbilling_ordinal',\n",
       " 'paymentmethod_ordinal',\n",
       " 'seniorcitizen_ordinal',\n",
       " 'internetservice_ordinal',\n",
       " 'multiplelines_ordinal']"
      ]
     },
     "metadata": {},
     "output_type": "display_data"
    },
    {
     "name": "stdout",
     "output_type": "stream",
     "text": [
      "Список закодированных категориальных признаков методом прямого кодирования OHE определим после преобразования.\n"
     ]
    }
   ],
   "source": [
    "# определим список закодированных категориальных признаков\n",
    "# методом Порядковое кодирование\n",
    "print('Список закодированных категориальных признаков методом порядкового кодирования:')\n",
    "category_columns_ordinal = [c + '_ordinal' for c in category_columns]\n",
    "display(category_columns_ordinal)\n",
    "\n",
    "# определим список закодированных категориальных признаков\n",
    "# методом Прямое кодирование OHE\n",
    "print('Список закодированных категориальных признаков методом прямого кодирования OHE определим после преобразования.')\n",
    "category_columns_ohe = []"
   ]
  },
  {
   "cell_type": "markdown",
   "metadata": {},
   "source": [
    "### Порядковое кодирование"
   ]
  },
  {
   "cell_type": "code",
   "execution_count": 30,
   "metadata": {
    "scrolled": false
   },
   "outputs": [
    {
     "name": "stdout",
     "output_type": "stream",
     "text": [
      "\n",
      "Проверяем типы данных категориальных признаков и закодированных категориальных признаков:\n",
      "\n",
      "type                        category\n",
      "paperlessbilling            category\n",
      "paymentmethod               category\n",
      "seniorcitizen               category\n",
      "internetservice             category\n",
      "multiplelines               category\n",
      "type_ordinal                   int64\n",
      "paperlessbilling_ordinal       int64\n",
      "paymentmethod_ordinal          int64\n",
      "seniorcitizen_ordinal          int64\n",
      "internetservice_ordinal        int64\n",
      "multiplelines_ordinal          int64\n",
      "dtype: object\n",
      "\n",
      "Провели порядковое кодирование категориальных признаков. Проверим:\n",
      "\n",
      "telecom ДО преобразования категориальных признаков\n"
     ]
    },
    {
     "data": {
      "text/html": [
       "<div>\n",
       "<style scoped>\n",
       "    .dataframe tbody tr th:only-of-type {\n",
       "        vertical-align: middle;\n",
       "    }\n",
       "\n",
       "    .dataframe tbody tr th {\n",
       "        vertical-align: top;\n",
       "    }\n",
       "\n",
       "    .dataframe thead th {\n",
       "        text-align: right;\n",
       "    }\n",
       "</style>\n",
       "<table border=\"1\" class=\"dataframe\">\n",
       "  <thead>\n",
       "    <tr style=\"text-align: right;\">\n",
       "      <th></th>\n",
       "      <th>type</th>\n",
       "      <th>paperlessbilling</th>\n",
       "      <th>paymentmethod</th>\n",
       "      <th>seniorcitizen</th>\n",
       "      <th>internetservice</th>\n",
       "      <th>multiplelines</th>\n",
       "    </tr>\n",
       "    <tr>\n",
       "      <th>customerid</th>\n",
       "      <th></th>\n",
       "      <th></th>\n",
       "      <th></th>\n",
       "      <th></th>\n",
       "      <th></th>\n",
       "      <th></th>\n",
       "    </tr>\n",
       "  </thead>\n",
       "  <tbody>\n",
       "    <tr>\n",
       "      <th>0002-ORFBO</th>\n",
       "      <td>One year</td>\n",
       "      <td>Yes</td>\n",
       "      <td>Mailed check</td>\n",
       "      <td>0</td>\n",
       "      <td>DSL</td>\n",
       "      <td>No</td>\n",
       "    </tr>\n",
       "    <tr>\n",
       "      <th>0003-MKNFE</th>\n",
       "      <td>Month-to-month</td>\n",
       "      <td>No</td>\n",
       "      <td>Mailed check</td>\n",
       "      <td>0</td>\n",
       "      <td>DSL</td>\n",
       "      <td>Yes</td>\n",
       "    </tr>\n",
       "    <tr>\n",
       "      <th>0004-TLHLJ</th>\n",
       "      <td>Month-to-month</td>\n",
       "      <td>Yes</td>\n",
       "      <td>Electronic check</td>\n",
       "      <td>0</td>\n",
       "      <td>Fiber optic</td>\n",
       "      <td>No</td>\n",
       "    </tr>\n",
       "    <tr>\n",
       "      <th>0011-IGKFF</th>\n",
       "      <td>Month-to-month</td>\n",
       "      <td>Yes</td>\n",
       "      <td>Electronic check</td>\n",
       "      <td>1</td>\n",
       "      <td>Fiber optic</td>\n",
       "      <td>No</td>\n",
       "    </tr>\n",
       "    <tr>\n",
       "      <th>0013-EXCHZ</th>\n",
       "      <td>Month-to-month</td>\n",
       "      <td>Yes</td>\n",
       "      <td>Mailed check</td>\n",
       "      <td>1</td>\n",
       "      <td>Fiber optic</td>\n",
       "      <td>No</td>\n",
       "    </tr>\n",
       "  </tbody>\n",
       "</table>\n",
       "</div>"
      ],
      "text/plain": [
       "                      type paperlessbilling     paymentmethod seniorcitizen  \\\n",
       "customerid                                                                    \n",
       "0002-ORFBO        One year              Yes      Mailed check             0   \n",
       "0003-MKNFE  Month-to-month               No      Mailed check             0   \n",
       "0004-TLHLJ  Month-to-month              Yes  Electronic check             0   \n",
       "0011-IGKFF  Month-to-month              Yes  Electronic check             1   \n",
       "0013-EXCHZ  Month-to-month              Yes      Mailed check             1   \n",
       "\n",
       "           internetservice multiplelines  \n",
       "customerid                                \n",
       "0002-ORFBO             DSL            No  \n",
       "0003-MKNFE             DSL           Yes  \n",
       "0004-TLHLJ     Fiber optic            No  \n",
       "0011-IGKFF     Fiber optic            No  \n",
       "0013-EXCHZ     Fiber optic            No  "
      ]
     },
     "metadata": {},
     "output_type": "display_data"
    },
    {
     "name": "stdout",
     "output_type": "stream",
     "text": [
      "\n",
      "telecom ПОСЛЕ преобразования категориальных признаков\n"
     ]
    },
    {
     "data": {
      "text/html": [
       "<div>\n",
       "<style scoped>\n",
       "    .dataframe tbody tr th:only-of-type {\n",
       "        vertical-align: middle;\n",
       "    }\n",
       "\n",
       "    .dataframe tbody tr th {\n",
       "        vertical-align: top;\n",
       "    }\n",
       "\n",
       "    .dataframe thead th {\n",
       "        text-align: right;\n",
       "    }\n",
       "</style>\n",
       "<table border=\"1\" class=\"dataframe\">\n",
       "  <thead>\n",
       "    <tr style=\"text-align: right;\">\n",
       "      <th></th>\n",
       "      <th>type_ordinal</th>\n",
       "      <th>paperlessbilling_ordinal</th>\n",
       "      <th>paymentmethod_ordinal</th>\n",
       "      <th>seniorcitizen_ordinal</th>\n",
       "      <th>internetservice_ordinal</th>\n",
       "      <th>multiplelines_ordinal</th>\n",
       "    </tr>\n",
       "    <tr>\n",
       "      <th>customerid</th>\n",
       "      <th></th>\n",
       "      <th></th>\n",
       "      <th></th>\n",
       "      <th></th>\n",
       "      <th></th>\n",
       "      <th></th>\n",
       "    </tr>\n",
       "  </thead>\n",
       "  <tbody>\n",
       "    <tr>\n",
       "      <th>0002-ORFBO</th>\n",
       "      <td>1</td>\n",
       "      <td>1</td>\n",
       "      <td>3</td>\n",
       "      <td>0</td>\n",
       "      <td>0</td>\n",
       "      <td>0</td>\n",
       "    </tr>\n",
       "    <tr>\n",
       "      <th>0003-MKNFE</th>\n",
       "      <td>0</td>\n",
       "      <td>0</td>\n",
       "      <td>3</td>\n",
       "      <td>0</td>\n",
       "      <td>0</td>\n",
       "      <td>2</td>\n",
       "    </tr>\n",
       "    <tr>\n",
       "      <th>0004-TLHLJ</th>\n",
       "      <td>0</td>\n",
       "      <td>1</td>\n",
       "      <td>2</td>\n",
       "      <td>0</td>\n",
       "      <td>1</td>\n",
       "      <td>0</td>\n",
       "    </tr>\n",
       "    <tr>\n",
       "      <th>0011-IGKFF</th>\n",
       "      <td>0</td>\n",
       "      <td>1</td>\n",
       "      <td>2</td>\n",
       "      <td>1</td>\n",
       "      <td>1</td>\n",
       "      <td>0</td>\n",
       "    </tr>\n",
       "    <tr>\n",
       "      <th>0013-EXCHZ</th>\n",
       "      <td>0</td>\n",
       "      <td>1</td>\n",
       "      <td>3</td>\n",
       "      <td>1</td>\n",
       "      <td>1</td>\n",
       "      <td>0</td>\n",
       "    </tr>\n",
       "  </tbody>\n",
       "</table>\n",
       "</div>"
      ],
      "text/plain": [
       "            type_ordinal  paperlessbilling_ordinal  paymentmethod_ordinal  \\\n",
       "customerid                                                                  \n",
       "0002-ORFBO             1                         1                      3   \n",
       "0003-MKNFE             0                         0                      3   \n",
       "0004-TLHLJ             0                         1                      2   \n",
       "0011-IGKFF             0                         1                      2   \n",
       "0013-EXCHZ             0                         1                      3   \n",
       "\n",
       "            seniorcitizen_ordinal  internetservice_ordinal  \\\n",
       "customerid                                                   \n",
       "0002-ORFBO                      0                        0   \n",
       "0003-MKNFE                      0                        0   \n",
       "0004-TLHLJ                      0                        1   \n",
       "0011-IGKFF                      1                        1   \n",
       "0013-EXCHZ                      1                        1   \n",
       "\n",
       "            multiplelines_ordinal  \n",
       "customerid                         \n",
       "0002-ORFBO                      0  \n",
       "0003-MKNFE                      2  \n",
       "0004-TLHLJ                      0  \n",
       "0011-IGKFF                      0  \n",
       "0013-EXCHZ                      0  "
      ]
     },
     "metadata": {},
     "output_type": "display_data"
    }
   ],
   "source": [
    "# создем объкет для кодирования\n",
    "encoder = OrdinalEncoder()\n",
    "# преобразуем категориальные признаки\n",
    "\n",
    "encoder.fit(telecom[category_columns])\n",
    "\n",
    "# создаем новый DF с:\n",
    "# - преобразованными категориальными признаками\n",
    "# - оригинальными категориальными признаками\n",
    "# - количественными признаками\n",
    "telecom_coded = pd.concat([pd.DataFrame(encoder.transform(telecom[category_columns]),\n",
    "                                        columns = category_columns_ordinal,\n",
    "                                        index = telecom.index),\n",
    "                           telecom[category_columns + numeric_columns + [target_column]]], axis=1)\n",
    "\n",
    "# переводим в int все преобразованные категориальные признаки\n",
    "for col in category_columns_ordinal:\n",
    "    telecom_coded[col] = telecom_coded[col].astype('int64')\n",
    "\n",
    "# переводим в category все оригинальные категориальные признаки\n",
    "for col in category_columns:\n",
    "    telecom_coded[col] = telecom_coded[col].astype('category')    \n",
    "\n",
    "# проверяем типы данных\n",
    "print('\\nПроверяем типы данных категориальных признаков и закодированных категориальных признаков:\\n')\n",
    "print(telecom_coded[category_columns + category_columns_ordinal].dtypes)\n",
    "    \n",
    "# проверяем преобразование\n",
    "print('\\nПровели порядковое кодирование категориальных признаков. Проверим:\\n')\n",
    "print('telecom ДО преобразования категориальных признаков')\n",
    "display(telecom_coded[category_columns].head(5))\n",
    "print('\\ntelecom ПОСЛЕ преобразования категориальных признаков')\n",
    "display(telecom_coded[category_columns_ordinal].head(5))"
   ]
  },
  {
   "cell_type": "markdown",
   "metadata": {},
   "source": [
    "### Прямое кодирование OHE"
   ]
  },
  {
   "cell_type": "code",
   "execution_count": 31,
   "metadata": {},
   "outputs": [
    {
     "name": "stdout",
     "output_type": "stream",
     "text": [
      "Список закодированных категориальных признаков методом прямого кодирования OHE:\n"
     ]
    },
    {
     "data": {
      "text/plain": [
       "['seniorcitizen_ohe',\n",
       " 'type_One year_ohe',\n",
       " 'type_Two year_ohe',\n",
       " 'paperlessbilling_Yes_ohe',\n",
       " 'paymentmethod_Credit card (automatic)_ohe',\n",
       " 'paymentmethod_Electronic check_ohe',\n",
       " 'paymentmethod_Mailed check_ohe',\n",
       " 'internetservice_Fiber optic_ohe',\n",
       " 'internetservice_No_ohe',\n",
       " 'multiplelines_No_line_ohe',\n",
       " 'multiplelines_Yes_ohe']"
      ]
     },
     "metadata": {},
     "output_type": "display_data"
    },
    {
     "name": "stdout",
     "output_type": "stream",
     "text": [
      "\n",
      "Проверяем типы данных закодированных категориальных признаков:\n",
      "\n",
      "seniorcitizen_ohe                            int64\n",
      "type_One year_ohe                            uint8\n",
      "type_Two year_ohe                            uint8\n",
      "paperlessbilling_Yes_ohe                     uint8\n",
      "paymentmethod_Credit card (automatic)_ohe    uint8\n",
      "paymentmethod_Electronic check_ohe           uint8\n",
      "paymentmethod_Mailed check_ohe               uint8\n",
      "internetservice_Fiber optic_ohe              uint8\n",
      "internetservice_No_ohe                       uint8\n",
      "multiplelines_No_line_ohe                    uint8\n",
      "multiplelines_Yes_ohe                        uint8\n",
      "dtype: object\n",
      "\n",
      "Провели прямое кодирование OHE категориальных признаков. Проверим:\n",
      "\n",
      "telecom ДО преобразования категориальных признаков\n"
     ]
    },
    {
     "data": {
      "text/html": [
       "<div>\n",
       "<style scoped>\n",
       "    .dataframe tbody tr th:only-of-type {\n",
       "        vertical-align: middle;\n",
       "    }\n",
       "\n",
       "    .dataframe tbody tr th {\n",
       "        vertical-align: top;\n",
       "    }\n",
       "\n",
       "    .dataframe thead th {\n",
       "        text-align: right;\n",
       "    }\n",
       "</style>\n",
       "<table border=\"1\" class=\"dataframe\">\n",
       "  <thead>\n",
       "    <tr style=\"text-align: right;\">\n",
       "      <th></th>\n",
       "      <th>type</th>\n",
       "      <th>paperlessbilling</th>\n",
       "      <th>paymentmethod</th>\n",
       "      <th>seniorcitizen</th>\n",
       "      <th>internetservice</th>\n",
       "      <th>multiplelines</th>\n",
       "    </tr>\n",
       "    <tr>\n",
       "      <th>customerid</th>\n",
       "      <th></th>\n",
       "      <th></th>\n",
       "      <th></th>\n",
       "      <th></th>\n",
       "      <th></th>\n",
       "      <th></th>\n",
       "    </tr>\n",
       "  </thead>\n",
       "  <tbody>\n",
       "    <tr>\n",
       "      <th>0002-ORFBO</th>\n",
       "      <td>One year</td>\n",
       "      <td>Yes</td>\n",
       "      <td>Mailed check</td>\n",
       "      <td>0</td>\n",
       "      <td>DSL</td>\n",
       "      <td>No</td>\n",
       "    </tr>\n",
       "    <tr>\n",
       "      <th>0003-MKNFE</th>\n",
       "      <td>Month-to-month</td>\n",
       "      <td>No</td>\n",
       "      <td>Mailed check</td>\n",
       "      <td>0</td>\n",
       "      <td>DSL</td>\n",
       "      <td>Yes</td>\n",
       "    </tr>\n",
       "    <tr>\n",
       "      <th>0004-TLHLJ</th>\n",
       "      <td>Month-to-month</td>\n",
       "      <td>Yes</td>\n",
       "      <td>Electronic check</td>\n",
       "      <td>0</td>\n",
       "      <td>Fiber optic</td>\n",
       "      <td>No</td>\n",
       "    </tr>\n",
       "    <tr>\n",
       "      <th>0011-IGKFF</th>\n",
       "      <td>Month-to-month</td>\n",
       "      <td>Yes</td>\n",
       "      <td>Electronic check</td>\n",
       "      <td>1</td>\n",
       "      <td>Fiber optic</td>\n",
       "      <td>No</td>\n",
       "    </tr>\n",
       "    <tr>\n",
       "      <th>0013-EXCHZ</th>\n",
       "      <td>Month-to-month</td>\n",
       "      <td>Yes</td>\n",
       "      <td>Mailed check</td>\n",
       "      <td>1</td>\n",
       "      <td>Fiber optic</td>\n",
       "      <td>No</td>\n",
       "    </tr>\n",
       "  </tbody>\n",
       "</table>\n",
       "</div>"
      ],
      "text/plain": [
       "                      type paperlessbilling     paymentmethod seniorcitizen  \\\n",
       "customerid                                                                    \n",
       "0002-ORFBO        One year              Yes      Mailed check             0   \n",
       "0003-MKNFE  Month-to-month               No      Mailed check             0   \n",
       "0004-TLHLJ  Month-to-month              Yes  Electronic check             0   \n",
       "0011-IGKFF  Month-to-month              Yes  Electronic check             1   \n",
       "0013-EXCHZ  Month-to-month              Yes      Mailed check             1   \n",
       "\n",
       "           internetservice multiplelines  \n",
       "customerid                                \n",
       "0002-ORFBO             DSL            No  \n",
       "0003-MKNFE             DSL           Yes  \n",
       "0004-TLHLJ     Fiber optic            No  \n",
       "0011-IGKFF     Fiber optic            No  \n",
       "0013-EXCHZ     Fiber optic            No  "
      ]
     },
     "metadata": {},
     "output_type": "display_data"
    },
    {
     "name": "stdout",
     "output_type": "stream",
     "text": [
      "\n",
      "telecom ПОСЛЕ преобразования категориальных признаков\n"
     ]
    },
    {
     "data": {
      "text/html": [
       "<div>\n",
       "<style scoped>\n",
       "    .dataframe tbody tr th:only-of-type {\n",
       "        vertical-align: middle;\n",
       "    }\n",
       "\n",
       "    .dataframe tbody tr th {\n",
       "        vertical-align: top;\n",
       "    }\n",
       "\n",
       "    .dataframe thead th {\n",
       "        text-align: right;\n",
       "    }\n",
       "</style>\n",
       "<table border=\"1\" class=\"dataframe\">\n",
       "  <thead>\n",
       "    <tr style=\"text-align: right;\">\n",
       "      <th></th>\n",
       "      <th>seniorcitizen_ohe</th>\n",
       "      <th>type_One year_ohe</th>\n",
       "      <th>type_Two year_ohe</th>\n",
       "      <th>paperlessbilling_Yes_ohe</th>\n",
       "      <th>paymentmethod_Credit card (automatic)_ohe</th>\n",
       "      <th>paymentmethod_Electronic check_ohe</th>\n",
       "      <th>paymentmethod_Mailed check_ohe</th>\n",
       "      <th>internetservice_Fiber optic_ohe</th>\n",
       "      <th>internetservice_No_ohe</th>\n",
       "      <th>multiplelines_No_line_ohe</th>\n",
       "      <th>multiplelines_Yes_ohe</th>\n",
       "    </tr>\n",
       "    <tr>\n",
       "      <th>customerid</th>\n",
       "      <th></th>\n",
       "      <th></th>\n",
       "      <th></th>\n",
       "      <th></th>\n",
       "      <th></th>\n",
       "      <th></th>\n",
       "      <th></th>\n",
       "      <th></th>\n",
       "      <th></th>\n",
       "      <th></th>\n",
       "      <th></th>\n",
       "    </tr>\n",
       "  </thead>\n",
       "  <tbody>\n",
       "    <tr>\n",
       "      <th>0002-ORFBO</th>\n",
       "      <td>0</td>\n",
       "      <td>1</td>\n",
       "      <td>0</td>\n",
       "      <td>1</td>\n",
       "      <td>0</td>\n",
       "      <td>0</td>\n",
       "      <td>1</td>\n",
       "      <td>0</td>\n",
       "      <td>0</td>\n",
       "      <td>0</td>\n",
       "      <td>0</td>\n",
       "    </tr>\n",
       "    <tr>\n",
       "      <th>0003-MKNFE</th>\n",
       "      <td>0</td>\n",
       "      <td>0</td>\n",
       "      <td>0</td>\n",
       "      <td>0</td>\n",
       "      <td>0</td>\n",
       "      <td>0</td>\n",
       "      <td>1</td>\n",
       "      <td>0</td>\n",
       "      <td>0</td>\n",
       "      <td>0</td>\n",
       "      <td>1</td>\n",
       "    </tr>\n",
       "    <tr>\n",
       "      <th>0004-TLHLJ</th>\n",
       "      <td>0</td>\n",
       "      <td>0</td>\n",
       "      <td>0</td>\n",
       "      <td>1</td>\n",
       "      <td>0</td>\n",
       "      <td>1</td>\n",
       "      <td>0</td>\n",
       "      <td>1</td>\n",
       "      <td>0</td>\n",
       "      <td>0</td>\n",
       "      <td>0</td>\n",
       "    </tr>\n",
       "    <tr>\n",
       "      <th>0011-IGKFF</th>\n",
       "      <td>1</td>\n",
       "      <td>0</td>\n",
       "      <td>0</td>\n",
       "      <td>1</td>\n",
       "      <td>0</td>\n",
       "      <td>1</td>\n",
       "      <td>0</td>\n",
       "      <td>1</td>\n",
       "      <td>0</td>\n",
       "      <td>0</td>\n",
       "      <td>0</td>\n",
       "    </tr>\n",
       "    <tr>\n",
       "      <th>0013-EXCHZ</th>\n",
       "      <td>1</td>\n",
       "      <td>0</td>\n",
       "      <td>0</td>\n",
       "      <td>1</td>\n",
       "      <td>0</td>\n",
       "      <td>0</td>\n",
       "      <td>1</td>\n",
       "      <td>1</td>\n",
       "      <td>0</td>\n",
       "      <td>0</td>\n",
       "      <td>0</td>\n",
       "    </tr>\n",
       "  </tbody>\n",
       "</table>\n",
       "</div>"
      ],
      "text/plain": [
       "            seniorcitizen_ohe  type_One year_ohe  type_Two year_ohe  \\\n",
       "customerid                                                            \n",
       "0002-ORFBO                  0                  1                  0   \n",
       "0003-MKNFE                  0                  0                  0   \n",
       "0004-TLHLJ                  0                  0                  0   \n",
       "0011-IGKFF                  1                  0                  0   \n",
       "0013-EXCHZ                  1                  0                  0   \n",
       "\n",
       "            paperlessbilling_Yes_ohe  \\\n",
       "customerid                             \n",
       "0002-ORFBO                         1   \n",
       "0003-MKNFE                         0   \n",
       "0004-TLHLJ                         1   \n",
       "0011-IGKFF                         1   \n",
       "0013-EXCHZ                         1   \n",
       "\n",
       "            paymentmethod_Credit card (automatic)_ohe  \\\n",
       "customerid                                              \n",
       "0002-ORFBO                                          0   \n",
       "0003-MKNFE                                          0   \n",
       "0004-TLHLJ                                          0   \n",
       "0011-IGKFF                                          0   \n",
       "0013-EXCHZ                                          0   \n",
       "\n",
       "            paymentmethod_Electronic check_ohe  \\\n",
       "customerid                                       \n",
       "0002-ORFBO                                   0   \n",
       "0003-MKNFE                                   0   \n",
       "0004-TLHLJ                                   1   \n",
       "0011-IGKFF                                   1   \n",
       "0013-EXCHZ                                   0   \n",
       "\n",
       "            paymentmethod_Mailed check_ohe  internetservice_Fiber optic_ohe  \\\n",
       "customerid                                                                    \n",
       "0002-ORFBO                               1                                0   \n",
       "0003-MKNFE                               1                                0   \n",
       "0004-TLHLJ                               0                                1   \n",
       "0011-IGKFF                               0                                1   \n",
       "0013-EXCHZ                               1                                1   \n",
       "\n",
       "            internetservice_No_ohe  multiplelines_No_line_ohe  \\\n",
       "customerid                                                      \n",
       "0002-ORFBO                       0                          0   \n",
       "0003-MKNFE                       0                          0   \n",
       "0004-TLHLJ                       0                          0   \n",
       "0011-IGKFF                       0                          0   \n",
       "0013-EXCHZ                       0                          0   \n",
       "\n",
       "            multiplelines_Yes_ohe  \n",
       "customerid                         \n",
       "0002-ORFBO                      0  \n",
       "0003-MKNFE                      1  \n",
       "0004-TLHLJ                      0  \n",
       "0011-IGKFF                      0  \n",
       "0013-EXCHZ                      0  "
      ]
     },
     "metadata": {},
     "output_type": "display_data"
    }
   ],
   "source": [
    "# применяем OHE\n",
    "telecom_ohe = pd.get_dummies(telecom[category_columns], drop_first=True)\n",
    "\n",
    "# сохраняем список столбцов, закодированных через OHE, добавляем \"_ohe\"\n",
    "category_columns_ohe = [c + '_ohe' for c in telecom_ohe.columns]\n",
    "# обновляем названия столбцов в самом telecom_ohe\n",
    "telecom_ohe.columns = category_columns_ohe\n",
    "\n",
    "# добавляем telecom_ohe к telecom_coded\n",
    "telecom_coded = telecom_coded.join(telecom_ohe)\n",
    "\n",
    "print('Список закодированных категориальных признаков методом прямого кодирования OHE:')\n",
    "display(category_columns_ohe)\n",
    "\n",
    "# проверяем типы данных\n",
    "print('\\nПроверяем типы данных закодированных категориальных признаков:\\n')\n",
    "print(telecom_coded[category_columns_ohe].dtypes)\n",
    "    \n",
    "# проверяем преобразование\n",
    "print('\\nПровели прямое кодирование OHE категориальных признаков. Проверим:\\n')\n",
    "print('telecom ДО преобразования категориальных признаков')\n",
    "display(telecom_coded[category_columns].head(5))\n",
    "print('\\ntelecom ПОСЛЕ преобразования категориальных признаков')\n",
    "display(telecom_coded[category_columns_ohe].head(5))"
   ]
  },
  {
   "cell_type": "markdown",
   "metadata": {},
   "source": [
    "### Разделим датасет на обучающую и тестовую выборки"
   ]
  },
  {
   "cell_type": "code",
   "execution_count": 32,
   "metadata": {},
   "outputs": [
    {
     "name": "stdout",
     "output_type": "stream",
     "text": [
      "Длина исходного датасета: 7043\n",
      "Длина обучающей выборки: 5634\n",
      "Длина тестовой выборки: 1409\n",
      "Проверка общей длины обучающей + тестовой: 7043\n"
     ]
    }
   ],
   "source": [
    "# выделим фичи и целевой признак\n",
    "features = telecom_coded.drop(target_column, axis=1)\n",
    "target = telecom_coded[target_column]\n",
    "\n",
    "# делам сплит на обучающую и тестовую выборки\n",
    "# укажем stratify=target\n",
    "train_features, test_features, train_target, test_target = \\\n",
    "            train_test_split(features, target, test_size=0.2,\n",
    "                             shuffle=True,\n",
    "                             random_state=12345, stratify=target)\n",
    "\n",
    "# выводим размеры выборок\n",
    "print('Длина исходного датасета:', len(telecom_coded))\n",
    "print('Длина обучающей выборки:', len(train_features))\n",
    "print('Длина тестовой выборки:', len(test_features))\n",
    "print('Проверка общей длины обучающей + тестовой:', len(train_features) + len(test_features))"
   ]
  },
  {
   "cell_type": "markdown",
   "metadata": {},
   "source": [
    "### Масштабируем количественные признаки"
   ]
  },
  {
   "cell_type": "code",
   "execution_count": 33,
   "metadata": {},
   "outputs": [
    {
     "data": {
      "text/plain": [
       "'Количественные признаки ДО масштабирования:'"
      ]
     },
     "metadata": {},
     "output_type": "display_data"
    },
    {
     "data": {
      "text/html": [
       "<div>\n",
       "<style scoped>\n",
       "    .dataframe tbody tr th:only-of-type {\n",
       "        vertical-align: middle;\n",
       "    }\n",
       "\n",
       "    .dataframe tbody tr th {\n",
       "        vertical-align: top;\n",
       "    }\n",
       "\n",
       "    .dataframe thead th {\n",
       "        text-align: right;\n",
       "    }\n",
       "</style>\n",
       "<table border=\"1\" class=\"dataframe\">\n",
       "  <thead>\n",
       "    <tr style=\"text-align: right;\">\n",
       "      <th></th>\n",
       "      <th>lifetime_days</th>\n",
       "      <th>amount_extra</th>\n",
       "    </tr>\n",
       "    <tr>\n",
       "      <th>customerid</th>\n",
       "      <th></th>\n",
       "      <th></th>\n",
       "    </tr>\n",
       "  </thead>\n",
       "  <tbody>\n",
       "    <tr>\n",
       "      <th>1816-FLZDK</th>\n",
       "      <td>31</td>\n",
       "      <td>1</td>\n",
       "    </tr>\n",
       "    <tr>\n",
       "      <th>5077-DXTCG</th>\n",
       "      <td>30</td>\n",
       "      <td>0</td>\n",
       "    </tr>\n",
       "    <tr>\n",
       "      <th>5519-NPHVG</th>\n",
       "      <td>365</td>\n",
       "      <td>2</td>\n",
       "    </tr>\n",
       "    <tr>\n",
       "      <th>0621-JFHOL</th>\n",
       "      <td>306</td>\n",
       "      <td>1</td>\n",
       "    </tr>\n",
       "    <tr>\n",
       "      <th>9700-ZCLOT</th>\n",
       "      <td>62</td>\n",
       "      <td>0</td>\n",
       "    </tr>\n",
       "  </tbody>\n",
       "</table>\n",
       "</div>"
      ],
      "text/plain": [
       "            lifetime_days  amount_extra\n",
       "customerid                             \n",
       "1816-FLZDK             31             1\n",
       "5077-DXTCG             30             0\n",
       "5519-NPHVG            365             2\n",
       "0621-JFHOL            306             1\n",
       "9700-ZCLOT             62             0"
      ]
     },
     "metadata": {},
     "output_type": "display_data"
    },
    {
     "data": {
      "text/plain": [
       "'Количественные признаки ПОСЛЕ масштабирования:'"
      ]
     },
     "metadata": {},
     "output_type": "display_data"
    },
    {
     "data": {
      "text/html": [
       "<div>\n",
       "<style scoped>\n",
       "    .dataframe tbody tr th:only-of-type {\n",
       "        vertical-align: middle;\n",
       "    }\n",
       "\n",
       "    .dataframe tbody tr th {\n",
       "        vertical-align: top;\n",
       "    }\n",
       "\n",
       "    .dataframe thead th {\n",
       "        text-align: right;\n",
       "    }\n",
       "</style>\n",
       "<table border=\"1\" class=\"dataframe\">\n",
       "  <thead>\n",
       "    <tr style=\"text-align: right;\">\n",
       "      <th></th>\n",
       "      <th>lifetime_days</th>\n",
       "      <th>amount_extra</th>\n",
       "    </tr>\n",
       "    <tr>\n",
       "      <th>customerid</th>\n",
       "      <th></th>\n",
       "      <th></th>\n",
       "    </tr>\n",
       "  </thead>\n",
       "  <tbody>\n",
       "    <tr>\n",
       "      <th>1816-FLZDK</th>\n",
       "      <td>-1.274839</td>\n",
       "      <td>-0.556683</td>\n",
       "    </tr>\n",
       "    <tr>\n",
       "      <th>5077-DXTCG</th>\n",
       "      <td>-1.276176</td>\n",
       "      <td>-1.096688</td>\n",
       "    </tr>\n",
       "    <tr>\n",
       "      <th>5519-NPHVG</th>\n",
       "      <td>-0.828315</td>\n",
       "      <td>-0.016677</td>\n",
       "    </tr>\n",
       "    <tr>\n",
       "      <th>0621-JFHOL</th>\n",
       "      <td>-0.907192</td>\n",
       "      <td>-0.556683</td>\n",
       "    </tr>\n",
       "    <tr>\n",
       "      <th>9700-ZCLOT</th>\n",
       "      <td>-1.233396</td>\n",
       "      <td>-1.096688</td>\n",
       "    </tr>\n",
       "  </tbody>\n",
       "</table>\n",
       "</div>"
      ],
      "text/plain": [
       "            lifetime_days  amount_extra\n",
       "customerid                             \n",
       "1816-FLZDK      -1.274839     -0.556683\n",
       "5077-DXTCG      -1.276176     -1.096688\n",
       "5519-NPHVG      -0.828315     -0.016677\n",
       "0621-JFHOL      -0.907192     -0.556683\n",
       "9700-ZCLOT      -1.233396     -1.096688"
      ]
     },
     "metadata": {},
     "output_type": "display_data"
    }
   ],
   "source": [
    "# масштабируем количественные признаки\n",
    "    \n",
    "display('Количественные признаки ДО масштабирования:',\n",
    "        train_features[numeric_columns].head(5))\n",
    "    \n",
    "# создаем объект структуры StandardScaler() и настраиваем его на обучающих данных\n",
    "scaler = StandardScaler()\n",
    "scaler.fit(train_features[numeric_columns])\n",
    "\n",
    "# масштабируем количественные признаки в обучающей выборке\n",
    "train_features.loc[:, numeric_columns] = scaler.transform(train_features[numeric_columns])\n",
    "    \n",
    "# масштабируем количественные признаки в тестовой выборке\n",
    "test_features.loc[:, numeric_columns] = scaler.transform(test_features[numeric_columns])\n",
    "    \n",
    "display('Количественные признаки ПОСЛЕ масштабирования:',\n",
    "        train_features[numeric_columns].head(5))"
   ]
  },
  {
   "cell_type": "markdown",
   "metadata": {},
   "source": [
    "### Вывод\n",
    "- Закодировали категориальные признаки методами: порядковое кодирование и прямое кодирование OHE.\n",
    "- Разделили исходные данные на обучающую и тестовую выборки.\n",
    "- Масштабировали числовые признаки."
   ]
  },
  {
   "cell_type": "markdown",
   "metadata": {},
   "source": [
    "## 5. Построение моделей"
   ]
  },
  {
   "cell_type": "code",
   "execution_count": 34,
   "metadata": {},
   "outputs": [],
   "source": [
    "def fun_build_model(model, model_name, parametrs,\n",
    "                    features, target, cv, params_fit):\n",
    "    \"\"\"функция для построения модели,\n",
    "    обучает модель, подбирает лучшие параметры,\n",
    "    использует кросс-валидацию и скор = score_rmse\n",
    "    \n",
    "    параметры:\n",
    "     - структура модели\n",
    "     - наименование модели\n",
    "     - словарь параметров, по которым нужно определить лучшую модель\n",
    "     - список фичей\n",
    "     - таргет\n",
    "     - кол-во сплитов при кросс-валидации\n",
    "     - параметры для обучения\n",
    "    \n",
    "    возвращает результат работы метода GridSearchCV\n",
    "    \"\"\"\n",
    "    \n",
    "    # передаем модель и параметры\n",
    "    # метрика = roc_auc\n",
    "    grid= GridSearchCV(model, parametrs,\n",
    "                       scoring='roc_auc',\n",
    "                       n_jobs=-1, cv=cv)\n",
    "    \n",
    "    # обучаем модель\n",
    "    grid.fit(features, target, **params_fit)\n",
    "\n",
    "    # выводим лучшую модель, лучшие параметры и лучший скор\n",
    "    print('Лучшая модель {}:'.format(model_name))\n",
    "    display(grid.best_estimator_)\n",
    "    print('Лучшие параметры модели:')\n",
    "    display(grid.best_params_)\n",
    "    print('Лучший AUC_ROC: {}\\n'.format(grid.best_score_.round(4)))\n",
    "    # выводим время обучения полного датасета\n",
    "    print('Время обучения полного обучающего датасета после получения лучших параметров: {:.3f} сек\\n'\n",
    "      .format(grid.refit_time_))\n",
    "    \n",
    "    # возвращаем grid\n",
    "    return grid"
   ]
  },
  {
   "cell_type": "code",
   "execution_count": 35,
   "metadata": {},
   "outputs": [],
   "source": [
    "def fun_check_by_test(model, model_name, features):\n",
    "    \"\"\"функция для проверки модели на тестовой выборке\n",
    "    делает предсказания по переданной модели и\n",
    "    рассчитывает auc_roc, accuracy, fpr, tpr,\n",
    "    выводит ROC-кривую и матрицу ошибок\n",
    "    \n",
    "    параметры: модель, название модели, признаки для предсказания\n",
    "    \"\"\"\n",
    "     \n",
    "    # предсказания на тестовой выборке\n",
    "    # засекаем время предсказания\n",
    "    start_time = perf_counter()\n",
    "    predictions = model.predict(features)\n",
    "    stop_time = perf_counter()\n",
    "    \n",
    "    # вероятности получить класс 1\n",
    "    probabilities_one = model.predict_proba(features)[:, 1]\n",
    "    # метрика auc_roc\n",
    "    auc_roc = roc_auc_score(test_target, probabilities_one)\n",
    "    print('\\nAUC_ROC на тестовой выборке: {:.4f}'.format(auc_roc))\n",
    "    # метрика accuracy\n",
    "    accuracy = accuracy_score(test_target, predictions)\n",
    "    print('ACCURACY на тестовой выборке: {:.2f}\\n'.format(accuracy))\n",
    "    print('Время предсказания на тестовой выборке: {:.6f} s'.format(stop_time - start_time))\n",
    "    \n",
    "    # матрица ошибок\n",
    "    confusion_matrix_df = pd.DataFrame(confusion_matrix(test_target, predictions),\n",
    "                                       columns=['0','1'],\n",
    "                                       index=['0', '1'])\n",
    "   \n",
    "    # получаем значения fpr, tpr в зависимости от thresholds\n",
    "    fpr, tpr, thresholds = roc_curve(test_target, probabilities_one)\n",
    "    \n",
    "    # рисуем roc_curve и confusion_matrix\n",
    "    fig = plt.figure(figsize=(10,3))\n",
    "\n",
    "    ax = plt.subplot(121)\n",
    "    # roc_curve\n",
    "    fun_ax(ax, 'plot', 'ROC-кривая:\\n',\n",
    "           x=fpr, x_label='False Positive Rate',\n",
    "           y=tpr, y_label='True Positive Rate = Recall',\n",
    "           label='ROC curve (area = %0.2f)' % auc_roc,\n",
    "           color='darkorange')\n",
    "    \n",
    "    # линия treshhold\n",
    "    fun_ax(ax, 'plot', 'ROC-кривая:\\n',\n",
    "           x=[0, 1], y=[0, 1], color='navy', linestyle='dotted')\n",
    "    plt.legend(loc=\"lower right\")\n",
    "    \n",
    "    ax = plt.subplot(122)\n",
    "    # confusion_matrix\n",
    "    fun_ax(ax, 'heat', 'Матрица ошибок:\\n',\n",
    "           df=confusion_matrix_df, fmt='d')\n",
    "       \n",
    "    fig.tight_layout()"
   ]
  },
  {
   "cell_type": "code",
   "execution_count": 36,
   "metadata": {},
   "outputs": [],
   "source": [
    "def features_importances(model, col_names, model_name):\n",
    "    \"\"\"функция для вывода весов признаков при построении модели\n",
    "    \n",
    "    на входе:\n",
    "     - модель\n",
    "    \n",
    "    на выходе:\n",
    "     - вывод весов признаков\n",
    "    \"\"\"\n",
    "    \n",
    "    # создаем DF из feature_importances модели\n",
    "    feature_importances = model.feature_importances_\n",
    "    feature_importances_df = pd.DataFrame({'features': col_names, 'feature_importances': feature_importances})\n",
    "   \n",
    "    # рисуем bar\n",
    "    fig = plt.figure(figsize=(10,4))\n",
    "    ax = plt.subplot(111)\n",
    "    fun_ax(ax, 'bar',\n",
    "           'Веса признаков при построении модели {}\\n'.format(model_name),\n",
    "           x=feature_importances_df.sort_values('feature_importances', ascending=False).features,\n",
    "           y=feature_importances_df.sort_values('feature_importances', ascending=False).feature_importances,\n",
    "           x_label='Признаки', y_label='Веса')\n",
    "    plt.xticks(rotation=90)\n",
    "    fig.tight_layout()"
   ]
  },
  {
   "cell_type": "code",
   "execution_count": 37,
   "metadata": {},
   "outputs": [],
   "source": [
    "def fun_build_LogisticRegression(train_features, train_target):\n",
    "    \"\"\"\n",
    "    ф-ция для построения Логистическая регрессия\n",
    "    используем закодированные категориальные признаки\n",
    "    методом прямое кодирование OHE\n",
    "    \"\"\"\n",
    "    \n",
    "    # формируем параметры для поиска лучшей модели\n",
    "    params_grid = {'C': np.arange(0.1, 10, 0.2),\n",
    "                   'class_weight': ['balanced', None]}\n",
    "\n",
    "    # строим модель\n",
    "    grid_reg = fun_build_model(LogisticRegression(random_state=12345), 'Логистическая регрессия', params_grid,\n",
    "                                                  train_features[category_columns_ohe + numeric_columns],\n",
    "                                                  train_target, cv=5, params_fit={})\n",
    "    \n",
    "    # проверяем на тестовой выборке\n",
    "    fun_check_by_test(grid_reg.best_estimator_, 'Логистическая регрессия',\n",
    "                      test_features[category_columns_ohe + numeric_columns])\n",
    "    \n",
    "    return grid_reg"
   ]
  },
  {
   "cell_type": "code",
   "execution_count": 38,
   "metadata": {},
   "outputs": [],
   "source": [
    "def fun_build_DecisionTreeClassifier(train_features, train_target):\n",
    "    \"\"\"\n",
    "    ф-ция для построения Дерево решений\n",
    "    используем закодированные категориальные признаки\n",
    "    методом Порядковое кодирование\n",
    "    \"\"\"\n",
    "    \n",
    "    # формируем параметры для поиска лучшей модели\n",
    "    params_grid = {'max_depth': range(1,52,2),\n",
    "                   'min_samples_split': range(2,103,10),\n",
    "                   'min_samples_leaf': range(1,62,5),\n",
    "                   'class_weight': ['balanced', None]}\n",
    "\n",
    "    # строим модель\n",
    "    grid_tree = fun_build_model(DecisionTreeClassifier(random_state=12345), 'Дерево решений', params_grid,\n",
    "                                train_features[category_columns_ordinal + numeric_columns],\n",
    "                                train_target, cv=5, params_fit={})\n",
    "    \n",
    "    # проверяем на тестовой выборке\n",
    "    fun_check_by_test(grid_tree.best_estimator_, 'Дерево решений',\n",
    "                      test_features[category_columns_ordinal + numeric_columns])    \n",
    "    \n",
    "    # смотрим веса признаков при построении модели\n",
    "    features_importances(grid_tree.best_estimator_,\n",
    "                         category_columns_ordinal + numeric_columns,\n",
    "                        'Дерево решений')\n",
    "    \n",
    "    return grid_tree"
   ]
  },
  {
   "cell_type": "code",
   "execution_count": 39,
   "metadata": {},
   "outputs": [],
   "source": [
    "def fun_build_RandomForestClassifier(train_features, train_target):\n",
    "    \"\"\"\n",
    "    ф-ция для построения Случайный лес\n",
    "    передаем закодированные категориальные признаки\n",
    "    методом Порядковое кодирование\n",
    "    \"\"\"\n",
    "    \n",
    "    # формируем параметры для поиска лучшей модели\n",
    "    params_grid = {'max_depth': range(1,32,10),\n",
    "                   'n_estimators': range(10,151,10),\n",
    "                   'class_weight': ['balanced', None],\n",
    "                   'criterion': ['gini', 'entropy']}\n",
    "\n",
    "    # строим модель Случайный лес\n",
    "    grid_forest = fun_build_model(RandomForestClassifier(random_state=1234), 'Случайный лес', params_grid,\n",
    "                                                         train_features[category_columns_ordinal + numeric_columns],\n",
    "                                                         train_target, cv=5, params_fit={})\n",
    "    \n",
    "    # проверяем на тестовой выборке\n",
    "    fun_check_by_test(grid_forest.best_estimator_, 'Случайный лес',\n",
    "                      test_features[category_columns_ordinal + numeric_columns])\n",
    "    \n",
    "    # смотрим веса признаков при построении модели\n",
    "    features_importances(grid_forest.best_estimator_,\n",
    "                         category_columns_ordinal + numeric_columns,\n",
    "                         'Случайный лес')\n",
    "    \n",
    "    return grid_forest"
   ]
  },
  {
   "cell_type": "code",
   "execution_count": 40,
   "metadata": {},
   "outputs": [],
   "source": [
    "def fun_build_XGBoostClassifier(train_features, train_target):\n",
    "    \"\"\"\n",
    "    ф-ция для построения XgbClassifier\n",
    "    передаем закодированные категориальные признаки\n",
    "    методом Порядковое кодирование\n",
    "    \"\"\"\n",
    " \n",
    "    # формируем параметры для обучения\n",
    "    params_fit = {'verbose': 0}\n",
    "\n",
    "    # формируем параметры для поиска лучшей модели\n",
    "    params_grid = {'max_depth': range(1,11,1),\n",
    "                   'eta': np.arange(0.1,1,0.1),\n",
    "                   'scale_pos_weight': np.arange(1,2.1,0.5)}\n",
    "\n",
    "    # формируем параметры для создания модели\n",
    "    params_model = {'n_estimators': 500,\n",
    "                    'random_state': 12345}\n",
    "    \n",
    "    # задаем модель XGBClassifier\n",
    "    model_xgb = XGBClassifier(**params_model)\n",
    "\n",
    "    # строим модель Градиентный бустинг\n",
    "    grid_xgb = fun_build_model(model_xgb, 'Градиентный бустинг XGBoost', params_grid,\n",
    "                               train_features[category_columns_ordinal + numeric_columns],\n",
    "                               train_target, cv=5, params_fit=params_fit)\n",
    "\n",
    "    # проверяем сразу на тесте\n",
    "    fun_check_by_test(grid_xgb.best_estimator_,\n",
    "                      'Градиентный бустинг XGBoost',\n",
    "                      test_features[category_columns_ordinal + numeric_columns])\n",
    "\n",
    "    # смотрим веса признаков при построении модели\n",
    "    features_importances(grid_xgb.best_estimator_,\n",
    "                         category_columns_ordinal + numeric_columns,\n",
    "                        'Градиентный бустинг XGBoost')\n",
    "    return grid_xgb"
   ]
  },
  {
   "cell_type": "markdown",
   "metadata": {},
   "source": [
    "<a id='Link6'></a>"
   ]
  },
  {
   "cell_type": "markdown",
   "metadata": {},
   "source": [
    "### Логистическая регрессия"
   ]
  },
  {
   "cell_type": "code",
   "execution_count": 41,
   "metadata": {
    "scrolled": false
   },
   "outputs": [
    {
     "name": "stdout",
     "output_type": "stream",
     "text": [
      "Лучшая модель Логистическая регрессия:\n"
     ]
    },
    {
     "data": {
      "text/plain": [
       "LogisticRegression(C=1.3000000000000003, class_weight=None, dual=False,\n",
       "                   fit_intercept=True, intercept_scaling=1, l1_ratio=None,\n",
       "                   max_iter=100, multi_class='auto', n_jobs=None, penalty='l2',\n",
       "                   random_state=12345, solver='lbfgs', tol=0.0001, verbose=0,\n",
       "                   warm_start=False)"
      ]
     },
     "metadata": {},
     "output_type": "display_data"
    },
    {
     "name": "stdout",
     "output_type": "stream",
     "text": [
      "Лучшие параметры модели:\n"
     ]
    },
    {
     "data": {
      "text/plain": [
       "{'C': 1.3000000000000003, 'class_weight': None}"
      ]
     },
     "metadata": {},
     "output_type": "display_data"
    },
    {
     "name": "stdout",
     "output_type": "stream",
     "text": [
      "Лучший AUC_ROC: 0.8369\n",
      "\n",
      "Время обучения полного обучающего датасета после получения лучших параметров: 0.062 сек\n",
      "\n",
      "\n",
      "AUC_ROC на тестовой выборке: 0.8514\n",
      "ACCURACY на тестовой выборке: 0.80\n",
      "\n",
      "Время предсказания на тестовой выборке: 0.003369 s\n",
      "Wall time: 11.9 s\n"
     ]
    },
    {
     "data": {
      "image/png": "[encoded data removed]",
      "text/plain": [
       "<Figure size 720x216 with 3 Axes>"
      ]
     },
     "metadata": {
      "needs_background": "light"
     },
     "output_type": "display_data"
    }
   ],
   "source": [
    "%%time\n",
    "# Логистическая регрессия\n",
    "grid_reg = fun_build_LogisticRegression(train_features, train_target)"
   ]
  },
  {
   "cell_type": "markdown",
   "metadata": {},
   "source": [
    "<a id='Link7'></a>"
   ]
  },
  {
   "cell_type": "markdown",
   "metadata": {},
   "source": [
    "### Дерево решений"
   ]
  },
  {
   "cell_type": "code",
   "execution_count": 42,
   "metadata": {},
   "outputs": [
    {
     "name": "stdout",
     "output_type": "stream",
     "text": [
      "Лучшая модель Дерево решений:\n"
     ]
    },
    {
     "data": {
      "text/plain": [
       "DecisionTreeClassifier(ccp_alpha=0.0, class_weight='balanced', criterion='gini',\n",
       "                       max_depth=15, max_features=None, max_leaf_nodes=None,\n",
       "                       min_impurity_decrease=0.0, min_impurity_split=None,\n",
       "                       min_samples_leaf=21, min_samples_split=102,\n",
       "                       min_weight_fraction_leaf=0.0, presort='deprecated',\n",
       "                       random_state=12345, splitter='best')"
      ]
     },
     "metadata": {},
     "output_type": "display_data"
    },
    {
     "name": "stdout",
     "output_type": "stream",
     "text": [
      "Лучшие параметры модели:\n"
     ]
    },
    {
     "data": {
      "text/plain": [
       "{'class_weight': 'balanced',\n",
       " 'max_depth': 15,\n",
       " 'min_samples_leaf': 21,\n",
       " 'min_samples_split': 102}"
      ]
     },
     "metadata": {},
     "output_type": "display_data"
    },
    {
     "name": "stdout",
     "output_type": "stream",
     "text": [
      "Лучший AUC_ROC: 0.8573\n",
      "\n",
      "Время обучения полного обучающего датасета после получения лучших параметров: 0.000 сек\n",
      "\n",
      "\n",
      "AUC_ROC на тестовой выборке: 0.8594\n",
      "ACCURACY на тестовой выборке: 0.77\n",
      "\n",
      "Время предсказания на тестовой выборке: 0.001754 s\n",
      "Wall time: 1min 30s\n"
     ]
    },
    {
     "data": {
      "image/png": "[encoded data removed]",
      "text/plain": [
       "<Figure size 720x216 with 3 Axes>"
      ]
     },
     "metadata": {
      "needs_background": "light"
     },
     "output_type": "display_data"
    },
    {
     "data": {
      "image/png": "[encoded data removed]",
      "text/plain": [
       "<Figure size 720x288 with 1 Axes>"
      ]
     },
     "metadata": {
      "needs_background": "light"
     },
     "output_type": "display_data"
    }
   ],
   "source": [
    "%%time\n",
    "# Дерево решений\n",
    "grid_tree = fun_build_DecisionTreeClassifier(train_features, train_target)"
   ]
  },
  {
   "cell_type": "markdown",
   "metadata": {},
   "source": [
    "<a id='Link8'></a>"
   ]
  },
  {
   "cell_type": "markdown",
   "metadata": {},
   "source": [
    "### Случайный лес"
   ]
  },
  {
   "cell_type": "code",
   "execution_count": 43,
   "metadata": {},
   "outputs": [
    {
     "name": "stdout",
     "output_type": "stream",
     "text": [
      "Лучшая модель Случайный лес:\n"
     ]
    },
    {
     "data": {
      "text/plain": [
       "RandomForestClassifier(bootstrap=True, ccp_alpha=0.0, class_weight='balanced',\n",
       "                       criterion='entropy', max_depth=11, max_features='auto',\n",
       "                       max_leaf_nodes=None, max_samples=None,\n",
       "                       min_impurity_decrease=0.0, min_impurity_split=None,\n",
       "                       min_samples_leaf=1, min_samples_split=2,\n",
       "                       min_weight_fraction_leaf=0.0, n_estimators=110,\n",
       "                       n_jobs=None, oob_score=False, random_state=1234,\n",
       "                       verbose=0, warm_start=False)"
      ]
     },
     "metadata": {},
     "output_type": "display_data"
    },
    {
     "name": "stdout",
     "output_type": "stream",
     "text": [
      "Лучшие параметры модели:\n"
     ]
    },
    {
     "data": {
      "text/plain": [
       "{'class_weight': 'balanced',\n",
       " 'criterion': 'entropy',\n",
       " 'max_depth': 11,\n",
       " 'n_estimators': 110}"
      ]
     },
     "metadata": {},
     "output_type": "display_data"
    },
    {
     "name": "stdout",
     "output_type": "stream",
     "text": [
      "Лучший AUC_ROC: 0.8554\n",
      "\n",
      "Время обучения полного обучающего датасета после получения лучших параметров: 0.421 сек\n",
      "\n",
      "\n",
      "AUC_ROC на тестовой выборке: 0.8555\n",
      "ACCURACY на тестовой выборке: 0.78\n",
      "\n",
      "Время предсказания на тестовой выборке: 0.034357 s\n",
      "Wall time: 1min 27s\n"
     ]
    },
    {
     "data": {
      "image/png": "[encoded data removed]",
      "text/plain": [
       "<Figure size 720x216 with 3 Axes>"
      ]
     },
     "metadata": {
      "needs_background": "light"
     },
     "output_type": "display_data"
    },
    {
     "data": {
      "image/png": "[encoded data removed]",
      "text/plain": [
       "<Figure size 720x288 with 1 Axes>"
      ]
     },
     "metadata": {
      "needs_background": "light"
     },
     "output_type": "display_data"
    }
   ],
   "source": [
    "%%time\n",
    "# Случайный лес\n",
    "grid_forest = fun_build_RandomForestClassifier(train_features, train_target)"
   ]
  },
  {
   "cell_type": "markdown",
   "metadata": {},
   "source": [
    "<a id='Link9'></a>"
   ]
  },
  {
   "cell_type": "markdown",
   "metadata": {},
   "source": [
    "### Градиентный бустинг XGBoost"
   ]
  },
  {
   "cell_type": "code",
   "execution_count": 44,
   "metadata": {},
   "outputs": [
    {
     "name": "stdout",
     "output_type": "stream",
     "text": [
      "Лучшая модель Градиентный бустинг XGBoost:\n"
     ]
    },
    {
     "data": {
      "text/plain": [
       "XGBClassifier(base_score=0.5, booster='gbtree', colsample_bylevel=1,\n",
       "              colsample_bynode=1, colsample_bytree=1, eta=0.6, gamma=0,\n",
       "              gpu_id=-1, importance_type='gain', interaction_constraints='',\n",
       "              learning_rate=0.600000024, max_delta_step=0, max_depth=2,\n",
       "              min_child_weight=1, missing=nan, monotone_constraints='()',\n",
       "              n_estimators=500, n_jobs=0, num_parallel_tree=1,\n",
       "              objective='binary:logistic', random_state=12345, reg_alpha=0,\n",
       "              reg_lambda=1, scale_pos_weight=2.0, subsample=1,\n",
       "              tree_method='exact', validate_parameters=1, verbosity=None)"
      ]
     },
     "metadata": {},
     "output_type": "display_data"
    },
    {
     "name": "stdout",
     "output_type": "stream",
     "text": [
      "Лучшие параметры модели:\n"
     ]
    },
    {
     "data": {
      "text/plain": [
       "{'eta': 0.6, 'max_depth': 2, 'scale_pos_weight': 2.0}"
      ]
     },
     "metadata": {},
     "output_type": "display_data"
    },
    {
     "name": "stdout",
     "output_type": "stream",
     "text": [
      "Лучший AUC_ROC: 0.9442\n",
      "\n",
      "Время обучения полного обучающего датасета после получения лучших параметров: 0.265 сек\n",
      "\n",
      "\n",
      "AUC_ROC на тестовой выборке: 0.9596\n",
      "ACCURACY на тестовой выборке: 0.90\n",
      "\n",
      "Время предсказания на тестовой выборке: 0.006176 s\n",
      "Wall time: 6min 30s\n"
     ]
    },
    {
     "data": {
      "image/png": "[encoded data removed]",
      "text/plain": [
       "<Figure size 720x216 with 3 Axes>"
      ]
     },
     "metadata": {
      "needs_background": "light"
     },
     "output_type": "display_data"
    },
    {
     "data": {
      "image/png": "[encoded data removed]",
      "text/plain": [
       "<Figure size 720x288 with 1 Axes>"
      ]
     },
     "metadata": {
      "needs_background": "light"
     },
     "output_type": "display_data"
    }
   ],
   "source": [
    "%%time\n",
    "# Градиентный бустинг Xgboost\n",
    "grid_xgb = fun_build_XGBoostClassifier(train_features, train_target)"
   ]
  },
  {
   "cell_type": "markdown",
   "metadata": {},
   "source": [
    "### Вывод\n",
    "\n",
    "- **Самая лучшая модель - XGBoostClassifier с `AUC_ROC` = 0,96 и `ACCURACY` = 0,9. Судя по матрице ошибок, эта модель отлично справляется с определением как положительных, так и отрицательных классов:** мы правильно отнесли к положительному классу 315 объектов (или 84,2% от TP) и 952 объекта (или 92% от TN) - к отрицательному классу. Конечно, 59 объектов (или 15,8% от TP) мы определили как FN, то есть с такими клиентами не будет проведена дополнительная работа, и они скорее всего уйдут. И 83 объекта (или 8% от TN) мы определили как FP, то есть таким клиентам будет предложена скидка или другие способы оптимизации затрат, хотя такие клиенты и не планируют уходить. Несмотря на это, модель дает хороший результат. И это должно помочь бизнесу удержать клиентов, которые планируют уйти."
   ]
  },
  {
   "cell_type": "markdown",
   "metadata": {},
   "source": [
    "<a id='Link10'></a>"
   ]
  },
  {
   "cell_type": "markdown",
   "metadata": {},
   "source": [
    "## 6. Проверим лучшую модель на вменяемость"
   ]
  },
  {
   "cell_type": "markdown",
   "metadata": {},
   "source": [
    " - **Посчитаем `accuracy` константной модели, прогнозирующей самый частый класс 0**"
   ]
  },
  {
   "cell_type": "code",
   "execution_count": 45,
   "metadata": {},
   "outputs": [
    {
     "name": "stdout",
     "output_type": "stream",
     "text": [
      "Accuracy константной модели на тестовой выборке: 0.735\n"
     ]
    }
   ],
   "source": [
    "# accuracy для константной модели\n",
    "print('Accuracy константной модели на тестовой выборке: {:.3f}'.\n",
    "      format(accuracy_score(test_target, np.zeros(len(test_target)))))"
   ]
  },
  {
   "cell_type": "markdown",
   "metadata": {},
   "source": [
    " - **Лучшая модель прошла проверку на вменяемость**"
   ]
  },
  {
   "cell_type": "markdown",
   "metadata": {},
   "source": [
    "<a id='Link11'></a>"
   ]
  },
  {
   "cell_type": "markdown",
   "metadata": {},
   "source": [
    "## 7. Общий вывод\n",
    "\n",
    "- **Изучили данные**.\n",
    "\n",
    " \n",
    "- **Предобработали данные**.\n",
    " \n",
    " - Объединили все данные в одну таблицу `telecom`.\n",
    " - Добавили новый столбец для целевого признака `enddate_target` со значениями 0 (абонент остался) и 1 (абонент ушел).\n",
    " - Добавили новый столбец `lifetime_days` - cрок жизни абонента в днях.\n",
    " - Добавили новый столбец `amount_extra` - количество дополнительных услуг.\n",
    " - Заменили пропуски в новой таблице `telecom`.\n",
    " - Дубликатов не обнаружили.\n",
    " \n",
    " \n",
    "- **Провели исследовательский анализ данных**.\n",
    "\n",
    " - **Ушедшие абоненты платили больше в месяц, но в целом оставили меньше денег за все время пользования услугами**. И **уходили они быстро**: 25% уходили через 3-4 месяца, 50% - максимум через 10 месяцев. При этом у ушедших абонентов часто были **подключены доп услуги**, которые могли нежелательным образом увеличивать плату в месяц.\n",
    "  \n",
    " - **Ушедшие абоненты платили в основном помесячно**, предпочитали метод оплаты `Electronic check`, многие пользовались **оптоволокном**. Возможно, они просто **вовремя не узнали о других методах оплаты и других способах подключения к интернету**.\n",
    " \n",
    " - Обнаружили **дисбаланс классов** по всему датасету примерно 1:3.\n",
    " - Проверили взаимосвязь между дисбалансом классов и сроком жизни абонентов:\n",
    " \n",
    "    - Для абонентов со сроком жизни до 3 месяцев дисбаланс в в сторону большей частоты класса 1 и меньшей частоты класса 0.\n",
    "    - Для абонентов со сроком жизни до 1 года балансы классов примерно равны.\n",
    "    - Далее начинается дисбаланс в сторону большей частоты класса 0 и меньшей частоты класса 1.\n",
    "    - **Абоненты со сроком жизни до 3 месяцев с большей вероятностью могут покинуть оператора в любой момент. Здесь важно проводить с новичками работу, рассказывать им обо всех скидках, акциях, тарифах**.\n",
    " \n",
    " \n",
    " \n",
    "- **Подготовили признаки для построения моделей** \n",
    "\n",
    " - Закодировали категориальные признаки.\n",
    " - Подготовили обучающую и тестовую выборки.\n",
    " - Масштабировали числовые признаки .\n",
    " \n",
    " \n",
    "- Построили модели: (Дерево решений, Случайный лес, Логистическая регрессия, Градиентный бустинг).\n",
    "\n",
    " - **Самая лучшая модель - XGBoostClassifier с `AUC_ROC` = 0,96 и `ACCURACY` = 0,9. Судя по матрице ошибок, эта модель отлично справляется с определением как положительных, так и отрицательных классов:** мы правильно отнесли к положительному классу 315 объектов (или 84,2% от TP) и 952 объекта (или 92% от TN) - к отрицательному классу. Конечно, 59 объектов (или 15,8% от TP) мы определили как FN, то есть с такими клиентами не будет проведена дополнительная работа, и они скорее всего уйдут. И 83 объекта (или 8% от TN) мы определили как FP, то есть таким клиентам будет предложена скидка или другие способы оптимизации затрат, хотя такие клиенты и не планируют уходить. Несмотря на это, модель дает хороший результат. И это должно помочь бизнесу удержать клиентов, которые планируют уйти.\n",
    "  \n",
    "  \n",
    "- Проверили лучшую модель на вменяемость. Проверка пройдена.\n",
    "\n",
    " \n",
    "- ***Вывод: Для прогнозирование оттока клиентов у Оператора связи порекомендуем модель XGBoostClassifier***."
   ]
  }
 ],
 "metadata": {
  "kernelspec": {
   "display_name": "Python 3",
   "language": "python",
   "name": "python3"
  },
  "language_info": {
   "codemirror_mode": {
    "name": "ipython",
    "version": 3
   },
   "file_extension": ".py",
   "mimetype": "text/x-python",
   "name": "python",
   "nbconvert_exporter": "python",
   "pygments_lexer": "ipython3",
   "version": "3.7.6"
  }
 },
 "nbformat": 4,
 "nbformat_minor": 4
}
